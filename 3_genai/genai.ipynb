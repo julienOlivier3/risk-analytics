{
    "cells": [
        {
            "cell_type": "markdown",
            "metadata": {
                "slideshow": {
                    "slide_type": "skip"
                }
            },
            "source": [
                "<h1> <center> Generative AI in Risk and Finance </h1>\n",
                "<h3> <center> Developing a Risk Agent </h3>\n",
                "<center> <small>by <a href=\"https://juliandoerr.com\">Julian Dörr</a></small>\n",
                "<br>\n",
                "<br>\n",
                "\n",
                "_________________________\n",
                "_________________________"
            ]
        },
        {
            "cell_type": "markdown",
            "metadata": {
                "slideshow": {
                    "slide_type": "slide"
                }
            },
            "source": [
                "## <a id='toc1_'></a>About this Course"
            ]
        },
        {
            "cell_type": "markdown",
            "metadata": {
                "slideshow": {
                    "slide_type": "skip"
                }
            },
            "source": [
                "- 1. [About this Course](#toc1_)    \n",
                "  - 1.1. [What you will learn](#toc1_1_)    \n",
                "  - 1.2. [Prerequisites](#toc1_2_)    \n",
                "- 2. [What is Generative AI?](#toc2_)    \n",
                "- 3. [Application of Generative AI in Risk Management](#toc3_)    \n",
                "  - 3.1. [A GenAI PoC: Risk Agent](#toc3_1_)    \n",
                "- 4. [Developing a Mulit-Document Risk Agent](#toc4_)    \n",
                "  - 4.1. [Build a document vector store](#toc4_1_)    \n",
                "    - 4.1.1. [Parse documents](#toc4_1_1_)    \n",
                "    - 4.1.2. [Chunk documents](#toc4_1_2_)    \n",
                "    - 4.1.3. [Vectorize chunks](#toc4_1_3_)    \n",
                "  - 4.2. [Extend to a graph-based agent](#toc4_2_)    \n",
                "    - 4.2.1. [Extract topic](#toc4_2_1_)    \n",
                "    - 4.2.2. [Extract companies](#toc4_2_2_)    \n",
                "    - 4.2.3. [Retrieve context](#toc4_2_3_)    \n",
                "    - 4.2.4. [Generate answer](#toc4_2_4_)    \n",
                "    - 4.2.5. [Build the graph](#toc4_2_5_)    \n",
                "  - 4.3. [Deployment](#toc4_3_)    \n",
                "\n",
                "<!-- vscode-jupyter-toc-config\n",
                "\tnumbering=true\n",
                "\tanchor=true\n",
                "\tflat=false\n",
                "\tminLevel=2\n",
                "\tmaxLevel=4\n",
                "\t/vscode-jupyter-toc-config -->\n",
                "<!-- THIS CELL WILL BE REPLACED ON TOC UPDATE. DO NOT WRITE YOUR TEXT IN THIS CELL -->"
            ]
        },
        {
            "cell_type": "markdown",
            "metadata": {
                "slideshow": {
                    "slide_type": "fragment"
                }
            },
            "source": [
                "You will find all course material and setup instructions in the following [repository](https://github.com/julienOlivier3/risk-analytics/tree/main/3_genai)."
            ]
        },
        {
            "cell_type": "markdown",
            "metadata": {
                "slideshow": {
                    "slide_type": "subslide"
                }
            },
            "source": [
                "### <a id='toc1_1_'></a>What you will learn"
            ]
        },
        {
            "cell_type": "markdown",
            "metadata": {
                "slideshow": {
                    "slide_type": "fragment"
                }
            },
            "source": [
                "- **Core GenAI concepts**: LLMs, embedding models, RAG, and agents."
            ]
        },
        {
            "cell_type": "markdown",
            "metadata": {
                "slideshow": {
                    "slide_type": "fragment"
                }
            },
            "source": [
                "- **Hands-On with GenAI platforms**: OpenAI, HuggingFace, Ollama, and Tavily."
            ]
        },
        {
            "cell_type": "markdown",
            "metadata": {
                "slideshow": {
                    "slide_type": "fragment"
                }
            },
            "source": [
                "- **Practical document processing**: Parse, chunk, and vectorize annual reports using LangChain and LlamaIndex to build a vector database."
            ]
        },
        {
            "cell_type": "markdown",
            "metadata": {
                "slideshow": {
                    "slide_type": "fragment"
                }
            },
            "source": [
                "- **Develop agentic RAG system**: Use LangGraph to explore graph fundamentals like states, routing, map-reduce, and tool calling to develop an agent capable of answering risk-related questions about DAX 40 companies."
            ]
        },
        {
            "cell_type": "markdown",
            "metadata": {},
            "source": [
                "- **Blueprint for developing your own agents**"
            ]
        },
        {
            "cell_type": "markdown",
            "metadata": {
                "slideshow": {
                    "slide_type": "skip"
                }
            },
            "source": [
                "### <a id='toc1_2_'></a> Prerequisites"
            ]
        },
        {
            "cell_type": "markdown",
            "metadata": {
                "slideshow": {
                    "slide_type": "skip"
                }
            },
            "source": [
                "You should have a basic understanding of Python coding to follow this course."
            ]
        },
        {
            "cell_type": "markdown",
            "metadata": {
                "slideshow": {
                    "slide_type": "skip"
                }
            },
            "source": [
                "Create a new text file in the root directory of this repository and name it `.env`. You will save your API keys for which only you should have access in this file. If you track changes in the root directory, make sure to add the `.env` file to your `.gitignore` file to prevent it from being tracked by version control systems like Git."
            ]
        },
        {
            "cell_type": "markdown",
            "metadata": {
                "editable": true,
                "slideshow": {
                    "slide_type": "skip"
                },
                "tags": []
            },
            "source": [
                "Generative AI (GenAI) applications typically depend strongly on the integration of third party models and tools. So does this course. While we need to sign up for some third party accounts to use their APIs, all of the services used in this course are free of charge. Please follow the instruction belows to set yourself up for the rest of the course."
            ]
        },
        {
            "cell_type": "markdown",
            "metadata": {
                "editable": true,
                "slideshow": {
                    "slide_type": "skip"
                },
                "tags": []
            },
            "source": [
                "1. [**HuggingFace**](https://huggingface.co/): We use HuggingFace to get access to embedding models that can be downloaded on your local machine. Alternatively HuggingFace offers an inference API that can be used with a rate limit under the free tier.\n",
                "    - Create a free account\n",
                "    - Generate a read access token\n",
                "        \n",
                "        <img src=\"img/huggingface.png\" alt=\"HuggingFace Access Token\" width=\"1000\">\n",
                "\n",
                "    - Save the token in your .env file: <br>\n",
                "    `HUGGINGFACE_API_KEY = <Your HuggingFace token>`"
            ]
        },
        {
            "cell_type": "markdown",
            "metadata": {
                "editable": true,
                "slideshow": {
                    "slide_type": "skip"
                },
                "tags": []
            },
            "source": [
                "2. [**Tavily**](https://huggingface.co/): We use Tavily as search engine designed for to get access to real-time information from the web.\n",
                "    - Create a free account\n",
                "    - Generate an API key\n",
                "        \n",
                "        <img src=\"img/tavily.png\" alt=\"HuggingFace API Key\" width=\"1000\">\n",
                "\n",
                "    - Save the key in your .env file: <br>\n",
                "    `TAVILY_API_KEY = <Your Tavily key>`"
            ]
        },
        {
            "cell_type": "markdown",
            "metadata": {
                "editable": true,
                "slideshow": {
                    "slide_type": "skip"
                },
                "tags": []
            },
            "source": [
                "3. [**Ollama**](https://ollama.com/): We use Ollama to run open source LLMs locally on your local machine. It acts as a model manager and runtime, handling the complexities of downloading, configuring, and using open-source LLMs.\n",
                "    - Download Ollama\n",
                "\n",
                "        <img src=\"img/ollama.png\" alt=\"HuggingFace Access Token\" width=\"1000\">"
            ]
        },
        {
            "cell_type": "markdown",
            "metadata": {
                "slideshow": {
                    "slide_type": "skip"
                }
            },
            "source": [
                "4. [**LangSmith**](https://smith.langchain.com/): We set up a LangSmith account to use LangGraph Studio. LangGraph Studio offers an Integrated Development Environment (IDE) for visualizing, interacting with, and debugging complex applications built with LangGraph.\n",
                "    - Create an account\n",
                "    - Generate an API key\n",
                "\n",
                "        <img src=\"img/langsmith.png\" alt=\"Open API Key\" width=\"700\">\n",
                "\n",
                "    - Save the key in a seperate .env that you create in the subfolder `studio/`: <br>\n",
                "    `LANGSMITH_API_KEY = <Your LangSmith key>`"
            ]
        },
        {
            "cell_type": "markdown",
            "metadata": {
                "slideshow": {
                    "slide_type": "skip"
                }
            },
            "source": [
                "5. [**OpenAI**](https://openai.com/) (*optional*): We use OpenAI's GPT LLM model series as an alternative to the free, open-source, LLMs. Using OpenAI's models is *not* free of charge. If you do not want to work with OpenAI's models, you can still follow the entire course material. However, OpenAI's GPT model series comes with some advantages such as lower latency and often higher accuracy.\n",
                "    - Create an account. Credit card information required!\n",
                "    - Generate an API key\n",
                "        \n",
                "        <img src=\"img/openai3.png\" alt=\"Open API Key\" width=\"500\">\n",
                "\n",
                "    - Save the key in your .env file: <br>\n",
                "    `OPENAI_API_KEY = <Your OpenAI key>`"
            ]
        },
        {
            "cell_type": "markdown",
            "metadata": {
                "slideshow": {
                    "slide_type": "slide"
                }
            },
            "source": [
                "## <a id='toc2_'></a> What is Generative AI?"
            ]
        },
        {
            "cell_type": "markdown",
            "metadata": {
                "editable": true,
                "slideshow": {
                    "slide_type": "fragment"
                },
                "tags": []
            },
            "source": [
                "To understand Generative AI's place in the broader AI landscape, it's important to understand how different AI technologies relate to and build upon each other."
            ]
        },
        {
            "cell_type": "markdown",
            "metadata": {
                "editable": true,
                "slideshow": {
                    "slide_type": "subslide"
                },
                "tags": []
            },
            "source": [
                "Generative AI is fundamentally based on deep learning methods, but it distinguishes itself by *creating* new content, such as language.\n",
                "\n",
                "<img src=\"img/ai_ml_dl_nlp_genai.png\" alt=\"AI, ML, DL, NLP & GenAI\" style=\"width: 45vw; min-width: 250px;\"/>\n",
                "<p><small>Image source: Author</small></p>"
            ]
        },
        {
            "cell_type": "markdown",
            "metadata": {
                "slideshow": {
                    "slide_type": "subslide"
                }
            },
            "source": [
                "<font color=\"#58e4d4\"><b>Artificial Intelligence (AI)</b></font>: **The Broad Umbrella**\n",
                "\n",
                "AI is the overarching field that encompasses all technologies and systems designed to **simulate human intelligence**. This includes tasks like reasoning, problem-solving, learning, and decision-making. "
            ]
        },
        {
            "cell_type": "markdown",
            "metadata": {
                "slideshow": {
                    "slide_type": "fragment"
                }
            },
            "source": [
                "<font color=\"#20b49c\"><b>Machine Learning (ML)</b></font>: **The Foundation**\n",
                "\n",
                "Machine learning is a subset of AI that enables systems to **learn from data** and improve their performance over time without being explicitly programmed. ML algorithms identify patterns in data and use these patterns to **make predictions or decisions**."
            ]
        },
        {
            "cell_type": "markdown",
            "metadata": {
                "slideshow": {
                    "slide_type": "fragment"
                }
            },
            "source": [
                "<font color=\"#086c5c\"><b>Deep Learning (DL)</b></font>: **The Engine Behind Generative AI**\n",
                "\n",
                "Deep learning is a specialized branch of ML that uses **artificial neural networks** inspired by the human brain. These networks are particularly effective at processing large amounts of **unstructured data**, such as images, text, and audio."
            ]
        },
        {
            "cell_type": "markdown",
            "metadata": {
                "slideshow": {
                    "slide_type": "fragment"
                }
            },
            "source": [
                "<font color=\"#08544c\"><b>Natural Language Processing (NLP)</b></font>: **A Key Application Area**\n",
                "\n",
                "NLP is a field within AI focused on **enabling machines to \"understand\", \"interpret\", and generate human language**. It powers applications like chatbots, translation tools, and sentiment analysis."
            ]
        },
        {
            "cell_type": "markdown",
            "metadata": {
                "slideshow": {
                    "slide_type": "subslide"
                }
            },
            "source": [
                "<font color=\"#08241c\"><b>Generative AI (GenAI)</b></font>:\n",
                "\n",
                "GenAI is a specialized and creative branch of AI that **leverages deep learning to generate new content**. While it shares foundational techniques with deep learning, its focus on creation sets it apart. It also overlaps with NLP in language-based applications, but its scope extends beyond language to include images, videos, and more. This makes generative AI a unique and transformative technology within the broader AI ecosystem."
            ]
        },
        {
            "cell_type": "markdown",
            "metadata": {
                "slideshow": {
                    "slide_type": "skip"
                }
            },
            "source": [
                "> **Generative AI (GenAI)** is a special type of Artificial Intelligence that can learn from and mimic large amounts of data to **create content** such as text, images, music, videos, code, and more."
            ]
        },
        {
            "cell_type": "markdown",
            "metadata": {
                "slideshow": {
                    "slide_type": "slide"
                }
            },
            "source": [
                "## <a id='toc3_'></a> Application of Generative AI in Risk Management"
            ]
        },
        {
            "cell_type": "markdown",
            "metadata": {
                "slideshow": {
                    "slide_type": "fragment"
                }
            },
            "source": [
                "GenAI holds many promises and is identified by some practitioners as the **fourth industrial revolution**. In the following, there are images which help to narrow down the projected impact of GenAI and its importance in the field of Risk and Finance."
            ]
        },
        {
            "cell_type": "markdown",
            "metadata": {
                "slideshow": {
                    "slide_type": "subslide"
                }
            },
            "source": [
                "Generative AI could create additional value potential above what could be unlocked by traditional AI and analytics.\n",
                "\n",
                "<img src=\"img/genai_impact.png\" alt=\"GenAI Impact\" style=\"width: 45vw; min-width: 250px;\"/>\n",
                "<p><small>Image source: <a href=\"https://www.mckinsey.com/capabilities/mckinsey-digital/our-insights/the-economic-potential-of-generative-ai-the-next-productivity-frontier#business-value\">McKinsey</a></small></p>"
            ]
        },
        {
            "cell_type": "markdown",
            "metadata": {
                "slideshow": {
                    "slide_type": "subslide"
                }
            },
            "source": [
                "Generative AI use cases will have different impacts on business functions across industries with Risk and Legal being an important field in Banking.\n",
                "\n",
                "<img src=\"img/genai_industry.png\" alt=\"GenAI Impact in different Roles and Industries\" style=\"width: 40vw; min-width: 250px;\"/>\n",
                "<p><small>Image source: <a href=\"https://www.mckinsey.com/capabilities/mckinsey-digital/our-insights/the-economic-potential-of-generative-ai-the-next-productivity-frontier#business-value\">McKinsey</a></small></p>"
            ]
        },
        {
            "cell_type": "markdown",
            "metadata": {
                "slideshow": {
                    "slide_type": "subslide"
                }
            },
            "source": [
                "Most impactful GenAI uses cases in Finance and Risk have been identified and comprise tasks such as forecasting and budget planning, reporting creation and policy review.\n",
                "\n",
                "<img src=\"img/genai_use_cases.png\" alt=\"GenAI Use Cases\" style=\"width: 45vw; min-width: 250px;\"/>\n",
                "<p><small>Image source: <a href=\"https://www.gartner.com/en/finance/topics/finance-ai\">Gardner</a></small></p>"
            ]
        },
        {
            "cell_type": "markdown",
            "metadata": {
                "editable": true,
                "slideshow": {
                    "slide_type": "skip"
                },
                "tags": []
            },
            "source": [
                "Leveraging generative AI provides significant advantages for managing risks. Below are some arguments on how generative AI opens up new perspectives for thinking about and addressing corporate risks."
            ]
        },
        {
            "cell_type": "markdown",
            "metadata": {
                "editable": true,
                "slideshow": {
                    "slide_type": "skip"
                },
                "tags": []
            },
            "source": [
                "**Integrated Risk Identification**:\n",
                "- **Unified Insights**: GenAI consolidates data across departments, enabling comprehensive risk detection.\n",
                "- **Action-Oriented**: Shifts focus from data collection to actionable analysis."
            ]
        },
        {
            "cell_type": "markdown",
            "metadata": {
                "editable": true,
                "slideshow": {
                    "slide_type": "skip"
                },
                "tags": []
            },
            "source": [
                "**Holistic Risk Analysis**:\n",
                "- **Collaborative Partner**: Acts as an interactive tool for brainstorming and refining risk strategies.\n",
                "- **Interdependency Mapping**: Links risks across domains (e.g., cybersecurity → finances → customer trust).\n",
                "- **Enhanced Insights**: Leverages historical data and benchmarks to uncover overlooked risks."
            ]
        },
        {
            "cell_type": "markdown",
            "metadata": {
                "editable": true,
                "slideshow": {
                    "slide_type": "skip"
                },
                "tags": []
            },
            "source": [
                "**Continuous Data Improvement**:\n",
                "- **Learning System**: Generates after-action reports and integrates learnings to improve accuracy over time.\n",
                "- **Institutional Memory**: Reduces reliance on \"tribal knowledge\" by retaining critical insights despite employee turnover.\n",
                "- **Culture of Improvement**: Fosters continuous learning and adaptation."
            ]
        },
        {
            "cell_type": "markdown",
            "metadata": {
                "editable": true,
                "slideshow": {
                    "slide_type": "skip"
                },
                "tags": []
            },
            "source": [
                "**Enhanced Compliance**:\n",
                "- **Regulatory Alignment**: Verifies steps in regulatory frameworks to ensure compliance.\n",
                "- **Risk Reduction**: Identifies opportunities to adapt to legal or tax changes.\n",
                "- **Human Oversight**: Complements human due diligence to align actions with company policies."
            ]
        },
        {
            "cell_type": "markdown",
            "metadata": {
                "slideshow": {
                    "slide_type": "skip"
                }
            },
            "source": [
                "Admittedly, the aforementioned promises of GenAI in the field of Risk Management sound rather theoretic in nature. In this course we will develop a concrete proof of concept (PoC) that make the application of GenAI in Finance and Risk more tangible. We will develop a \"Risk Agent\", a conversational AI which provides up-to-date insights into the risks and challenges faced by publicly listed companies, leveraging their annual reports to deliver precise, context-rich answers to any user query. This may be of help for stakeholders such as\n",
                "\n",
                "- Financial Analysts and Investment Professionals such as portfolio managers, equity analysts, and hedge fund managers, need to assess the risks and challenges of companies to make informed investment decisions. A Risk Agent could help them quickly analyze risk disclosures in annual reports, saving time and improving accuracy.\n",
                "- Corporate Risk Managers need to benchmark their own risk disclosures against competitors or industry standards. A Risk Agent could help them identify trends in risk reporting and ensure compliance with regulatory requirements.\n",
                "- ESG analysts focus on evaluating companies' sustainability and governance practices. Risk disclosures in annual reports often include information about environmental and social risks, which are critical for ESG assessments. A Risk Agent could help them extracting and analyzing ESG-related risks from annual reports to evaluate a company's sustainability profile."
            ]
        },
        {
            "cell_type": "markdown",
            "metadata": {
                "slideshow": {
                    "slide_type": "subslide"
                }
            },
            "source": [
                "### <a id='toc3_1_'></a> A GenAI PoC: Risk Agent"
            ]
        },
        {
            "cell_type": "markdown",
            "metadata": {
                "slideshow": {
                    "slide_type": "fragment"
                }
            },
            "source": [
                "In the remaining course, we will go through a **step-by-step process** of **developing** the **Risk Agent**. At its core the Risk Agent utilizes a **Retrieval Augmented Generation (RAG) system** to provide users with up-to-date information about the risks faced by DAX 40 companies, leveraging their annual reports."
            ]
        },
        {
            "cell_type": "markdown",
            "metadata": {
                "slideshow": {
                    "slide_type": "skip"
                }
            },
            "source": [
                "In simple terms, RAG retrieves relevant documents or data snippets in response to user queries and then uses this information as context for a Large Language Model (LLM) to generate accurate and contextually relevant responses."
            ]
        },
        {
            "cell_type": "markdown",
            "metadata": {
                "editable": true,
                "slideshow": {
                    "slide_type": "fragment"
                },
                "tags": []
            },
            "source": [
                "> **Large Language Models (LLMs)**, are very large deep learning models that are **pre-trained on vast amounts of data**. They are highly flexible as a single model can **perform** completely **different generative tasks** such as answering questions, summarizing documents, translating languages and completing sentences."
            ]
        },
        {
            "cell_type": "markdown",
            "metadata": {
                "editable": true,
                "slideshow": {
                    "slide_type": "fragment"
                },
                "tags": []
            },
            "source": [
                "> **Retrieval Augmented Generation (RAG)** is a technique for **improving** the **quality of LLM-generated responses** by **grounding** the **model on external sources of knowledge**. Relevant external knowledge is retrieved from a knowledge base and used to augment the model's generation process. This approach can help mitigate the model's tendency to hallucinate or produce incorrect information, as it provides a more reliable source of context for the generation task."
            ]
        },
        {
            "cell_type": "markdown",
            "metadata": {
                "slideshow": {
                    "slide_type": "subslide"
                }
            },
            "source": [
                "Additionally, we will enhance this system with **AI agents** that can independently decide which reports to retrieve based on user queries, even searching the web when necessary."
            ]
        },
        {
            "cell_type": "markdown",
            "metadata": {
                "editable": true,
                "slideshow": {
                    "slide_type": "fragment"
                },
                "tags": []
            },
            "source": [
                "> In general terms, **agents** refer to **artificial intelligence systems** that can act with a higher degree of autonomy than traditional AI solutions. Designed to function independently, these systems can **perform tasks and make decisions without continuous human intervention** or the need of predefined, hard-coded guidance."
            ]
        },
        {
            "cell_type": "markdown",
            "metadata": {
                "slideshow": {
                    "slide_type": "subslide"
                }
            },
            "source": [
                "A RAG system enhances an LLM's knowledge with up-to-date domain information from a document base, while an agentic RAG system allows it to independently decide which information sources to retrieve.\n",
                "\n",
                "<img src=\"img/llm_rag_agentic_rag.png\" alt=\"Agentic RAG\" width=\"800\">\n",
                "<p><small>Image source: Illustration Author</small></p>"
            ]
        },
        {
            "cell_type": "markdown",
            "metadata": {
                "slideshow": {
                    "slide_type": "slide"
                }
            },
            "source": [
                "## <a id='toc4_'></a> Developing a Mulit-Document Risk Agent"
            ]
        },
        {
            "cell_type": "markdown",
            "metadata": {},
            "source": [
                "Moving on, we will primarily work with [LlamaIndex](https://docs.llamaindex.ai/en/stable/) and [LangChain](https://www.langchain.com/)  which are both leading Python frameworks for building LLM-powered workflows.\n",
                "\n",
                "<img src=\"img/langchain_llamaindex.png\" alt=\"LangChain and LlamaIndex\" width=\"800\">\n",
                "<p><small>Image source: <a href=https://superwise.ai/blog/lets-talk-about-llamaindex-and-langchain>Superwise</a></small></p>"
            ]
        },
        {
            "cell_type": "markdown",
            "metadata": {
                "slideshow": {
                    "slide_type": "subslide"
                }
            },
            "source": [
                "### <a id='toc4_1_'></a> Build a document vector store"
            ]
        },
        {
            "cell_type": "markdown",
            "metadata": {
                "editable": true,
                "slideshow": {
                    "slide_type": "fragment"
                },
                "tags": []
            },
            "source": [
                "We begin by creating a vector store, a **specialized database** that **manages information as mathematical vectors**, which represent the meaning of different sections of companies' annual reports. This vector store is crucial for the RAG system as it enables the retrieval of relevant, domain-specific information that enhances user queries, **allowing the chat system to provide accurate and up-to-date responses** that the underlying **language model alone may struggle to deliver**."
            ]
        },
        {
            "cell_type": "markdown",
            "metadata": {
                "editable": true,
                "slideshow": {
                    "slide_type": "subslide"
                },
                "tags": []
            },
            "source": [
                "In the first step, we load the **HuggingFace** access token into our project's environment to gain **access to** various **open-source embedding models** that convert annual reports into context-aware vector representations."
            ]
        },
        {
            "cell_type": "markdown",
            "metadata": {
                "slideshow": {
                    "slide_type": "fragment"
                }
            },
            "source": [
                "> An **embedding model** is a mathematical framework that transforms data, such as words or phrases, into **vector representations that capture** their **contextual meanings**."
            ]
        },
        {
            "cell_type": "code",
            "execution_count": null,
            "metadata": {},
            "outputs": [],
            "source": [
                "import os\n",
                "from dotenv import load_dotenv\n",
                "\n",
                "# Load environment variables from .env file\n",
                "load_dotenv()\n",
                "\n",
                "# Access the API key\n",
                "huggingface_api_key = os.getenv(\"HUGGINGFACE_API_KEY\")"
            ]
        },
        {
            "cell_type": "markdown",
            "metadata": {
                "slideshow": {
                    "slide_type": "subslide"
                }
            },
            "source": [
                "#### <a id='toc4_1_1_'></a> Parse documents"
            ]
        },
        {
            "cell_type": "markdown",
            "metadata": {
                "editable": true,
                "slideshow": {
                    "slide_type": "fragment"
                },
                "tags": []
            },
            "source": [
                "The original annual reports for all DAX 40 companies from 2023 can be found in `data/raw/reports/`. They are the starting point to build our vector store."
            ]
        },
        {
            "cell_type": "code",
            "execution_count": 2,
            "metadata": {
                "editable": true,
                "slideshow": {
                    "slide_type": "fragment"
                },
                "tags": []
            },
            "outputs": [
                {
                    "name": "stdout",
                    "output_type": "stream",
                    "text": [
                        "adidas_2023.pdf,\n",
                        "airbus_2023.pdf,\n",
                        "allianz_2023.pdf,\n",
                        "...,\n",
                        "volkswagen_2023.pdf,\n",
                        "vonovia_2023.pdf,\n",
                        "zalando_2023.pdf\n"
                    ]
                }
            ],
            "source": [
                "reports = os.listdir('data/raw/reports/')\n",
                "print(*reports[:3], '...', *reports[-3:], sep=',\\n')"
            ]
        },
        {
            "cell_type": "markdown",
            "metadata": {
                "editable": true,
                "slideshow": {
                    "slide_type": "subslide"
                },
                "tags": []
            },
            "source": [
                "To read the annual reports, we utilize `SimpleDirectoryReader`, which efficiently loads and parses local files, automatically selecting the appropriate reader based on file format, specifically for the .pdf format of the reports. We will begin with the 2023 annual report of Adidas and apply the same generic preprocessing steps to the annual reports of all other DAX 40 companies at the end of this section."
            ]
        },
        {
            "cell_type": "code",
            "execution_count": 3,
            "metadata": {
                "editable": true,
                "slideshow": {
                    "slide_type": "fragment"
                },
                "tags": []
            },
            "outputs": [
                {
                    "name": "stdout",
                    "output_type": "stream",
                    "text": [
                        "In total 321 Document objects have been loaded.\n"
                    ]
                }
            ],
            "source": [
                "from llama_index.core import SimpleDirectoryReader\n",
                "\n",
                "documents = SimpleDirectoryReader(\n",
                "    input_files=['data/raw/reports/adidas_2023.pdf']).load_data()\n",
                "print(f\"In total {len(documents)} Document objects have been loaded.\")"
            ]
        },
        {
            "cell_type": "markdown",
            "metadata": {
                "editable": true,
                "slideshow": {
                    "slide_type": "fragment"
                },
                "tags": []
            },
            "source": [
                "As you can see, `SimpleDirectoryReader` returns a list of 321 `Document` objects, with each element representing a single page from the previously loaded annual report."
            ]
        },
        {
            "cell_type": "code",
            "execution_count": 4,
            "metadata": {
                "editable": true,
                "slideshow": {
                    "slide_type": "skip"
                },
                "tags": []
            },
            "outputs": [
                {
                    "data": {
                        "text/plain": [
                            "[Document(id_='5f590e38-258d-4edb-9445-2cc6eb8c9289', embedding=None, metadata={'page_label': '1', 'file_name': 'adidas_2023.pdf', 'file_path': 'data\\\\raw\\\\reports\\\\adidas_2023.pdf', 'file_type': 'application/pdf', 'file_size': 20968677, 'creation_date': '2025-02-02', 'last_modified_date': '2025-02-02'}, excluded_embed_metadata_keys=['file_name', 'file_type', 'file_size', 'creation_date', 'last_modified_date', 'last_accessed_date'], excluded_llm_metadata_keys=['file_name', 'file_type', 'file_size', 'creation_date', 'last_modified_date', 'last_accessed_date'], relationships={}, metadata_template='{key}: {value}', metadata_separator='\\n', text_resource=MediaResource(embeddings=None, data=None, text='2023\\nANNUAL REPORT', path=None, url=None, mimetype=None), image_resource=None, audio_resource=None, video_resource=None, text_template='{metadata_str}\\n\\n{content}'),\n",
                            " Document(id_='6ab91d91-387f-4ca1-a981-2950664455ba', embedding=None, metadata={'page_label': '2', 'file_name': 'adidas_2023.pdf', 'file_path': 'data\\\\raw\\\\reports\\\\adidas_2023.pdf', 'file_type': 'application/pdf', 'file_size': 20968677, 'creation_date': '2025-02-02', 'last_modified_date': '2025-02-02'}, excluded_embed_metadata_keys=['file_name', 'file_type', 'file_size', 'creation_date', 'last_modified_date', 'last_accessed_date'], excluded_llm_metadata_keys=['file_name', 'file_type', 'file_size', 'creation_date', 'last_modified_date', 'last_accessed_date'], relationships={}, metadata_template='{key}: {value}', metadata_separator='\\n', text_resource=MediaResource(embeddings=None, data=None, text='YOU\\nGOT\\nTHIS\\nANNUAL REPORT 2023', path=None, url=None, mimetype=None), image_resource=None, audio_resource=None, video_resource=None, text_template='{metadata_str}\\n\\n{content}'),\n",
                            " Document(id_='70c9f8fd-6f2c-4c88-94a9-c91ecbc8aa60', embedding=None, metadata={'page_label': '3', 'file_name': 'adidas_2023.pdf', 'file_path': 'data\\\\raw\\\\reports\\\\adidas_2023.pdf', 'file_type': 'application/pdf', 'file_size': 20968677, 'creation_date': '2025-02-02', 'last_modified_date': '2025-02-02'}, excluded_embed_metadata_keys=['file_name', 'file_type', 'file_size', 'creation_date', 'last_modified_date', 'last_accessed_date'], excluded_llm_metadata_keys=['file_name', 'file_type', 'file_size', 'creation_date', 'last_modified_date', 'last_accessed_date'], relationships={}, metadata_template='{key}: {value}', metadata_separator='\\n', text_resource=MediaResource(embeddings=None, data=None, text='OUR PURPOSE\\nOUR MISSION \\nTO BE THE BEST SPORTS BRAND IN THE WORLD\\nTOTHE\\nTHROUGH\\nSP ORT,\\nPOWER\\nCHANGE LIVES\\nWE HAVE\\nANNUAL REPORT 2023', path=None, url=None, mimetype=None), image_resource=None, audio_resource=None, video_resource=None, text_template='{metadata_str}\\n\\n{content}')]"
                        ]
                    },
                    "execution_count": 4,
                    "metadata": {},
                    "output_type": "execute_result"
                }
            ],
            "source": [
                "documents[0:3]"
            ]
        },
        {
            "cell_type": "code",
            "execution_count": 5,
            "metadata": {
                "editable": true,
                "slideshow": {
                    "slide_type": "skip"
                },
                "tags": []
            },
            "outputs": [
                {
                    "data": {
                        "text/plain": [
                            "{'id_': 'fe9db084-0537-48b3-a9ae-c95a22fa85fb',\n",
                            " 'embedding': None,\n",
                            " 'metadata': {'page_label': '166',\n",
                            "  'file_name': 'adidas_2023.pdf',\n",
                            "  'file_path': 'data\\\\raw\\\\reports\\\\adidas_2023.pdf',\n",
                            "  'file_type': 'application/pdf',\n",
                            "  'file_size': 20968677,\n",
                            "  'creation_date': '2025-02-02',\n",
                            "  'last_modified_date': '2025-02-02'},\n",
                            " 'excluded_embed_metadata_keys': ['file_name',\n",
                            "  'file_type',\n",
                            "  'file_size',\n",
                            "  'creation_date',\n",
                            "  'last_modified_date',\n",
                            "  'last_accessed_date'],\n",
                            " 'excluded_llm_metadata_keys': ['file_name',\n",
                            "  'file_type',\n",
                            "  'file_size',\n",
                            "  'creation_date',\n",
                            "  'last_modified_date',\n",
                            "  'last_accessed_date'],\n",
                            " 'relationships': {},\n",
                            " 'metadata_template': '{key}: {value}',\n",
                            " 'metadata_separator': '\\n',\n",
                            " 'text_resource': MediaResource(embeddings=None, data=None, text=\"1 2 3 4 5 \\nT O  O U R SHA REHO L D ERS  GRO U P  MAN A GEMEN T  REP O RT – \\nO U R CO MPA N Y \\nGRO U P  MAN A GEMEN T  REP O RT – \\nF I N A N CI AL  REVI EW  \\nCO N SO L I DA T ED  FI N AN CI A L \\nST A T EMEN T S \\nA D D I T I ON A L I N FO RMA T I ON \\n \\n166 \\n    \\n    \\n A N N U A L  R E P O R T  2 0 2 3 \\nRisk and Opportunity Report \\nIn order to remain competitive and ensure sustainable success, adidas consciously takes risks and \\ncontinuously explores and develops opportunities. Our risk and opportunity management principles and \\nsystem provide the framework for our company to conduct business in a well-controlled environment. \\nRisk and opportunity management principles \\nThe key objective of the risk and opportunity management is to support business success and protect the \\ncompany as a going concern through an opportunity-focused but risk-aware decision-making framework. \\nOur Enterprise Risk Management Policy outlines the principles, processes, tools, risk areas, key \\nresponsibilities, reporting requirements, and communication timelines within our company. Risk and \\nopportunity management is a company-wide activity that utilizes key insights from the members of the \\nExecutive Board as well as from global and local business units and functions. We define risk as the \\npotential occurrence of an external or internal event (or series of events) that may negatively impact our \\nability to achieve the company’s business objectives or financial goals. Opportunity is defined as the \\npotential occurrence of an external or internal event (or series of events) that can positively impact the \\ncompany’s ability to achieve its business objectives or financial goals. \\nRisk and opportunity management system \\nThe Executive Board has overall responsibility for establishing a risk and opportunity management system \\nthat ensures comprehensive and consistent management of all relevant risks and opportunities. The \\nEnterprise Risk Management department governs, operates, and develops the company’s risk and \\nopportunity management system and is the owner of the centrally managed risk and opportunity \\nmanagement process on behalf of the Executive Board. The Supervisory Board is responsible for \\nmonitoring the effectiveness of the risk management system. These duties are undertaken by the \\nSupervisory Board’s Audit Committee. Working independently of all other functions of the organization, the \\nInternal Audit department provides objective assurance to the Executive Board and the Audit Committee \\nregarding the adequacy and effectiveness of the company’s risk and opportunity management system on a \\nregular basis. In addition, the Internal Audit department includes an assessment of the effectiveness of \\nrisk management processes and compliance with the company’s Enterprise Risk Management Policy as \\npart of its regular auditing activities with selected adidas subsidiaries or functions each year. \\nOur risk and opportunity management system is based on frameworks for enterprise risk management \\nand internal controls developed and published by the Committee of Sponsoring Organizations of the \\nTreadway Commission (COSO). Additionally, we have adapted our risk and opportunity management \\nsystem to more appropriately reflect the structure as well as the culture of the company. This system \\nfocuses on the identification, evaluation, handling, systematic reporting, and monitoring of risks and \\nopportunities. Furthermore, we use a quantitative concept for risk capacity and risk appetite. Risk capacity \\nis a liquidity-based measure and represents the maximum level of risk adidas AG can take before being \\nthreatened with insolvency. Risk appetite refers to the maximum level of risk the company is willing to \\ntake and is linked to the company's liquidity targets.  \", path=None, url=None, mimetype=None),\n",
                            " 'image_resource': None,\n",
                            " 'audio_resource': None,\n",
                            " 'video_resource': None,\n",
                            " 'text_template': '{metadata_str}\\n\\n{content}'}"
                        ]
                    },
                    "execution_count": 5,
                    "metadata": {},
                    "output_type": "execute_result"
                }
            ],
            "source": [
                "vars(documents[165])"
            ]
        },
        {
            "cell_type": "markdown",
            "metadata": {
                "editable": true,
                "slideshow": {
                    "slide_type": "skip"
                },
                "tags": []
            },
            "source": [
                "A `Document` object includes a unique ID, relevant metadata, and the content found within the document, categorized by the following data types:\n",
                "- text_resource\n",
                "- image_resource\n",
                "- audio_resource\n",
                "- video_resource\n",
                "\n",
                "In our case, the annual reports consist solely of text."
            ]
        },
        {
            "cell_type": "markdown",
            "metadata": {
                "editable": true,
                "slideshow": {
                    "slide_type": "subslide"
                },
                "tags": []
            },
            "source": [
                "Next, we utilize the custom function `display_document_with_image_side_by_side()` to visually compare the text parsed by `SimpleDirectoryReader` with the original document. This allows for an effective side-by-side evaluation of the extracted content."
            ]
        },
        {
            "cell_type": "code",
            "execution_count": 6,
            "metadata": {
                "editable": true,
                "slideshow": {
                    "slide_type": "fragment"
                },
                "tags": []
            },
            "outputs": [
                {
                    "data": {
                        "text/html": [
                            "\n",
                            "    <div style=\"display: flex; align-items: flex-start;\">\n",
                            "        <div style=\"flex: 1; padding: 10px;\">\n",
                            "            <pre>1 2 3 4 5 \n",
                            "T O  O U R SHA REHO L D ERS  GRO U P  MAN A GEMEN T  REP O RT – \n",
                            "O U R CO MPA N Y \n",
                            "GRO U P  MAN A GEMEN T  REP O RT – \n",
                            "F I N A N CI AL  REVI EW  \n",
                            "CO N SO L I DA T ED  FI N AN CI A L \n",
                            "ST A T EMEN T S \n",
                            "A D D I T I ON A L I N FO RMA T I ON \n",
                            " \n",
                            "166 \n",
                            "    \n",
                            "    \n",
                            " A N N U A L  R E P O R T  2 0 2 3 \n",
                            "Risk and Opportunity Report \n",
                            "In order to remain competitive and ensure sustainable success, adidas consciously takes risks and \n",
                            "continuously explores and develops opportunities. Our risk and opportunity management principles and \n",
                            "system provide the framework for our company to conduct business in a well-controlled environment. \n",
                            "Risk and opportunity management principles \n",
                            "The key objective of the risk and opportunity management is to support business success and protect the \n",
                            "company as a going concern through an opportunity-focused but risk-aware decision-making framework. \n",
                            "Our Enterprise Risk Management Policy outlines the principles, processes, tools, risk areas, key \n",
                            "responsibilities, reporting requirements, and communication timelines within our company. Risk and \n",
                            "opportunity management is a company-wide activity that utilizes key insights from the members of the \n",
                            "Executive Board as well as from global and local business units and functions. We define risk as the \n",
                            "potential occurrence of an external or internal event (or series of events) that may negatively impact our \n",
                            "ability to achieve the company’s business objectives or financial goals. Opportunity is defined as the \n",
                            "potential occurrence of an external or internal event (or series of events) that can positively impact the \n",
                            "company’s ability to achieve its business objectives or financial goals. \n",
                            "Risk and opportunity management system \n",
                            "The Executive Board has overall responsibility for establishing a risk and opportunity management system \n",
                            "that ensures comprehensive and consistent management of all relevant risks and opportunities. The \n",
                            "Enterprise Risk Management department governs, operates, and develops the company’s risk and \n",
                            "opportunity management system and is the owner of the centrally managed risk and opportunity \n",
                            "management process on behalf of the Executive Board. The Supervisory Board is responsible for \n",
                            "monitoring the effectiveness of the risk management system. These duties are undertaken by the \n",
                            "Supervisory Board’s Audit Committee. Working independently of all other functions of the organization, the \n",
                            "Internal Audit department provides objective assurance to the Executive Board and the Audit Committee \n",
                            "regarding the adequacy and effectiveness of the company’s risk and opportunity management system on a \n",
                            "regular basis. In addition, the Internal Audit department includes an assessment of the effectiveness of \n",
                            "risk management processes and compliance with the company’s Enterprise Risk Management Policy as \n",
                            "part of its regular auditing activities with selected adidas subsidiaries or functions each year. \n",
                            "Our risk and opportunity management system is based on frameworks for enterprise risk management \n",
                            "and internal controls developed and published by the Committee of Sponsoring Organizations of the \n",
                            "Treadway Commission (COSO). Additionally, we have adapted our risk and opportunity management \n",
                            "system to more appropriately reflect the structure as well as the culture of the company. This system \n",
                            "focuses on the identification, evaluation, handling, systematic reporting, and monitoring of risks and \n",
                            "opportunities. Furthermore, we use a quantitative concept for risk capacity and risk appetite. Risk capacity \n",
                            "is a liquidity-based measure and represents the maximum level of risk adidas AG can take before being \n",
                            "threatened with insolvency. Risk appetite refers to the maximum level of risk the company is willing to \n",
                            "take and is linked to the company's liquidity targets.</pre>\n",
                            "        </div>\n",
                            "        <div style=\"flex: 1; padding: 10px;\">\n",
                            "            <img src=\"img/annual_report.png\" style=\"max-width: 100%; height: auto;\">\n",
                            "        </div>\n",
                            "    </div>\n",
                            "    "
                        ],
                        "text/plain": [
                            "<IPython.core.display.HTML object>"
                        ]
                    },
                    "metadata": {},
                    "output_type": "display_data"
                }
            ],
            "source": [
                "from util import display_document_with_image_side_by_side\n",
                "\n",
                "display_document_with_image_side_by_side(\n",
                "    document=documents[165],\n",
                "    image_path='img/annual_report.png'\n",
                ")"
            ]
        },
        {
            "cell_type": "markdown",
            "metadata": {
                "editable": true,
                "slideshow": {
                    "slide_type": "subslide"
                },
                "tags": []
            },
            "source": [
                "When using the text_resource in the Risk Agent, we need to **remove the repetitive header information** from each page, as it complicates the content, and we only want to focus on the pages that contain information about the companies' 'Risk and Opportunity.' Ultimately, we aim to **merge all relevant pages** of an annual report **into a single `Document`** object to ensure that paragraphs split across two pages are processed together."
            ]
        },
        {
            "cell_type": "code",
            "execution_count": null,
            "metadata": {
                "editable": true,
                "slideshow": {
                    "slide_type": "fragment"
                },
                "tags": []
            },
            "outputs": [],
            "source": [
                "pre_process_dict = {\n",
                "    \"adidas\": {\n",
                "        \"pages\": range(165, 187, 1),\n",
                "        \"string_to_remove\": \"\"\"1 2 3 4 5 \\nT O  O U R SHA REHO L D ERS  GRO U P  MAN A GEMEN T\n",
                "            REP O RT – \\nO U R CO MPA N Y \\nGRO U P  MAN A GEMEN T  REP O RT – \\nF I N A N CI AL\n",
                "                REVI EW  \\nCO N SO L I DA T ED  FI N AN CI A L \\nST A T EMEN T S \\n\n",
                "                A D D I T I ON A L I N FO RMA T I ON \\n \\n\\\\d{1,3} \\n    \\n\n",
                "                        \\n A N N U A L  R E P O R T  2 0 2 3\"\"\",\n",
                "    }\n",
                "}"
            ]
        },
        {
            "cell_type": "code",
            "execution_count": 8,
            "metadata": {
                "editable": true,
                "slideshow": {
                    "slide_type": "fragment"
                },
                "tags": []
            },
            "outputs": [],
            "source": [
                "import re\n",
                "from llama_index.core import Document\n",
                "\n",
                "pages = pre_process_dict[\"adidas\"].get(\"pages\")\n",
                "string_to_remove = pre_process_dict[\"adidas\"].get(\"string_to_remove\")\n",
                "overall_text = \"\"\n",
                "\n",
                "for page in pages:\n",
                "    document = documents[page]\n",
                "    text = document.text\n",
                "    text = re.sub(string_to_remove, \"\", text)\n",
                "    overall_text = \"\\n\".join([overall_text, text])\n",
                "\n",
                "report = Document(\n",
                "    text=overall_text, \n",
                "    metadata={'company': \"adidas\", 'year': 2023})"
            ]
        },
        {
            "cell_type": "code",
            "execution_count": null,
            "metadata": {
                "slideshow": {
                    "slide_type": "skip"
                }
            },
            "outputs": [
                {
                    "data": {
                        "text/plain": [
                            "{'id_': 'ed566c3e-fb80-4add-a9cb-9190c54a8251',\n",
                            " 'embedding': None,\n",
                            " 'metadata': {'company': 'adidas', 'year': 2023},\n",
                            " 'excluded_embed_metadata_keys': [],\n",
                            " 'excluded_llm_metadata_keys': [],\n",
                            " 'relationships': {},\n",
                            " 'metadata_template': '{key}: {value}',\n",
                            " 'metadata_separator': '\\n',\n",
                            " 'text_resource': MediaResource(embeddings=None, data=None, text=\"\\n \\nRisk and Opportunity Report \\nIn order to remain competitive and ensure sustainable success, adidas consciously takes risks and \\ncontinuously explores and develops opportunities. Our risk and opportunity management principles and \\nsystem provide the framework for our company to conduct business in a well-controlled environment. \\nRisk and opportunity management principles \\nThe key objective of the risk and opportunity management is to support business success and protect the \\ncompany as a going concern through an opportunity-focused but risk-aware decision-making framework. \\nOur Enterprise Risk Management Policy outlines the principles, processes, tools, risk areas, key \\nresponsibilities, reporting requirements, and communication timelines within our company. Risk and \\nopportunity management is a company-wide activity that utilizes key insights from the members of the \\nExecutive Board as well as from global and local business units and functions. We define risk as the \\npotential occurrence of an external or internal event (or series of events) that may negatively impact our \\nability to achieve the company’s business objectives or financial goals. Opportunity is defined as the \\npotential occurrence of an external or internal event (or series of events) that can positively impact the \\ncompany’s ability to achieve its business objectives or financial goals. \\nRisk and opportunity management system \\nThe Executive Board has overall responsibility for establishing a risk and opportunity management system \\nthat ensures comprehensive and consistent management of all relevant risks and opportunities. The \\nEnterprise Risk Management department governs, operates, and develops the company’s risk and \\nopportunity management system and is the owner of the centrally managed risk and opportunity \\nmanagement process on behalf of the Executive Board. The Supervisory Board is responsible for \\nmonitoring the effectiveness of the risk management system. These duties are undertaken by the \\nSupervisory Board’s Audit Committee. Working independently of all other functions of the organization, the \\nInternal Audit department provides objective assurance to the Executive Board and the Audit Committee \\nregarding the adequacy and effectiveness of the company’s risk and opportunity management system on a \\nregular basis. In addition, the Internal Audit department includes an assessment of the effectiveness of \\nrisk management processes and compliance with the company’s Enterprise Risk Management Policy as \\npart of its regular auditing activities with selected adidas subsidiaries or functions each year. \\nOur risk and opportunity management system is based on frameworks for enterprise risk management \\nand internal controls developed and published by the Committee of Sponsoring Organizations of the \\nTreadway Commission (COSO). Additionally, we have adapted our risk and opportunity management \\nsystem to more appropriately reflect the structure as well as the culture of the company. This system \\nfocuses on the identification, evaluation, handling, systematic reporting, and monitoring of risks and \\nopportunities. Furthermore, we use a quantitative concept for risk capacity and risk appetite. Risk capacity \\nis a liquidity-based measure and represents the maximum level of risk adidas AG can take before being \\nthreatened with insolvency. Risk appetite refers to the maximum level of risk the company is willing to \\ntake and is linked to the company's liquidity targets.\\n \\nRisk and opportunity management system  \\n \\n \\nOur risk and opportunity management process comprises the following steps: \\n─ Risk and opportunity identification: adidas continuously monitors the macroeconomic environment \\nand developments in the sporting goods industry as well as internal processes to identify risks and \\nopportunities as early as possible. On a semi-annual basis, the Enterprise Risk Management \\ndepartment conducts a survey among senior management and selected middle management to ensure \\nan effective bottom-up identification of risks and opportunities. Enterprise Risk Management has also \\ndefined 25 categories to help identify risks and opportunities in a systematic way. In addition, adidas \\nuses various instruments in the risk and opportunity identification process, such as primary qualitative \\nand quantitative research including trend scouting and consumer surveys as well as feedback from our \\nbusiness partners. These efforts are supported by global market research and competitor analysis. \\nThrough this process, we seek to identify the markets, categories, consumer target groups, and \\nproduct styles that show the most potential for future growth at a local and global level. Equally, our \\nanalysis focuses on those areas that are at risk of saturation or exposed to increased competition or \\nchanging consumer tastes. Furthermore, we consider topics related to environmental, social, and \\ngovernance aspects in our overall identification process as well as in the following process steps. Our \\nrisk and opportunity identification process is however not only limited to external risk factors or \\nopportunities; it also includes an internal perspective that considers company culture, processes, \\nprojects, human resources, and compliance aspects. \\n─ Risk and opportunity evaluation: We assess identified risks and opportunities individually according to \\na systematic evaluation methodology, which allows adequate prioritization as well as allocation of \\nresources. Risk and opportunity evaluation is part of the responsibility of the Enterprise Risk \\nManagement department supported by subject matter experts as well as internal and external data. \\nThe Enterprise Risk Management department also conducts assessments with the Executive Board \\nmembers and senior leaders to validate the evaluation of most relevant risks and opportunities. \\nAccording to our methodology, risks and opportunities are evaluated by looking at two dimensions: the \\npotential impact and the likelihood that this impact materializes. Based on this evaluation, we classify \\nrisks and opportunities into three categories: minor, moderate, and major.\\n \\nThe potential impact is evaluated using five categories: marginal, low, medium, high, and significant. \\nThese categories represent financial or equivalent non-financial measurements. The financial \\nmeasurements are based on the potential effect on the company’s net income and cash flow. Non-\\nfinancial measurements used are the degree to which the company’s reputation, brand image, and \\nemployer value proposition are affected. Moreover, the degree of damage to people’s health and safety \\nand the degree of legal and judicial consequences at a corporate and personal level can be considered. \\nLikelihood represents the possibility that a given risk or opportunity may materialize with the specific \\nimpact. The likelihood of individual risks and opportunities is evaluated on a percentage scale divided \\ninto five categories.  \\nRisk evaluation categories  \\n \\n1 Based on net income and cash flow.\\n \\nWhen evaluating risks and opportunities, we also consider the speed of materialization (velocity). In \\nthis respect, we differentiate in which financial year risks and opportunities could occur. We consider \\nboth gross and net risk in our risk assessments. While the gross risk reflects the inherent risk before \\nany mitigating action, the net risk reflects the residual risk after all mitigating action. On the one hand, \\nthis approach allows for a good understanding of the impact of mitigating action taken; on the other \\nhand, it provides the basis for scenario analysis. Our assessment of risks presented in this report only \\nreflects the net risk perspective. We measure the actual financial impact of selected risks and \\nopportunities that materialized against the original assessment on a yearly basis (‘back-testing’). In \\nthis way, we ensure continuous monitoring of the accuracy of risk and opportunity evaluations across \\nthe company, which enables us to continuously improve evaluation methodology based on our findings.  \\nIn assessing the potential effect from opportunities, each opportunity is appraised with respect to \\nviability, commerciality, and potential risks. This approach is not only applied to longer-term strategic \\nprospects but also to shorter-term tactical and opportunistic initiatives at the corporate level as well \\nas at the market and brand level. In contrast to the risk evaluation, only the net perspective exists for \\nassessing opportunities. \\nWe aggregate risks and opportunities using a stochastic simulation (Monte Carlo simulation) to \\ndetermine the company’s risk and opportunity portfolio (i.e., the company’s aggregated risk position), \\nconsidering interdependencies of individual risks and opportunities. To identify a potential threat to the \\ncompany as a going concern, we compare the 2024 risk and opportunity portfolio to the company’s \\ndefined risk capacity and determine the likelihood that the aggregated risk exceeds the risk capacity; \\nto identify a potential threat to the company’s rating, we compare the 2024 risk and opportunity \\nportfolio to the defined risk appetite and determine the likelihood that the aggregated risk exceeds the \\nrisk appetite.  \\n─ Risk and opportunity handling: Risks and opportunities are treated in accordance with the company’s \\nrisk and opportunity management principles as described in the Enterprise Risk Management Policy. \\nRisk Owners are in charge of developing and implementing appropriate risk-mitigating action within \\ntheir area of responsibility. In addition, the Risk Owners need to determine a general risk-handling \\nstrategy for the identified risks, which is either risk avoidance, risk reduction with the objective to \\nlower impact or likelihood, risk transfer to a third party or risk acceptance. The decision on the \\nimplementation of the respective risk-handling strategy also takes into account the costs in relation to \\nthe benefit of any planned mitigating action if applicable. The Enterprise Risk Management department \\nworks closely with the Risk Owners to monitor the continuous progress of planned mitigating action \\nand assess the viability of already implemented mitigating action. Depending on the risk class \\ndetermined by the risk and opportunity evaluation, the authority to make decisions to accept risks \\nresides with the Executive Board, leaders reporting directly to an Executive Board member and the \\noperational management on the next hierarchical level. The decision to accept major risks without \\ntaking additional mitigating action can only be made by the entire Executive Board. In its decision-\\nmaking process, the Executive Board takes into account the risk profile, i.e., the relationship between \\nrisk and opportunity portfolio (i.e., the company’s aggregated risk position) and risk appetite, as well as \\nrisk capacity. To support the Executive Board, the Enterprise Risk Management department defined \\nclear thresholds for the likelihood that the company’s aggregated risk exceeds the defined risk \\nappetite and risk capacity. The company’s risk appetite must not be exceeded with a likelihood of at \\nleast 95%; the company’s risk capacity must not be exceeded with a likelihood of at least 99%. \\n─ Risk and opportunity monitoring and reporting: Our risk and opportunity management system aims to \\nincrease the transparency of risks and opportunities. As both risks and opportunities are subject to \\nconstant change, Risk Owners not only monitor developments but also the adequacy and effectiveness \\nof the current risk-handling strategy on an ongoing basis.\\n \\nRegular risk reporting takes place half-yearly and consists of a five-step reporting stream: \\n─ Enterprise Risk Management identifies risks and opportunities (with a potential effect on net income \\nand cash flow higher than € 1 million) by conducting a survey among senior management and selected \\nmiddle management as well as utilizing available information concerning the internal and external \\nenvironment of the company. Enterprise Risk Management evaluates, consolidates, and aggregates \\nthe identified risks and opportunities (‘bottom-up assessment’). \\n─ Enterprise Risk Management discusses the assessment of most relevant risks and opportunities with \\nthe members of the Executive Board and leaders directly reporting to them. The Executive Board \\nmembers and senior leaders validate the assessment of risks and opportunities in their respective \\narea of responsibility (‘top-down assessment’).  \\n─ Enterprise Risk Management provides a consolidated report to the Executive Board summarizing the \\nresults of both bottom-up and top-down assessment as well as the risk and opportunity profile to \\nhighlight a potential threat to the company’s rating and going concern. The Executive Board reviews \\nthe report, jointly agrees on a company assessment of risks and opportunities and decides if Risk \\nOwners are required to take further action. \\n─ Based on the Executive Board’s decision, Enterprise Risk Management creates the final risk and \\nopportunity report that is also shared with the Core Leadership Group’ (‘CLG’).  \\n─ The Executive Board presents in collaboration with Enterprise Risk Management the final risk and \\nopportunity assessment results to the Audit Committee of the Supervisory Board.  \\nMaterial changes in previously reported risks and opportunities or newly identified substantial risks and \\nopportunities are also reported outside the regular half-yearly reporting stream on an ad hoc basis to the \\nExecutive Board. To further improve the risk culture at adidas, we are also offering a risk management \\ntraining to all our employees through our company intranet. \\nCompliance management system (adidas Fair Play) \\n⌐ We consider compliance with the law as well as with external and internal regulations to be imperative. \\nThe Executive Board sets the tone from the top, and every employee is required to act ethically and in \\ncompliance with the law as well as with internal and other external regulations while executing the \\ncompany’s business. We believe adidas Fair Play will prevent a majority of potential compliance issues. \\nFor that reason, we have specific measures to detect and respond to any concerns. We realize, however, \\nthat no compliance system can eliminate all violations. \\nThe adidas Chief Compliance Officer oversees the company’s Compliance Management System (CMS). We \\nsee compliance as all-encompassing, spanning all business functions throughout the entire value chain. \\nOur central Compliance team works closely with Regional Compliance Managers and Local Compliance \\nOfficers to conduct a systematic assessment of key compliance risks on a yearly basis.\\n \\nThe company’s CMS is based on the OECD Principles of Corporate Governance. It refers to the OECD \\nGuidelines for Multinational Enterprises and is designed to: \\n─ support the achievement of qualitative and sustainable growth through good corporate governance, \\n─ reduce and mitigate the risk of financial losses or damage caused by non-compliant conduct, \\n─ protect and further enhance the value and reputation of the company and its brand through compliant \\nconduct, and \\n─ support ‘Diversity, Equity, and Inclusion’ (‘DEI’) initiatives by fighting harassment and discrimination. \\nThe adidas Fair Play Code of Conduct is accessible on our website, includes guidelines for employee \\nbehavior in everyday work, and is applicable globally for all business areas. ¬ \\n► ADIDAS-GROUP.COM/S/CODE -OF-CONDUCT  \\n⌐ The Fair Play Code of Conduct and our CMS are organized around three pillars: prevent, detect, and \\nrespond. \\n─ Prevention: The Compliance team regularly reviews and updates the CMS as necessary. In addition to \\nthe revised Fair Play Code of Conduct mentioned above, we also support all initiatives to prevent and \\nfight harassment and discrimination in the workplace. Management also shares compliance-related \\ncommunication, and the Compliance department provides mandatory training to all employees globally \\nduring onboarding and in regular, repeated cycles. The Compliance team and partners also provide \\ntargeted in-person compliance training as appropriate with senior management and newly promoted \\nor hired senior executives across the globe in order to further enhance the compliance ‘tone from the \\ntop,’ as well as the ‘tone from the middle.’ We closely monitor the completion rates for these training \\nmeasures. We also focused on further enhancing cooperation between the Compliance team and the \\nInternal Audit, the Group Policies and Internal Controls, and the Enterprise Risk Management \\ndepartment.  \\n─ Detection: adidas has whistleblowing procedures in place to ensure timely detection of potential \\ninfringements of statutory regulations or internal guidelines. Employees can report compliance \\nconcerns internally to their supervisor, the Chief Compliance Officer, Regional Compliance Managers \\nor Local Compliance Officers, the relevant HR Manager, or, where applicable, the Works Council. \\nEmployees can also report externally via the independent, confidential Fair Play hotline and website, \\nwhich also allow for anonymous complaints. The Fair Play hotline and website are available at all times \\nworldwide, including the services of interpreters, if required. They are promoted digitally and with \\nposters to reach all our locations around the world. The company’s work to identify potential \\ncompliance violations continued in 2023.  \\n─ Response: Appropriate and timely response to compliance violations is essential. The Chief \\nCompliance Officer leads all investigations in cooperation with an established team of Regional \\nCompliance Managers and a global network of Local Compliance Officers. We track, monitor, and \\nreport potential incidents of non-compliance worldwide. In 2023, we recorded 590 potential compliance \\nviolations (2022: 521). Most importantly, insights gained from the investigation of past violations are \\nused to continuously improve the CMS. Where necessary, we react promptly to confirmed compliance \\nviolations, through appropriate and effective sanctions ranging from warnings to termination of \\nemployment contracts. In 2023, the Compliance team further strengthened its relationship with the \\nEmployee Relations (ER) organization, a key partner in many compliance matters, especially those \\nrelated to harassment and discrimination. In November 2023, a new case management tool was\\n \\nimplemented allowing both Compliance and ER to effectively document and process cases as well as \\nreport on specific developments in more detail. \\nPotential compliance violations    \\n     \\n  2023  2022 \\nFinancial, including theft   51  48 \\nMalfeasance, including conflicts of interest and corruption   17  19 \\nCompetition  0  1 \\nBehavioral  387  326 \\nOther1  135  127 \\n     \\n1 Includes payroll issues, intellectual property, and leaks of confidential information, amongst others. \\nReporting of potential compliance violations in %    \\n     \\n  2023  2022 \\nAnonymous contact to hotline   53  55 \\nNamed contact to hotline  23  26 \\nCompliance Officer and other  24  18 \\n \\nThe company’s Chief Compliance Officer regularly reports to the Executive Board on the further \\ndevelopment of the compliance program and on major compliance cases. In addition, the Chief \\nCompliance Officer reports to the Audit Committee on a regular basis. In 2023, the Chief Compliance \\nOfficer attended four meetings of the Audit Committee of the Supervisory Board to report on the further \\ndevelopment of the compliance program, major compliance cases, and other relevant compliance topics. \\nThe Compliance department has revised its process for detecting compliance risks and included new \\nrisks, as well as captured some risk areas (e.g., e-commerce) more clearly. In addition, the description of \\nthe CMS has been sharpened. ¬ \\nDescription of the main features of the internal control and risk management system process pursuant \\nto § 315 section 4 German Commercial Code (Handelsgesetzbuch – HGB) \\nThe accounting-related internal control and risk management system of the company represents a \\nprocess embedded within the company-wide corporate governance system. It aims to provide reasonable \\nassurance regarding the reliability of the company’s external financial reporting by ensuring company-\\nwide compliance with statutory accounting regulations, in particular the International Financial Reporting \\nStandards (IFRS) and internal consolidated financial reporting policies (Finance Manual). We regard the \\ninternal control and risk management system as a process based on the principle of segregation of duties, \\nencompassing various sub-processes in the areas of Accounting, Controlling, Taxes, Treasury, Planning, \\nReporting, and Legal, focusing on the identification, assessment, mitigation, monitoring, and reporting of \\nfinancial reporting risks. Clearly defined responsibilities are assigned to each distinct sub-process. In a \\nfirst step, the internal control and risk management system serves to identify, assess, limit, and control \\nrisks identified in the consolidated financial reporting process that might result in the consolidated \\nfinancial statements not being compliant with internal and external regulations. \\nInternal Control over Financial Reporting (ICoFR) serves to provide reasonable assurance regarding the \\nreliability of financial reporting and compliance with applicable laws and regulations. To monitor the \\neffectiveness of ICoFR, the Corporate Internal Audit department, which includes both the Internal Audit \\nand Global Internal Controls functions, regularly reviews accounting-related processes. Additionally, as \\npart of the year-end audit, the external auditor assesses the effectiveness of selected internal controls,\\n \\nincluding IT controls. The Audit Committee of the Supervisory Board also monitors the effectiveness of \\nICoFR. \\nAll adidas companies are required to comply with the consolidated financial reporting policies (Finance \\nManual), which are available to all employees involved in the financial reporting process through the \\ncompany-wide intranet. We update the Finance Manual on a regular basis, dependent on regulatory \\nchanges and internal developments. Changes to the Finance Manual are promptly communicated to all \\nadidas companies. Clear policies serve to limit employees’ scope of discretion with regard to recognition \\nand valuation of assets and liabilities, thus reducing the risk of inconsistent accounting practices within \\nthe company. We aim to ensure compliance with the Finance Manual through continuous adherence to the \\nfour-eyes principle in accounting-related processes. In addition, the local manager responsible for the \\naccounting-related process within the respective company and the respective local Managing Director \\nconfirm adherence to the Finance Manual and to IFRS in a signed representation letter to the Accounting \\ndepartment semi-annually. \\nThe accounting for adidas companies is conducted either locally or by our Global Business Services. \\nVirtually all the IT Enterprise Resource Planning (ERP) systems used are based on a company-wide \\nstandardized SAP system. Following approval by the Finance Director of the respective adidas company, \\nthe local financial statements are transferred to a central consolidation system based on SAP Group \\nReporting. At the corporate level, the regularity and reliability of the financial statements prepared by \\nadidas companies are reviewed by the Accounting and Controlling departments. These reviews include \\nautomated validations in the system as well as the creation of reports and analyses to ensure data \\nintegrity and adherence to the reporting logic. In addition, differences between current-year and prior-\\nyear financial data as well as budget figures are analyzed on a market level. If necessary, adidas seeks the \\nopinion of independent experts to review business transactions that occur infrequently and on a non-\\nroutine basis. After ensuring data plausibility, the centrally coordinated and monitored consolidation \\nprocess begins, running automatically on SAP Group Reporting. Controls within the individual \\nconsolidation steps, such as those relating to the consolidation of debt or of income and expenses, are \\nconducted both manually and system-based, using automatically created consolidation logs. Any \\ninadequacies are remedied manually by systematically processing the individual errors as well as \\ndifferences and are reported back to the adidas companies. After finalization of all consolidation steps, all \\nitems in the consolidated income statement and in the consolidated statement of financial position are \\nanalyzed with respect to trends and variances. Unless already otherwise clarified, the adidas companies \\nare asked to explain any identified material deviations. \\nAll financial systems used are protected against malpractice by means of appropriate authorization \\nconcepts, approval concepts, and access restrictions. Access authorizations are reviewed on a regular \\nbasis and updated if required. The risk of data loss or outage of accounting-related IT systems is \\nminimized through central control and monitoring of virtually all IT systems, centralized management of \\nchange processes, and regular data backups. \\nFurthermore, the adidas internal control and risk management system includes non-accounting-related \\ncontrols which serve to provide reasonable assurance regarding the effectiveness and efficiency of \\noperations, reliability of non-financial reporting, and compliance with applicable laws and regulations. The \\ninternal control and risk management system regarding the non-accounting-related activities focuses also \\non the identification, assessment, mitigation, monitoring, and reporting of relevant risks. It is as well \\nembedded within the company-wide corporate governance system and encompasses various sub-\\nprocesses in the areas of Brands, Operations (including Procurement and IT), Sales, or Human Resources.\\n \\nAll adidas companies are also required to comply with the non-accounting-related policies (‘Policy \\nManual’), which are available to all employees involved in the various processes through the company-\\nwide intranet and are updated and communicated on a regular basis.  \\nThe effectiveness of the non-accounting-related controls is also regularly monitored by the Corporate \\nInternal Audit department and the Global and Market Internal Controls teams. The reporting of internal \\ncontrol testing results to the Audit Committee of the Supervisory Board includes the effectiveness of non-\\naccounting-related controls as well.  \\nNothing came to our attention that would cause us to doubt the adequacy and effectiveness of the entire \\ninternal control and risk management system. However, due to the limitations of any internal control and \\nrisk management system, absolute certainty about the appropriateness and effectiveness of these \\nsystems cannot be guaranteed.27  \\nIllustration of Risks \\nThis report includes an explanation of financial and non-financial risks that we deem to be most relevant \\nto the achievement of the company’s objectives in 2024 and beyond. According to our risk assessment \\nmethodology, macroeconomic, socio-political, regulatory, and currency risks; risks related to consumer \\ndemand and product offering; risks related to the competitive and retail environment; risks related to tax \\nand customs regulations; risks related to impairment of goodwill; personnel risks; and IT and \\ncybersecurity risks are classified as major. The corporate risks overview table illustrates the assessment \\nof all risks described below. \\nCorporate risks overview    \\n         \\nRisk categories  \\nPotential \\nimpact  \\nChange \\n(2022 rating)  Likelihood  \\nChange \\n(2022 rating) \\nMacroeconomic, sociopolitical, regulatory, and currency risks   Significant    30% – 50%   \\nRisks related to consumer demand and product offering   Significant    15% – 30%   \\nRisks related to the competitive and retail environment   Significant    15% – 30%  ↓ (30% – 50%) \\nRisks related to tax and customs regulations   Significant    15% – 30%  ↓ (30% – 50%) \\nRisks related to impairment of goodwill   High  not reported in \\n2022  30% – 50%  not reported in \\n2022 \\nPersonnel risks  High  ↓ (Significant)  15% – 30%   \\nIT and cybersecurity risks  High    15% – 30%   \\nRisks related to media and stakeholder activities   Medium    30% – 50%  ↓ (50% – 85%) \\nBusiness partner risks  Significant    < 15%   \\nCompliance risks  Significant    < 15%   \\nHazard risks  Significant    < 15%   \\nLitigation risks  Significant  ↑ (High)  < 15%   \\nProject risks  Significant  ↑ (High)  < 15%   \\n \\nMacroeconomic, sociopolitical, regulatory, and currency risks \\nGrowth in the sporting goods industry is highly dependent on consumer spending and consumer \\nconfidence. Economic downturns, inflation, financial market turbulence, currency exchange rate \\nfluctuations, and sociopolitical factors such as military conflicts (e.g., further expansion of the war in \\nUkraine or the conflict in the Middle East), changes of government, civil unrest, pandemics, \\nnationalization, expropriation, or nationalism, in particular in regions where adidas is strongly \\n \\n27 The statement in relation to German Corporate Governance Code A5 was not audited in terms of content as part of the audit of this Group Management \\nReport.\\n \\nrepresented, could therefore negatively impact the company’s business activities (up to a potential wind-\\ndown of subsidiaries) and top- and bottom-line performance. Currency risks are a direct result of multi-\\ncurrency cash flows within the company, in particular the mismatch of the currencies required for \\nsourcing our products versus the denominations of our sales. Furthermore, translation impacts from the \\nconversion of non-euro-denominated results into the company’s functional currency, the euro, might lead \\nto a material negative impact on our company’s financial performance. In addition, substantial changes in \\nthe regulatory environment such as trade restrictions (e.g., concerning the US and China, or the EU and \\nChina), economic and political sanctions, regulations concerning product compliance, social aspects, \\nhuman rights, environmental, and climate protection regulations could lead to potential sales shortfalls or \\ncost increases. ► SEE NOTE 28 \\nTo mitigate these macroeconomic, sociopolitical, and regulatory risks, adidas strives to balance sales \\nacross key regions and also between developed and emerging markets. We continuously monitor the \\nmacroeconomic, political, and regulatory landscape in all our key markets to anticipate potential problem \\nareas, so that we can quickly adjust our business activities accordingly upon any change in conditions. \\nPotential adjustments may be a reallocation of manufacturing of our products to alternative countries, a \\nreallocation of investments to alternative, more attractive markets, changes in product prices, closure of \\nour own retail stores, more conservative product purchasing, tight working capital management, and an \\nincreased focus on cost control. \\nTo mitigate the risk related to fluctuations in currency exchange rates, we utilize a centralized currency \\nrisk management system and hedge currency needs for projected sourcing requirements on a rolling \\nbasis up to 24 months in advance. In rare instances, hedges are contracted beyond the 24-months horizon. \\n► SEE TREASURY  \\nBy building on our leading position within the sporting goods industry and taking into account the interests \\nof our stakeholders, we actively engage in supporting policymakers and regulators in their efforts to \\nliberalize global trade and curtail trade barriers, and to proactively influence and adapt to significant \\nchanges in the regulatory environment. \\nRisks related to consumer demand and product offering \\nOur success largely depends on our ability to continuously create new, innovative, and sustainable \\nproducts. Consumer demand changes can be sudden and unexpected, particularly when it comes to the \\nmore fashion-related part of our business. Therefore, we face a risk of short-term revenue loss in cases \\nwhere we are unable to anticipate consumer demand or respond quickly to changes. In addition, creating \\nand offering products that do not resonate with consumers and our retail partners is a critical risk to the \\nsuccess of our brands, especially considering our focus on key product franchises. This risk could be \\nexacerbated if our marketing activities and brand campaigns fail to generate consumer excitement. Even \\nmore critical in the long term, however, are the risks of continuously overlooking new trends and failing to \\ncontinuously introduce and successfully commercialize new product innovation. \\nTo mitigate these risks, identifying and responding to shifts in consumer demand as early as possible is a \\nkey responsibility of our brand and sales organizations and, in particular, of the respective Risk Owners. \\nTherefore, we utilize extensive primary and secondary research tools as outlined in our risk and \\nopportunity identification process. By putting the consumer at the center of our decision-making, we \\nintend to create higher brand advocacy and attract new consumers. We continuously expand our consumer \\nanalytics efforts to read and quickly react to changes in demand or trend shifts. In addition, direct \\ntouchpoints with consumers via our own digital channels, such as the adidas app, and direct \\ncommunication with consumers on social media platforms strengthen our understanding of consumer \\npreferences and behavior and, as a result, help us to reduce our vulnerability to changes in demand. \\nThrough continuous monitoring of sell-through data and disciplined product life-cycle management, in\\n \\nparticular for our major product franchises, we are able to better detect demand patterns and prevent \\nexcess supply. By leveraging our promotion partnerships and by carefully orchestrating launch events \\nacross markets and channels, we intend to maintain brand desire and consumer demand at a constantly \\nhigh level. Utilizing external insights and capabilities in product creation helps us strengthen our product \\noffering and drive consumer demand, brand desire, market share, and profitability. \\nRisks related to the competitive and retail environment \\nChanges in the competitive landscape and the retail environment could impact the company’s success. \\nStrategic alliances among competitors or retailers, the increase in retailers’ own private-label businesses \\nand intense competition for consumers, production capacity, and promotion partnerships between well-\\nestablished industry peers and new market entrants pose a substantial risk to adidas. This could lead to \\nharmful competitive behavior, such as sustained periods of discounting in the marketplace or intense \\nbidding for promotion partnerships. Failure to recognize and respond to consolidation in the retail industry \\ncould lead to increased dependency on particular retail partners, reduced bargaining power, and, \\nconsequently, considerable margin erosion. Sustained pricing pressure in key markets, amplified by \\nelevated inventory levels (still relevant for the US marketplace), could threaten the company’s financial \\nperformance and the competitiveness of our brands. Aggressive competitive practices could also drive \\nincreases in marketing costs and market share losses, thus hurting the company’s profitability and \\nmarket position. The inability to adjust our distribution strategy in a timely manner to a changing retail \\nindustry, which is experiencing continuous substitution of physical retail stores by digital commerce \\nplatforms as well as increasing connectivity between physical and digital retail, could result in sales and \\nprofit shortfalls. A decline in the attractiveness of particular shopping locations such as shopping malls \\ncould lead to sales shortfalls in our customers’ and our own stores, higher inventory in the marketplace, \\nincreased clearance activity, and margin pressure.  \\nTo mitigate these risks, we continuously monitor and analyze information on our competitors and markets \\nin order to be able to anticipate unfavorable changes in the competitive environment rather than merely \\nreacting to such changes. This enables us to proactively adjust our marketing and sales activities (e.g., \\nproduct launches or selective pricing adjustments) when needed. We also continuously and closely \\nmonitor numerous indicators (e.g., order placement, sell-through rates at the point of sale, average \\nselling prices, discounts, store traffic) that help us identify changes in the retail environment and quickly \\ntake appropriate action such as closing or remodeling our own stores. We constantly adjust our \\nsegmentation strategies to ensure that the right product is sold at the right point of sale at an appropriate \\nprice. Continuous investment in research and development ensures that we remain innovative and distinct \\nfrom competitors. We also pursue a strategy of entering into long-term agreements with key promotion \\npartners. In addition, our product and communication initiatives are designed to increase brand desire, \\ndrive market share growth, and strengthen our brand’s market position. \\nRisks related to tax and customs regulations \\nNumerous laws and regulations regarding customs and taxes as well as changes in such laws and \\nregulations affect the company’s business practices worldwide. Non-compliance with regulations \\nconcerning product imports (including calculation of customs values), intercompany transactions, or \\nincome taxes could lead to substantial financial penalties and additional costs as well as negative media \\ncoverage and therefore reputational damage, for example in case of understatements or underpayments \\nof corporate income taxes or customs duties. Changes in regulations regarding customs and taxes may \\nalso have a substantial impact on the company’s sourcing costs or income taxes. Therefore, we also create \\nprovisions in accordance with the relevant accounting regulations to account for potential disputes with \\ncustoms or tax authorities. Due to the current geopolitical situation, we assume in individual cases \\nincreasingly aggressive positions taken by tax and customs authorities in audits, which could increase the \\npotential impact of such risks and the likelihood that they materialize. In 2021, the ‘OECD/G20 Inclusive \\nFramework on Base Erosion and Profit Shifting’ agreed on a two-pillar solution to address the tax\\n \\nchallenges arising from the digitalization of the economy. Pillar 2, which includes the introduction of global \\nminimum tax, could lead to higher-than-planned income tax expenses from 2024 onwards.  \\nWe seek to manage tax and customs risks in a balanced way that bears an appropriate relationship to the \\noperating structure, commercial and economic substance, and other business risks. To proactively \\nmanage such risks, we constantly seek expert advice from specialized independent law and tax advisory \\nfirms in areas such as process design, transaction advisory, compliance, and tax or customs audits. \\nProcesses are in place requiring that attention is regularly directed to potential areas of tax or customs \\nrisk (e.g., a quarterly tax risk questionnaire) and the corporate tax and customs teams are involved in \\ncritical business transactions. Compliance with global tax and customs policies and controls is monitored \\nby the Corporate Tax and Customs teams, internal controls experts and the Internal Audit department. We \\nclosely monitor changes in legislation to properly adopt regulatory requirements regarding customs and \\ntaxes; apply any available and applicable guidance from tax authorities and organizations such as the \\nOECD, the World Customs Organization, and the World Trade Organization; and seek guidance from \\nindividual authorities, as appropriate, which may include requesting tax rulings from a tax authority. In \\naddition, our internal legal, customs, and tax teams advise our operational management teams to ensure \\nappropriate and compliant business practices. Our specialized staff receive adequate training for their role \\nand non-tax, or non-customs staff are made aware of potential tax and customs matters relevant to their \\nroles. Furthermore, we work closely with customs authorities and governments worldwide to make sure \\nwe adhere to customs and trade regulations at import and export to ensure the availability and obtain the \\nrequired clearance of products to fulfill sales demand. ► SEE SUSTAINABILITY  \\nRisks related to impairment of goodwill \\nOur balance sheet carries book values in goodwill. Deterioration in the business performance, and \\nparticularly in future business prospects, as well as significant exchange rate fluctuations could require \\ncorrections of the book values by incurring impairment charges. In addition, increases in market interest \\nrates could trigger increases in discount rates used in our impairment test for goodwill and require \\nimpairment charges. An impairment charge would be a purely accounting, non-cash effect impacting the \\ncompany’s operating result. ► SEE NOTE 11 \\nPersonnel risks \\nAchieving the company’s strategic and financial objectives is highly dependent on our employees and their \\ntalents. In this respect, strong leadership and a performance-enhancing culture are critical to the \\ncompany’s success. Therefore, ineffective leadership as well as the failure to install and maintain a \\nperformance-oriented culture that fosters ‘Diversity, Equity, and Inclusion’ (‘DEI’) and strong employee \\nengagement amongst our workforce could substantially impede our ability to achieve our goals. An \\nineffective, unbalanced, or insufficient allocation of resources to business activities as well as improper \\nplanning and untimely execution of reorganization and transformation initiatives may reduce employee \\nengagement, cause business disruption and inefficiencies, and may negatively affect business \\nperformance. In addition, global competition for highly qualified personnel remains fierce. As a result, the \\nloss of key personnel in strategic positions and the inability to identify, recruit, and retain highly qualified \\nand skilled talent who best meet the specific needs of our company pose risks to our business \\nperformance.  \\nWe are taking various measures to ensure that we maintain a culture that fosters ‘DEI.’ Through several \\nspecialized programs, ‘DEI’ is embedded into our recruitment processes. Our ‘Global DEI Council’ drives \\nthe increase of representation, retention, and advancement of diverse talents within our global workforce. \\nFurthermore, our workforce takes part in ‘DEI’ learning programs. To ensure effective leadership across \\nthe company we offer a portfolio of leadership development experiences designed for every level of \\nmanagement across all markets and functions. To optimize staffing levels and resource allocation (i.e., \\nhaving the right people with the right skillsets in the right roles at the right time), we adjust resource\\n \\nallocation where required to reflect developments in business performance, the economic environment, \\nand our company’s strategic priorities. Organizational transformations and reorganizations are supported \\nby change activations with our leadership teams and organizational design consultancy. We continuously \\ninvest in improving employer branding activities, and our global recruiting organization constantly \\nenhances our internal and external recruiting services and capabilities. Our global succession \\nmanagement helps create internal talent pipelines for critical leadership positions and therefore reduces \\nsuccession risk. \\nIT and cybersecurity risks \\nTheft, leakage, corruption, or unavailability of critical information (e.g., consumer data, employee data, \\nproduct data) and systems could lead to reputational damage, regulatory penalties, or the inability to \\nperform key business processes. Key business processes, including product marketing, order \\nmanagement, warehouse management, invoice processing, customer support, and financial reporting, are \\nall dependent on IT systems. Significant outages, application failures, or cybersecurity threats to our \\ninfrastructure, or that of our business partners, could therefore result in reputational damage, regulatory \\npenalties, or cause considerable business disruption or impact to business-critical data. \\nTo mitigate these risks, our Information Security organization proactively drives system preventive \\nmaintenance, service continuity planning, adherence to Information Security policies (aligned with the \\nNIST 800-53 framework), and continuous execution of a comprehensive information security program \\naligned with a zero-trust strategy. Information security architecture design, application security, \\ngovernance, data security, employee awareness programs, and a 24x7 incident response help us to \\nadequately protect the company. We have also secured limited insurance coverage for damage resulting \\nfrom cybersecurity incidents. \\nRisks related to media and stakeholder activities \\nAdverse or inaccurate media coverage on our products or business practices (including topics related to \\nsocial, environmental, and governance) as well as negative social media discussion may significantly harm \\nadidas’ reputation and brand image, lead to public misperception of the company’s business performance \\nand eventually result in a sales slowdown. Similarly, certain activities on the part of key stakeholders (e.g., \\nnon-governmental organizations, governmental institutions) could cause reputational damage, distract top \\nmanagement, and disrupt business activities. Despite the termination of the adidas Yeezy partnership in \\n2022, due to its former size and relevance, related stakeholder reactions and negative media coverage \\ncould still be possible.  \\nTo mitigate these risks, we pursue proactive, open communication and engagement with key stakeholders \\n(e.g., consumers, media, the financial community, non-governmental organizations, governmental \\ninstitutions) on a continuous basis. In addition, we have established clear crisis communication processes \\nto ensure a quick and effective response to adverse developments. We have also strengthened social \\nmedia capabilities and created various digital newsrooms around the globe that enable continuous \\nmonitoring of social media content related to the company’s products and activities and allow early \\nmanagement of potentially damaging social media discussion. On a case-by-case basis, we seek external \\nadvice from experts in communication and stakeholder management. \\nBusiness partner risks \\nadidas interacts and enters into partnerships with various third parties, such as athletes, creative \\npartners, innovation partners, retail partners, or suppliers of goods or services. As a result, the company \\nis exposed to a multitude of business partner risks. \\nWe work with strategic partners in various areas of our business (e.g., product creation, manufacturing, \\nresearch, and development) or distributors in a few selected markets whose approach might differ from\\n \\nour own business practices and standards, which could also negatively impact the company’s business \\nperformance and reputation. Similarly, failure to maintain strong relationships with our partners could \\nnegatively impact the company’s sales and profitability. Risks may also arise from a dependency on \\nparticular partners. For example, the overdependency on a supplier or customer increases the company’s \\nvulnerability to delivery and sales shortfalls, respectively, and could lead to significant margin pressure. \\nBusiness partner default (including insolvency) or other disruptive events such as strikes may negatively \\naffect the company’s business activities and result in additional costs and liabilities as well as lower sales \\nfor the company. Unethical business practices or improper behavior on the part of business partners could \\nhave a negative spillover effect on the company’s reputation, lead to higher costs or liabilities or even \\ndisrupt business activities.  \\nTo mitigate business partner risks, adidas has implemented various measures. For example, we generally \\ninclude clauses in contractual agreements with partners that allow us to suspend or even terminate our \\npartnership in case of improper or unethical conduct. In addition, we work with a broad portfolio of \\npromotion partners to reduce the dependency on the success and popularity of a few individual partners. \\nWe utilize a broad distribution strategy, which includes further expansion of our direct-to-consumer \\nbusiness to reduce the risk of overreliance on key customers. Specifically, no single customer accounted \\nfor more than 5% of the company’s sales in 2023. To reduce risk in the supply chain, we work with \\nsuppliers who demonstrate reliability, quality, and innovation. Furthermore, in order to minimize any \\npotential negative consequences such as a violation of our Workplace Standards by our suppliers, we \\nenforce strict control and inspection procedures at our suppliers and also demand adherence to social and \\nenvironmental standards throughout our supply chain. In addition, we have selectively bought insurance \\ncoverage for the risk of business interruptions caused by physical damage to suppliers’ premises. To \\nreduce supplier dependency, the company follows a strategy of diversification. In this context, adidas \\nworks with a broad network of suppliers in different countries and, for the vast majority of its products, \\ndoes not have a single-sourcing model. \\nCompliance risks \\nAs a globally operating company, adidas is subject to various laws and regulations. Non-compliance with \\nsuch laws and regulations could lead to penalties and fines and cause reputational damage. For example, \\nnon-compliance with laws and regulations concerning data protection and privacy, such as the EU General \\nData Protection Regulation (GDPR), may result in substantial fines. In addition, publication of failure to \\ncomply with data protection and privacy regulations could cause reputational damage and result in a loss \\nof consumer trust in our brands. We also face the risk that members of top management as well as our \\nemployees breach rules and standards that guide appropriate and responsible business behavior. This \\nincludes the risks of fraud, financial misstatements or manipulation, anti-competitive business practices, \\nbribery, corruption, discrimination, and harassment in the workplace. \\nOur Compliance Management System (CMS) helps us to prevent, detect, and adequately respond to these \\nrisks. Our Global Policy Manual provides a framework for basic work procedures and processes, and our \\nFair Play Code of Conduct stipulates that every employee and our business partners shall act ethically in \\ncompliance with the laws and regulations of the legal systems where they conduct company business. In \\naddition, our Regional Compliance Managers and Local Compliance Officers guide and advise our \\noperating managers regarding fraud and corruption topics. Furthermore, we utilize controls such as \\nsegregation of duties in IT systems and data analytics technology to prevent or detect fraudulent activities. \\nWe are also working with external partners and law firms to ensure we are informed about legal \\nrequirements across the globe, and we take appropriate action to ensure compliance. To mitigate the risk \\nof non-compliance with laws and regulations concerning data protection and privacy, we developed a \\nglobal privacy management framework that introduces the company’s privacy principles and provides \\nguidance for the use and deletion of personal information. This framework applies to all adidas businesses \\nworldwide and also sets our expectations of third-party business partners for managing personal\\n \\ninformation for or on behalf of adidas. Our Global Privacy Officer and the Global Privacy department drive \\nthe operational establishment of the framework and monitoring capabilities to track and report its \\nimplementation. During the implementation, they are continuously providing further implementation \\nguidance and training. \\nHazard risks \\nAs climate change intensifies, the likelihood and intensity of natural disasters such as storms, floods, \\ndroughts, pandemics, or heat waves increases, and so does adidas’ potential risk. In addition, our business \\nactivities could be impacted by port congestions, strikes, riots, armed conflicts, or terrorist attacks. All of \\nthe above could damage our offices, stores, or distribution centers or disrupt our operational processes \\n(e.g., sourcing, logistics) leading to loss of sales, higher cost, and a decrease in profitability. \\nTo manage and mitigate these risks, we continuously monitor potential threats and have implemented \\nbusiness continuity plans including but not limited to fallback solutions for transportation, dynamic \\ncapacity management of containers and carriers, and reallocation of production. We also maintain high \\nsafety standards in all our locations and have secured insurance coverage for property damage and \\nbusiness interruptions.  \\nLitigation risks \\nadidas may be involved in legal disputes and proceedings in different jurisdictions. For example, despite a \\nrigid internal clearance process, legal steps may be taken against adidas due to the company’s use of \\ncertain technologies or trademarks that are protected by a third party’s intellectual property rights. These \\nactions may result in, among others, the company having to stop using certain technologies or designs, \\nimposed royalty payment obligations, the withdrawal of products from certain markets, legal costs, \\nor reputational damage. In particular, in commercial disputes involving the company, third parties may \\nalso claim financial damages, including lost profits, as a result of an alleged breach of contract by the \\ncompany. \\nOur Legal team actively defends adidas’ intellectual property rights and regularly communicates with all \\nrelevant internal business partners to ensure that our products, including our designs and other \\ninnovations, are cleared and adequately protected prior to use. We retain specialized external counsel (and \\nother advisors, if needed) in case legal action is taken against the company. \\nProject risks \\nTo effectively support further business growth and improve efficiency, adidas continuously invests in new \\nprojects such as the creation, implementation, expansion, harmonization, or modernization of IT systems, \\ndistribution centers, or office buildings. Ineffective project management could delay the execution of \\ncritical projects and lead to higher expenditures. Inadequate project planning and controlling as well as \\nexecutional mistakes or ineffective change management could cause inefficiencies, delays, or business \\ndisruption, resulting in higher costs and sales shortfalls. Inappropriate project governance, prioritization, \\nand oversight of the project portfolio may lead to suboptimal resource allocation and undesired project \\nresults.  \\nWe manage projects utilizing reviews by project teams as well as project steering committees to evaluate \\nthe progress, quality, and costs of those projects on a regular basis. This approach allows early detection \\nof project risks and quick implementation of corrective action or timely cancelation of projects with a low \\nchance of success. To ensure true end-to-end management of key projects we have established a network \\nof program and project management departments across all main functions (i.e., Sales, Marketing, \\nOperations, Finance, IT, and Human Resources). We also work with external partners for project \\nmanagement support in areas where we do not have the required expertise or experience in-house.\\n \\nIllustration of Opportunities \\nIn this report, we illustrate financial and non-financial opportunities considered most relevant in 2024 and \\nbeyond. According to our assessment methodology, opportunities related to existing Yeezy inventory; \\nopportunities related to consumer demand and product offering; macroeconomic, sociopolitical, \\nregulatory, and currency opportunities; opportunities related to order and supply management; \\nopportunities related to the distribution strategy; and personnel opportunities are considered major. The \\nassessment is illustrated in the corporate opportunities overview table.\\u202f \\nCorporate opportunities overview    \\n         \\nOpportunity categories  Potential impact  \\nChange \\n(2022 rating)  Likelihood  \\nChange \\n(2022 rating) \\nOpportunities related to existing Yeezy inventory   Significant    30% – 50%  ↑ (15% – 30%) \\nOpportunities related to consumer demand and product offering   Significant    30% – 50%  ↑ (15% – 30%) \\nMacroeconomic, sociopolitical, regulatory, and currency \\nopportunities  Significant  ↑(High)  30% – 50%  ↑ (15% – 30%) \\nOpportunities related to order and supply management  Significant    15% – 30%  ↓ (30% – 50%) \\nOpportunities related to the distribution strategy   Significant    15% – 30%  ↓ (30% – 50%) \\nPersonnel opportunities  High  ↑(Medium)  15% – 30%   \\nOpportunities related to product engineering and manufacturing \\nprocesses  Significant    < 15%  ↓ (30% – 50%) \\nLitigation opportunities  Medium  not reported in \\n2022  30% – 50%  not reported in \\n2022 \\nOpportunities related to tax and customs regulations   Medium  ↓ (Significant)  15% – 30%  ↓ (50% – 85%) \\n \\nOpportunities related to existing Yeezy inventory \\nThe full-year 2024 guidance as outlined in this Annual Report assumes that adidas will sell the remaining \\nYeezy inventory at cost. In the event of a better-than-anticipated sale of the existing product, the \\ncompany’s top- and bottom-line development could be positively impacted by higher-than-planned sales \\nand margins. \\nOpportunities related to consumer demand and product offering \\nWell-executed campaigns and marketing initiatives could increase brand desire and consumer appeal, \\nwhich may drive full-price sell-through and result in higher-than-expected sales and profit. In addition, \\noutstanding competitive performance of promotion partners such as individual athletes, club teams, or \\nnational teams may further increase their popularity among consumers. As a result, adidas may generate \\nhigher sales of signature footwear or licensed apparel and accessories. We believe that our continued \\nfocus on product innovation and the ability to fully commercialize such innovation through an attractive \\nproduct offering that resonates with consumers and considers global as well as local trends could provide \\nfurther upside potential both in terms of sales and profit. In that respect, we see untapped potential \\nparticularly for our Lifestyle key franchises as well as our basketball, running, and training business.   \\nMacroeconomic, sociopolitical, regulatory, and currency opportunities \\nPositive macroeconomic developments could strengthen consumer sentiment and purchasing power, for \\nexample, if inflation rates declined at a faster pace than anticipated. Favorable exchange rate \\ndevelopments can potentially have a positive impact on the company’s financial results. Translation effects \\nfrom the conversion of non-euro-denominated results into our company’s functional currency, the euro, \\nmight also positively impact our company’s financial performance. Legislative and regulatory changes \\nsuch as the elimination of trade barriers due to free trade agreements can create cost savings or \\npotentially open up new channels of distribution and, as a result, positively impact profitability in the mid- \\nto long term.\\n \\nOpportunities related to order and supply management \\nThe introduction of a more flexible order management, supported by our continued investment in our IT \\nsystems, could effectively reduce inventory risk and drive incremental net sales and higher margins. This \\ncould be achieved by reducing initial order sizes while ensuring continuous reproduction and \\nreplenishment of products. In this context, data and analytics play a crucial role in enabling fact-based \\ndecision-making. Therefore, we have a dedicated Data and Analytics team to support business decision-\\nmaking by leveraging the power of data. Expanded nearshoring capabilities could further reduce lead \\ntimes to ensure that product demand can be fulfilled at all times and to respond more quickly to the latest \\ntrends in our industry. \\nOpportunities related to the distribution strategy \\nOur wholesale channel, where we clearly focus on partners that provide consumers with the best shopping \\nexperience and customer service, could generate higher-than-expected sales and profit. In addition, \\norganic growth of our business in Latin America, Asia-Pacific, and Emerging Markets could provide further \\nupside potential in terms of sales and profit. \\nPersonnel opportunities  \\nCreating and managing a performance-oriented culture that fosters ‘Diversity, Equity, and Inclusion’ as \\nwell as leadership accountability and clear values in the workplace could lead to increased diversity of \\nthought, increased creativity and innovation, and higher employee satisfaction and engagement. This may \\npositively impact the company’s financial performance. A workforce that includes diverse talent and \\nreflects the diversity of our customers and consumers helps us better serve the communities we work in \\nand strengthens brand reputation among our consumers, which could potentially create a competitive \\nadvantage and positively impact top- and bottom-line performance.  \\nOpportunities related to product engineering and manufacturing processes \\nWe constantly monitor which of our product features are perceived as most relevant by our consumers. \\nAccording to this, a further optimization of our product design could result in higher net sales and margins \\nby consistently focusing on product features that add the most value to our consumers, while increasing \\nthe cost efficiency of less relevant components or reducing complexity in product design. By working \\nclosely with our suppliers, we also see respective potential for more efficient manufacturing processes. \\nLitigation opportunities \\nOur Legal department is constantly monitoring the market for potential infringements of our own rights by \\nthird parties, e.g., related to trademarks, patents, or other intellectual property rights. In the event that a \\nthird party breaches our contracts or infringes our rights, we try to enforce and protect our legal positions \\nand, to the extent required, retain specialized external counsel. This may result in, among others, the \\ncompany demanding contractual penalties or other financial damages payments from third parties.  \\nOpportunities related to tax and customs regulations \\nThe potential release of valuation allowances on deferred tax assets or the release of tax risk reserves \\n(e.g., relating to transactions or internal reorganizations in prior years) could positively impact income tax \\nexpense. In addition, changes in local tax regulations may offer the company the option to realize benefits \\nthat could result in a reduction of tax expenses and higher net income. Furthermore, we see potential in \\nreducing the total amount of customs duties in the long term by increasing our sourcing from \\nmanufacturing partners in countries with more favorable customs treaties.\\n \\nIllustration of climate-related risks and opportunities   \\nIn 2023, we evolved our climate risk and opportunity assessment by using climate scenario analysis as \\nwell as different time horizons which include short-, medium-, and long-term (up to 2050) timeframes. \\nClimate scenario analysis confirmed our previous findings that the overall global greenhouse gas emission \\nlevels will be an important factor influencing the magnitude of risks and opportunities. Moreover, these \\nrisks and opportunities will gain relevance for our business, especially in the medium to long term.   \\nWe have categorized climate-related risks and opportunities following the ‘Task Force on Climate-Related \\nFinancial Disclosures’ (‘TCFD’) framework. Given the different time horizons and complexity of climate-\\nrelated risks and opportunities, the overview is presented separately from the illustration of risks and \\nopportunities in this Risk and Opportunity Report.\\u202fWe do not expect this to result in any additional major \\nrisks and opportunities for the forecast for the 2024 fiscal year compared to the explanations given in the \\nRisk and Opportunity Report. \\nPhysical risks  \\n─ Physical damage and business disruption in our own or our business partners’ properties: Extreme \\nweather events and changes in the overall weather patterns could increasingly lead to damages to \\nowned or business partners’ properties (such as office buildings, distribution centers, and retail \\nstores) and inventories, as well as business disruptions. In turn, these could result in lower revenues \\nand higher insurance and operating costs. \\n─ Changing cost and availability of materials: Changes in weather patterns could negatively affect \\navailability of materials, leading to higher operating costs.    \\n \\n─ Harm to and lower productivity of our own and business partners’ workforce and decreased \\nparticipation in sports: An increase in average temperatures and heat waves could lead to harm and \\nreduced productivity of our own and our business partners’ workforce. Changes in weather patterns \\ncould negatively influence consumers’ participation in sports, which could lead to decreased consumer \\ndemand.      \\n \\nTransition risks (policy and legal, technology, market and reputation risks)  \\n─ Energy- and carbon-related prices: Higher prices for energy as well as direct and indirect taxation \\nlinked to greenhouse gas emissions could negatively impact our business partners and lead to higher \\noperating costs.  \\n─ Exposure to carbon-related regulation and litigation: An increase in regulation (especially product-\\nrelated), could lead to increased reporting requirements, as well as the inability to market certain \\nproducts in specific markets. An increase in regulation could also lead to a higher exposure to \\nlitigation for non-compliance.   \\n─ Cost of low-carbon technologies: High costs for low-carbon technologies could impact our business \\npartners’ ability to lower their emissions, resulting in higher operating costs and potential non-\\ncompliance with regulation limiting greenhouse gas emissions.   \\n─ Stakeholder scrutiny: A change in stakeholders’ expectations could lead to reduced capital availability \\nand market valuation due to concerns about our resilience to climate change impacts.\\n \\nClimate-related opportunities  \\n─ Development of low-emission products and services: The development of low-emission products and \\nservices could address specific consumer preferences and lead to a competitive advantage and \\nincreased consumer demand.\\u202f  \\n─ Resource efficiency and increased use of renewable energy sources: The development and use of \\nmore efficient production and distribution processes, as well as the increased share of renewable \\nenergy (mainly by our business partners), could lead to lower greenhouse gas emissions and improved \\nclimate change resilience.  \\n─ Improved stakeholder perception: A strong environmental performance, with lower greenhouse gas \\nemissions and improved climate change resilience, could lead to increased capital availability (green \\nfinancing) and market evaluation, as well as increased employer attractiveness.\\n \\nManagement Assessment of Performance, Risks and \\nOpportunities, and Outlook \\nAssessment of performance versus targets \\nWe communicate our financial targets on an annual basis. We also provide updates throughout the year as \\nappropriate. In the transition year 2023, adidas made operational and financial progress and performed \\nsignificantly better than initially expected. The overall business environment continued to be characterized \\nby geopolitical tensions, macroeconomic challenges, and high inventory levels. As a result of our decisive \\nactions, we were able to significantly reduce inventory levels during the year. Our successful initiatives \\nincluded limiting the sell-in to the wholesale channel, which negatively impacted our top-line \\ndevelopment. At the same time, the underlying business performed above our expectations. In addition, \\nthe company also benefited from the sale of parts of the remaining Yeezy inventory. Consequently, we \\nwere able to upgrade our guidance twice in the course of the year. Ultimately, our 2023 financial results \\nsignificantly exceeded our latest guidance from October on both the top and bottom line. \\n► SEE\\u202fECONOMIC \\u202fAND\\u202fSECTOR\\u202fDEVELOPMENT  \\nCompany targets versus actual key metrics    \\n             \\n  \\n2022 \\nResults  \\n2023 \\nInitial targets1  \\n2023 \\nUpdated targets2  \\n2023 \\nLatest targets3  \\n2023 \\nResults  \\n2024 \\nOutlook \\nCurrency-neutral \\nnet sales development  1%  \\nto decline at a \\nhigh-single-digit \\nrate \\n \\nto decline at a \\nmid-single-digit \\nrate \\n \\nto decline at a \\nlow-single-digit \\nrate \\n 0%  \\nto increase at a \\nmid-single-digit \\nrate \\nOperating margin/ \\noperating profit/loss  3.0%  operating loss of \\n€ 700 million  operating loss of \\n€ 450 million  operating loss of \\n€ 100 million  operating profit of \\n€ 268 million  \\noperating profit of \\naround \\n€ 500 million \\nAverage operating \\nworking capital \\nin % of net sales \\n 24.0%  \\nto reach a level of \\nbetween \\n25% and 26% \\n \\nto reach a level of \\nbetween \\n25% and 26% \\n \\nto reach a level of \\nbetween \\n25% and 26% \\n 25.7%  \\nto reach a level of \\nbetween \\n23% and 24% \\nCapital expenditure4  € 695 \\nmillion  \\nto reach a level of \\naround \\n€ 600 million \\n \\nto reach a level of \\naround \\n€ 600 million \\n \\nto reach a level of \\naround \\n€ 600 million \\n € 504 million  \\nto reach a level of \\naround \\n€ 600 million \\n             \\n1 As published on February 9, 2023. For average working capital and capital expenditure as of March 8, 2023. \\n2 As published on July 24, 2023. \\n3 As published on October 17, 2023. \\n4 Excluding acquisitions and leases. \\nIn 2023, revenues were flat on a currency-neutral basis. This was significantly better than our initial \\nexpectations (February 2023: high-single-digit decline) and also ahead of our latest guidance (October \\n2023: low-single-digit decline). The development reflects strong double-digit growth in Latin America. \\nRevenues in both Greater China and Asia-Pacific grew at high-single-digit rates. Currency-neutral sales in \\nEMEA were flat. North America recorded a double-digit decline as this market was particularly impacted \\nby the company’s conservative sell-in strategy to reduce high inventory levels. The discontinuation of the \\nYeezy business represented a drag of around € 500 million on the year-over-year comparison during 2023. \\nThe sale of parts of the remaining Yeezy product positively impacted net sales in the amount of around \\n€ 750 million. This compares to a total of more than € 1,200 million of Yeezy revenues in 2022. \\nOur operating profit reached € 268 million in 2023, ahead of our latest guidance, provided in October, of an \\noperating loss of € 100 million. Compared to our initial guidance provided at the beginning of 2023 \\n(operating loss of € 700 million), the reported operating profit of € 268 million is around € 1,000 million \\nhigher than initially expected. This outperformance was partly driven by a better operational business. In \\naddition, the company’s decision to only write off a small portion of its remaining Yeezy inventory and sell a \\nsignificant part of it in 2023 also drove the better-than-expected operating profit development last year. \\n► SEE\\u202fINCOME\\u202fSTATEMENT\\n \\nAverage operating working capital as a percentage of sales ended the year 2023 at 25.7%. This was in line \\nwith the guided level of between 25% and 26% and represents a year-over-year increase of 1.6 percentage \\npoints. This reflects the slight increase in average operating working capital against the backdrop of lower \\nnet sales in 2023 compared to 2022. Capital expenditure decreased 27% to € 504 million in 2023, below \\nour guidance of a level of around € 600 million. More than 75% of these investments were spent on \\ncontrolled space initiatives and IT activities. Controlled space initiatives comprise investments in new or \\nremodeled own retail or franchise stores as well as shop-in-shop presentations of our products in our \\ncustomers’ stores. ► SEE\\u202fSTATEMENT \\u202fOF\\u202fFINANCIAL \\u202fPOSITION \\u202fAND\\u202fSTATEMENT \\u202fOF\\u202fCASH\\u202fFLOWS  \\nBeyond our financial performance, we also actively monitor other KPIs. These other KPIs include, among \\nothers, ⌐ our sustainable article offering and the share of women in management positions. In 2023, with \\nalmost eight out of ten of our articles being sustainable, meaning that they are – to a significant degree – \\nmade with environmentally preferred materials, we exceeded the planned annual milestone for 2023. With \\n40% female representation in management positions in 2023, we decided to establish a new goal and \\ncommitted to achieving a level of 50% by 2033 (previously: to increase to more than 40% by 2025). ¬ \\n► SEE\\u202fINTERNAL \\u202fMANAGEMENT \\u202fSYSTEM  \\nAssessment of overall risks and opportunities \\nOur Risk Management team aggregates all risks and opportunities identified through the half-yearly risk \\nand opportunity assessment process to determine the company’s risk and opportunity portfolio (i.e., the \\ncompany’s aggregated risk position). Results from this process are analyzed and reported to the Executive \\nBoard accordingly. The Executive Board discusses and assesses risks and opportunities on a regular basis \\nand takes into account the relationship between the risk and opportunity portfolio (i.e., the company’s \\naggregated risk position) and risk appetite as well as risk capacity in its decision-making. Compared to the \\nprior year, our assessment of certain risks and opportunities has changed in terms of likelihood of \\noccurrence and/or potential financial impact. Our risk and opportunity aggregation using a Monte Carlo \\nsimulation determined that the company’s aggregated risk position does not exceed the company’s risk \\ncapacity threshold with a likelihood of at least 99%. Therefore, we do not foresee any material jeopardy to \\nthe viability of the company as a going concern. ► SEE RISK AND OPPORTUNITY REPORT  \\nAssessment of financial outlook \\nIn 2024, we expect macroeconomic challenges and geopolitical tensions to persist. This may negatively \\naffect consumer sentiment and discretionary spending power. In North America, we will continue our \\ninitiatives to reduce high inventory levels, which will weigh on our sales and profitability during the first \\nhalf of the year. In addition, unfavorable currency effects are projected to adversely impact both reported \\nrevenues and the gross margin development in 2024. The assumed sale of the remaining Yeezy inventory \\nat cost with no operating profit contribution is also expected to weigh on the company’s operational and \\nfinancial performance versus the prior year. At the same time, the global sporting goods industry is set to \\nbenefit from major sports events in 2024.  \\nAgainst this backdrop, we plan to return to top-line growth by scaling successful franchises, introducing \\nnew ones, and leveraging our significantly better, broader, and deeper product range. Improved retailer \\nrelationships, more impactful marketing initiatives, and our activities around the major sports events will \\nalso contribute to the sales increase. As a result, we expect currency-neutral sales to grow at a mid-\\nsingle-digit rate in 2024. Our operating profit is currently expected to reach a level of around € 500 million\\n \\nin 2024. While we will continue to increase our marketing and sales investments, the top-line growth and \\nan improving gross margin are projected to drive the bottom-line development in 2024. ► SEE\\u202fOUTLOOK  \\nWe believe our outlook for 2024 realistically describes the underlying development of the company. \\nHowever, the outlook for 2024 as outlined in this report is subject to change. Ongoing uncertainties \\nregarding macroeconomic challenges, the impact from geopolitical conflicts, and the development of \\nconsumer sentiment as well as potential supply-chain disruptions represent risks to the achievement of \\nour stated financial goals and aspirations. No other material event between the end of 2023 and the \\npublication of this report has altered our view. ► SEE\\u202fOUTLOOK\", path=None, url=None, mimetype=None),\n",
                            " 'image_resource': None,\n",
                            " 'audio_resource': None,\n",
                            " 'video_resource': None,\n",
                            " 'text_template': '{metadata_str}\\n\\n{content}'}"
                        ]
                    },
                    "execution_count": 9,
                    "metadata": {},
                    "output_type": "execute_result"
                }
            ],
            "source": [
                "vars(report)"
            ]
        },
        {
            "cell_type": "markdown",
            "metadata": {
                "slideshow": {
                    "slide_type": "subslide"
                }
            },
            "source": [
                "#### <a id='toc4_1_2_'></a> Chunk documents"
            ]
        },
        {
            "cell_type": "markdown",
            "metadata": {
                "editable": true,
                "slideshow": {
                    "slide_type": "fragment"
                },
                "tags": []
            },
            "source": [
                "In RAG systems, chunking is the process of **dividing a large document into smaller, manageable pieces** or \"chunks\" for easier storage and processing. These chunks are indexed and utilized during the retrieval phase to supply relevant information to the LLM, enhancing its performance and contextual understanding."
            ]
        },
        {
            "cell_type": "markdown",
            "metadata": {
                "editable": true,
                "slideshow": {
                    "slide_type": "subslide"
                },
                "tags": []
            },
            "source": [
                "Chunking is essential in RAG for several reasons:"
            ]
        },
        {
            "cell_type": "markdown",
            "metadata": {
                "editable": true,
                "slideshow": {
                    "slide_type": "fragment"
                },
                "tags": []
            },
            "source": [
                "- **Efficient Retrieval**: By dividing large documents into smaller chunks, the system can quickly identify and retrieve only the most relevant pieces of information, rather than processing an entire document."
            ]
        },
        {
            "cell_type": "markdown",
            "metadata": {
                "editable": true,
                "slideshow": {
                    "slide_type": "fragment"
                },
                "tags": []
            },
            "source": [
                "- **Improved Accuracy**: Smaller chunks help preserve context and ensure that the retrieved information is more focused and relevant to the user's query. This reduces the risk of irrelevant or inaccurate responses."
            ]
        },
        {
            "cell_type": "markdown",
            "metadata": {
                "editable": true,
                "slideshow": {
                    "slide_type": "fragment"
                },
                "tags": []
            },
            "source": [
                "- **Token Limits**: LLMs have a maximum number of tokens that they can process at one time when generating responses. This is referred to as the model's **context window size**. Chunking documents into smaller parts allows to respect this context window size."
            ]
        },
        {
            "cell_type": "markdown",
            "metadata": {
                "editable": true,
                "slideshow": {
                    "slide_type": "subslide"
                },
                "tags": []
            },
            "source": [
                "We use the `SentenceSplitter` class which splits the document into chunks with a preference for complete sentences. "
            ]
        },
        {
            "cell_type": "code",
            "execution_count": 10,
            "metadata": {
                "editable": true,
                "slideshow": {
                    "slide_type": "fragment"
                },
                "tags": []
            },
            "outputs": [],
            "source": [
                "from llama_index.core.node_parser import SentenceSplitter\n",
                "\n",
                "splitter = SentenceSplitter(\n",
                "    chunk_size=256, \n",
                "    chunk_overlap=20)\n",
                "\n",
                "chunks = splitter.get_nodes_from_documents([report])"
            ]
        },
        {
            "cell_type": "code",
            "execution_count": 11,
            "metadata": {
                "editable": true,
                "slideshow": {
                    "slide_type": "fragment"
                },
                "tags": []
            },
            "outputs": [
                {
                    "data": {
                        "text/plain": [
                            "67"
                        ]
                    },
                    "execution_count": 11,
                    "metadata": {},
                    "output_type": "execute_result"
                }
            ],
            "source": [
                "len(chunks)"
            ]
        },
        {
            "cell_type": "markdown",
            "metadata": {
                "editable": true,
                "slideshow": {
                    "slide_type": "fragment"
                },
                "tags": []
            },
            "source": [
                "The annual report has been split into 67 chunks whereas each chunk has at most 256 tokens."
            ]
        },
        {
            "cell_type": "code",
            "execution_count": null,
            "metadata": {},
            "outputs": [
                {
                    "name": "stdout",
                    "output_type": "stream",
                    "text": [
                        "Node 0: Risk and Opportunity Report In order to remain competitive and ensure sustainable success, adidas consciously takes risks and continuously explores and develops opportunities. Our risk and opportuni ...\n",
                        "\n",
                        "Node 1: Risk and opportunity management system The Executive Board has overall responsibility for establishing a risk and opportunity management system that ensures comprehensive and consistent management o ...\n",
                        "\n",
                        "Node 2: Our risk and opportunity management system is based on frameworks for enterprise risk management and internal controls developed and published by the Committee of Sponsoring Organizations of the Tre ...\n",
                        "\n"
                    ]
                }
            ],
            "source": [
                "for index, node in enumerate(chunks[:3]):\n",
                "    print(f\"Node {index}: {re.sub(\"\\n\", \"\", node.text[:200])} ...\\n\")"
            ]
        },
        {
            "cell_type": "markdown",
            "metadata": {
                "slideshow": {
                    "slide_type": "subslide"
                }
            },
            "source": [
                "#### <a id='toc4_1_3_'></a> Vectorize chunks"
            ]
        },
        {
            "cell_type": "markdown",
            "metadata": {
                "editable": true,
                "slideshow": {
                    "slide_type": "fragment"
                },
                "tags": []
            },
            "source": [
                "Once the documents have been chunked into smaller subsets, the next step is to convert them into vector representations."
            ]
        },
        {
            "cell_type": "markdown",
            "metadata": {
                "slideshow": {
                    "slide_type": "subslide"
                }
            },
            "source": [
                "We utilize the **sentence-transformer as** the **embedding model** for vectorizing the chunks of the annual reports. The version we are using has a context window size of 256 tokens, which aligns with the token size of the chunks created earlier, and it is hosted on [HuggingFace](https://huggingface.co/sentence-transformers/all-MiniLM-L6-v2), where we leverage their free inference API."
            ]
        },
        {
            "cell_type": "code",
            "execution_count": 13,
            "metadata": {
                "editable": true,
                "slideshow": {
                    "slide_type": "fragment"
                },
                "tags": []
            },
            "outputs": [],
            "source": [
                "from langchain_huggingface import HuggingFaceEndpointEmbeddings\n",
                "\n",
                "embed_model = HuggingFaceEndpointEmbeddings(\n",
                "    model=\"sentence-transformers/all-MiniLM-L6-v2\",\n",
                "    huggingfacehub_api_token=huggingface_api_key,\n",
                ")"
            ]
        },
        {
            "cell_type": "code",
            "execution_count": 14,
            "metadata": {
                "editable": true,
                "slideshow": {
                    "slide_type": "fragment"
                },
                "tags": []
            },
            "outputs": [],
            "source": [
                "embedding = embed_model.embed_documents(texts=[chunks[0].text])"
            ]
        },
        {
            "cell_type": "code",
            "execution_count": 15,
            "metadata": {
                "editable": true,
                "slideshow": {
                    "slide_type": "fragment"
                },
                "tags": []
            },
            "outputs": [
                {
                    "data": {
                        "text/plain": [
                            "384"
                        ]
                    },
                    "execution_count": 15,
                    "metadata": {},
                    "output_type": "execute_result"
                }
            ],
            "source": [
                "len(embedding[0])"
            ]
        },
        {
            "cell_type": "markdown",
            "metadata": {
                "editable": true,
                "slideshow": {
                    "slide_type": "fragment"
                },
                "tags": []
            },
            "source": [
                "The embedding model translates the text into a 1x384 vector."
            ]
        },
        {
            "cell_type": "markdown",
            "metadata": {
                "editable": true,
                "slideshow": {
                    "slide_type": "subslide"
                },
                "tags": []
            },
            "source": [
                "Typically, embeddings are organized within an **index optimized for similarity search**, and we use [Faiss](https://faiss.ai/index.html), a library developed by Meta AI, for efficient similarity search and clustering of dense vectors, particularly suited for large datasets and high-dimensional vectors. During query time, Faiss retrieves the top k embeddings along with the corresponding text chunks, providing context information for the LLM to accurately respond to user queries."
            ]
        },
        {
            "cell_type": "markdown",
            "metadata": {
                "editable": true,
                "slideshow": {
                    "slide_type": "subslide"
                },
                "tags": []
            },
            "source": [
                "We set up a `IndexFlatL2` which means the index stores the full vectors (i.e. without compressing or clustering the index) and performs exhaustive search using Euclidean distance (L2). We save the generated Faiss index in memory using `InMemoryDocstore`."
            ]
        },
        {
            "cell_type": "code",
            "execution_count": 16,
            "metadata": {
                "editable": true,
                "slideshow": {
                    "slide_type": "fragment"
                },
                "tags": []
            },
            "outputs": [],
            "source": [
                "import faiss\n",
                "from langchain_community.docstore.in_memory import InMemoryDocstore\n",
                "from langchain_community.vectorstores import FAISS\n",
                "from util import convert_llama_to_langchain\n",
                "\n",
                "index = faiss.IndexFlatL2(len(embed_model.embed_query(\"hello world\")))\n",
                "\n",
                "vector_store = FAISS(\n",
                "    embedding_function=embed_model,\n",
                "    index=index,\n",
                "    docstore=InMemoryDocstore(),\n",
                "    index_to_docstore_id={},\n",
                ")"
            ]
        },
        {
            "cell_type": "code",
            "execution_count": 17,
            "metadata": {
                "editable": true,
                "slideshow": {
                    "slide_type": "fragment"
                },
                "tags": [
                    "remove_output"
                ]
            },
            "outputs": [
                {
                    "data": {
                        "text/plain": [
                            "['423ba2f2-c1d1-4c65-81a3-c4aca42871bd',\n",
                            " 'fe0b4f4a-29de-4079-89ae-2ffa02461286',\n",
                            " '53ab2346-a956-4fc6-98c0-ff369c648930',\n",
                            " 'e94e88dd-1294-41e6-a893-196c585798df',\n",
                            " '8aa4b7c6-8c5c-464d-b40c-8b6cb1273b0b',\n",
                            " 'af0eb35b-880f-475f-b011-8480fdcecdfe',\n",
                            " 'fd4f6598-130f-40bb-b8e5-80d5e8c58fa0',\n",
                            " 'bc3dfbdd-f63c-45af-8fc0-8307f01a621f',\n",
                            " '7fbf3e41-64b5-486c-b88f-8a0c1713bc73',\n",
                            " '9903525e-8663-445d-a544-c66b8bc70a48',\n",
                            " '75657326-a41e-40e9-8f96-e3e6964133b9',\n",
                            " '047268ea-6f33-42ab-af2b-2d96606700a8',\n",
                            " 'caa18e0f-75e5-4968-b176-64399655d022',\n",
                            " '92f114ae-6a33-4b66-9c7b-4306a2208b7e',\n",
                            " 'a411be4e-cbf0-438e-9361-ddbae7224725',\n",
                            " '6208eb3f-c739-41a1-9ee6-d6a775e9670d',\n",
                            " '44b0dd7e-7a4c-4288-b019-c23515d8f4c1',\n",
                            " '06af4606-7140-4d36-96d6-ccfa41c4e7c5',\n",
                            " 'b4b7ba02-b799-4360-ac47-5f9952623a6a',\n",
                            " '805eb100-b468-4a8f-a4c3-711dbce0d14a',\n",
                            " 'bf1c674a-7cc6-48f3-b294-a11334ed2c46',\n",
                            " 'a8bd3f64-de63-41c8-86e9-11657698d37b',\n",
                            " '321e2b4c-7a3e-4b0b-84d6-7f53c1ab0c9b',\n",
                            " 'bf2d301b-ecaa-4224-8abb-f27d8ef56577',\n",
                            " '58db1f03-0ff9-4934-8001-93a91be5873b',\n",
                            " '64d28a9c-6455-4b32-85b4-72ac8868a4e7',\n",
                            " '6f48aca5-3e8f-41e2-9442-c70d3478ab57',\n",
                            " 'e988e2af-7991-47ab-9dcc-5634ebe336bb',\n",
                            " 'c9854a7a-dfcb-49f6-8356-461a7b250f59',\n",
                            " '52cfc37a-9ae2-4988-9c43-0bb4994b1d0d',\n",
                            " '00fe9279-29dc-4149-9840-46e816c46666',\n",
                            " 'c0d89cc8-c281-498e-aa6f-b9a301170407',\n",
                            " '3149ea2d-e4f2-4809-808f-54c8bbc276fb',\n",
                            " '11e754fc-a84b-4227-b81f-5791ada765e7',\n",
                            " '39cc3c86-6aa8-4cdf-9766-a4c6629db31c',\n",
                            " '7f1ba7e9-6eb9-4927-a414-9f341e01581f',\n",
                            " 'f81a0e59-5fb0-425b-a826-876790ac577c',\n",
                            " 'f6ff4988-5d3a-4112-b652-af8a0ce44a42',\n",
                            " 'e445a394-8dec-4f71-a3e7-96396382b01d',\n",
                            " '2be572eb-8c71-4296-bd4e-980afaf9f48d',\n",
                            " '2f6048ef-0691-4ed8-b82f-e6d9bd38c4bb',\n",
                            " '7d84915e-9bcb-4a7f-9709-0f5d69dcd7ba',\n",
                            " '7f4c2ffc-adcd-4403-a683-6425a05662f1',\n",
                            " 'f227fe43-e408-4b86-b9ac-e3ea242022a4',\n",
                            " '192adb2a-4ecc-4e72-a2c7-f4b497c04c4c',\n",
                            " 'c0a57a70-4c64-4d7e-85e8-be4e72cc0469',\n",
                            " '82eaaca7-55b0-48b2-b79a-36e484151109',\n",
                            " '3015a626-b5b7-4401-9d95-a745eae9c623',\n",
                            " '1e29834f-a61b-4a1b-b17a-a7f8a0f50c55',\n",
                            " 'e959e595-7e77-469c-b5aa-a6b9dea26bbf',\n",
                            " '803d2fb0-e40e-4b71-809f-2f623e6f99dd',\n",
                            " 'fb8b4fe7-20f7-454c-920f-66ac661128f0',\n",
                            " '13c4071c-1dd2-4e60-b807-3e7e5a5a840d',\n",
                            " '39652da1-0ccf-4f16-a10b-675bf2d54299',\n",
                            " 'c0fb45c3-af76-4d63-854d-b68eb39498eb',\n",
                            " '75e6c6ff-a0db-4d6e-b716-3d6d8afd8622',\n",
                            " '0dd2134d-59d7-4596-bad4-66f748266c59',\n",
                            " 'ac5c287c-f16a-433d-881d-4e0e783644e6',\n",
                            " '6e8e755a-a272-4a1d-b7e5-dff457b581fc',\n",
                            " '89b6a5ea-2037-4944-8c34-b96f730ceb1a',\n",
                            " '6df45cc6-7103-4776-a741-9bef211146c5',\n",
                            " 'f6cf823f-6c05-487f-a662-86866636ccce',\n",
                            " 'eb6911fc-7be0-4669-a572-21dc729f3832',\n",
                            " '61724792-53ee-4798-9481-c547d14c6ee8',\n",
                            " '4c9782a1-92e6-404e-8e32-68f2c1428567',\n",
                            " 'd99b78a9-fcd3-4dfa-907d-804d71a63182',\n",
                            " 'd13b71e8-2f47-4eae-9e28-7ff8e598a118']"
                        ]
                    },
                    "execution_count": 17,
                    "metadata": {},
                    "output_type": "execute_result"
                }
            ],
            "source": [
                "vector_store.add_documents(\n",
                "    documents=[convert_llama_to_langchain(chunk) for chunk in chunks])"
            ]
        },
        {
            "cell_type": "markdown",
            "metadata": {
                "editable": true,
                "slideshow": {
                    "slide_type": "subslide"
                },
                "tags": []
            },
            "source": [
                "We can now send a query to the vector store which retrieves the top k most relevant chunks from the index."
            ]
        },
        {
            "cell_type": "code",
            "execution_count": 18,
            "metadata": {
                "editable": true,
                "slideshow": {
                    "slide_type": "fragment"
                },
                "tags": []
            },
            "outputs": [],
            "source": [
                "context = vector_store.search(\n",
                "    query=\"What is Adidas doing to mitigate climate change related risks?\", \n",
                "    search_type=\"similarity\", \n",
                "    k=3)"
            ]
        },
        {
            "cell_type": "code",
            "execution_count": 25,
            "metadata": {
                "slideshow": {
                    "slide_type": "fragment"
                }
            },
            "outputs": [
                {
                    "name": "stdout",
                    "output_type": "stream",
                    "text": [
                        "Document 0: This framework applies to all adidas businesses worldwide and also sets our expectations of third-party business partners for managing personal information for or on behalf of adidas. Our Global Pr ...\n",
                        "\n",
                        "Document 1: To reduce supplier dependency, the company follows a strategy of diversification. In this context, adidas works with a broad network of suppliers in different countries and, for the vast majority of ...\n",
                        "\n",
                        "Document 2: Currency risks are a direct result of multi-currency cash flows within the company, in particular the mismatch of the currencies required for sourcing our products versus the denominations of our sa ...\n",
                        "\n"
                    ]
                }
            ],
            "source": [
                "for index, document in enumerate(context):\n",
                "    print(f\"Document {index}: {re.sub(\"\\n\", \"\", document.page_content[:200])} ...\\n\")"
            ]
        },
        {
            "cell_type": "markdown",
            "metadata": {
                "editable": true,
                "slideshow": {
                    "slide_type": "subslide"
                },
                "tags": []
            },
            "source": [
                "Now, we will apply the steps demonstrated above to the annual reports of all DAX 40 companies. This process will ensure that we efficiently extract and analyze the relevant information from each report."
            ]
        },
        {
            "cell_type": "code",
            "execution_count": null,
            "metadata": {
                "slideshow": {
                    "slide_type": "fragment"
                },
                "tags": [
                    "remove_output"
                ]
            },
            "outputs": [],
            "source": [
                "from util import parse_document, chunk_document, vectorize_chunks, pre_process_dict, convert_llama_to_langchain\n",
                "from tqdm.notebook import tqdm\n",
                "import asyncio\n",
                "import nest_asyncio\n",
                "nest_asyncio.apply()\n",
                "\n",
                "vector_store = None\n",
                "\n",
                "for report in tqdm(reports):\n",
                "    company = report.split('_')[0]\n",
                "    year = int(report.split('_')[1].split('.')[0])\n",
                "    document = parse_document(\n",
                "        f'data/raw/reports/{report}', \n",
                "        pre_process_dict.get(company), \n",
                "        company=company,\n",
                "        year=year)\n",
                "    chunks = chunk_document(document, chunk_size=256, chunk_overlap=20)\n",
                "    chunks = [convert_llama_to_langchain(chunk) for chunk in chunks]\n",
                "\n",
                "    # Check if vector_store exists; if not, create it\n",
                "    if vector_store is None:\n",
                "        vector_store = asyncio.run(vectorize_chunks(chunks, inference_api=False))\n",
                "        tqdm.write(f\"Vector store created for {company} {year}.\")\n",
                "\n",
                "    else:\n",
                "        # Add documents to the vector store\n",
                "        await vector_store.aadd_documents(chunks)\n",
                "        tqdm.write(f\"Vector store updated for {company} {year}.\")"
            ]
        },
        {
            "cell_type": "markdown",
            "metadata": {
                "editable": true,
                "slideshow": {
                    "slide_type": "skip"
                },
                "tags": []
            },
            "source": [
                "Let us have a quick look how many chunks have been vectorized for each DAX 40 company."
            ]
        },
        {
            "cell_type": "code",
            "execution_count": 37,
            "metadata": {
                "editable": true,
                "slideshow": {
                    "slide_type": "skip"
                },
                "tags": []
            },
            "outputs": [
                {
                    "data": {
                        "text/plain": [
                            "Counter({('heidelberg-materials', 2023): 2800,\n",
                            "         ('deutsche-bank', 2023): 2270,\n",
                            "         ('airbus', 2023): 1767,\n",
                            "         ('commerzbank', 2023): 1671,\n",
                            "         ('fresenius', 2023): 1610,\n",
                            "         ('volkswagen', 2023): 1577,\n",
                            "         ('deutsche-telekom', 2023): 1488,\n",
                            "         ('fresenius-medical-care', 2023): 1426,\n",
                            "         ('münchener-rück', 2023): 1376,\n",
                            "         ('eon', 2023): 1364,\n",
                            "         ('mercedes-benz', 2023): 1243,\n",
                            "         ('daimler-truck', 2023): 1223,\n",
                            "         ('vonovia', 2023): 1184,\n",
                            "         ('merck', 2023): 1183,\n",
                            "         ('brenntag', 2023): 1137,\n",
                            "         ('deutsche-boerse', 2023): 1137,\n",
                            "         ('rheinmetall', 2023): 1071,\n",
                            "         ('rwe', 2023): 1027,\n",
                            "         ('siemens', 2023): 964,\n",
                            "         ('siemens-energy', 2023): 960,\n",
                            "         ('continental', 2023): 959,\n",
                            "         ('porsche', 2023): 938,\n",
                            "         ('sap', 2023): 934,\n",
                            "         ('henkel', 2023): 925,\n",
                            "         ('qiagen', 2023): 876,\n",
                            "         ('zalando', 2023): 769,\n",
                            "         ('deutsche-post', 2023): 737,\n",
                            "         ('sartorium', 2023): 697,\n",
                            "         ('symrise', 2023): 653,\n",
                            "         ('infineon-technologies', 2023): 612,\n",
                            "         ('siemens-healthineers', 2023): 549,\n",
                            "         ('hannover-rück', 2023): 173,\n",
                            "         ('allianz', 2023): 101,\n",
                            "         ('adidas', 2023): 67,\n",
                            "         ('bayer', 2023): 66,\n",
                            "         ('bmw', 2023): 57,\n",
                            "         ('basf', 2023): 50,\n",
                            "         ('beiersdorf', 2023): 35,\n",
                            "         ('mtu', 2023): 1})"
                        ]
                    },
                    "execution_count": 37,
                    "metadata": {},
                    "output_type": "execute_result"
                }
            ],
            "source": [
                "from collections import Counter\n",
                "\n",
                "Counter([(doc.metadata['company'], doc.metadata['year']) for doc in vector_store.get_by_ids(vector_store.index_to_docstore_id.values())])"
            ]
        },
        {
            "cell_type": "markdown",
            "metadata": {
                "editable": true,
                "slideshow": {
                    "slide_type": "subslide"
                },
                "tags": []
            },
            "source": [
                "With the filter argument we can now reduce the search to a specific DAX 40 company or alternatively query the entire vector store without setting any metadata filter."
            ]
        },
        {
            "cell_type": "code",
            "execution_count": 38,
            "metadata": {
                "editable": true,
                "slideshow": {
                    "slide_type": "fragment"
                },
                "tags": [
                    "remove_output"
                ]
            },
            "outputs": [
                {
                    "data": {
                        "text/plain": [
                            "[(Document(id='98eaf969-33dd-4ac8-b975-662454b3b3ca', metadata={'company': 'bmw', 'year': 2023}, page_content='Moreover, oth er \\noverarching topics are monitored by means of regular media \\nanalysis. Any material reputational repercussions are described \\nin the section ↗ Material Short-Term Risks and Opportunities. \\nClimate-related risks \\nRisks associated with climate change are presented in the sec-\\ntion ↗ Climate-Related Risks and Opportunities. Climate-related risks are \\nevaluated as physical and transitory risks in accordance with the \\nrecommendations of the Task Force on Climate-related Finan-\\ncial Disclosures (TCFD). Transitory risks arise from the transition \\nto a low-carbon economy and are evaluated with the help of cli-\\nmate-related risk drivers and qualitative expert assessments. \\nPhysical risks arise due to climate change and are evaluated us-\\ning external data on potential natural hazards. Potential short -\\nterm impacts of climate change are already included in the short-\\nterm risks. All short-term risks are evaluated for their climate im-\\npact. If a risk is categorised as climate -relevant, the climate-re-\\nlated portion of the risk is determined.'),\n",
                            "  np.float32(0.6530639)),\n",
                            " (Document(id='56e22e0b-e192-42c8-a91d-b8dcb1ce3ad9', metadata={'company': 'bmw', 'year': 2023}, page_content='Regulatory re-\\nquirements introduced at short notice may enter into force, which \\ncould have an impact on products, production and supply chains. \\nIn the “Market and competition” risk dimension, risks may also \\nincrease due to higher demand and the resulting higher prices for \\nselect (scarce) raw materials on the one hand and due to rising \\nenergy prices on the other. \\nTransitory climate risks \\n \\nPhysical climate risks \\nIn addition to the transitory risks, the BMW Group also evaluates \\nphysical risks. In doing so, the increasing frequency and intensity \\nof acute extreme weather events, such as heatwaves, storms \\nand floods, are taken into account, along with longer-term \\nchanges such as in terms of temperature and rainfall. \\nIn order to measure such risks, we draw on external data that \\nevaluate the development of acute and persistent natural phe-\\nnomena across the global warming scenarios and across time. \\nFor the BMW Group, this may result in damage to assets such as \\nbuildings, vehicles or parts on the one hand, and on the other \\nhand, such events may lead to downtime at BMW Group sites or \\nat suppliers’ sites.'),\n",
                            "  np.float32(0.50436854))]"
                        ]
                    },
                    "execution_count": 38,
                    "metadata": {},
                    "output_type": "execute_result"
                }
            ],
            "source": [
                "# First filter by company, then conduct similarity search\n",
                "vector_store._similarity_search_with_relevance_scores(\n",
                "    query=\"climate related risk\",\n",
                "    filter={\"company\": \"bmw\"},\n",
                "    search_type=\"similarity_score_threshold\",\n",
                "    k=3)"
            ]
        },
        {
            "cell_type": "code",
            "execution_count": 39,
            "metadata": {
                "editable": true,
                "slideshow": {
                    "slide_type": "fragment"
                },
                "tags": [
                    "remove_output"
                ]
            },
            "outputs": [
                {
                    "data": {
                        "text/plain": [
                            "[(Document(id='98eaf969-33dd-4ac8-b975-662454b3b3ca', metadata={'company': 'bmw', 'year': 2023}, page_content='Moreover, oth er \\noverarching topics are monitored by means of regular media \\nanalysis. Any material reputational repercussions are described \\nin the section ↗ Material Short-Term Risks and Opportunities. \\nClimate-related risks \\nRisks associated with climate change are presented in the sec-\\ntion ↗ Climate-Related Risks and Opportunities. Climate-related risks are \\nevaluated as physical and transitory risks in accordance with the \\nrecommendations of the Task Force on Climate-related Finan-\\ncial Disclosures (TCFD). Transitory risks arise from the transition \\nto a low-carbon economy and are evaluated with the help of cli-\\nmate-related risk drivers and qualitative expert assessments. \\nPhysical risks arise due to climate change and are evaluated us-\\ning external data on potential natural hazards. Potential short -\\nterm impacts of climate change are already included in the short-\\nterm risks. All short-term risks are evaluated for their climate im-\\npact. If a risk is categorised as climate -relevant, the climate-re-\\nlated portion of the risk is determined.'),\n",
                            "  np.float32(0.6530639)),\n",
                            " (Document(id='5a3898bb-9112-484f-a265-63dc31079e52', metadata={'company': 'airbus', 'year': 2023}, page_content='In 2023 the Company invested more than €40\\xa0million in \\ncompanies and partnerships (e.g.  DG Fuel, JetZero, ZeroAvia \\nand Hy24) in order to foster the hydrogen and SAF ecosystem \\nreadiness.\\nAccording to the assessment performed for both acute and \\nchronic physical risk using the TCFD recommendations (e.g. \\nextreme temperatures, flood sea level rise or water stress), \\nmedium or high probability of these risks materialising is seen \\naround 2050 in the well below 2°C (WB2°C) scenario. In this \\nscenario societies gradually adopt practices to enable the \\nrequired levels of reduction of emissions, including increasing \\ninvestment in and development of technologies that could \\nreduce emissions of the transport sector and limit emissions \\ngrowth. For the comprehensive list of climate‑related risks \\nconsidered and a full description of the climate scenarios, \\nplease refer to the Risk Factors section in the “Report of the \\nBoard of Directors\\xa0– 4.6.4 Environment, human rights, health & \\nsafety risks\\xa0– Climate‑related risks”. Policies to decarbonise are \\nprogressively introduced.'),\n",
                            "  np.float32(0.59854174)),\n",
                            " (Document(id='7ac18c27-c542-4fb3-838a-7fca409a4126', metadata={'company': 'heidelberg-materials', 'year': 2023}, page_content='The modelling indicates that our risk exposure \\nwould\\u2003doub\\nle.\\u2003Sim\\nilar\\u2003de\\nvelopments\\u2003woul\\nd\\u2003als\\no\\u2003be\\u2003\\nfo\\nrecast for other chronic climate risks such as heat \\nstress and precipitation stress. According to the scen -\\narios, our locations in Asia and Africa in particular \\nwould\\u2003suffer\\u2003fr om\\u2003drou ght\\u2003and\\u2003he at\\u2003if\\u2003gre enhouse\\u2003ga s\\u2003\\ncon\\ncentrations\\u2003inc\\nrease,\\u2003wh\\nile\\u2003mor\\ne\\u2003nort\\nherly\\u2003re\\ngions,\\u2003\\nsu\\nch\\u2003as\\u2003No\\nrth\\u2003Am\\nerica\\u2003an\\nd\\u2003Eu\\nrope,\\u2003wo\\nuld\\u2003be\\u2003mo\\nre\\u2003se-\\nv\\nerely\\u2003a\\nffected\\u2003b\\ny\\u2003r\\nainfall\\u2003s\\ntress.'),\n",
                            "  np.float32(0.598245))]"
                        ]
                    },
                    "execution_count": 39,
                    "metadata": {},
                    "output_type": "execute_result"
                }
            ],
            "source": [
                "# Similarity search on the entire vector store\n",
                "vector_store._similarity_search_with_relevance_scores(\n",
                "    query=\"climate related risk\",\n",
                "    search_type=\"similarity_score_threshold\",\n",
                "    k=3)"
            ]
        },
        {
            "cell_type": "markdown",
            "metadata": {
                "editable": true,
                "slideshow": {
                    "slide_type": "skip"
                },
                "tags": []
            },
            "source": [
                "Ultimately, we store the vector store object to disk."
            ]
        },
        {
            "cell_type": "code",
            "execution_count": 7,
            "metadata": {
                "editable": true,
                "slideshow": {
                    "slide_type": "skip"
                },
                "tags": []
            },
            "outputs": [],
            "source": [
                "vector_store.save_local(\"studio/faiss_vector_store\")"
            ]
        },
        {
            "cell_type": "markdown",
            "metadata": {},
            "source": [
                "We have now developed the core element of the RAG part of our Risk Agent, i.e. the vector store holding context-aware vectors of the DAX 40 companies' annual reports. \n",
                "\n",
                "In the next section, we make use of the vector store by integrating it into an agentic workflow which is capable to decide whether to query the vector store or search on the web to provide a meaningful answer to any user query."
            ]
        },
        {
            "cell_type": "markdown",
            "metadata": {
                "slideshow": {
                    "slide_type": "subslide"
                }
            },
            "source": [
                "### <a id='toc4_2_'></a> Extend to a graph-based agent"
            ]
        },
        {
            "cell_type": "markdown",
            "metadata": {
                "editable": true,
                "slideshow": {
                    "slide_type": "fragment"
                },
                "tags": []
            },
            "source": [
                "A graph-based agent is a type of AI system that uses a **structured graph to decide how to handle user queries**. Think of the graph as a flowchart that connects different tools or actions the agent can take. Each **node** in the graph **represents a specific tool or function** (like searching a vector store or retrieving information from the web), and the **edges** between nodes **define how the agent decides which tool to use** based on the user's question."
            ]
        },
        {
            "cell_type": "markdown",
            "metadata": {
                "editable": true,
                "slideshow": {
                    "slide_type": "fragment"
                },
                "tags": []
            },
            "source": [
                "For example, if a user asks, \"What risks are DAX 40 companies facing related to cybersecurity?\", the graph-based agent will analyze the query and decide:\n",
                "1. Should it search the vector store, i.e. the annual reports, for relevant information?\n",
                "2. Or should it search the web for the latest cybersecurity risks if the vector store doesn't have enough context?\n",
                "\n",
                "The graph helps the agent orchestrate (or organize) the query and send it to the \"right\" tool to get the best answer."
            ]
        },
        {
            "cell_type": "markdown",
            "metadata": {
                "slideshow": {
                    "slide_type": "subslide"
                }
            },
            "source": [
                "We use [LangGraph](https://www.langchain.com/langgraph), a framework that helps you building graph-based agents. It allows you to define the structure of the graph and specify how the agent should behave when it receives a query.\n",
                "\n",
                "<img src=\"img/langgraph.svg\" alt=\"LangChain and LlamaIndex\" width=\"800\">\n",
                "<p><small>Image source: <a href=https://langchain-ai.github.io/langgraph/>Langchain AI</a></small></p>"
            ]
        },
        {
            "cell_type": "markdown",
            "metadata": {
                "slideshow": {
                    "slide_type": "fragment"
                }
            },
            "source": [
                " LangGraph makes it easier to:"
            ]
        },
        {
            "cell_type": "markdown",
            "metadata": {
                "editable": true,
                "slideshow": {
                    "slide_type": "fragment"
                },
                "tags": []
            },
            "source": [
                "- **Connect Tools**: You can connect your vector store, web search, or any other tools you want the agent to use."
            ]
        },
        {
            "cell_type": "markdown",
            "metadata": {
                "editable": true,
                "slideshow": {
                    "slide_type": "fragment"
                },
                "tags": []
            },
            "source": [
                "- **Define Logic**: You can define rules or logic for how the agent decides which tool to use. For example, if the query is about risks of a specific DAX 40 mentioned in annual reports, the agent should prioritize the vector store. If the query is about recent risks not covered in the reports, it should search the web."
            ]
        },
        {
            "cell_type": "markdown",
            "metadata": {
                "editable": true,
                "slideshow": {
                    "slide_type": "subslide"
                },
                "tags": []
            },
            "source": [
                "First, we load the required API keys: \n",
                "- HuggingFace for vectorizing the user query, \n",
                "- Tavily as web search tool,\n",
                "- and optionally OpenAI if you want to use a GPT model as LLM. \n",
                "\n",
                "If you do not want to use OpenAI's pay-as-you-go LLMs, the default will be Meta's open source and free of charge model Llama 3.1. Note however, that you need to have installed Ollama on your local machine to work with the free Llama models."
            ]
        },
        {
            "cell_type": "code",
            "execution_count": 1,
            "metadata": {
                "editable": true,
                "slideshow": {
                    "slide_type": "fragment"
                },
                "tags": []
            },
            "outputs": [],
            "source": [
                "import os\n",
                "from dotenv import load_dotenv\n",
                "\n",
                "# Load environment variables from .env file\n",
                "# load_dotenv()\n",
                "\n",
                "# Access the API keys\n",
                "huggingface_api_key = os.getenv(\"HUGGINGFACE_API_KEY\")\n",
                "tavily_api_key = os.getenv(\"TAVILY_API_KEY\")\n",
                "# Optional, if you want to experiment with OpenAI models\n",
                "openai_api_key = os.getenv(\"OPENAI_API_KEY\", None)"
            ]
        },
        {
            "cell_type": "markdown",
            "metadata": {
                "editable": true,
                "slideshow": {
                    "slide_type": "subslide"
                },
                "tags": []
            },
            "source": [
                "Next, we instantiate the LLM model via the custom function `get_llm_model`."
            ]
        },
        {
            "cell_type": "code",
            "execution_count": null,
            "metadata": {
                "slideshow": {
                    "slide_type": "fragment"
                }
            },
            "outputs": [],
            "source": [
                "# LLM\n",
                "from util import get_llm_model\n",
                "\n",
                "llm = get_llm_model(llm_type=\"ollama\", model_name=\"llama3.1:8b\")                                # If you want to experiment with OpenAI models change llm_type to \"openai\" and model_name to \"gpt-4o-mini\", for example."
            ]
        },
        {
            "cell_type": "markdown",
            "metadata": {
                "editable": true,
                "slideshow": {
                    "slide_type": "subslide"
                },
                "tags": []
            },
            "source": [
                "We can then invoke the LLM directly by sending a query to it. Note that the answer generated in this way is based on the LLMs knowledge gained during training. There is no additional context provided to the LLM which makes it likely that the generated answer contains hallucinations."
            ]
        },
        {
            "cell_type": "code",
            "execution_count": 3,
            "metadata": {
                "editable": true,
                "slideshow": {
                    "slide_type": "fragment"
                },
                "tags": []
            },
            "outputs": [],
            "source": [
                "answer = llm.invoke(\n",
                "    input=\"\"\"What is the impact of climate change on the \n",
                "    business model of Adidas?\"\"\")"
            ]
        },
        {
            "cell_type": "code",
            "execution_count": 4,
            "metadata": {
                "editable": true,
                "slideshow": {
                    "slide_type": "fragment"
                },
                "tags": []
            },
            "outputs": [
                {
                    "name": "stdout",
                    "output_type": "stream",
                    "text": [
                        "Climate change has a significant impact on the business model of companies like Adidas, influencing various aspects of their operations, strategy, and market positioning. Here are some key areas where ...\n"
                    ]
                }
            ],
            "source": [
                "print(answer.content[:200], \"...\")"
            ]
        },
        {
            "cell_type": "markdown",
            "metadata": {
                "editable": true,
                "slideshow": {
                    "slide_type": "subslide"
                },
                "tags": []
            },
            "source": [
                "Next, we instantiate a Tavily object which will be used to retrieve relevant context from the web."
            ]
        },
        {
            "cell_type": "code",
            "execution_count": 5,
            "metadata": {
                "editable": true,
                "slideshow": {
                    "slide_type": "fragment"
                },
                "tags": []
            },
            "outputs": [],
            "source": [
                "# Web search tool\n",
                "from langchain_community.tools.tavily_search import TavilySearchResults\n",
                "\n",
                "tavily_search = TavilySearchResults(max_results=2)"
            ]
        },
        {
            "cell_type": "markdown",
            "metadata": {
                "editable": true,
                "slideshow": {
                    "slide_type": "subslide"
                },
                "tags": []
            },
            "source": [
                "Similar to invoking the LLM, one can invoke the `tavily_search` object and retrieve sources from the web that are relevant to the query."
            ]
        },
        {
            "cell_type": "code",
            "execution_count": 6,
            "metadata": {
                "editable": true,
                "slideshow": {
                    "slide_type": "fragment"
                },
                "tags": []
            },
            "outputs": [],
            "source": [
                "web_context = tavily_search.invoke(\n",
                "    input=\"\"\"What is the impact of climate change on the \n",
                "    business model of Adidas?\"\"\")"
            ]
        },
        {
            "cell_type": "code",
            "execution_count": 7,
            "metadata": {
                "editable": true,
                "slideshow": {
                    "slide_type": "fragment"
                },
                "tags": []
            },
            "outputs": [
                {
                    "name": "stdout",
                    "output_type": "stream",
                    "text": [
                        "Source: https://www.hermes-investment.com/wp-content/uploads/2022/02/eos-adidas-case-study-february-2022-1.pdf \n",
                        "---\n",
                        "Content: eded to address climate change and environmental impacts of apparel and footwear. We will continue ...\n"
                    ]
                }
            ],
            "source": [
                "print(f\"\"\"Source: {web_context[1]['url']} \n",
                "---\n",
                "Content: {web_context[1]['content'][58:1000]} ...\"\"\")"
            ]
        },
        {
            "cell_type": "markdown",
            "metadata": {
                "editable": true,
                "slideshow": {
                    "slide_type": "subslide"
                },
                "tags": []
            },
            "source": [
                "Before we build the graph, we need to introduce the concepts of **state** and **state schema** which are fundamental to how the system operates."
            ]
        },
        {
            "cell_type": "markdown",
            "metadata": {
                "editable": true,
                "slideshow": {
                    "slide_type": "fragment"
                },
                "tags": []
            },
            "source": [
                "You can think of the **state** of a graph as the \"data carrier\" of the graph at that **holds all the necessary information** (e.g., user query, extracted topics, identified companies, retrieved relevant documents, and final response) **as the system transitions from one node to another**.\n",
                "The state evolves as the system progresses through the workflow, with each node potentially modifying or adding to the state."
            ]
        },
        {
            "cell_type": "markdown",
            "metadata": {
                "editable": true,
                "slideshow": {
                    "slide_type": "fragment"
                },
                "tags": []
            },
            "source": [
                "The **state schema**, on the other hand, **defines the structure of the state**, including the types of nodes and edges, their properties, and how they relate to each other."
            ]
        },
        {
            "cell_type": "markdown",
            "metadata": {
                "editable": true,
                "slideshow": {
                    "slide_type": "subslide"
                },
                "tags": []
            },
            "source": [
                "We use `Pydantic` to define the following three classes `Topic`, `Company`, and `Companies` which will determine the state schema of our graph."
            ]
        },
        {
            "cell_type": "code",
            "execution_count": 8,
            "metadata": {
                "editable": true,
                "slideshow": {
                    "slide_type": "fragment"
                },
                "tags": []
            },
            "outputs": [],
            "source": [
                "from typing import Optional, List\n",
                "from pydantic import BaseModel, Field\n",
                "\n",
                "class Topic(BaseModel):\n",
                "    dax_40_related: bool = Field(\n",
                "        description=\"Whether the query is related to DAX 40 companies.\")\n",
                "    topic: str = Field(description=\"Topic of the query.\")\n",
                "\n",
                "class Company(BaseModel):\n",
                "    name: str = Field(description=\"Name of DAX 40 company.\")\n",
                "\n",
                "class Companies(BaseModel):\n",
                "    companies: Optional[List[Company]] = Field(\n",
                "        description=\"List of DAX 40 companies.\")"
            ]
        },
        {
            "cell_type": "markdown",
            "metadata": {
                "editable": true,
                "slideshow": {
                    "slide_type": "subslide"
                },
                "tags": []
            },
            "source": [
                "There are two advantages of working with `Pydantic`"
            ]
        },
        {
            "cell_type": "markdown",
            "metadata": {
                "editable": true,
                "slideshow": {
                    "slide_type": "fragment"
                },
                "tags": []
            },
            "source": [
                "1. **Data Validation and Type Safety**<br>\n",
                "Pydantic enforces strict type checking, ensuring that data conforms to expected structures and preventing runtime errors. For example, the ``Topic`` class verifies that the LLM's output includes a boolean and a string with the correct types, while the ``Companies`` class checks that the list of companies is either `None` or a valid list of `Company` objects."
            ]
        },
        {
            "cell_type": "markdown",
            "metadata": {
                "editable": true,
                "slideshow": {
                    "slide_type": "fragment"
                },
                "tags": []
            },
            "source": [
                "2. **Structured Communication Between Agents**<br>\n",
                "Pydantic ensures consistent and interpretable data exchange. The Topic class organizes outputs from the topic extraction agent for downstream processing, while the Companies class structures the output from the company extraction agent,  ensuring that the RAG agent receives a well-defined list of companies to query. This structured approach enhances the reliability of the RAG system."
            ]
        },
        {
            "cell_type": "markdown",
            "metadata": {
                "editable": true,
                "slideshow": {
                    "slide_type": "subslide"
                },
                "tags": []
            },
            "source": [
                "We then define two state classes `OverallState` which inherits from `MessageState`. This state class is shared across all nodes in the graph."
            ]
        },
        {
            "cell_type": "code",
            "execution_count": null,
            "metadata": {
                "editable": true,
                "slideshow": {
                    "slide_type": "fragment"
                },
                "tags": []
            },
            "outputs": [],
            "source": [
                "import operator\n",
                "from typing import Annotated, TypedDict\n",
                "from langgraph.graph import MessagesState\n",
                "\n",
                "class OverallState(MessagesState):\n",
                "    topic: Topic                                                                                    # topic of the user query including a boolean flag if it is related to DAX 40 companies and the description of the topic (see above)\n",
                "    companies: Companies                                                                            # list of DAX 40 companies that are mentioned in the user query\n",
                "    context: Annotated[List[str], operator.add]                                                     # list of contextual information for each company retrieved from the vector store or the web\n",
                "    context_amount: Annotated[List[int], operator.add]                                              # list of context retrieved for each company (number of documents)\n",
                "    context_count: int                                                                              # overall number of context information retrieved across all companies                            \n",
                "    final_answer: str                                                                               # final answer to the user query generated by the LLM"
            ]
        },
        {
            "cell_type": "markdown",
            "metadata": {
                "slideshow": {
                    "slide_type": "fragment"
                }
            },
            "source": [
                "The second state class `AnnualReportState` is hidden. It stores data that is required only for the RAG part in the system and does not need to be shared globally across the graph."
            ]
        },
        {
            "cell_type": "code",
            "execution_count": null,
            "metadata": {
                "slideshow": {
                    "slide_type": "fragment"
                }
            },
            "outputs": [],
            "source": [
                "class AnnualReportState(TypedDict):\n",
                "    company: Company                                                                                # Company for which the context is retrieved from its annual report                            \n",
                "    context_report: Annotated[List[str], operator.add]                                              # Context retrieved from the annual report"
            ]
        },
        {
            "cell_type": "markdown",
            "metadata": {},
            "source": [
                "The `operator.add` function serves as a **state reducer**, which updates the graph state by appending new information to the existing data. In contrast, the default reducer simply replaces the existing information with the new input, such as when a newly generated topic overwrites the previous one."
            ]
        },
        {
            "cell_type": "markdown",
            "metadata": {
                "slideshow": {
                    "slide_type": "subslide"
                }
            },
            "source": [
                "#### <a id='toc4_2_1_'></a> Extract topic"
            ]
        },
        {
            "cell_type": "markdown",
            "metadata": {
                "editable": true,
                "slideshow": {
                    "slide_type": "fragment"
                },
                "tags": []
            },
            "source": [
                "In the first node of your agentic system, `extract_topic_node`, we use the LLM to **identify the topic of the user query** and check if it is related to DAX 40 companies. If the query is not related to DAX 40 companies, we route the system to a standardized off-topic response, `off_topic_response_node`. If the question is related to DAX 40 companies we **route the system to** the next node where we use the LLM to **identify the companies mentioned in the user query**. The routing logic is defined in the `general_router` function."
            ]
        },
        {
            "cell_type": "markdown",
            "metadata": {
                "slideshow": {
                    "slide_type": "subslide"
                }
            },
            "source": [
                "Define system prompt instructing the LLM to extract topic from the query if the query is DAX 40 related."
            ]
        },
        {
            "cell_type": "code",
            "execution_count": 11,
            "metadata": {
                "slideshow": {
                    "slide_type": "fragment"
                }
            },
            "outputs": [],
            "source": [
                "topic_extraction_instruction = \"\"\"You are part of an AI agent \n",
                "designed to answer questions about the risks DAX 40 companies\n",
                "are facing.\n",
                "\n",
                "Your task is to judge whether the following user query is a \n",
                "question concerned about DAX 40 companies or not.\n",
                "Note that the user query may not explicitly mention any DAX 40 companies, \n",
                "but it may still be related to them. If it mentions any DAX 40 companies, \n",
                "it is for sure a DAX 40 related question.\n",
                "Questions that refer to any type of risks that corporations \n",
                "could face should be flagged as DAX 40 related.\n",
                "\n",
                "If the user query is related to DAX 40 companies, you should \n",
                "extract the topic of the question. If the user query is not \n",
                "related to DAX 40 companies, please return nothing.\n",
                "The topic should be a short phrase that summarizes the main subject \n",
                "of the question. Please make sure to retain specific keywords that \n",
                "are relevant to the topic.\n",
                "\n",
                "This is the user query from which you should extract the topic: {message}.\n",
                "\n",
                "Company names or the term 'DAX 40' should not be included in the topic.\n",
                "\"\"\""
            ]
        },
        {
            "cell_type": "markdown",
            "metadata": {
                "slideshow": {
                    "slide_type": "subslide"
                }
            },
            "source": [
                "Define node which extracts topic."
            ]
        },
        {
            "cell_type": "code",
            "execution_count": 12,
            "metadata": {
                "editable": true,
                "slideshow": {
                    "slide_type": "fragment"
                },
                "tags": []
            },
            "outputs": [],
            "source": [
                "from langchain_core.messages import HumanMessage, SystemMessage\n",
                "\n",
                "def extract_topic_node(state: OverallState):\n",
                "\n",
                "    messages = state.get('messages')\n",
                "    last_message = messages[-1].content\n",
                "\n",
                "    # Enforce structured output\n",
                "    structured_llm = llm.with_structured_output(Topic)\n",
                "\n",
                "    # Create a system message\n",
                "    system_message = topic_extraction_instruction.format(message=last_message)\n",
                "\n",
                "    # Extract topic\n",
                "    topic = structured_llm.invoke(\n",
                "        [SystemMessage(content=system_message)]+\n",
                "        [HumanMessage(\n",
                "            content=\"\"\"Please judge if the user query is related to \n",
                "                    DAX 40 companies or not. \n",
                "                    If it is, please extract the topic of the query.\"\"\")])\n",
                "    \n",
                "    return {'topic': topic}"
            ]
        },
        {
            "cell_type": "markdown",
            "metadata": {
                "slideshow": {
                    "slide_type": "subslide"
                }
            },
            "source": [
                "Define router to route to next node:\n",
                "- `extract_companies_node` if query is on topic\n",
                "- `off_topic_response_node` if query is off topic"
            ]
        },
        {
            "cell_type": "code",
            "execution_count": null,
            "metadata": {
                "slideshow": {
                    "slide_type": "fragment"
                }
            },
            "outputs": [],
            "source": [
                "def general_router(state: OverallState):\n",
                "\n",
                "    topic = state.get('topic')\n",
                "    dax_40_related = topic.dax_40_related\n",
                "    \n",
                "    # Check if the query is related to DAX 40 companies\n",
                "    if dax_40_related:\n",
                "        return \"on-topic\"\n",
                "    else:\n",
                "        return \"off-topic\"\n",
                "    \n",
                "def off_topic_response_node(state: OverallState):\n",
                "\n",
                "    final_answer = \"\"\"Your query is not concerned about DAX 40 companies \n",
                "    and therefore off topic within the context of this agent.\"\"\"\n",
                "\n",
                "    return {\"final_answer\": final_answer}"
            ]
        },
        {
            "cell_type": "markdown",
            "metadata": {
                "slideshow": {
                    "slide_type": "subslide"
                }
            },
            "source": [
                "#### <a id='toc4_2_2_'></a> Extract companies"
            ]
        },
        {
            "cell_type": "markdown",
            "metadata": {
                "editable": true,
                "slideshow": {
                    "slide_type": "fragment"
                },
                "tags": []
            },
            "source": [
                "The next step in our system, `extract_companies_node`, **extracts** the concrete **companies mentioned in the user query** and maps them against a list of harmonized company names defined in the following `dax_40` list. "
            ]
        },
        {
            "cell_type": "code",
            "execution_count": 14,
            "metadata": {
                "editable": true,
                "slideshow": {
                    "slide_type": "fragment"
                },
                "tags": []
            },
            "outputs": [],
            "source": [
                "dax_40 = ['adidas', 'airbus', 'allianz', 'basf', 'bayer', 'beiersdorf',\n",
                "          'bmw', 'brenntag', 'commerzbank', 'continental', 'daimler-truck',\n",
                "          'deutsche-bank', 'deutsche-börse', 'deutsche-post',\n",
                "          'deutsche telekom', 'eon', 'fresenius', 'fresenius-medical-care',\n",
                "          'hannover-rück', 'heidelberg-materials', 'henkel', \n",
                "          'infineon-technologies', 'mercedes-benz', 'merck', 'mtu', \n",
                "          'münchener-rück', 'porsche', 'qiagen', 'rheinmetall', 'rwe', \n",
                "          'sap', 'sartorius', 'siemens', 'siemens-energy', \n",
                "          'siemens-healthineers', 'symrise', 'volkswagen', 'vonovia', \n",
                "          'zalando']"
            ]
        },
        {
            "cell_type": "markdown",
            "metadata": {
                "editable": true,
                "slideshow": {
                    "slide_type": "subslide"
                },
                "tags": []
            },
            "source": [
                "If the **user query does not mention any specific DAX 40 company**, the system will **answer the query for all DAX 40 companies**. This logic is defined in the `rag_router` which sends extracted companies/all DAX 40 companies to the vector store from which relevant context is retrieved. "
            ]
        },
        {
            "cell_type": "markdown",
            "metadata": {
                "editable": true,
                "slideshow": {
                    "slide_type": "fragment"
                },
                "tags": []
            },
            "source": [
                "It is noteworthy that routing the extracted companies to the vector store is a **map-reduce** operation which means that the company names are not send to the vector store sequentially but in parallel. This becomes possible with langraph's `Send` API."
            ]
        },
        {
            "cell_type": "markdown",
            "metadata": {
                "slideshow": {
                    "slide_type": "subslide"
                }
            },
            "source": [
                "Instruct the LLM to identify and extract any company names from the query."
            ]
        },
        {
            "cell_type": "code",
            "execution_count": 15,
            "metadata": {
                "slideshow": {
                    "slide_type": "fragment"
                }
            },
            "outputs": [],
            "source": [
                "company_extraction_instruction = \"\"\"You are tasked with analyzing whether the following \n",
                "user query relates to any specific DAX 40 companies: {message}.\n",
                "\n",
                "If you find specific DAX 40 companies mentioned in the user query, \n",
                "map them to the ones mentioned in the following list: {dax_40}.\n",
                "\n",
                "It may well be that the user query is a more generic question \n",
                "that is not related to any specific company.\n",
                "\"\"\""
            ]
        },
        {
            "cell_type": "markdown",
            "metadata": {
                "slideshow": {
                    "slide_type": "subslide"
                }
            },
            "source": [
                "Define node wich extracts the company names."
            ]
        },
        {
            "cell_type": "code",
            "execution_count": 16,
            "metadata": {
                "editable": true,
                "slideshow": {
                    "slide_type": "fragment"
                },
                "tags": []
            },
            "outputs": [],
            "source": [
                "def extract_companies_node(state: OverallState, dax_40: list = dax_40):\n",
                "\n",
                "    messages = state.get('messages')\n",
                "    last_message = messages[-1].content\n",
                "    dax_40 = ', '.join(dax_40)\n",
                "    \n",
                "    structured_llm = llm.with_structured_output(Companies)\n",
                "    system_message = company_extraction_instruction.format(\n",
                "        message=last_message, dax_40=dax_40)\n",
                "    companies = structured_llm.invoke(\n",
                "        [SystemMessage(content=system_message)]+\n",
                "        [HumanMessage(\n",
                "            content=\"\"\"Extract the set of DAX 40 companies \n",
                "                      if there are mentioned any. Otherwise return nothing.\"\"\")])\n",
                "\n",
                "    return {'companies': companies.companies}"
            ]
        },
        {
            "cell_type": "markdown",
            "metadata": {
                "slideshow": {
                    "slide_type": "subslide"
                }
            },
            "source": [
                "Route extracted companies to the `rag_agent_node` in parallel."
            ]
        },
        {
            "cell_type": "code",
            "execution_count": null,
            "metadata": {
                "slideshow": {
                    "slide_type": "fragment"
                }
            },
            "outputs": [],
            "source": [
                "from langgraph.types import Send\n",
                "\n",
                "def rag_router(state: OverallState, dax_40: list = dax_40):\n",
                "\n",
                "    companies = state.get('companies', None)\n",
                "    topic =  state.get('topic')\n",
                "\n",
                "    # Check if any companies were extracted\n",
                "    if companies is not None:\n",
                "        return [Send(\n",
                "            \"rag_agent\", \n",
                "            {\"company\": c, \"topic\": topic.topic}) for c in companies]\n",
                "    \n",
                "    else:\n",
                "        return [Send(\n",
                "            \"rag_agent\", \n",
                "            {\"company\": Company(name=c), \"topic\": topic.topic}) for c in dax_40]"
            ]
        },
        {
            "cell_type": "markdown",
            "metadata": {
                "slideshow": {
                    "slide_type": "subslide"
                }
            },
            "source": [
                "#### <a id='toc4_2_3_'></a> Retrieve context"
            ]
        },
        {
            "cell_type": "markdown",
            "metadata": {
                "editable": true,
                "slideshow": {
                    "slide_type": "fragment"
                },
                "tags": []
            },
            "source": [
                "The next step is the **core component in** our **agentic RAG system**. For each extracted company the `rag_agent_node` is triggered which **searches the vector store for relevant context** chunks which help to answer the user query. The similarity search is conducted for each company in parallel with a metadata filter on the respective company name."
            ]
        },
        {
            "cell_type": "markdown",
            "metadata": {
                "editable": true,
                "slideshow": {
                    "slide_type": "fragment"
                },
                "tags": []
            },
            "source": [
                "**If no relevant context for the companies is found**, the query is sent to the `web_agent_node` through the `web_router` to search the web for pertinent information. This **web search serves as a fallback** when annual company reports do not provide sufficient context."
            ]
        },
        {
            "cell_type": "code",
            "execution_count": 18,
            "metadata": {
                "editable": true,
                "slideshow": {
                    "slide_type": "skip"
                },
                "tags": []
            },
            "outputs": [],
            "source": [
                "import torch\n",
                "from langchain_community.vectorstores import FAISS\n",
                "from langchain_huggingface import HuggingFaceEmbeddings\n",
                "\n",
                "# Vector Storage\n",
                "vector_store = FAISS.load_local(\n",
                "    \"./studio/faiss_vector_store\",\n",
                "    embeddings=HuggingFaceEmbeddings(\n",
                "        model_name=\"sentence-transformers/all-MiniLM-L6-v2\",\n",
                "        model_kwargs={'device': 'cuda' if torch.cuda.is_available() else 'cpu'},\n",
                "    ),\n",
                "    allow_dangerous_deserialization=True\n",
                ")"
            ]
        },
        {
            "cell_type": "markdown",
            "metadata": {
                "slideshow": {
                    "slide_type": "subslide"
                }
            },
            "source": [
                "Instruct LLM to generate a response based on the context retrieved for specific company."
            ]
        },
        {
            "cell_type": "code",
            "execution_count": 19,
            "metadata": {
                "slideshow": {
                    "slide_type": "fragment"
                }
            },
            "outputs": [],
            "source": [
                "single_answer_generation_instruction = \"\"\"Based on the following context for \n",
                "{company}, generate an answer to the topic '{topic}': \\n\\n {context}.\n",
                "\n",
                "If the context does not provide enough information, please answer that \n",
                "the annual report of {company} does not provide any information \n",
                "about the topic '{topic}'.\n",
                "\"\"\""
            ]
        },
        {
            "cell_type": "markdown",
            "metadata": {
                "slideshow": {
                    "slide_type": "subslide"
                }
            },
            "source": [
                "Define node which retrieves company-specific context from vector store."
            ]
        },
        {
            "cell_type": "code",
            "execution_count": 20,
            "metadata": {
                "editable": true,
                "slideshow": {
                    "slide_type": "fragment"
                },
                "tags": []
            },
            "outputs": [],
            "source": [
                "import numpy as np\n",
                "\n",
                "def rag_agent_node(\n",
                "        state: AnnualReportState, \n",
                "        vector_store: FAISS = vector_store):\n",
                "\n",
                "    company = state.get('company')\n",
                "    topic = state.get('topic')\n",
                "\n",
                "    context_report = vector_store.similarity_search(\n",
                "        query=topic, \n",
                "        k=2, \n",
                "        filter={\"company\": company.name})    \n",
                "    context_amount = len(context_report)\n",
                "\n",
                "    if context_amount == 0:\n",
                "        answer = f\"\"\"The annual report of {company.name} does not provide any \n",
                "        information about the topic '{topic}'.\"\"\"\n",
                "    \n",
                "    else:\n",
                "        system_message = single_answer_generation_instruction.format(\n",
                "            company=company.name, \n",
                "            topic=topic, \n",
                "            context='\\n\\n---\\n\\n'.join(\n",
                "                [node.page_content for node in context_report]))\n",
                "        answer = llm.invoke(system_message).content\n",
                "    \n",
                "    return {\"context_report\": context_report, \"context\": [answer], \n",
                "            \"context_amount\": [context_amount]}"
            ]
        },
        {
            "cell_type": "markdown",
            "metadata": {
                "slideshow": {
                    "slide_type": "subslide"
                }
            },
            "source": [
                "Count the number of context chunks retrieved from the vector store across all companies.\n",
                "\n",
                "If no context chunks were retrieved route to `web_agent_node`."
            ]
        },
        {
            "cell_type": "code",
            "execution_count": 21,
            "metadata": {
                "slideshow": {
                    "slide_type": "fragment"
                }
            },
            "outputs": [],
            "source": [
                "def count_context_node(state: OverallState):\n",
                "\n",
                "    context_amount = state.get('context_amount')\n",
                "    state['context_count'] = np.sum(context_amount)\n",
                "\n",
                "    return {\"context_count\": state['context_count']}\n",
                "\n",
                "def web_router(state: OverallState):\n",
                "\n",
                "    context_count = state.get('context_count')\n",
                "\n",
                "    if context_count == 0:\n",
                "        return \"relevant-context-not-found\"\n",
                "    else:\n",
                "        return \"relevant-context-found\""
            ]
        },
        {
            "cell_type": "markdown",
            "metadata": {
                "slideshow": {
                    "slide_type": "subslide"
                }
            },
            "source": [
                "Define node that retrieves context from web."
            ]
        },
        {
            "cell_type": "code",
            "execution_count": null,
            "metadata": {
                "slideshow": {
                    "slide_type": "fragment"
                }
            },
            "outputs": [],
            "source": [
                "def web_agent_node(state: OverallState):\n",
                "\n",
                "    messages = state.get('messages')\n",
                "    last_message = messages[-1].content\n",
                "    \n",
                "    search_docs = tavily_search.invoke(last_message)\n",
                "\n",
                "    formatted_search_docs = \"\\n\\n---\\n\\n\".join(\n",
                "        [\n",
                "            f'<Document href=\"{doc[\"url\"]}\">\\n{doc[\"content\"]}\\n</Document>'\n",
                "            for doc in search_docs\n",
                "        ]\n",
                "    )\n",
                "\n",
                "    return {\"context\": [formatted_search_docs]}"
            ]
        },
        {
            "cell_type": "markdown",
            "metadata": {
                "slideshow": {
                    "slide_type": "subslide"
                }
            },
            "source": [
                "#### <a id='toc4_2_4_'></a> Generate answer"
            ]
        },
        {
            "cell_type": "markdown",
            "metadata": {
                "editable": true,
                "slideshow": {
                    "slide_type": "fragment"
                },
                "tags": []
            },
            "source": [
                "The final step of the Risk Agent utilizes context from annual reports or web sources to **generate a comprehensive answer** to the user query **across all companies**, which is then presented to the user. "
            ]
        },
        {
            "cell_type": "markdown",
            "metadata": {
                "slideshow": {
                    "slide_type": "subslide"
                }
            },
            "source": [
                "Instruct LLM to generate an overall response."
            ]
        },
        {
            "cell_type": "code",
            "execution_count": 23,
            "metadata": {
                "editable": true,
                "slideshow": {
                    "slide_type": "fragment"
                },
                "tags": []
            },
            "outputs": [],
            "source": [
                "final_answer_generation_instruction = \"\"\"You are tasked to provide a concise \n",
                "answer to the following query: {message}.\n",
                "\n",
                "To respond to the user, you are supposed to use the following contextual \n",
                "information: {context}.\n",
                "\n",
                "If you find that the context contains repetitive information, please \n",
                "summarize it accordingly.\n",
                "\n",
                "If the context mentions DAX 40 companies, please make sure to explicitly \n",
                "include them in your answer.\n",
                "\"\"\""
            ]
        },
        {
            "cell_type": "markdown",
            "metadata": {
                "slideshow": {
                    "slide_type": "subslide"
                }
            },
            "source": [
                "Define the node which generates the final answer by reducing the company-specific information to a single string."
            ]
        },
        {
            "cell_type": "code",
            "execution_count": null,
            "metadata": {
                "slideshow": {
                    "slide_type": "fragment"
                }
            },
            "outputs": [],
            "source": [
                "def generate_answer_node(state: OverallState):\n",
                "    \n",
                "    messages = state.get('messages')\n",
                "    last_message = messages[-1].content\n",
                "    context = state.get('context', None)\n",
                "\n",
                "    system_message = final_answer_generation_instruction.format(\n",
                "        message=last_message, \n",
                "        context='\\n\\n---\\n\\n'.join(context))\n",
                "    final_answer = llm.invoke(system_message).content\n",
                "\n",
                "    # Return the company-specific answer\n",
                "    return {\"final_answer\": final_answer}"
            ]
        },
        {
            "cell_type": "markdown",
            "metadata": {
                "slideshow": {
                    "slide_type": "subslide"
                }
            },
            "source": [
                "#### <a id='toc4_2_5_'></a> Build the graph"
            ]
        },
        {
            "cell_type": "markdown",
            "metadata": {
                "editable": true,
                "slideshow": {
                    "slide_type": "fragment"
                },
                "tags": []
            },
            "source": [
                "Finally, we build the graph and add all nodes and edges defined above."
            ]
        },
        {
            "cell_type": "code",
            "execution_count": 25,
            "metadata": {
                "editable": true,
                "slideshow": {
                    "slide_type": "fragment"
                },
                "tags": []
            },
            "outputs": [],
            "source": [
                "from langgraph.graph import START, END, StateGraph\n",
                "\n",
                "builder = StateGraph(OverallState)\n",
                "builder.add_node(\"extract_topic\", extract_topic_node)\n",
                "builder.add_node(\"off_topic_response\", off_topic_response_node)\n",
                "builder.add_node(\"extract_companies\", extract_companies_node)\n",
                "builder.add_node(\"rag_agent\", rag_agent_node)\n",
                "builder.add_node(\"count_context\", count_context_node)\n",
                "builder.add_node(\"web_agent\", web_agent_node)\n",
                "builder.add_node(\"generate_answer\", generate_answer_node)\n",
                "builder.add_edge(START, \"extract_topic\")\n",
                "builder.add_conditional_edges(\"extract_topic\", general_router, {\n",
                "    \"on-topic\": \"extract_companies\", \"off-topic\": \"off_topic_response\"})\n",
                "builder.add_conditional_edges(\"extract_companies\", rag_router, {\n",
                "    \"map-reduce\": \"rag_agent\"})\n",
                "builder.add_edge(\"rag_agent\", \"count_context\")\n",
                "builder.add_conditional_edges(\"count_context\", web_router, {\n",
                "    \"relevant-context-found\": \"generate_answer\", \n",
                "    \"relevant-context-not-found\": \"web_agent\"})\n",
                "builder.add_edge(\"web_agent\", \"generate_answer\")\n",
                "builder.add_edge(\"generate_answer\", END)\n",
                "builder.add_edge(\"off_topic_response\", END)\n",
                "graph = builder.compile()"
            ]
        },
        {
            "cell_type": "markdown",
            "metadata": {
                "editable": true,
                "slideshow": {
                    "slide_type": "subslide"
                },
                "tags": []
            },
            "source": [
                "Displaying the graph gives you a visual representation of the flow of the agent."
            ]
        },
        {
            "cell_type": "code",
            "execution_count": 26,
            "metadata": {
                "editable": true,
                "slideshow": {
                    "slide_type": "fragment"
                },
                "tags": []
            },
            "outputs": [
                {
                    "data": {
                        "image/png": "[encoded data removed]",
                        "text/plain": [
                            "<IPython.core.display.Image object>"
                        ]
                    },
                    "metadata": {},
                    "output_type": "display_data"
                }
            ],
            "source": [
                "from IPython.display import Image, display\n",
                "\n",
                "display(Image(graph.get_graph(xray=1).draw_mermaid_png(\n",
                "    frontmatter_config={\n",
                "        \"config\": {\n",
                "            \"layout\": \"dagre\",\n",
                "            \"look\": \"handDrawn\"}}\n",
                "    )))"
            ]
        },
        {
            "cell_type": "markdown",
            "metadata": {
                "editable": true,
                "slideshow": {
                    "slide_type": "subslide"
                },
                "tags": []
            },
            "source": [
                "We can now stream the graph to propagate the user query through the graph-based agent in oder to generate a final answer."
            ]
        },
        {
            "cell_type": "code",
            "execution_count": 28,
            "metadata": {
                "editable": true,
                "slideshow": {
                    "slide_type": "fragment"
                },
                "tags": []
            },
            "outputs": [],
            "source": [
                "from util import print_graph_propagation"
            ]
        },
        {
            "cell_type": "code",
            "execution_count": 85,
            "metadata": {
                "editable": true,
                "slideshow": {
                    "slide_type": "fragment"
                },
                "tags": []
            },
            "outputs": [
                {
                    "name": "stdout",
                    "output_type": "stream",
                    "text": [
                        "User query: How is the weather in New York?\n",
                        "\n",
                        "-----------------\n",
                        "\n",
                        "Graph events:\n",
                        "1. Node: extract_topic\n",
                        "    State: topic\n",
                        "        Content: dax_40_related=False topic='' ...\n",
                        "2. Node: off_topic_response\n",
                        "    State: final_answer\n",
                        "        Content: Your query is not concerned about DAX 40 companies \n",
                        "    and therefore off topic within the context of this agent. ...\n",
                        "\n",
                        "-----------------\n",
                        "\n",
                        "Answer: Your query is not concerned about DAX 40 companies \n",
                        "    and therefore off topic within the context of this agent. ...\n"
                    ]
                }
            ],
            "source": [
                "# Off-topic query\n",
                "query = \"How is the weather in New York?\"\n",
                "\n",
                "print_graph_propagation(graph, query)"
            ]
        },
        {
            "cell_type": "code",
            "execution_count": 86,
            "metadata": {
                "editable": true,
                "slideshow": {
                    "slide_type": "subslide"
                },
                "tags": []
            },
            "outputs": [
                {
                    "name": "stdout",
                    "output_type": "stream",
                    "text": [
                        "User query: What are the climate-related risks for Adidas and BMW?\n",
                        "\n",
                        "-----------------\n",
                        "\n",
                        "Graph events:\n",
                        "1. Node: extract_topic\n",
                        "    State: topic\n",
                        "        Content: dax_40_related=True topic='climate-related risks' ...\n",
                        "2. Node: extract_companies\n",
                        "    State: companies\n",
                        "        Content: [Company(name='adidas'), Company(name='bmw')] ...\n",
                        "3. Node: rag_agent\n",
                        "    State: context_report\n",
                        "        Content: [Document(id='07512924-8d4b-40ef-b846-9dfa66092443', metadata={'company': 'adidas', 'year': 2023}, page_content='Climate scenario analysis confirmed our previous findings that the overall global green ...\n",
                        "4. Node: rag_agent\n",
                        "    State: context_report\n",
                        "        Content: [Document(id='98eaf969-33dd-4ac8-b975-662454b3b3ca', metadata={'company': 'bmw', 'year': 2023}, page_content='Moreover, oth er \\noverarching topics are monitored by means of regular media \\nanalysis.  ...\n",
                        "5. Node: count_context\n",
                        "    State: context_count\n",
                        "        Content: 3 ...\n",
                        "6. Node: generate_answer\n",
                        "    State: final_answer\n",
                        "        Content: Adidas and BMW, both DAX 40 companies, face climate-related risks that are categorized using the Task Force on Climate-Related Financial Disclosures (TCFD) framework. For Adidas, the primary concern i ...\n",
                        "\n",
                        "-----------------\n",
                        "\n",
                        "Answer: Adidas and BMW, both DAX 40 companies, face climate-related risks that are categorized using the Task Force on Climate-Related Financial Disclosures (TCFD) framework. For Adidas, the primary concern i ...\n"
                    ]
                }
            ],
            "source": [
                "# Query with specific DAX 40 companies\n",
                "query = \"What are the climate-related risks for Adidas and BMW?\"\n",
                "\n",
                "print_graph_propagation(graph, query)"
            ]
        },
        {
            "cell_type": "code",
            "execution_count": null,
            "metadata": {
                "slideshow": {
                    "slide_type": "subslide"
                }
            },
            "outputs": [
                {
                    "name": "stdout",
                    "output_type": "stream",
                    "text": [
                        "User query: Which risks do corporations face due to climate change?\n",
                        "\n",
                        "-----------------\n",
                        "\n",
                        "Graph events:\n",
                        "1. Node: extract_topic\n",
                        "    State: topic\n",
                        "        Content: dax_40_related=True topic='risks due to climate change' ...\n",
                        "2. Node: extract_companies\n",
                        "    State: companies\n",
                        "        Content: None ...\n",
                        "3. Node: rag_agent\n",
                        "    State: context_report\n",
                        "        Content: [] ...\n",
                        "4. Node: rag_agent\n",
                        "    State: context_report\n",
                        "        Content: [] ...\n",
                        "5. Node: rag_agent\n",
                        "    State: context_report\n",
                        "        Content: [] ...\n",
                        "6. Node: rag_agent\n",
                        "    State: context_report\n",
                        "        Content: [] ...\n",
                        "7. Node: rag_agent\n",
                        "    State: context_report\n",
                        "        Content: [] ...\n",
                        "8. Node: rag_agent\n",
                        "    State: context_report\n",
                        "        Content: [] ...\n",
                        "9. Node: rag_agent\n",
                        "    State: context_report\n",
                        "        Content: [] ...\n",
                        "10. Node: rag_agent\n",
                        "    State: context_report\n",
                        "        Content: [] ...\n",
                        "11. Node: rag_agent\n",
                        "    State: context_report\n",
                        "        Content: [] ...\n",
                        "12. Node: rag_agent\n",
                        "    State: context_report\n",
                        "        Content: [] ...\n",
                        "13. Node: rag_agent\n",
                        "    State: context_report\n",
                        "        Content: [] ...\n",
                        "14. Node: rag_agent\n",
                        "    State: context_report\n",
                        "        Content: [] ...\n",
                        "15. Node: rag_agent\n",
                        "    State: context_report\n",
                        "        Content: [] ...\n",
                        "16. Node: rag_agent\n",
                        "    State: context_report\n",
                        "        Content: [] ...\n",
                        "17. Node: rag_agent\n",
                        "    State: context_report\n",
                        "        Content: [] ...\n",
                        "18. Node: rag_agent\n",
                        "    State: context_report\n",
                        "        Content: [] ...\n",
                        "19. Node: rag_agent\n",
                        "    State: context_report\n",
                        "        Content: [] ...\n",
                        "20. Node: rag_agent\n",
                        "    State: context_report\n",
                        "        Content: [] ...\n",
                        "21. Node: rag_agent\n",
                        "    State: context_report\n",
                        "        Content: [] ...\n",
                        "22. Node: rag_agent\n",
                        "    State: context_report\n",
                        "        Content: [] ...\n",
                        "23. Node: rag_agent\n",
                        "    State: context_report\n",
                        "        Content: [] ...\n",
                        "24. Node: rag_agent\n",
                        "    State: context_report\n",
                        "        Content: [] ...\n",
                        "25. Node: rag_agent\n",
                        "    State: context_report\n",
                        "        Content: [] ...\n",
                        "26. Node: rag_agent\n",
                        "    State: context_report\n",
                        "        Content: [] ...\n",
                        "27. Node: rag_agent\n",
                        "    State: context_report\n",
                        "        Content: [] ...\n",
                        "28. Node: rag_agent\n",
                        "    State: context_report\n",
                        "        Content: [] ...\n",
                        "29. Node: rag_agent\n",
                        "    State: context_report\n",
                        "        Content: [Document(id='74ee6118-bbc5-48c0-9a08-b2f46cc729a0', metadata={'company': 'heidelberg-materials', 'year': 2023}, page_content='Climate risks\\nAccording\\u2003to\\u2003th e\\u2003de finition\\u2003is sued\\ ...\n",
                        "30. Node: rag_agent\n",
                        "    State: context_report\n",
                        "        Content: [] ...\n",
                        "31. Node: rag_agent\n",
                        "    State: context_report\n",
                        "        Content: [Document(id='fd40cc22-5b82-4da0-8e91-ba92132de1ff', metadata={'company': 'merck', 'year': 2023}, page_content='For example, physical climate risks can have an accounting impact in the form of the nec ...\n",
                        "32. Node: rag_agent\n",
                        "    State: context_report\n",
                        "        Content: [Document(id='98eaf969-33dd-4ac8-b975-662454b3b3ca', metadata={'company': 'bmw', 'year': 2023}, page_content='Moreover, oth er \\noverarching topics are monitored by means of regular media \\nanalysis.  ...\n",
                        "33. Node: rag_agent\n",
                        "    State: context_report\n",
                        "        Content: [Document(id='c932e3b7-b53e-4f53-bc63-1311ce5f962a', metadata={'company': 'henkel', 'year': 2023}, page_content='We assign the highest pr iority to the health and safety of our customers, \\nconsumers  ...\n",
                        "34. Node: rag_agent\n",
                        "    State: context_report\n",
                        "        Content: [Document(id='8cbce804-ed41-450c-b530-e3adafa8313c', metadata={'company': 'rwe', 'year': 2023}, page_content='Since 2022, we have taken a systematic approach at Group level to criteria under objective ...\n",
                        "35. Node: rag_agent\n",
                        "    State: context_report\n",
                        "        Content: [Document(id='27aa5ea6-ae48-4798-b23a-6e2b11622dee', metadata={'company': 'eon', 'year': 2023}, page_content='At year-end 2023, E.ON had not identified any major risks related \\nto its own business ac ...\n",
                        "36. Node: rag_agent\n",
                        "    State: context_report\n",
                        "        Content: [Document(id='ecd31dde-19d7-40de-83bf-382754d09c5e', metadata={'company': 'basf', 'year': 2023}, page_content='We \\ncounter these risks with our carbon management measures and by \\ntransparently discl ...\n",
                        "37. Node: rag_agent\n",
                        "    State: context_report\n",
                        "        Content: [Document(id='f0d6c726-146e-4940-9150-080c87a09826', metadata={'company': 'münchener-rück', 'year': 2023}, page_content='Physical risks arise from the increasing frequency \\nand severity of extreme we ...\n",
                        "38. Node: rag_agent\n",
                        "    State: context_report\n",
                        "        Content: [Document(id='b39afa58-f4d2-48fa-a994-5a94400ac032', metadata={'company': 'deutsche-post', 'year': 2023}, page_content='This involved applying the Representative Concentration Pathways \\n(RCPs) of the ...\n",
                        "39. Node: rag_agent\n",
                        "    State: context_report\n",
                        "        Content: [Document(id='5a3898bb-9112-484f-a265-63dc31079e52', metadata={'company': 'airbus', 'year': 2023}, page_content='In 2023 the Company invested more than €40\\xa0million in \\ncompanies and partnerships ( ...\n",
                        "40. Node: rag_agent\n",
                        "    State: context_report\n",
                        "        Content: [Document(id='4c22ee62-360d-43bb-a296-b47e2bae3afe', metadata={'company': 'vonovia', 'year': 2023}, page_content='We have assessed the corre-\\nsponding ”risk of business continuity in disasters/crisis ...\n",
                        "41. Node: rag_agent\n",
                        "    State: context_report\n",
                        "        Content: [Document(id='8c7f4a5f-f314-4844-bd8c-8a695ba4dc37', metadata={'company': 'commerzbank', 'year': 2023}, page_content='As a major financier of the German economy, we are also active \\nin sectors that a ...\n",
                        "42. Node: count_context\n",
                        "    State: context_count\n",
                        "        Content: 16 ...\n",
                        "43. Node: generate_answer\n",
                        "    State: final_answer\n",
                        "        Content: Corporations face several risks due to climate change, which can be categorized into physical and transition risks. Physical risks include acute and chronic impacts such as extreme weather events, ris ...\n",
                        "\n",
                        "-----------------\n",
                        "\n",
                        "Answer: Corporations face several risks due to climate change, which can be categorized into physical and transition risks. Physical risks include acute and chronic impacts such as extreme weather events, ris ...\n"
                    ]
                }
            ],
            "source": [
                "# DAX 40 related query but without mentioning any specific company\n",
                "query = \"Which risks do corporations face due to climate change?\"\n",
                "\n",
                "print_graph_propagation(graph, query)"
            ]
        },
        {
            "cell_type": "markdown",
            "metadata": {
                "slideshow": {
                    "slide_type": "subslide"
                }
            },
            "source": [
                "### <a id='toc4_3_'></a> Deployment"
            ]
        },
        {
            "cell_type": "markdown",
            "metadata": {
                "slideshow": {
                    "slide_type": "fragment"
                }
            },
            "source": [
                "**LangGraph Studio** significantly **enhances the deployment of AI agents** by providing a comprehensive development environment tailored for LangGraph applications. It **allows developers to visualize, interact with, and debug agent workflows**, enabling the creation of scalable, production-ready AI agents with features like stateful computation, long-term memory, and human-in-the-loop capabilities."
            ]
        },
        {
            "cell_type": "code",
            "execution_count": 88,
            "metadata": {
                "slideshow": {
                    "slide_type": "fragment"
                },
                "tags": [
                    "remove_output"
                ]
            },
            "outputs": [
                {
                    "name": "stdout",
                    "output_type": "stream",
                    "text": [
                        "^C\n"
                    ]
                }
            ],
            "source": [
                "!cd studio && langgraph dev"
            ]
        },
        {
            "cell_type": "markdown",
            "metadata": {
                "slideshow": {
                    "slide_type": "fragment"
                }
            },
            "source": [
                "Wait for LangSmith opening automatically in your default browser."
            ]
        },
        {
            "cell_type": "markdown",
            "metadata": {
                "slideshow": {
                    "slide_type": "subslide"
                }
            },
            "source": [
                "![LangGraph](img/langgraph.gif)"
            ]
        },
        {
            "cell_type": "markdown",
            "metadata": {
                "editable": true,
                "slideshow": {
                    "slide_type": "skip"
                },
                "tags": []
            },
            "source": [
                "Resources:\n",
                "- [How GenAI can enhance risk management](https://www.pwc.com/us/en/industries/financial-services/library/gen-ai-and-risk-management.html)\n",
                "- [Let's talk about LlamaIndex and LangChain](https://superwise.ai/blog/lets-talk-about-llamaindex-and-langchain/)\n",
                "- [LlamaIndex](https://docs.llamaindex.ai/en/stable/)\n",
                "- [Advanced RAG techniques - An illustrated overview](https://pub.towardsai.net/advanced-rag-techniques-an-illustrated-overview-04d193d8fec6)"
            ]
        }
    ],
    "metadata": {
        "kernelspec": {
            "display_name": ".venv",
            "language": "python",
            "name": "python3"
        },
        "language_info": {
            "codemirror_mode": {
                "name": "ipython",
                "version": 3
            },
            "file_extension": ".py",
            "mimetype": "text/x-python",
            "name": "python",
            "nbconvert_exporter": "python",
            "pygments_lexer": "ipython3",
            "version": "3.12.0"
        }
    },
    "nbformat": 4,
    "nbformat_minor": 4
}
