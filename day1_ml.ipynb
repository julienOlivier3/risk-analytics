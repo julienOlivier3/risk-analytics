{
 "cells": [
  {
   "cell_type": "markdown",
   "metadata": {},
   "source": [
    "# Machine Learning and Risk Modelling"
   ]
  },
  {
   "cell_type": "markdown",
   "metadata": {},
   "source": [
    "## What is Machine Learning?"
   ]
  },
  {
   "cell_type": "markdown",
   "metadata": {},
   "source": [
    "To grasp the definition of Machine Learning (ML), it's helpful to narrow the focus by exploring its relationship with Artificial Intelligence (AI) and Deep Learning (DL).\n"
   ]
  },
  {
   "cell_type": "markdown",
   "metadata": {},
   "source": [
    "<img src=\"img/ai_ml_dl3.png\" alt=\"AI, ML & DL\" width=\"700\" height=\"500\"/>\n",
    "<p>Image source: <a href=\"https://developer.nvidia.com/deep-learning\">Nvidia</a></p>"
   ]
  },
  {
   "cell_type": "markdown",
   "metadata": {},
   "source": [
    "<span style=\"color: #b0d45c;\">**Artificial Intelligence (AI)**</span>:\n",
    "-  While there is **no strict definition** of Artificial Intelligence, it is commonly referred to as the capability of machines to perform tasks that were previously solvable only by humans or those that are particularly challenging and typically require some form of **\"intelligence\"**.\n",
    "- AI traces its origins back to the **1940s**, coinciding with the invention of the computer. Pioneering scientists such as **Alan Turing** and **John von Neumann** posed a fundamental question: If we can formalize computation, can we leverage this computation to formalize the concept of **\"thinking\"**?\n",
    "- AI encompasses a wide range of fields, including **machine learning**, **natural language processing**, **computer vision**, **robotics**, **search algorithms**, **game playing**, **intelligent agents**, and much more.\n",
    "\n",
    "<span style=\"color: #88bc04;\">**Machine Learning (ML)**</span>:\n",
    "- ML is **mathematically well-defined** and is capable of solving reasonably **narrow** tasks.\n",
    "- ML algorithms usually construct **predictive/decision models** from typically **labelled data**, instead of explicitly programming them.\n",
    "- ML roughly divides into **supervised**, **unsupervised** and **reinforcement** learning with a variety of different ML methods that exist to solve the underlying prediction/decision task.\n",
    "    - supervised learning: training a model on a labelled dataset, where the input data is paired with the correct output. The model learns to make predictions/classifications based on this labeled information.\n",
    "    - unsupervised learning: the model works with unlabeled data, aiming to identify patterns and relationships within the data without any specific guidance.\n",
    "    - reinforcement learning: training a model through interactions with an environment, where it learns to make decisions based on the rewards or penalties it receives from its actions.\n",
    "\n",
    "    In this course we focus on supervised learning applying tree-based regression methods.\n",
    "\n",
    "<span style=\"color: #68ac04;\">**Deep Learning (DL)**</span>:\n",
    "- DL is a subfield of ML that focuses on the study of **neural networks**.\n",
    "- Artificial Neural Networks (ANNs) have been researched for **decades**. DL utilizes **more layers**, incorporates **specialized neurons** designed for **images and tensors**, and benefits from numerous **computational improvements** that facilitate training on **large datasets**.\n",
    "- DL can be used on rectangular data, but typical applications are images, texts or signals."
   ]
  },
  {
   "cell_type": "markdown",
   "metadata": {},
   "source": [
    "**Machine Learning**\n",
    "> Machine Learning is a subfield of Artificial Intelligence consisting of mathematical models that learn from historical data to solve narrow prediction/classification/decision tasks."
   ]
  },
  {
   "cell_type": "markdown",
   "metadata": {},
   "source": [
    "## Application of Machine Learning in Risk Management"
   ]
  },
  {
   "cell_type": "markdown",
   "metadata": {},
   "source": [
    "Machine Learning (ML) has become an essential tool in **risk management** due to its ability to analyze vast amounts of data and uncover patterns that traditional methods may overlook. In today's complex financial landscape, organizations face numerous risks, and ML provides a robust framework for modeling and steering these risks effectively.\n",
    "\n",
    "\n"
   ]
  },
  {
   "cell_type": "markdown",
   "metadata": {},
   "source": [
    "### Why Use Machine Learning?"
   ]
  },
  {
   "cell_type": "markdown",
   "metadata": {},
   "source": [
    "1. **Enhanced Predictive Accuracy**: ML algorithms can improve the accuracy of risk predictions by learning from historical data and adapting to new information. This is particularly important in areas like credit risk modeling, where understanding borrower behavior is crucial.\n",
    "1. **Real-Time Analysis**: With the ability to process data in real-time, ML enables organizations to respond swiftly to emerging risks. This agility is vital in dynamic markets where conditions can change rapidly.\n",
    "1. **Complex Data Handling**: The financial sector generates vast amounts of data, including unstructured data. ML techniques excel at processing and analyzing this complex data, allowing for more comprehensive risk assessments (more on unstructured data in the [second part of the course](day2_nlp.ipynb)).\n",
    "1. **Model Risk Management**: As organizations increasingly rely on data-driven models, managing the risks associated with these models becomes critical. ML can help identify and mitigate model risk by providing insights into model performance and reliability.\n",
    "1. **Automation and Efficiency**: By automating routine risk assessment tasks, ML frees up valuable resources, allowing risk managers to focus on strategic decision-making. This efficiency is particularly beneficial in credit risk management, where timely decisions can significantly impact profitability.\n",
    "\n",
    "In summary, the integration of Machine Learning into risk management not only enhances predictive capabilities but also streamlines processes, making it an invaluable asset for organizations aiming to navigate the complexities of modern financial risks."
   ]
  },
  {
   "cell_type": "markdown",
   "metadata": {},
   "source": [
    "### A real-world use case: Residual Value Risk Modelling"
   ]
  },
  {
   "cell_type": "markdown",
   "metadata": {},
   "source": [
    "In the following, we will work on a real-world use case that car leasing entities typically face. It is the risk associated with the uncertainty of what a leased out car can be resold at when the car returns to the leasing entity. This asset risk is commonly known as residual value risk."
   ]
  },
  {
   "cell_type": "markdown",
   "metadata": {},
   "source": [
    "**Residual Value**\n",
    "> Residual value is the estimated value of a vehicle at the end of its lease term."
   ]
  },
  {
   "cell_type": "markdown",
   "metadata": {},
   "source": [
    "<img src=\"img/rv.png\" alt=\"Car depreciation\" width=\"1000\" height=\"500\"/>\n",
    "<p>Image source: <a href=\"https://diminishedvalueofgeorgia.com/the-top-10-slowest-depreciating-used-cars-in-the-u-s/\">Diminished Value of Georgia</a></p>"
   ]
  },
  {
   "cell_type": "markdown",
   "metadata": {},
   "source": [
    "**Why do leasing companies care about residual values?**\n",
    "\n",
    "Residual values are crucial for determining the expected worth of an asset at the end of its lease term. Accurate estimates help leasing companies set appropriate lease payments and manage their financial risk. If the actual residual value is lower than anticipated, it can lead to financial losses for the leasing company.\n",
    "\n",
    "Thus a key objective in residual value risk management is to achieve the greatest possible accuracy in predicting residual value (RV) – what the vehicles are worth at the end of the lease period – to enable optimal pricing of leases and prevent future losses when remarketing the used vehicles."
   ]
  },
  {
   "cell_type": "markdown",
   "metadata": {},
   "source": [
    "**What determines the residual value of a vehicle?**\n",
    "\n",
    "Besides the actual condition of the car, proxied by factors such as age, mileage or damage information, changing customer preferences, economic swings, greater transparency in the used-car market, new technologies such as electric cars, or the regulatory uncertainties do all affect the residual value of a car. This makes the prediction of used cars a complicated task."
   ]
  },
  {
   "cell_type": "markdown",
   "metadata": {},
   "source": [
    "For the remaining part of the script we will work with a dataset of used cars that were sold in the US market. Besides the actual used car value the dataset contains variables that affects the selling price of the used cars. Such data is commonly used to train models for the prediction of residual values. this use case forms the basis to go through fundamental concepts in supervised ML:\n",
    "- What kind of \"data\" do we learn from?\n",
    "- How can we formalize the goal of learning?\n",
    "- What is a \"prediction model\"?\n",
    "- How can we quantify \"predictive performance\"?\n",
    "- What is a \"learning algorithm\"\n",
    "- How can we operationalize learning?"
   ]
  },
  {
   "cell_type": "markdown",
   "metadata": {},
   "source": [
    "## Developing a Machine Learning Model"
   ]
  },
  {
   "cell_type": "markdown",
   "metadata": {},
   "source": [
    "When building a ML model from scratch, there are some fundamental steps one typically follows to come up with a production ready model:\n",
    "\n",
    "1. **Understanding the Problem**: Clearly define the problem you are trying to solve. This includes identifying whether it is a classification, regression, or clustering task, as this will guide your choice of algorithms and evaluation metrics. \n",
    "\n",
    "1. **Data Collection and Preprocessing**: Gather relevant data that is representative of the problem domain. This step involves cleaning the data, handling missing values, and transforming features to ensure they are suitable for modelling.\n",
    "\n",
    "1. **Feature Selection and Engineering**: Identify the most relevant features that contribute to the model's performance. Feature engineering may involve creating new features from existing data to improve the model's predictive power.\n",
    "\n",
    "1. **Choosing the Right Algorithm**: Select an appropriate ML algorithm based on the nature of the data and the problem. Different algorithms have different strengths and weaknesses, so understanding these can help in making an informed choice.\n",
    "\n",
    "1. **Model Training and Validation**: Train the model using a portion of the data while keeping another portion for validation. This helps in assessing how well the model generalizes to unseen data.\n",
    "\n",
    "1. **Model Evaluation**: Use appropriate metrics to evaluate the model's performance. This could include accuracy, precision, recall, F1 score, or area under the ROC curve, depending on the specific task.\n",
    "\n",
    "1. **Calibration and Tuning**: Fine-tune the model parameters to optimize performance. This may involve techniques like cross-validation and hyperparameter tuning to ensure the model is well-calibrated.\n",
    "\n",
    "1. **Deployment and Monitoring**: Once the model is trained and validated, deploy it in a real-world environment. Continuous monitoring is essential to ensure the model maintains its performance over time and adapts to any changes in the data."
   ]
  },
  {
   "cell_type": "markdown",
   "metadata": {},
   "source": [
    "### Undestanding the Problem"
   ]
  },
  {
   "cell_type": "markdown",
   "metadata": {},
   "source": [
    "Based on the information above we know that the development of a residual value risk model is a regression task. Moreover, I have provided, albeit limited, domain knowledge as to what residual value risk is and why lease companies try to steer it. According to my experience, domain knowledge is at least as important as the mathematical and technical skills required to come up with a decent ML model. Thus, try to get input from domain experts if you are tasked to solve an analytical problem in a domain where you only have limited knowledge. It will make your solution better!"
   ]
  },
  {
   "cell_type": "markdown",
   "metadata": {},
   "source": [
    "### Data Preprocessing"
   ]
  },
  {
   "cell_type": "markdown",
   "metadata": {},
   "source": [
    "#### Data Cleaning"
   ]
  },
  {
   "cell_type": "markdown",
   "metadata": {},
   "source": [
    "First, we import pandas a popular Python library that is designed to manipulate rectangular data conveniently."
   ]
  },
  {
   "cell_type": "code",
   "execution_count": 1,
   "metadata": {},
   "outputs": [],
   "source": [
    "import pandas as pd\n",
    "pd.set_option('display.float_format', '{:.2f}'.format)"
   ]
  },
  {
   "cell_type": "markdown",
   "metadata": {},
   "source": [
    "Then we read the used car data."
   ]
  },
  {
   "cell_type": "code",
   "execution_count": 2,
   "metadata": {},
   "outputs": [],
   "source": [
    "df_uc = pd.read_csv('data/used_car.csv', parse_dates=['posting_date'])"
   ]
  },
  {
   "cell_type": "markdown",
   "metadata": {},
   "source": [
    "What is the dimension of the data?"
   ]
  },
  {
   "cell_type": "code",
   "execution_count": 3,
   "metadata": {},
   "outputs": [
    {
     "data": {
      "text/plain": [
       "(426812, 17)"
      ]
     },
     "execution_count": 3,
     "metadata": {},
     "output_type": "execute_result"
    }
   ],
   "source": [
    "df_uc.shape"
   ]
  },
  {
   "cell_type": "markdown",
   "metadata": {},
   "source": [
    "Overall, there 17 columns with 426,812 samples."
   ]
  },
  {
   "cell_type": "markdown",
   "metadata": {},
   "source": [
    "Next, we have a first glimpse at the data and check the data types."
   ]
  },
  {
   "cell_type": "code",
   "execution_count": 4,
   "metadata": {},
   "outputs": [
    {
     "data": {
      "text/html": [
       "<div>\n",
       "<style scoped>\n",
       "    .dataframe tbody tr th:only-of-type {\n",
       "        vertical-align: middle;\n",
       "    }\n",
       "\n",
       "    .dataframe tbody tr th {\n",
       "        vertical-align: top;\n",
       "    }\n",
       "\n",
       "    .dataframe thead th {\n",
       "        text-align: right;\n",
       "    }\n",
       "</style>\n",
       "<table border=\"1\" class=\"dataframe\">\n",
       "  <thead>\n",
       "    <tr style=\"text-align: right;\">\n",
       "      <th></th>\n",
       "      <th>id</th>\n",
       "      <th>region</th>\n",
       "      <th>price</th>\n",
       "      <th>year</th>\n",
       "      <th>manufacturer</th>\n",
       "      <th>model</th>\n",
       "      <th>condition</th>\n",
       "      <th>cylinders</th>\n",
       "      <th>fuel</th>\n",
       "      <th>odometer</th>\n",
       "      <th>transmission</th>\n",
       "      <th>VIN</th>\n",
       "      <th>drive</th>\n",
       "      <th>type</th>\n",
       "      <th>paint_color</th>\n",
       "      <th>state</th>\n",
       "      <th>posting_date</th>\n",
       "    </tr>\n",
       "  </thead>\n",
       "  <tbody>\n",
       "    <tr>\n",
       "      <th>147544</th>\n",
       "      <td>7315056111</td>\n",
       "      <td>st louis, MO</td>\n",
       "      <td>7250</td>\n",
       "      <td>2016.00</td>\n",
       "      <td>nissan</td>\n",
       "      <td>versa note</td>\n",
       "      <td>good</td>\n",
       "      <td>4 cylinders</td>\n",
       "      <td>gas</td>\n",
       "      <td>76000.00</td>\n",
       "      <td>automatic</td>\n",
       "      <td>NaN</td>\n",
       "      <td>fwd</td>\n",
       "      <td>hatchback</td>\n",
       "      <td>black</td>\n",
       "      <td>il</td>\n",
       "      <td>2021-04-30</td>\n",
       "    </tr>\n",
       "    <tr>\n",
       "      <th>417124</th>\n",
       "      <td>7315276117</td>\n",
       "      <td>green bay</td>\n",
       "      <td>8495</td>\n",
       "      <td>2011.00</td>\n",
       "      <td>chevrolet</td>\n",
       "      <td>equinox</td>\n",
       "      <td>excellent</td>\n",
       "      <td>4 cylinders</td>\n",
       "      <td>gas</td>\n",
       "      <td>126000.00</td>\n",
       "      <td>automatic</td>\n",
       "      <td>NaN</td>\n",
       "      <td>4wd</td>\n",
       "      <td>SUV</td>\n",
       "      <td>grey</td>\n",
       "      <td>wi</td>\n",
       "      <td>2021-05-01</td>\n",
       "    </tr>\n",
       "    <tr>\n",
       "      <th>203035</th>\n",
       "      <td>7314515999</td>\n",
       "      <td>holland</td>\n",
       "      <td>17995</td>\n",
       "      <td>2013.00</td>\n",
       "      <td>gmc</td>\n",
       "      <td>sierra 1500 sle</td>\n",
       "      <td>excellent</td>\n",
       "      <td>8 cylinders</td>\n",
       "      <td>gas</td>\n",
       "      <td>107000.00</td>\n",
       "      <td>automatic</td>\n",
       "      <td>NaN</td>\n",
       "      <td>NaN</td>\n",
       "      <td>truck</td>\n",
       "      <td>red</td>\n",
       "      <td>mi</td>\n",
       "      <td>2021-04-29</td>\n",
       "    </tr>\n",
       "  </tbody>\n",
       "</table>\n",
       "</div>"
      ],
      "text/plain": [
       "                id        region  price    year manufacturer            model  \\\n",
       "147544  7315056111  st louis, MO   7250 2016.00       nissan       versa note   \n",
       "417124  7315276117     green bay   8495 2011.00    chevrolet          equinox   \n",
       "203035  7314515999       holland  17995 2013.00          gmc  sierra 1500 sle   \n",
       "\n",
       "        condition    cylinders fuel  odometer transmission  VIN drive  \\\n",
       "147544       good  4 cylinders  gas  76000.00    automatic  NaN   fwd   \n",
       "417124  excellent  4 cylinders  gas 126000.00    automatic  NaN   4wd   \n",
       "203035  excellent  8 cylinders  gas 107000.00    automatic  NaN   NaN   \n",
       "\n",
       "             type paint_color state posting_date  \n",
       "147544  hatchback       black    il   2021-04-30  \n",
       "417124        SUV        grey    wi   2021-05-01  \n",
       "203035      truck         red    mi   2021-04-29  "
      ]
     },
     "execution_count": 4,
     "metadata": {},
     "output_type": "execute_result"
    }
   ],
   "source": [
    "df_uc.sample(3)"
   ]
  },
  {
   "cell_type": "markdown",
   "metadata": {},
   "source": [
    "A short description of each variable can be found [here](data/used_car_dictionary.md)."
   ]
  },
  {
   "cell_type": "code",
   "execution_count": 5,
   "metadata": {},
   "outputs": [
    {
     "data": {
      "text/plain": [
       "id                       int64\n",
       "region                  object\n",
       "price                    int64\n",
       "year                   float64\n",
       "manufacturer            object\n",
       "model                   object\n",
       "condition               object\n",
       "cylinders               object\n",
       "fuel                    object\n",
       "odometer               float64\n",
       "transmission            object\n",
       "VIN                     object\n",
       "drive                   object\n",
       "type                    object\n",
       "paint_color             object\n",
       "state                   object\n",
       "posting_date    datetime64[ns]\n",
       "dtype: object"
      ]
     },
     "execution_count": 5,
     "metadata": {},
     "output_type": "execute_result"
    }
   ],
   "source": [
    "df_uc.dtypes"
   ]
  },
  {
   "cell_type": "markdown",
   "metadata": {},
   "source": [
    "Note the following definition of data types:\n",
    "- `int64`: 64-bit signed integer type.\n",
    "- `float64`: 64-bit floating point type.\n",
    "- `object`: generic container for any Python object (here used for string variables)\n",
    "\n",
    "Data types seem to be correct."
   ]
  },
  {
   "cell_type": "markdown",
   "metadata": {},
   "source": [
    "We want to ensure that there are no duplicate entries in our data. A ML model may give undue weight to duplicate entries, effectively treating them as more important than unique samples. This can skew the learning process, especially if the duplicates belong to a specific class, leading to a biased model that does not accurately reflect the underlying distribution of the data."
   ]
  },
  {
   "cell_type": "code",
   "execution_count": 6,
   "metadata": {},
   "outputs": [
    {
     "data": {
      "text/plain": [
       "np.int64(4222)"
      ]
     },
     "execution_count": 6,
     "metadata": {},
     "output_type": "execute_result"
    }
   ],
   "source": [
    "df_uc.drop(columns=['id']).duplicated().sum()"
   ]
  },
  {
   "cell_type": "markdown",
   "metadata": {},
   "source": [
    "There are 4222 duplicates in our raw data. We keep only the first entry."
   ]
  },
  {
   "cell_type": "code",
   "execution_count": 7,
   "metadata": {},
   "outputs": [],
   "source": [
    "df_uc = df_uc.drop(columns=['id']).drop_duplicates(keep='first')"
   ]
  },
  {
   "cell_type": "markdown",
   "metadata": {},
   "source": [
    "A common way to get a first feeling for the variables is to look at their descriptive statistics. This can be done with the pandas method `describe()`."
   ]
  },
  {
   "cell_type": "code",
   "execution_count": 8,
   "metadata": {},
   "outputs": [
    {
     "data": {
      "text/html": [
       "<div>\n",
       "<style scoped>\n",
       "    .dataframe tbody tr th:only-of-type {\n",
       "        vertical-align: middle;\n",
       "    }\n",
       "\n",
       "    .dataframe tbody tr th {\n",
       "        vertical-align: top;\n",
       "    }\n",
       "\n",
       "    .dataframe thead th {\n",
       "        text-align: right;\n",
       "    }\n",
       "</style>\n",
       "<table border=\"1\" class=\"dataframe\">\n",
       "  <thead>\n",
       "    <tr style=\"text-align: right;\">\n",
       "      <th></th>\n",
       "      <th>price</th>\n",
       "      <th>year</th>\n",
       "      <th>odometer</th>\n",
       "      <th>posting_date</th>\n",
       "    </tr>\n",
       "  </thead>\n",
       "  <tbody>\n",
       "    <tr>\n",
       "      <th>count</th>\n",
       "      <td>422590.00</td>\n",
       "      <td>421475.00</td>\n",
       "      <td>418324.00</td>\n",
       "      <td>422590</td>\n",
       "    </tr>\n",
       "    <tr>\n",
       "      <th>mean</th>\n",
       "      <td>75774.14</td>\n",
       "      <td>2011.23</td>\n",
       "      <td>97993.36</td>\n",
       "      <td>2021-04-23 08:18:04.557609216</td>\n",
       "    </tr>\n",
       "    <tr>\n",
       "      <th>min</th>\n",
       "      <td>0.00</td>\n",
       "      <td>1900.00</td>\n",
       "      <td>0.00</td>\n",
       "      <td>2021-04-04 00:00:00</td>\n",
       "    </tr>\n",
       "    <tr>\n",
       "      <th>25%</th>\n",
       "      <td>5950.00</td>\n",
       "      <td>2008.00</td>\n",
       "      <td>37531.00</td>\n",
       "      <td>2021-04-17 00:00:00</td>\n",
       "    </tr>\n",
       "    <tr>\n",
       "      <th>50%</th>\n",
       "      <td>13988.00</td>\n",
       "      <td>2013.00</td>\n",
       "      <td>85377.00</td>\n",
       "      <td>2021-04-25 00:00:00</td>\n",
       "    </tr>\n",
       "    <tr>\n",
       "      <th>75%</th>\n",
       "      <td>26500.00</td>\n",
       "      <td>2017.00</td>\n",
       "      <td>133600.00</td>\n",
       "      <td>2021-05-01 00:00:00</td>\n",
       "    </tr>\n",
       "    <tr>\n",
       "      <th>max</th>\n",
       "      <td>3736928711.00</td>\n",
       "      <td>2022.00</td>\n",
       "      <td>10000000.00</td>\n",
       "      <td>2021-05-05 00:00:00</td>\n",
       "    </tr>\n",
       "    <tr>\n",
       "      <th>std</th>\n",
       "      <td>12243930.69</td>\n",
       "      <td>9.47</td>\n",
       "      <td>213704.62</td>\n",
       "      <td>NaN</td>\n",
       "    </tr>\n",
       "  </tbody>\n",
       "</table>\n",
       "</div>"
      ],
      "text/plain": [
       "              price      year    odometer                   posting_date\n",
       "count     422590.00 421475.00   418324.00                         422590\n",
       "mean       75774.14   2011.23    97993.36  2021-04-23 08:18:04.557609216\n",
       "min            0.00   1900.00        0.00            2021-04-04 00:00:00\n",
       "25%         5950.00   2008.00    37531.00            2021-04-17 00:00:00\n",
       "50%        13988.00   2013.00    85377.00            2021-04-25 00:00:00\n",
       "75%        26500.00   2017.00   133600.00            2021-05-01 00:00:00\n",
       "max   3736928711.00   2022.00 10000000.00            2021-05-05 00:00:00\n",
       "std     12243930.69      9.47   213704.62                            NaN"
      ]
     },
     "execution_count": 8,
     "metadata": {},
     "output_type": "execute_result"
    }
   ],
   "source": [
    "df_uc.describe(exclude=['object']) # integers, floats and datetime"
   ]
  },
  {
   "cell_type": "markdown",
   "metadata": {},
   "source": [
    "We can see that there outliers in the data:\n",
    "- maximum `price` of 3,736,928,711 $ is not reasonable\n",
    "- maximum `odometer` of 10,000,000 is also off\n",
    "- model `year` of 1900 is unlikely\n",
    "\n",
    "In the following we remove these outliers. "
   ]
  },
  {
   "cell_type": "code",
   "execution_count": 9,
   "metadata": {},
   "outputs": [],
   "source": [
    "# 1: Remove samples with a price >= 100000\n",
    "df_uc = df_uc.loc[df_uc['price']<100000]\n",
    "\n",
    "# 2: Remove samples with a year < 2000\n",
    "df_uc = df_uc.loc[df_uc['year']>=2000]\n",
    "\n",
    "# 3: Remove samples with a odometer > 200000\n",
    "df_uc = df_uc.loc[df_uc['odometer']<=200000]"
   ]
  },
  {
   "cell_type": "code",
   "execution_count": 10,
   "metadata": {},
   "outputs": [
    {
     "data": {
      "text/html": [
       "<div>\n",
       "<style scoped>\n",
       "    .dataframe tbody tr th:only-of-type {\n",
       "        vertical-align: middle;\n",
       "    }\n",
       "\n",
       "    .dataframe tbody tr th {\n",
       "        vertical-align: top;\n",
       "    }\n",
       "\n",
       "    .dataframe thead th {\n",
       "        text-align: right;\n",
       "    }\n",
       "</style>\n",
       "<table border=\"1\" class=\"dataframe\">\n",
       "  <thead>\n",
       "    <tr style=\"text-align: right;\">\n",
       "      <th></th>\n",
       "      <th>region</th>\n",
       "      <th>manufacturer</th>\n",
       "      <th>model</th>\n",
       "      <th>condition</th>\n",
       "      <th>cylinders</th>\n",
       "      <th>fuel</th>\n",
       "      <th>transmission</th>\n",
       "      <th>VIN</th>\n",
       "      <th>drive</th>\n",
       "      <th>type</th>\n",
       "      <th>paint_color</th>\n",
       "      <th>state</th>\n",
       "    </tr>\n",
       "  </thead>\n",
       "  <tbody>\n",
       "    <tr>\n",
       "      <th>count</th>\n",
       "      <td>372280</td>\n",
       "      <td>361468</td>\n",
       "      <td>369065</td>\n",
       "      <td>218465</td>\n",
       "      <td>214072</td>\n",
       "      <td>370244</td>\n",
       "      <td>370764</td>\n",
       "      <td>247417</td>\n",
       "      <td>259796</td>\n",
       "      <td>297770</td>\n",
       "      <td>261213</td>\n",
       "      <td>372280</td>\n",
       "    </tr>\n",
       "    <tr>\n",
       "      <th>unique</th>\n",
       "      <td>404</td>\n",
       "      <td>41</td>\n",
       "      <td>23395</td>\n",
       "      <td>6</td>\n",
       "      <td>8</td>\n",
       "      <td>5</td>\n",
       "      <td>3</td>\n",
       "      <td>108744</td>\n",
       "      <td>3</td>\n",
       "      <td>13</td>\n",
       "      <td>12</td>\n",
       "      <td>51</td>\n",
       "    </tr>\n",
       "    <tr>\n",
       "      <th>top</th>\n",
       "      <td>columbus</td>\n",
       "      <td>ford</td>\n",
       "      <td>f-150</td>\n",
       "      <td>good</td>\n",
       "      <td>6 cylinders</td>\n",
       "      <td>gas</td>\n",
       "      <td>automatic</td>\n",
       "      <td>1FMJU1JT1HEA52352</td>\n",
       "      <td>4wd</td>\n",
       "      <td>sedan</td>\n",
       "      <td>white</td>\n",
       "      <td>ca</td>\n",
       "    </tr>\n",
       "    <tr>\n",
       "      <th>freq</th>\n",
       "      <td>3194</td>\n",
       "      <td>60453</td>\n",
       "      <td>7019</td>\n",
       "      <td>106911</td>\n",
       "      <td>83390</td>\n",
       "      <td>310918</td>\n",
       "      <td>293591</td>\n",
       "      <td>261</td>\n",
       "      <td>117001</td>\n",
       "      <td>80398</td>\n",
       "      <td>69925</td>\n",
       "      <td>43164</td>\n",
       "    </tr>\n",
       "  </tbody>\n",
       "</table>\n",
       "</div>"
      ],
      "text/plain": [
       "          region manufacturer   model condition    cylinders    fuel  \\\n",
       "count     372280       361468  369065    218465       214072  370244   \n",
       "unique       404           41   23395         6            8       5   \n",
       "top     columbus         ford   f-150      good  6 cylinders     gas   \n",
       "freq        3194        60453    7019    106911        83390  310918   \n",
       "\n",
       "       transmission                VIN   drive    type paint_color   state  \n",
       "count        370764             247417  259796  297770      261213  372280  \n",
       "unique            3             108744       3      13          12      51  \n",
       "top       automatic  1FMJU1JT1HEA52352     4wd   sedan       white      ca  \n",
       "freq         293591                261  117001   80398       69925   43164  "
      ]
     },
     "execution_count": 10,
     "metadata": {},
     "output_type": "execute_result"
    }
   ],
   "source": [
    "df_uc.describe(include=['object']) # strings only"
   ]
  },
  {
   "cell_type": "markdown",
   "metadata": {},
   "source": [
    "Alternatively, we can also visualize the univariate distribution of each of the variables. For this purpose, I provide a convenience function `plot_univariate()` which you can find in the [util.py](util.py) module."
   ]
  },
  {
   "cell_type": "code",
   "execution_count": 11,
   "metadata": {},
   "outputs": [],
   "source": [
    "from util import plot_univariate"
   ]
  },
  {
   "cell_type": "code",
   "execution_count": 12,
   "metadata": {},
   "outputs": [
    {
     "data": {
      "image/png": "[encoded data removed]",
      "text/plain": [
       "<Figure size 2000x2400 with 12 Axes>"
      ]
     },
     "metadata": {},
     "output_type": "display_data"
    }
   ],
   "source": [
    "plot_univariate(\n",
    "    df_uc, \n",
    "    columns=['manufacturer', 'state', 'price', 'year', 'odometer', 'condition', 'fuel', 'type', 'drive', 'transmission', 'cylinders', 'paint_color'], \n",
    "    log_dict={'price': True, 'odometer': True})"
   ]
  },
  {
   "cell_type": "markdown",
   "metadata": {},
   "source": [
    "From the plot above we can see that the data contains used car prices from various manufacturers. The used cars have been offered in different states in the US and span across different model years. There is great variance across odometer which is one of the most important variables to reflect the residual value of a used car. In terms of price, there is a relatively high concentration of cars that have been offered at a price close to 0. Moving forward we drop samples with a price below 1,000 $ as these samples are not of interest in a residual value context."
   ]
  },
  {
   "cell_type": "code",
   "execution_count": 13,
   "metadata": {},
   "outputs": [],
   "source": [
    "df_uc = df_uc.loc[df_uc['price'] > 1000]"
   ]
  },
  {
   "cell_type": "markdown",
   "metadata": {},
   "source": [
    "In the context of residual value risk management we aim at answering the following questions:\n",
    "- Can we train a model that reliably predicts the residual value, i.e. the used-car price, given information about the vehicle (that is available at *inception* of the lease contract)?\n",
    "- To what extent do residual values depend on macroeconomic conditions?"
   ]
  },
  {
   "cell_type": "markdown",
   "metadata": {},
   "source": [
    "Translating these questions into a ML problem can be stated as follows:\n",
    "- We want to predict vehicles' used car prices which is the **target variable** $y$ ...\n",
    "- ... based on information about the vehicle and the macroeconomic features at time of remarketing which we call **features** $\\bold{X}$ ...\n",
    "- ... whereas the resulting model needs to fulfill a certain minimum level of prediction quality as measured by a scoring function on the prediction error $s\\left(\\epsilon\n",
    "\\right)$.\n",
    "- Does a proxy for the macroeconomic condition such as GDP growth have a high feature importance, i.e. does it help in predicting the used car value?"
   ]
  },
  {
   "cell_type": "code",
   "execution_count": 14,
   "metadata": {},
   "outputs": [],
   "source": [
    "df_uc.reset_index(drop=True, inplace=True)"
   ]
  },
  {
   "cell_type": "code",
   "execution_count": 15,
   "metadata": {},
   "outputs": [],
   "source": [
    "# Target variable\n",
    "y = df_uc['price']"
   ]
  },
  {
   "cell_type": "code",
   "execution_count": 16,
   "metadata": {},
   "outputs": [],
   "source": [
    "# Features\n",
    "X = df_uc.drop(columns=['price'])"
   ]
  },
  {
   "cell_type": "markdown",
   "metadata": {},
   "source": [
    "#### Train-Test Split"
   ]
  },
  {
   "cell_type": "markdown",
   "metadata": {},
   "source": [
    "In machine learning projects, splitting the dataset into **training** and **test** sets is a fundamental practice that serves several critical purposes.\n",
    "\n",
    "**Reasons for Data Splitting**\n",
    "\n",
    "1. **Model Evaluation**: The primary reason for splitting the data is to evaluate the performance of the machine learning model. The training set is used to train the model, while the test set is reserved for assessing how well the model generalizes to unseen data. This helps ensure that the model is not just memorizing the training data but can also make accurate predictions on new, unseen instances.\n",
    "\n",
    "2. **Preventing Overfitting**: By keeping a separate test set, you can monitor and mitigate the risk of overfitting. Overfitting occurs when a model learns the noise and details of the training data to the extent that it negatively impacts its performance on new data. A model that performs well on the training set but poorly on the test set is likely overfitting. In section XXX, we will learn how we can use a technique called cross validation to prevent overfitting when training the model.\n",
    "\n",
    "\n",
    "**Timing of the Split in the Data Pipeline**\n",
    "\n",
    "Splitting the data into training and test sets is typically done at the very beginning of the data pipeline for several reasons:\n",
    "\n",
    "- **Data Integrity**: Performing the split early ensures that the test set remains completely independent of the training process. This independence is crucial for obtaining an unbiased estimate of the model's performance.\n",
    "\n",
    "- **Avoiding Data Leakage**: If the data is not split early, there is a risk of data leakage, where information from the test set inadvertently influences the training process. This can lead to overly optimistic performance metrics that do not reflect the model's true capabilities."
   ]
  },
  {
   "cell_type": "markdown",
   "metadata": {},
   "source": [
    "We split the data at random into training and tests sets using the `train_test_split()` method from the popular scikit-learn library that provides a wide range of ML algorithms and other convenience functions that are typically used in ML pipelines. We will keep 20% of the data aside in the test set. For reproducibility we set a seed via the `random_state` argument."
   ]
  },
  {
   "cell_type": "code",
   "execution_count": 17,
   "metadata": {},
   "outputs": [],
   "source": [
    "from sklearn.model_selection import train_test_split"
   ]
  },
  {
   "cell_type": "code",
   "execution_count": 18,
   "metadata": {},
   "outputs": [],
   "source": [
    "X_train, X_test, y_train, y_test = train_test_split(X, y, test_size=0.2, random_state=333)"
   ]
  },
  {
   "cell_type": "markdown",
   "metadata": {},
   "source": [
    "#### Handling Missing Values"
   ]
  },
  {
   "cell_type": "markdown",
   "metadata": {},
   "source": [
    "Most ML models cannot deal with missing values. Therefore, we try to replace missing values with reasonable substitutes. This process is called data imputation. Often this is the preferred approach as compared to simply dropping samples with missing values as this would reduce the model's capability of learning patterns from the training data: Less observations, less patterns to learn."
   ]
  },
  {
   "cell_type": "code",
   "execution_count": 19,
   "metadata": {},
   "outputs": [
    {
     "data": {
      "text/plain": [
       "region               0\n",
       "year                 0\n",
       "manufacturer      7169\n",
       "model             2011\n",
       "condition       101347\n",
       "cylinders       111302\n",
       "fuel              1601\n",
       "odometer             0\n",
       "transmission      1087\n",
       "VIN              90247\n",
       "drive            79740\n",
       "type             51882\n",
       "paint_color      73975\n",
       "state                0\n",
       "posting_date         0\n",
       "dtype: int64"
      ]
     },
     "execution_count": 19,
     "metadata": {},
     "output_type": "execute_result"
    }
   ],
   "source": [
    "X_train.isnull().sum()"
   ]
  },
  {
   "cell_type": "markdown",
   "metadata": {},
   "source": [
    "Most of the features have missing values. There are different imputation strategies and depending on the variable one or the other makes more sense."
   ]
  },
  {
   "cell_type": "markdown",
   "metadata": {},
   "source": [
    "##### year"
   ]
  },
  {
   "cell_type": "markdown",
   "metadata": {},
   "source": [
    "For the model year domain knowledge helps us to define a great imputation approach. In fact, the 10th character of the vehicle identification\n",
    "number (VIN) gives precise information on the vehicles model year."
   ]
  },
  {
   "cell_type": "markdown",
   "metadata": {},
   "source": [
    "<img src=\"img/vin.jpg\" alt=\"VIN\" width=\"750\" height=\"500\"/>\n",
    "<p>Image source: <a href=\"https://www.autocheck.com/vehiclehistory/vin-basics\">AutoCheck</a></p>"
   ]
  },
  {
   "cell_type": "markdown",
   "metadata": {},
   "source": [
    "We import a dictionary that maps the 10th digit of the VIN to the model year. I have prepared this mapping dictionary in the [util.py](util.py) module."
   ]
  },
  {
   "cell_type": "code",
   "execution_count": 20,
   "metadata": {},
   "outputs": [],
   "source": [
    "from util import dict_vin2year"
   ]
  },
  {
   "cell_type": "code",
   "execution_count": 21,
   "metadata": {},
   "outputs": [],
   "source": [
    "X_train.loc[X_train.year.isnull(), 'year'] = X_train.loc[X_train.year.isnull()].VIN.apply(lambda x: x[9]).map(dict_vin2year)"
   ]
  },
  {
   "cell_type": "markdown",
   "metadata": {},
   "source": [
    "##### manufacturer"
   ]
  },
  {
   "cell_type": "markdown",
   "metadata": {},
   "source": [
    "The same applies to the manufacturer. 2nd and 3rd character of the VIN give information about car manufacturer. Again, we use this information to impute the manufacturer column."
   ]
  },
  {
   "cell_type": "code",
   "execution_count": 22,
   "metadata": {},
   "outputs": [],
   "source": [
    "from util import dict_vin2manufacturer"
   ]
  },
  {
   "cell_type": "code",
   "execution_count": 23,
   "metadata": {},
   "outputs": [],
   "source": [
    "X_train.loc[X_train.manufacturer.isnull() & X_train.VIN.notnull(), 'manufacturer'] = X_train.loc[X_train.manufacturer.isnull() & X_train.VIN.notnull()].VIN.apply(lambda x: x[0:3]).map(dict_vin2manufacturer)"
   ]
  },
  {
   "cell_type": "markdown",
   "metadata": {},
   "source": [
    "##### model"
   ]
  },
  {
   "cell_type": "markdown",
   "metadata": {},
   "source": [
    "A valid imputation strategy for categorical variables is to introduce a new category \"unknown\" as imputation of missing values. We follow this strategy for the model column using the `SimpleImputer` class of scikit-learn."
   ]
  },
  {
   "cell_type": "code",
   "execution_count": 24,
   "metadata": {},
   "outputs": [],
   "source": [
    "from sklearn.impute import SimpleImputer"
   ]
  },
  {
   "cell_type": "code",
   "execution_count": 25,
   "metadata": {},
   "outputs": [],
   "source": [
    "X_train[['model']] = SimpleImputer(strategy='constant', fill_value='unknown').fit_transform(X_train[['model']])"
   ]
  },
  {
   "cell_type": "markdown",
   "metadata": {},
   "source": [
    "##### paint_color"
   ]
  },
  {
   "cell_type": "markdown",
   "metadata": {},
   "source": [
    "We can use the `SimpleImputer` also to impute missing values with the most frequent value. We do so for the paint_color variable."
   ]
  },
  {
   "cell_type": "code",
   "execution_count": 26,
   "metadata": {},
   "outputs": [],
   "source": [
    "X_train[['paint_color']] = SimpleImputer(strategy='most_frequent').fit_transform(X_train[['paint_color']])"
   ]
  },
  {
   "cell_type": "markdown",
   "metadata": {},
   "source": [
    "##### cylinders, fuel, transmission, drive, type"
   ]
  },
  {
   "cell_type": "code",
   "execution_count": 27,
   "metadata": {},
   "outputs": [],
   "source": [
    "from util import ConditionalImputer\n",
    "from tqdm import tqdm"
   ]
  },
  {
   "cell_type": "code",
   "execution_count": 28,
   "metadata": {},
   "outputs": [],
   "source": [
    "columns_to_impute = ['cylinders', 'fuel', 'transmission', 'drive']"
   ]
  },
  {
   "cell_type": "code",
   "execution_count": 29,
   "metadata": {},
   "outputs": [
    {
     "name": "stderr",
     "output_type": "stream",
     "text": [
      "100%|██████████| 4/4 [02:48<00:00, 42.05s/it]\n"
     ]
    }
   ],
   "source": [
    "for column in tqdm(columns_to_impute):\n",
    "    # Create a list of condition columns excluding the current target column\n",
    "    relevant_cols = ['manufacturer', 'type'] + [column]\n",
    "    \n",
    "    # Impute the target column using the adjusted condition columns\n",
    "    X_train[column] = ConditionalImputer(target_col=column, condition_cols=['manufacturer', 'type'], strategy='most_frequent').fit_transform(X_train[relevant_cols])"
   ]
  },
  {
   "cell_type": "code",
   "execution_count": 30,
   "metadata": {},
   "outputs": [],
   "source": [
    "columns_to_impute = ['cylinders', 'fuel', 'transmission', 'drive', 'type']"
   ]
  },
  {
   "cell_type": "code",
   "execution_count": 31,
   "metadata": {},
   "outputs": [
    {
     "name": "stderr",
     "output_type": "stream",
     "text": [
      "  0%|          | 0/5 [00:00<?, ?it/s]"
     ]
    },
    {
     "name": "stderr",
     "output_type": "stream",
     "text": [
      "100%|██████████| 5/5 [00:14<00:00,  2.83s/it]\n"
     ]
    }
   ],
   "source": [
    "for column in tqdm(columns_to_impute):\n",
    "    # Create a list of condition columns excluding the current target column\n",
    "    relevant_cols = ['manufacturer'] + [column]\n",
    "    \n",
    "    # Impute the target column using the adjusted condition columns\n",
    "    X_train[column] = ConditionalImputer(target_col=column, condition_cols=['manufacturer'], strategy='most_frequent').fit_transform(X_train[relevant_cols])"
   ]
  },
  {
   "cell_type": "markdown",
   "metadata": {},
   "source": [
    "##### odometer"
   ]
  },
  {
   "cell_type": "markdown",
   "metadata": {},
   "source": [
    "One intuitive imputation strategy for the odometer (miles driven with used car) is to assume that the older the car, the more miles have been driven on average. For this purpose we first calculate the age of the vehicle which is the time between model year and posting date."
   ]
  },
  {
   "cell_type": "code",
   "execution_count": 32,
   "metadata": {},
   "outputs": [],
   "source": [
    "X_train['age'] = X_train['posting_date'].dt.year - X_train['year']"
   ]
  },
  {
   "cell_type": "markdown",
   "metadata": {},
   "source": [
    "We now impute the missing odometer with the most similar used cars in terms of vehicle age. For this purpose, we use scikit-learn's `KNNImputer` class."
   ]
  },
  {
   "cell_type": "code",
   "execution_count": 33,
   "metadata": {},
   "outputs": [],
   "source": [
    "from sklearn.impute import KNNImputer"
   ]
  },
  {
   "cell_type": "code",
   "execution_count": 34,
   "metadata": {},
   "outputs": [],
   "source": [
    "X_train[['age', 'odometer']] = KNNImputer(n_neighbors=10).fit_transform(X_train[['age', 'odometer']])"
   ]
  },
  {
   "cell_type": "markdown",
   "metadata": {},
   "source": [
    "The remaining observations with missing values are going to be dropped."
   ]
  },
  {
   "cell_type": "code",
   "execution_count": 35,
   "metadata": {},
   "outputs": [],
   "source": [
    "X_train = X_train.loc[X_train.drop(columns=['VIN', 'condition']).notnull().all(axis=1)]\n",
    "y_train = y_train.loc[X_train.index]"
   ]
  },
  {
   "cell_type": "code",
   "execution_count": 36,
   "metadata": {},
   "outputs": [
    {
     "data": {
      "text/plain": [
       "region              0\n",
       "year                0\n",
       "manufacturer        0\n",
       "model               0\n",
       "condition       99550\n",
       "cylinders           0\n",
       "fuel                0\n",
       "odometer            0\n",
       "transmission        0\n",
       "VIN             86985\n",
       "drive               0\n",
       "type                0\n",
       "paint_color         0\n",
       "state               0\n",
       "posting_date        0\n",
       "age                 0\n",
       "dtype: int64"
      ]
     },
     "execution_count": 36,
     "metadata": {},
     "output_type": "execute_result"
    }
   ],
   "source": [
    "X_train.isnull().sum()"
   ]
  },
  {
   "cell_type": "code",
   "execution_count": 37,
   "metadata": {},
   "outputs": [
    {
     "data": {
      "text/plain": [
       "(259935, 16)"
      ]
     },
     "execution_count": 37,
     "metadata": {},
     "output_type": "execute_result"
    }
   ],
   "source": [
    "X_train.shape"
   ]
  },
  {
   "cell_type": "markdown",
   "metadata": {},
   "source": [
    "We now have a clean training data set with 291,384 complete samples."
   ]
  },
  {
   "cell_type": "markdown",
   "metadata": {},
   "source": [
    "### Feature Engineering"
   ]
  },
  {
   "cell_type": "markdown",
   "metadata": {},
   "source": [
    "#### Feature Selection"
   ]
  },
  {
   "cell_type": "markdown",
   "metadata": {},
   "source": [
    "When selecting relevant features for training a machine learning model, it is crucial to consider whether the information about the feature will be available at the time of inference.\n",
    "\n",
    "In a risk management context, we want to apply the machine learning model at the *beginning* of a lease contract to determine the lease rate based on the residual value prediction. This means that any information that becomes available only at the end of the leasing period cannot be used to train our model.\n",
    "\n",
    "Considering the features we have, the following observations can be made:\n",
    "- Typically, a lease company does not know exactly in which state or region its leased-out car will be sold at the end of the lease contract. However, if the lease company does not give the lessee the option to buy out the vehicle and plans its off-lease strategy in advance (i.e., how many off-lease units to sell in which geographical region), one could argue that information about the state or region is still known at the beginning of the lease contract.\n",
    "- Age and odometer readings are not known exactly by the lease company at the beginning of the lease contract, but they can make reasonable assumptions about these features as the lease contracts determine the leasing period (age) and the maximum annual mileage (odometer).\n",
    "- At the beginning of the lease contract, the leasing company does not know the final condition of the vehicle at the end of the leasing period.\n",
    "\n",
    "With these considerations in mind, we drop 'condition' and 'region' from our feature set. Additionally, we drop the VIN as it is of little value for predicting the residual value of a car."
   ]
  },
  {
   "cell_type": "code",
   "execution_count": 38,
   "metadata": {},
   "outputs": [],
   "source": [
    "X_train = X_train.drop(columns=['condition', 'region', 'VIN'])"
   ]
  },
  {
   "cell_type": "markdown",
   "metadata": {},
   "source": [
    "Further feature engineering typically involves creating new features from the data that can improve the model's predictive power. For example, above we have already created a new feature `age` from information of the manufacturing year and the date when the used car was posted on the sales platform."
   ]
  },
  {
   "cell_type": "code",
   "execution_count": 39,
   "metadata": {},
   "outputs": [],
   "source": [
    "X_train = X_train.drop(columns=['year', 'posting_date'])"
   ]
  },
  {
   "cell_type": "markdown",
   "metadata": {},
   "source": [
    "Often special special equipment such as sport packages depreciate faster than the bare vehicles. We can use the model variable to retrieve information whether the vehicle is a \"sports version\""
   ]
  },
  {
   "cell_type": "code",
   "execution_count": 40,
   "metadata": {},
   "outputs": [],
   "source": [
    "X_train['sport'] = X_train['model'].apply(lambda x: 'sport' in x.lower()).astype(int)"
   ]
  },
  {
   "cell_type": "code",
   "execution_count": 41,
   "metadata": {},
   "outputs": [],
   "source": [
    "X_train = X_train.drop(columns=['model'])"
   ]
  },
  {
   "cell_type": "markdown",
   "metadata": {},
   "source": [
    "One could think of further feature engineering steps. For example, from the count of the VIN one could retrieve a good proxy for the number of owners the car already had. However, this is beyond the scope of the course."
   ]
  },
  {
   "cell_type": "markdown",
   "metadata": {},
   "source": [
    "#### Encoding Categorical Variables"
   ]
  },
  {
   "cell_type": "markdown",
   "metadata": {},
   "source": [
    "Encoding categorical variables is important before training a machine learning model because most ML algorithms require numerical input and cannot directly handle categorical data. Encoding can be done using techniques such as one-hot encoding, where each category is converted into a binary vector. We do so by using the `OneHotEncoder` class from scikit-learn. "
   ]
  },
  {
   "cell_type": "code",
   "execution_count": 42,
   "metadata": {},
   "outputs": [],
   "source": [
    "from sklearn.preprocessing import OneHotEncoder"
   ]
  },
  {
   "cell_type": "code",
   "execution_count": 43,
   "metadata": {},
   "outputs": [],
   "source": [
    "# Step 1: Fit and transform the data\n",
    "encoder = OneHotEncoder(\n",
    "    sparse_output=False, \n",
    "    min_frequency=5, \n",
    "    handle_unknown='infrequent_if_exist').fit(X_train[['manufacturer', 'state', 'fuel', 'cylinders', 'paint_color', 'type', 'drive', 'transmission']])\n",
    "\n",
    "# Transform the data\n",
    "encoded_data = encoder.transform(X_train[['manufacturer', 'state', 'fuel', 'cylinders', 'paint_color', 'type', 'drive', 'transmission']])\n",
    "\n",
    "# Step 2: Create a DataFrame from the encoded data\n",
    "encoded_df = pd.DataFrame(encoded_data, columns=encoder.get_feature_names_out())\n",
    "\n",
    "# Step 3: Concatenate the original DataFrame with the encoded DataFrame\n",
    "X_train = pd.concat([X_train.reset_index(drop=True), encoded_df.reset_index(drop=True)], axis=1)\n",
    "\n",
    "# Step 4: Drop the original categorical columns if no longer needed\n",
    "X_train.drop(columns=['manufacturer', 'state', 'fuel', 'cylinders', 'paint_color', 'type', 'drive', 'transmission'], inplace=True)"
   ]
  },
  {
   "cell_type": "code",
   "execution_count": 44,
   "metadata": {},
   "outputs": [
    {
     "data": {
      "text/html": [
       "<div>\n",
       "<style scoped>\n",
       "    .dataframe tbody tr th:only-of-type {\n",
       "        vertical-align: middle;\n",
       "    }\n",
       "\n",
       "    .dataframe tbody tr th {\n",
       "        vertical-align: top;\n",
       "    }\n",
       "\n",
       "    .dataframe thead th {\n",
       "        text-align: right;\n",
       "    }\n",
       "</style>\n",
       "<table border=\"1\" class=\"dataframe\">\n",
       "  <thead>\n",
       "    <tr style=\"text-align: right;\">\n",
       "      <th></th>\n",
       "      <th>odometer</th>\n",
       "      <th>age</th>\n",
       "      <th>sport</th>\n",
       "      <th>manufacturer_acura</th>\n",
       "      <th>manufacturer_alfa-romeo</th>\n",
       "      <th>manufacturer_aston-martin</th>\n",
       "      <th>manufacturer_audi</th>\n",
       "      <th>manufacturer_bmw</th>\n",
       "      <th>manufacturer_buick</th>\n",
       "      <th>manufacturer_cadillac</th>\n",
       "      <th>...</th>\n",
       "      <th>type_sedan</th>\n",
       "      <th>type_truck</th>\n",
       "      <th>type_van</th>\n",
       "      <th>type_wagon</th>\n",
       "      <th>drive_4wd</th>\n",
       "      <th>drive_fwd</th>\n",
       "      <th>drive_rwd</th>\n",
       "      <th>transmission_automatic</th>\n",
       "      <th>transmission_manual</th>\n",
       "      <th>transmission_other</th>\n",
       "    </tr>\n",
       "  </thead>\n",
       "  <tbody>\n",
       "    <tr>\n",
       "      <th>0</th>\n",
       "      <td>86000.00</td>\n",
       "      <td>8.00</td>\n",
       "      <td>0</td>\n",
       "      <td>0.00</td>\n",
       "      <td>0.00</td>\n",
       "      <td>0.00</td>\n",
       "      <td>0.00</td>\n",
       "      <td>0.00</td>\n",
       "      <td>0.00</td>\n",
       "      <td>0.00</td>\n",
       "      <td>...</td>\n",
       "      <td>1.00</td>\n",
       "      <td>0.00</td>\n",
       "      <td>0.00</td>\n",
       "      <td>0.00</td>\n",
       "      <td>1.00</td>\n",
       "      <td>0.00</td>\n",
       "      <td>0.00</td>\n",
       "      <td>0.00</td>\n",
       "      <td>1.00</td>\n",
       "      <td>0.00</td>\n",
       "    </tr>\n",
       "    <tr>\n",
       "      <th>1</th>\n",
       "      <td>52159.00</td>\n",
       "      <td>2.00</td>\n",
       "      <td>0</td>\n",
       "      <td>0.00</td>\n",
       "      <td>0.00</td>\n",
       "      <td>0.00</td>\n",
       "      <td>0.00</td>\n",
       "      <td>0.00</td>\n",
       "      <td>0.00</td>\n",
       "      <td>0.00</td>\n",
       "      <td>...</td>\n",
       "      <td>0.00</td>\n",
       "      <td>0.00</td>\n",
       "      <td>0.00</td>\n",
       "      <td>0.00</td>\n",
       "      <td>1.00</td>\n",
       "      <td>0.00</td>\n",
       "      <td>0.00</td>\n",
       "      <td>1.00</td>\n",
       "      <td>0.00</td>\n",
       "      <td>0.00</td>\n",
       "    </tr>\n",
       "    <tr>\n",
       "      <th>2</th>\n",
       "      <td>107862.00</td>\n",
       "      <td>6.00</td>\n",
       "      <td>0</td>\n",
       "      <td>0.00</td>\n",
       "      <td>0.00</td>\n",
       "      <td>0.00</td>\n",
       "      <td>0.00</td>\n",
       "      <td>0.00</td>\n",
       "      <td>0.00</td>\n",
       "      <td>0.00</td>\n",
       "      <td>...</td>\n",
       "      <td>0.00</td>\n",
       "      <td>0.00</td>\n",
       "      <td>1.00</td>\n",
       "      <td>0.00</td>\n",
       "      <td>0.00</td>\n",
       "      <td>1.00</td>\n",
       "      <td>0.00</td>\n",
       "      <td>1.00</td>\n",
       "      <td>0.00</td>\n",
       "      <td>0.00</td>\n",
       "    </tr>\n",
       "  </tbody>\n",
       "</table>\n",
       "<p>3 rows × 142 columns</p>\n",
       "</div>"
      ],
      "text/plain": [
       "   odometer  age  sport  manufacturer_acura  manufacturer_alfa-romeo  \\\n",
       "0  86000.00 8.00      0                0.00                     0.00   \n",
       "1  52159.00 2.00      0                0.00                     0.00   \n",
       "2 107862.00 6.00      0                0.00                     0.00   \n",
       "\n",
       "   manufacturer_aston-martin  manufacturer_audi  manufacturer_bmw  \\\n",
       "0                       0.00               0.00              0.00   \n",
       "1                       0.00               0.00              0.00   \n",
       "2                       0.00               0.00              0.00   \n",
       "\n",
       "   manufacturer_buick  manufacturer_cadillac  ...  type_sedan  type_truck  \\\n",
       "0                0.00                   0.00  ...        1.00        0.00   \n",
       "1                0.00                   0.00  ...        0.00        0.00   \n",
       "2                0.00                   0.00  ...        0.00        0.00   \n",
       "\n",
       "   type_van  type_wagon  drive_4wd  drive_fwd  drive_rwd  \\\n",
       "0      0.00        0.00       1.00       0.00       0.00   \n",
       "1      0.00        0.00       1.00       0.00       0.00   \n",
       "2      1.00        0.00       0.00       1.00       0.00   \n",
       "\n",
       "   transmission_automatic  transmission_manual  transmission_other  \n",
       "0                    0.00                 1.00                0.00  \n",
       "1                    1.00                 0.00                0.00  \n",
       "2                    1.00                 0.00                0.00  \n",
       "\n",
       "[3 rows x 142 columns]"
      ]
     },
     "execution_count": 44,
     "metadata": {},
     "output_type": "execute_result"
    }
   ],
   "source": [
    "X_train.head(3)"
   ]
  },
  {
   "cell_type": "markdown",
   "metadata": {},
   "source": [
    "### Model Training"
   ]
  },
  {
   "cell_type": "markdown",
   "metadata": {},
   "source": [
    "A crucial step in the development of a ML model is that different algorithms have varying strengths and weaknesses, and selecting the most suitable one can significantly impact the model's performance and accuracy.\n",
    "\n",
    "The number of algorithms for supervised learning tasks for regression is relatively wide spread. A good overview can be found [here](https://scikit-learn.org/stable/supervised_learning.html)."
   ]
  },
  {
   "cell_type": "markdown",
   "metadata": {},
   "source": [
    "In this course we focus on tree-based models. The basic building block, also known as base learner, in a tree-based model is a Decision Tree."
   ]
  },
  {
   "cell_type": "markdown",
   "metadata": {},
   "source": [
    "#### Decision Tree"
   ]
  },
  {
   "cell_type": "markdown",
   "metadata": {},
   "source": [
    "The decision logic of a decision tree involves the following steps:\n",
    "\n",
    "- Splitting: The data is split into subsets based on the value of a feature. The goal is to find the feature and split point that best separate the data according to the target variable.\n",
    "- Decision Rules: Each node in the tree represents a decision rule based on a feature. For example, \"Is feature X greater than value Z?\".\n",
    "- Leaf Nodes: The terminal nodes (leaves) of the tree represent the prediction of the model. In regression, this is typically the mean value of the target variable of all samples that fall into the respective leaf."
   ]
  },
  {
   "cell_type": "markdown",
   "metadata": {},
   "source": [
    "**Decision Tree**:\n",
    "> Decision Trees split the data into subsets based on the value of input features, creating a tree where each node represents a feature and each branch represents a decision rule."
   ]
  },
  {
   "cell_type": "markdown",
   "metadata": {},
   "source": [
    "In the following, we train a simple decision tree using `DecisionTreeRegressor` from scikit-learn. With the the arguments `max_depth` and `min_samples_split` we control the complexity of the final tree:\n",
    "- `max_depth`: The maximum number of subsequent binary splits, i.e. how large the tree is allowed to get\n",
    "- `min_samples_split`: The minimum number of samples that need to be in a terminal leaf"
   ]
  },
  {
   "cell_type": "code",
   "execution_count": 48,
   "metadata": {},
   "outputs": [],
   "source": [
    "from sklearn import tree"
   ]
  },
  {
   "cell_type": "code",
   "execution_count": 53,
   "metadata": {},
   "outputs": [],
   "source": [
    "base_learner = tree.DecisionTreeRegressor(max_depth=2, min_samples_leaf=1000).fit(X_train, y_train)"
   ]
  },
  {
   "cell_type": "code",
   "execution_count": 54,
   "metadata": {},
   "outputs": [
    {
     "data": {
      "image/svg+xml": [
       "<?xml version=\"1.0\" encoding=\"UTF-8\" standalone=\"no\"?>\n",
       "<!DOCTYPE svg PUBLIC \"-//W3C//DTD SVG 1.1//EN\"\n",
       " \"http://www.w3.org/Graphics/SVG/1.1/DTD/svg11.dtd\">\n",
       "<!-- Generated by graphviz version 8.0.5 (20230430.1635)\n",
       " -->\n",
       "<!-- Title: Tree Pages: 1 -->\n",
       "<svg width=\"367pt\" height=\"244pt\"\n",
       " viewBox=\"0.00 0.00 367.12 244.25\" xmlns=\"http://www.w3.org/2000/svg\" xmlns:xlink=\"http://www.w3.org/1999/xlink\">\n",
       "<g id=\"graph0\" class=\"graph\" transform=\"scale(1 1) rotate(0) translate(4 240.25)\">\n",
       "<title>Tree</title>\n",
       "<polygon fill=\"white\" stroke=\"none\" points=\"-4,4 -4,-240.25 363.12,-240.25 363.12,4 -4,4\"/>\n",
       "<!-- 0 -->\n",
       "<g id=\"node1\" class=\"node\">\n",
       "<title>0</title>\n",
       "<path fill=\"#f3c5a4\" stroke=\"black\" d=\"M212.75,-236.25C212.75,-236.25 152.5,-236.25 152.5,-236.25 146.5,-236.25 140.5,-230.25 140.5,-224.25 140.5,-224.25 140.5,-190.75 140.5,-190.75 140.5,-184.75 146.5,-178.75 152.5,-178.75 152.5,-178.75 212.75,-178.75 212.75,-178.75 218.75,-178.75 224.75,-184.75 224.75,-190.75 224.75,-190.75 224.75,-224.25 224.75,-224.25 224.75,-230.25 218.75,-236.25 212.75,-236.25\"/>\n",
       "<text text-anchor=\"middle\" x=\"182.62\" y=\"-218.95\" font-family=\"Helvetica,sans-Serif\" font-size=\"14.00\">age &lt;= 6.0</text>\n",
       "<text text-anchor=\"middle\" x=\"182.62\" y=\"-202.45\" font-family=\"Helvetica,sans-Serif\" font-size=\"14.00\">259935</text>\n",
       "<text text-anchor=\"middle\" x=\"182.62\" y=\"-185.95\" font-family=\"Helvetica,sans-Serif\" font-size=\"14.00\">20410.0</text>\n",
       "</g>\n",
       "<!-- 1 -->\n",
       "<g id=\"node2\" class=\"node\">\n",
       "<title>1</title>\n",
       "<path fill=\"#ea995f\" stroke=\"black\" d=\"M187.12,-142.75C187.12,-142.75 18.12,-142.75 18.12,-142.75 12.12,-142.75 6.12,-136.75 6.12,-130.75 6.12,-130.75 6.12,-97.25 6.12,-97.25 6.12,-91.25 12.12,-85.25 18.12,-85.25 18.12,-85.25 187.12,-85.25 187.12,-85.25 193.12,-85.25 199.12,-91.25 199.12,-97.25 199.12,-97.25 199.12,-130.75 199.12,-130.75 199.12,-136.75 193.12,-142.75 187.12,-142.75\"/>\n",
       "<text text-anchor=\"middle\" x=\"102.62\" y=\"-125.45\" font-family=\"Helvetica,sans-Serif\" font-size=\"14.00\">cylinders_4 cylinders &lt;= 0.0</text>\n",
       "<text text-anchor=\"middle\" x=\"102.62\" y=\"-108.95\" font-family=\"Helvetica,sans-Serif\" font-size=\"14.00\">121508</text>\n",
       "<text text-anchor=\"middle\" x=\"102.62\" y=\"-92.45\" font-family=\"Helvetica,sans-Serif\" font-size=\"14.00\">29038.0</text>\n",
       "</g>\n",
       "<!-- 0&#45;&gt;1 -->\n",
       "<g id=\"edge1\" class=\"edge\">\n",
       "<title>0&#45;&gt;1</title>\n",
       "<path fill=\"none\" stroke=\"black\" d=\"M158.19,-178.55C150.66,-169.94 142.26,-160.33 134.32,-151.25\"/>\n",
       "<polygon fill=\"black\" stroke=\"black\" points=\"136.41,-149.32 127.19,-144.09 131.14,-153.93 136.41,-149.32\"/>\n",
       "<text text-anchor=\"middle\" x=\"125.52\" y=\"-162.99\" font-family=\"Helvetica,sans-Serif\" font-size=\"14.00\">True</text>\n",
       "</g>\n",
       "<!-- 4 -->\n",
       "<g id=\"node5\" class=\"node\">\n",
       "<title>4</title>\n",
       "<path fill=\"#fbece1\" stroke=\"black\" d=\"M297.88,-142.75C297.88,-142.75 229.38,-142.75 229.38,-142.75 223.38,-142.75 217.38,-136.75 217.38,-130.75 217.38,-130.75 217.38,-97.25 217.38,-97.25 217.38,-91.25 223.38,-85.25 229.38,-85.25 229.38,-85.25 297.88,-85.25 297.88,-85.25 303.88,-85.25 309.88,-91.25 309.88,-97.25 309.88,-97.25 309.88,-130.75 309.88,-130.75 309.88,-136.75 303.88,-142.75 297.88,-142.75\"/>\n",
       "<text text-anchor=\"middle\" x=\"263.62\" y=\"-125.45\" font-family=\"Helvetica,sans-Serif\" font-size=\"14.00\">age &lt;= 10.0</text>\n",
       "<text text-anchor=\"middle\" x=\"263.62\" y=\"-108.95\" font-family=\"Helvetica,sans-Serif\" font-size=\"14.00\">138427</text>\n",
       "<text text-anchor=\"middle\" x=\"263.62\" y=\"-92.45\" font-family=\"Helvetica,sans-Serif\" font-size=\"14.00\">12836.0</text>\n",
       "</g>\n",
       "<!-- 0&#45;&gt;4 -->\n",
       "<g id=\"edge4\" class=\"edge\">\n",
       "<title>0&#45;&gt;4</title>\n",
       "<path fill=\"none\" stroke=\"black\" d=\"M207.37,-178.55C214.99,-169.94 223.5,-160.33 231.54,-151.25\"/>\n",
       "<polygon fill=\"black\" stroke=\"black\" points=\"233.75,-153.9 237.75,-144.09 228.51,-149.26 233.75,-153.9\"/>\n",
       "<text text-anchor=\"middle\" x=\"240.27\" y=\"-163\" font-family=\"Helvetica,sans-Serif\" font-size=\"14.00\">False</text>\n",
       "</g>\n",
       "<!-- 2 -->\n",
       "<g id=\"node3\" class=\"node\">\n",
       "<title>2</title>\n",
       "<path fill=\"#e58139\" stroke=\"black\" d=\"M57.25,-41C57.25,-41 12,-41 12,-41 6,-41 0,-35 0,-29 0,-29 0,-12 0,-12 0,-6 6,0 12,0 12,0 57.25,0 57.25,0 63.25,0 69.25,-6 69.25,-12 69.25,-12 69.25,-29 69.25,-29 69.25,-35 63.25,-41 57.25,-41\"/>\n",
       "<text text-anchor=\"middle\" x=\"34.62\" y=\"-23.7\" font-family=\"Helvetica,sans-Serif\" font-size=\"14.00\">81368</text>\n",
       "<text text-anchor=\"middle\" x=\"34.62\" y=\"-7.2\" font-family=\"Helvetica,sans-Serif\" font-size=\"14.00\">33762.0</text>\n",
       "</g>\n",
       "<!-- 1&#45;&gt;2 -->\n",
       "<g id=\"edge2\" class=\"edge\">\n",
       "<title>1&#45;&gt;2</title>\n",
       "<path fill=\"none\" stroke=\"black\" d=\"M81.85,-85.05C73.59,-73.94 64.1,-61.16 55.8,-49.99\"/>\n",
       "<polygon fill=\"black\" stroke=\"black\" points=\"58.22,-48.38 49.45,-42.45 52.6,-52.56 58.22,-48.38\"/>\n",
       "</g>\n",
       "<!-- 3 -->\n",
       "<g id=\"node4\" class=\"node\">\n",
       "<title>3</title>\n",
       "<path fill=\"#f4caac\" stroke=\"black\" d=\"M144.25,-41C144.25,-41 99,-41 99,-41 93,-41 87,-35 87,-29 87,-29 87,-12 87,-12 87,-6 93,0 99,0 99,0 144.25,0 144.25,0 150.25,0 156.25,-6 156.25,-12 156.25,-12 156.25,-29 156.25,-29 156.25,-35 150.25,-41 144.25,-41\"/>\n",
       "<text text-anchor=\"middle\" x=\"121.62\" y=\"-23.7\" font-family=\"Helvetica,sans-Serif\" font-size=\"14.00\">40140</text>\n",
       "<text text-anchor=\"middle\" x=\"121.62\" y=\"-7.2\" font-family=\"Helvetica,sans-Serif\" font-size=\"14.00\">19461.0</text>\n",
       "</g>\n",
       "<!-- 1&#45;&gt;3 -->\n",
       "<g id=\"edge3\" class=\"edge\">\n",
       "<title>1&#45;&gt;3</title>\n",
       "<path fill=\"none\" stroke=\"black\" d=\"M108.43,-85.05C110.6,-74.6 113.08,-62.67 115.29,-52\"/>\n",
       "<polygon fill=\"black\" stroke=\"black\" points=\"118.88,-52.95 117.48,-42.45 112.02,-51.53 118.88,-52.95\"/>\n",
       "</g>\n",
       "<!-- 5 -->\n",
       "<g id=\"node6\" class=\"node\">\n",
       "<title>5</title>\n",
       "<path fill=\"#f7d9c3\" stroke=\"black\" d=\"M268.25,-41C268.25,-41 223,-41 223,-41 217,-41 211,-35 211,-29 211,-29 211,-12 211,-12 211,-6 217,0 223,0 223,0 268.25,0 268.25,0 274.25,0 280.25,-6 280.25,-12 280.25,-12 280.25,-29 280.25,-29 280.25,-35 274.25,-41 268.25,-41\"/>\n",
       "<text text-anchor=\"middle\" x=\"245.62\" y=\"-23.7\" font-family=\"Helvetica,sans-Serif\" font-size=\"14.00\">69716</text>\n",
       "<text text-anchor=\"middle\" x=\"245.62\" y=\"-7.2\" font-family=\"Helvetica,sans-Serif\" font-size=\"14.00\">16546.0</text>\n",
       "</g>\n",
       "<!-- 4&#45;&gt;5 -->\n",
       "<g id=\"edge5\" class=\"edge\">\n",
       "<title>4&#45;&gt;5</title>\n",
       "<path fill=\"none\" stroke=\"black\" d=\"M258.13,-85.05C256.07,-74.6 253.72,-62.67 251.63,-52\"/>\n",
       "<polygon fill=\"black\" stroke=\"black\" points=\"254.91,-51.58 249.55,-42.45 248.04,-52.93 254.91,-51.58\"/>\n",
       "</g>\n",
       "<!-- 6 -->\n",
       "<g id=\"node7\" class=\"node\">\n",
       "<title>6</title>\n",
       "<path fill=\"#ffffff\" stroke=\"black\" d=\"M347.12,-41C347.12,-41 310.12,-41 310.12,-41 304.12,-41 298.12,-35 298.12,-29 298.12,-29 298.12,-12 298.12,-12 298.12,-6 304.12,0 310.12,0 310.12,0 347.12,0 347.12,0 353.12,0 359.12,-6 359.12,-12 359.12,-12 359.12,-29 359.12,-29 359.12,-35 353.12,-41 347.12,-41\"/>\n",
       "<text text-anchor=\"middle\" x=\"328.62\" y=\"-23.7\" font-family=\"Helvetica,sans-Serif\" font-size=\"14.00\">68711</text>\n",
       "<text text-anchor=\"middle\" x=\"328.62\" y=\"-7.2\" font-family=\"Helvetica,sans-Serif\" font-size=\"14.00\">9071.0</text>\n",
       "</g>\n",
       "<!-- 4&#45;&gt;6 -->\n",
       "<g id=\"edge6\" class=\"edge\">\n",
       "<title>4&#45;&gt;6</title>\n",
       "<path fill=\"none\" stroke=\"black\" d=\"M283.48,-85.05C291.3,-74.05 300.27,-61.41 308.15,-50.33\"/>\n",
       "<polygon fill=\"black\" stroke=\"black\" points=\"311.52,-52.63 314.46,-42.45 305.81,-48.57 311.52,-52.63\"/>\n",
       "</g>\n",
       "</g>\n",
       "</svg>\n"
      ],
      "text/plain": [
       "<graphviz.sources.Source at 0x1523db23170>"
      ]
     },
     "execution_count": 54,
     "metadata": {},
     "output_type": "execute_result"
    }
   ],
   "source": [
    "import graphviz\n",
    "# Export the tree structure without squared error information\n",
    "dot_data = tree.export_graphviz(\n",
    "    base_learner, \n",
    "    out_file=None, \n",
    "    feature_names=X_train.columns,    \n",
    "    filled=True, \n",
    "    rounded=True,  \n",
    "    special_characters=False,\n",
    "    node_ids=False,  # Disable node IDs\n",
    "    proportion=False,  # Disable proportions\n",
    "    impurity=False,  # Disable impurity (which includes squared error)\n",
    "    leaves_parallel=True,\n",
    "    precision=0,\n",
    "    label='none'\n",
    ")\n",
    "\n",
    "# Create a graph from the dot data\n",
    "graph = graphviz.Source(dot_data)  \n",
    "graph"
   ]
  },
  {
   "cell_type": "markdown",
   "metadata": {},
   "source": [
    "From the visualization above, we can observe that the 259,935 training observations are initially divided based on the **age** of the vehicle. Used cars that are **6 years old or newer** move to the left in the decision tree, while those that are **older than 6 years** move to the right. Among the cars that are 6 years old or newer, those with **4-cylinder engines** have an average price of **$19,461**, whereas cars with other engine types average **$33,762**. For the cars older than 6 years, those that are **over 10 years old** have an average price of **$9,071**, while cars that are **between 6 and 10 years old** average **$16,546**.\n",
    "\n",
    "This simple decision tree effectively partitions the data based on the features of the observations, resulting in distinct average prices in the terminal leaves, which highlights the impact of vehicle age and engine type on pricing. However, decision trees are often considered **weak learners** because they can easily overfit the training data, especially when they are deep, leading to models that may not generalize well to unseen data. Similarly, a **stump**, which is a decision tree with low depth as in the example above, is also a weak learner because it captures very limited information about the data, making it prone to high bias and low accuracy in predictions."
   ]
  },
  {
   "cell_type": "markdown",
   "metadata": {},
   "source": [
    "<img src=\"img/biasvariance.png\" alt=\"Bias Variance Trade-off\" width=\"750\" height=\"500\"/>\n",
    "<p>Image source: <a href=\"https://scott.fortmann-roe.com/docs/BiasVariance.html\">Scott Fortmann Roe</a></p>"
   ]
  },
  {
   "cell_type": "markdown",
   "metadata": {},
   "source": [
    "#### Random Forest"
   ]
  },
  {
   "cell_type": "markdown",
   "metadata": {
    "vscode": {
     "languageId": "markdown"
    }
   },
   "source": [
    "A **Random Forest** is an ensemble learning method used for classification and regression tasks. It operates by constructing multiple decision trees during training and outputting the mode of the classes (classification) or mean prediction (regression) of the individual trees. The key characteristics of a Random Forest are:\n",
    "\n",
    "- **Ensemble of Trees**: It builds a large number of decision trees (hence \"forest\") and merges their results to improve accuracy and control overfitting.\n",
    "- **Bootstrap Aggregation (Bagging)**: Each tree is trained on a random subset of the training data, sampled with replacement (bootstrapping). This helps in reducing variance.\n",
    "- **Random Feature Selection**: At each split in the tree, a random subset of features is considered for splitting, which helps in reducing correlation among the trees and improves model robustness.\n",
    "\n",
    "Random Forests are known for their high accuracy, ability to handle large datasets with higher dimensionality, and robustness to overfitting."
   ]
  },
  {
   "cell_type": "code",
   "execution_count": null,
   "metadata": {},
   "outputs": [],
   "source": []
  },
  {
   "cell_type": "markdown",
   "metadata": {},
   "source": [
    "### Model Evaluation"
   ]
  },
  {
   "cell_type": "markdown",
   "metadata": {},
   "source": [
    "### Model Fine Tuning"
   ]
  },
  {
   "cell_type": "markdown",
   "metadata": {},
   "source": [
    "### Model Deployment"
   ]
  }
 ],
 "metadata": {
  "kernelspec": {
   "display_name": ".venv",
   "language": "python",
   "name": "python3"
  },
  "language_info": {
   "codemirror_mode": {
    "name": "ipython",
    "version": 3
   },
   "file_extension": ".py",
   "mimetype": "text/x-python",
   "name": "python",
   "nbconvert_exporter": "python",
   "pygments_lexer": "ipython3",
   "version": "3.12.0"
  }
 },
 "nbformat": 4,
 "nbformat_minor": 2
}
