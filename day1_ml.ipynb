{
 "cells": [
  {
   "cell_type": "markdown",
   "metadata": {},
   "source": [
    "# Machine Learning and Risk Modelling"
   ]
  },
  {
   "cell_type": "markdown",
   "metadata": {},
   "source": [
    "## What is Machine Learning?"
   ]
  },
  {
   "cell_type": "markdown",
   "metadata": {},
   "source": [
    "To grasp the definition of Machine Learning (ML), it's helpful to narrow the focus by exploring its relationship with Artificial Intelligence (AI) and Deep Learning (DL).\n"
   ]
  },
  {
   "cell_type": "markdown",
   "metadata": {},
   "source": [
    "<img src=\"img/ai_ml_dl3.png\" alt=\"AI, ML & DL\" width=\"700\" height=\"500\"/>\n",
    "<p>Image source: <a href=\"https://developer.nvidia.com/deep-learning\">Nvidia</a></p>"
   ]
  },
  {
   "cell_type": "markdown",
   "metadata": {},
   "source": [
    "<span style=\"color: #b0d45c;\">**Artificial Intelligence (AI)**</span>:\n",
    "-  While there is **no strict definition** of Artificial Intelligence, it is commonly referred to as the capability of machines to perform tasks that were previously solvable only by humans or those that are particularly challenging and typically require some form of **\"intelligence\"**.\n",
    "- AI traces its origins back to the **1940s**, coinciding with the invention of the computer. Pioneering scientists such as **Alan Turing** and **John von Neumann** posed a fundamental question: If we can formalize computation, can we leverage this computation to formalize the concept of **\"thinking\"**?\n",
    "- AI encompasses a wide range of fields, including **machine learning**, **natural language processing**, **computer vision**, **robotics**, **search algorithms**, **game playing**, **intelligent agents**, and much more.\n",
    "\n",
    "<span style=\"color: #88bc04;\">**Machine Learning (ML)**</span>:\n",
    "- ML is **mathematically well-defined** and is capable of solving reasonably **narrow** tasks.\n",
    "- ML algorithms usually construct **predictive/decision models** from typically **labelled data**, instead of explicitly programming them.\n",
    "- ML roughly divides into **supervised**, **unsupervised** and **reinforcement** learning with a variety of different ML methods that exist to solve the underlying prediction/decision task.\n",
    "    - supervised learning: training a model on a labelled dataset, where the input data is paired with the correct output. The model learns to make predictions/classifications based on this labeled information.\n",
    "    - unsupervised learning: the model works with unlabeled data, aiming to identify patterns and relationships within the data without any specific guidance.\n",
    "    - reinforcement learning: training a model through interactions with an environment, where it learns to make decisions based on the rewards or penalties it receives from its actions.\n",
    "\n",
    "    In this course we focus on supervised learning applying tree-based regression methods.\n",
    "\n",
    "<span style=\"color: #68ac04;\">**Deep Learning (DL)**</span>:\n",
    "- DL is a subfield of ML that focuses on the study of **neural networks**.\n",
    "- Artificial Neural Networks (ANNs) have been researched for **decades**. DL utilizes **more layers**, incorporates **specialized neurons** designed for **images and tensors**, and benefits from numerous **computational improvements** that facilitate training on **large datasets**.\n",
    "- DL can be used on rectangular data, but typical applications are images, texts or signals."
   ]
  },
  {
   "cell_type": "markdown",
   "metadata": {},
   "source": [
    "In short:\n",
    "> **Machine Learning is a subfield of Artificial Intelligence consisting of mathematical models that learn from historical data to solve narrow prediction/classification/decision tasks.**"
   ]
  },
  {
   "cell_type": "markdown",
   "metadata": {},
   "source": [
    "## Application of Machine Learning in Risk Management"
   ]
  },
  {
   "cell_type": "markdown",
   "metadata": {},
   "source": [
    "Machine Learning (ML) has become an essential tool in **risk management** due to its ability to analyze vast amounts of data and uncover patterns that traditional methods may overlook. In today's complex financial landscape, organizations face numerous risks, and ML provides a robust framework for modeling and steering these risks effectively.\n",
    "\n",
    "\n"
   ]
  },
  {
   "cell_type": "markdown",
   "metadata": {},
   "source": [
    "### Why Use Machine Learning?"
   ]
  },
  {
   "cell_type": "markdown",
   "metadata": {},
   "source": [
    "1. **Enhanced Predictive Accuracy**: ML algorithms can improve the accuracy of risk predictions by learning from historical data and adapting to new information. This is particularly important in areas like credit risk modeling, where understanding borrower behavior is crucial.\n",
    "1. **Real-Time Analysis**: With the ability to process data in real-time, ML enables organizations to respond swiftly to emerging risks. This agility is vital in dynamic markets where conditions can change rapidly.\n",
    "1. **Complex Data Handling**: The financial sector generates vast amounts of data, including unstructured data. ML techniques excel at processing and analyzing this complex data, allowing for more comprehensive risk assessments (more on unstructured data in the [second part of the course](day2_nlp.ipynb)).\n",
    "1. **Model Risk Management**: As organizations increasingly rely on data-driven models, managing the risks associated with these models becomes critical. ML can help identify and mitigate model risk by providing insights into model performance and reliability.\n",
    "1. **Automation and Efficiency**: By automating routine risk assessment tasks, ML frees up valuable resources, allowing risk managers to focus on strategic decision-making. This efficiency is particularly beneficial in credit risk management, where timely decisions can significantly impact profitability.\n",
    "\n",
    "In summary, the integration of Machine Learning into risk management not only enhances predictive capabilities but also streamlines processes, making it an invaluable asset for organizations aiming to navigate the complexities of modern financial risks."
   ]
  },
  {
   "cell_type": "markdown",
   "metadata": {},
   "source": [
    "### A real-world use case: Residual Value Risk Modelling"
   ]
  },
  {
   "cell_type": "markdown",
   "metadata": {},
   "source": [
    "In the following, we will work on a real-world use case that car leasing entities typically face. It is the risk associated with the uncertainty of what a leased out car can be resold at when the car returns to the leasing entity. This asset risk is commonly known as residual value risk."
   ]
  },
  {
   "cell_type": "markdown",
   "metadata": {},
   "source": [
    "<img src=\"img/rv.png\" alt=\"Car depreciation\" width=\"1000\" height=\"500\"/>\n",
    "<p>Image source: <a href=\"https://diminishedvalueofgeorgia.com/the-top-10-slowest-depreciating-used-cars-in-the-u-s/\">Diminished Value of Georgia</a></p>"
   ]
  },
  {
   "cell_type": "markdown",
   "metadata": {},
   "source": [
    "**Why do leasing companies care about residual values?**\n",
    "\n",
    "Residual values are crucial for determining the expected worth of an asset at the end of its lease term. Accurate estimates help leasing companies set appropriate lease payments and manage their financial risk. If the actual residual value is lower than anticipated, it can lead to financial losses for the leasing company.\n",
    "\n",
    "Thus a key objective in residual value risk management is to achieve the greatest possible accuracy in predicting residual value (RV) – what the vehicles are worth at the end of the lease period – to enable optimal pricing of leases and prevent future losses when remarketing the used vehicles."
   ]
  },
  {
   "cell_type": "markdown",
   "metadata": {},
   "source": [
    "**What determines the residual value of vehicle?**\n",
    "\n",
    "Besides the actual condition of the car, proxied by factors such as age, mileage or damage information, changing customer preferences, economic swings, greater transparency in the used-car market, new technologies such as electric cars, or the regulatory uncertainties do all affect the residual value of a car. This makes the prediction of used cars a complicated task."
   ]
  },
  {
   "cell_type": "markdown",
   "metadata": {},
   "source": [
    "For the remaining part of the script we will work with a dataset of used cars that were sold in the US market. Besides the actual used car value the dataset contains variables that affects the selling price of the used cars. Such data is commonly used to train models for the prediction of residual values. this use case forms the basis to go through fundamental concepts in supervised ML:\n",
    "- What kind of \"data\" do we learn from?\n",
    "- How can we formalize the goal of learning?\n",
    "- What is a \"prediction model\"?\n",
    "- How can we quantify \"predictive performance\"?\n",
    "- What is a \"learning algorithm\"\n",
    "- How can we operationalize learning?"
   ]
  },
  {
   "cell_type": "markdown",
   "metadata": {},
   "source": [
    "## Developing a Machine Learning Model"
   ]
  },
  {
   "cell_type": "markdown",
   "metadata": {},
   "source": [
    "When building a ML model from scratch, there are some fundamental steps one typically follows to come up with a production ready model:\n",
    "\n",
    "1. **Understanding the Problem**: Clearly define the problem you are trying to solve. This includes identifying whether it is a classification, regression, or clustering task, as this will guide your choice of algorithms and evaluation metrics. \n",
    "\n",
    "1. **Data Collection and Preparation**: Gather relevant data that is representative of the problem domain. This step involves cleaning the data, handling missing values, and transforming features to ensure they are suitable for modelling.\n",
    "\n",
    "1. **Feature Selection and Engineering**: Identify the most relevant features that contribute to the model's performance. Feature engineering may involve creating new features from existing data to improve the model's predictive power.\n",
    "\n",
    "1. **Choosing the Right Algorithm**: Select an appropriate ML algorithm based on the nature of the data and the problem. Different algorithms have different strengths and weaknesses, so understanding these can help in making an informed choice.\n",
    "\n",
    "1. **Model Training and Validation**: Train the model using a portion of the data while keeping another portion for validation. This helps in assessing how well the model generalizes to unseen data.\n",
    "\n",
    "1. **Model Evaluation**: Use appropriate metrics to evaluate the model's performance. This could include accuracy, precision, recall, F1 score, or area under the ROC curve, depending on the specific task.\n",
    "\n",
    "1. **Calibration and Tuning**: Fine-tune the model parameters to optimize performance. This may involve techniques like cross-validation and hyperparameter tuning to ensure the model is well-calibrated.\n",
    "\n",
    "1. **Deployment and Monitoring**: Once the model is trained and validated, deploy it in a real-world environment. Continuous monitoring is essential to ensure the model maintains its performance over time and adapts to any changes in the data."
   ]
  },
  {
   "cell_type": "markdown",
   "metadata": {},
   "source": [
    "### Undestanding the Problem"
   ]
  },
  {
   "cell_type": "markdown",
   "metadata": {},
   "source": [
    "Based on the information above we know that the development of a residual value risk model is a regression task. Moreover, I have provided, albeit limited, domain knowledge as to what residual value risk is and why lease companies try to steer it. According to my experience, domain knowledge is at least as important as the mathematical and technical skills required to come up with a decent ML model. Thus, try to get input from domain experts if you are tasked to solve an analytical problem in a domain where you only have limited knowledge. It will make your solution better!"
   ]
  },
  {
   "cell_type": "markdown",
   "metadata": {},
   "source": [
    "### Data Preprocessing"
   ]
  },
  {
   "cell_type": "markdown",
   "metadata": {},
   "source": [
    "First, we import pandas a popular Python library that is designed to manipulate rectangular data conveniently."
   ]
  },
  {
   "cell_type": "code",
   "execution_count": 1,
   "metadata": {},
   "outputs": [],
   "source": [
    "import pandas as pd"
   ]
  },
  {
   "cell_type": "markdown",
   "metadata": {},
   "source": [
    "Then we read the used car data."
   ]
  },
  {
   "cell_type": "code",
   "execution_count": 2,
   "metadata": {},
   "outputs": [],
   "source": [
    "df_uc = pd.read_csv('data/used_car.csv', parse_dates=['posting_date'])"
   ]
  },
  {
   "cell_type": "markdown",
   "metadata": {},
   "source": [
    "What is the dimension of the data?"
   ]
  },
  {
   "cell_type": "code",
   "execution_count": 3,
   "metadata": {},
   "outputs": [
    {
     "data": {
      "text/plain": [
       "(426812, 17)"
      ]
     },
     "execution_count": 3,
     "metadata": {},
     "output_type": "execute_result"
    }
   ],
   "source": [
    "df_uc.shape"
   ]
  },
  {
   "cell_type": "markdown",
   "metadata": {},
   "source": [
    "Overall, there 17 columns with 426,812 samples."
   ]
  },
  {
   "cell_type": "markdown",
   "metadata": {},
   "source": [
    "Next, we have a first glimpse at the data and check the data types."
   ]
  },
  {
   "cell_type": "code",
   "execution_count": 4,
   "metadata": {},
   "outputs": [
    {
     "data": {
      "text/html": [
       "<div>\n",
       "<style scoped>\n",
       "    .dataframe tbody tr th:only-of-type {\n",
       "        vertical-align: middle;\n",
       "    }\n",
       "\n",
       "    .dataframe tbody tr th {\n",
       "        vertical-align: top;\n",
       "    }\n",
       "\n",
       "    .dataframe thead th {\n",
       "        text-align: right;\n",
       "    }\n",
       "</style>\n",
       "<table border=\"1\" class=\"dataframe\">\n",
       "  <thead>\n",
       "    <tr style=\"text-align: right;\">\n",
       "      <th></th>\n",
       "      <th>id</th>\n",
       "      <th>region</th>\n",
       "      <th>price</th>\n",
       "      <th>year</th>\n",
       "      <th>manufacturer</th>\n",
       "      <th>model</th>\n",
       "      <th>condition</th>\n",
       "      <th>cylinders</th>\n",
       "      <th>fuel</th>\n",
       "      <th>odometer</th>\n",
       "      <th>transmission</th>\n",
       "      <th>VIN</th>\n",
       "      <th>drive</th>\n",
       "      <th>type</th>\n",
       "      <th>paint_color</th>\n",
       "      <th>state</th>\n",
       "      <th>posting_date</th>\n",
       "    </tr>\n",
       "  </thead>\n",
       "  <tbody>\n",
       "    <tr>\n",
       "      <th>362386</th>\n",
       "      <td>7304276442</td>\n",
       "      <td>tri-cities</td>\n",
       "      <td>16995</td>\n",
       "      <td>2017.0</td>\n",
       "      <td>honda</td>\n",
       "      <td>civic sedan</td>\n",
       "      <td>NaN</td>\n",
       "      <td>4 cylinders</td>\n",
       "      <td>gas</td>\n",
       "      <td>81665.0</td>\n",
       "      <td>automatic</td>\n",
       "      <td>19XFC1F32HE012047</td>\n",
       "      <td>fwd</td>\n",
       "      <td>sedan</td>\n",
       "      <td>NaN</td>\n",
       "      <td>tn</td>\n",
       "      <td>2021-04-09</td>\n",
       "    </tr>\n",
       "    <tr>\n",
       "      <th>287877</th>\n",
       "      <td>7305775715</td>\n",
       "      <td>akron / canton</td>\n",
       "      <td>23990</td>\n",
       "      <td>2018.0</td>\n",
       "      <td>mitsubishi</td>\n",
       "      <td>outlander phev sel</td>\n",
       "      <td>good</td>\n",
       "      <td>NaN</td>\n",
       "      <td>other</td>\n",
       "      <td>28215.0</td>\n",
       "      <td>other</td>\n",
       "      <td>JA4J24A54JZ025863</td>\n",
       "      <td>4wd</td>\n",
       "      <td>SUV</td>\n",
       "      <td>white</td>\n",
       "      <td>oh</td>\n",
       "      <td>2021-04-12</td>\n",
       "    </tr>\n",
       "    <tr>\n",
       "      <th>123085</th>\n",
       "      <td>7315101759</td>\n",
       "      <td>atlanta</td>\n",
       "      <td>6600</td>\n",
       "      <td>2011.0</td>\n",
       "      <td>volkswagen</td>\n",
       "      <td>jetta</td>\n",
       "      <td>NaN</td>\n",
       "      <td>NaN</td>\n",
       "      <td>gas</td>\n",
       "      <td>147000.0</td>\n",
       "      <td>automatic</td>\n",
       "      <td>NaN</td>\n",
       "      <td>NaN</td>\n",
       "      <td>NaN</td>\n",
       "      <td>NaN</td>\n",
       "      <td>ga</td>\n",
       "      <td>2021-04-30</td>\n",
       "    </tr>\n",
       "  </tbody>\n",
       "</table>\n",
       "</div>"
      ],
      "text/plain": [
       "                id          region  price    year manufacturer  \\\n",
       "362386  7304276442      tri-cities  16995  2017.0        honda   \n",
       "287877  7305775715  akron / canton  23990  2018.0   mitsubishi   \n",
       "123085  7315101759         atlanta   6600  2011.0   volkswagen   \n",
       "\n",
       "                     model condition    cylinders   fuel  odometer  \\\n",
       "362386         civic sedan       NaN  4 cylinders    gas   81665.0   \n",
       "287877  outlander phev sel      good          NaN  other   28215.0   \n",
       "123085               jetta       NaN          NaN    gas  147000.0   \n",
       "\n",
       "       transmission                VIN drive   type paint_color state  \\\n",
       "362386    automatic  19XFC1F32HE012047   fwd  sedan         NaN    tn   \n",
       "287877        other  JA4J24A54JZ025863   4wd    SUV       white    oh   \n",
       "123085    automatic                NaN   NaN    NaN         NaN    ga   \n",
       "\n",
       "       posting_date  \n",
       "362386   2021-04-09  \n",
       "287877   2021-04-12  \n",
       "123085   2021-04-30  "
      ]
     },
     "execution_count": 4,
     "metadata": {},
     "output_type": "execute_result"
    }
   ],
   "source": [
    "df_uc.sample(3)"
   ]
  },
  {
   "cell_type": "markdown",
   "metadata": {},
   "source": [
    "A short description of each variable can be found [here](data/used_car_dictionary.md)."
   ]
  },
  {
   "cell_type": "code",
   "execution_count": 5,
   "metadata": {},
   "outputs": [
    {
     "data": {
      "text/plain": [
       "id                       int64\n",
       "region                  object\n",
       "price                    int64\n",
       "year                   float64\n",
       "manufacturer            object\n",
       "model                   object\n",
       "condition               object\n",
       "cylinders               object\n",
       "fuel                    object\n",
       "odometer               float64\n",
       "transmission            object\n",
       "VIN                     object\n",
       "drive                   object\n",
       "type                    object\n",
       "paint_color             object\n",
       "state                   object\n",
       "posting_date    datetime64[ns]\n",
       "dtype: object"
      ]
     },
     "execution_count": 5,
     "metadata": {},
     "output_type": "execute_result"
    }
   ],
   "source": [
    "df_uc.dtypes"
   ]
  },
  {
   "cell_type": "markdown",
   "metadata": {},
   "source": [
    "Note the following definition of data types:\n",
    "- `int64`: 64-bit signed integer type.\n",
    "- `float64`: 64-bit floating point type.\n",
    "- `object`: generic container for any Python object.\n",
    "\n",
    "Integer and Float data types seem to be correct. However, pandas has read strings as generic objects. We want to be more precise and convert object data types to strings. We can do so with the `convert_dtypes()` method in pandas."
   ]
  },
  {
   "cell_type": "code",
   "execution_count": 6,
   "metadata": {},
   "outputs": [],
   "source": [
    "df_uc = df_uc.convert_dtypes(convert_string=True)"
   ]
  },
  {
   "cell_type": "code",
   "execution_count": 7,
   "metadata": {},
   "outputs": [
    {
     "data": {
      "text/plain": [
       "id                       Int64\n",
       "region          string[python]\n",
       "price                    Int64\n",
       "year                     Int64\n",
       "manufacturer    string[python]\n",
       "model           string[python]\n",
       "condition       string[python]\n",
       "cylinders       string[python]\n",
       "fuel            string[python]\n",
       "odometer                 Int64\n",
       "transmission    string[python]\n",
       "VIN             string[python]\n",
       "drive           string[python]\n",
       "type            string[python]\n",
       "paint_color     string[python]\n",
       "state           string[python]\n",
       "posting_date    datetime64[ns]\n",
       "dtype: object"
      ]
     },
     "execution_count": 7,
     "metadata": {},
     "output_type": "execute_result"
    }
   ],
   "source": [
    "df_uc.dtypes"
   ]
  },
  {
   "cell_type": "markdown",
   "metadata": {},
   "source": [
    "A common way to get a first feeling for the variables is to look at their descriptive statistics. This can be done with the pandas method `describe()`."
   ]
  },
  {
   "cell_type": "code",
   "execution_count": 8,
   "metadata": {},
   "outputs": [
    {
     "data": {
      "text/html": [
       "<div>\n",
       "<style scoped>\n",
       "    .dataframe tbody tr th:only-of-type {\n",
       "        vertical-align: middle;\n",
       "    }\n",
       "\n",
       "    .dataframe tbody tr th {\n",
       "        vertical-align: top;\n",
       "    }\n",
       "\n",
       "    .dataframe thead th {\n",
       "        text-align: right;\n",
       "    }\n",
       "</style>\n",
       "<table border=\"1\" class=\"dataframe\">\n",
       "  <thead>\n",
       "    <tr style=\"text-align: right;\">\n",
       "      <th></th>\n",
       "      <th>id</th>\n",
       "      <th>price</th>\n",
       "      <th>year</th>\n",
       "      <th>odometer</th>\n",
       "      <th>posting_date</th>\n",
       "    </tr>\n",
       "  </thead>\n",
       "  <tbody>\n",
       "    <tr>\n",
       "      <th>count</th>\n",
       "      <td>426812.0</td>\n",
       "      <td>426812.0</td>\n",
       "      <td>425675.0</td>\n",
       "      <td>422480.0</td>\n",
       "      <td>426812</td>\n",
       "    </tr>\n",
       "    <tr>\n",
       "      <th>mean</th>\n",
       "      <td>7311495385.425879</td>\n",
       "      <td>75209.273844</td>\n",
       "      <td>2011.235191</td>\n",
       "      <td>98043.331443</td>\n",
       "      <td>2021-04-23 08:50:52.930095360</td>\n",
       "    </tr>\n",
       "    <tr>\n",
       "      <th>min</th>\n",
       "      <td>7301583321.0</td>\n",
       "      <td>0.0</td>\n",
       "      <td>1900.0</td>\n",
       "      <td>0.0</td>\n",
       "      <td>2021-04-04 00:00:00</td>\n",
       "    </tr>\n",
       "    <tr>\n",
       "      <th>25%</th>\n",
       "      <td>7308145944.0</td>\n",
       "      <td>5900.0</td>\n",
       "      <td>2008.0</td>\n",
       "      <td>37704.0</td>\n",
       "      <td>2021-04-17 00:00:00</td>\n",
       "    </tr>\n",
       "    <tr>\n",
       "      <th>50%</th>\n",
       "      <td>7312621654.5</td>\n",
       "      <td>13950.0</td>\n",
       "      <td>2013.0</td>\n",
       "      <td>85548.0</td>\n",
       "      <td>2021-04-26 00:00:00</td>\n",
       "    </tr>\n",
       "    <tr>\n",
       "      <th>75%</th>\n",
       "      <td>7315253589.0</td>\n",
       "      <td>26489.0</td>\n",
       "      <td>2017.0</td>\n",
       "      <td>133542.5</td>\n",
       "      <td>2021-05-01 00:00:00</td>\n",
       "    </tr>\n",
       "    <tr>\n",
       "      <th>max</th>\n",
       "      <td>7317101084.0</td>\n",
       "      <td>3736928711.0</td>\n",
       "      <td>2022.0</td>\n",
       "      <td>10000000.0</td>\n",
       "      <td>2021-05-05 00:00:00</td>\n",
       "    </tr>\n",
       "    <tr>\n",
       "      <th>std</th>\n",
       "      <td>4381289.854813</td>\n",
       "      <td>12183252.554754</td>\n",
       "      <td>9.45212</td>\n",
       "      <td>213881.500798</td>\n",
       "      <td>NaN</td>\n",
       "    </tr>\n",
       "  </tbody>\n",
       "</table>\n",
       "</div>"
      ],
      "text/plain": [
       "                      id            price         year       odometer  \\\n",
       "count           426812.0         426812.0     425675.0       422480.0   \n",
       "mean   7311495385.425879     75209.273844  2011.235191   98043.331443   \n",
       "min         7301583321.0              0.0       1900.0            0.0   \n",
       "25%         7308145944.0           5900.0       2008.0        37704.0   \n",
       "50%         7312621654.5          13950.0       2013.0        85548.0   \n",
       "75%         7315253589.0          26489.0       2017.0       133542.5   \n",
       "max         7317101084.0     3736928711.0       2022.0     10000000.0   \n",
       "std       4381289.854813  12183252.554754      9.45212  213881.500798   \n",
       "\n",
       "                        posting_date  \n",
       "count                         426812  \n",
       "mean   2021-04-23 08:50:52.930095360  \n",
       "min              2021-04-04 00:00:00  \n",
       "25%              2021-04-17 00:00:00  \n",
       "50%              2021-04-26 00:00:00  \n",
       "75%              2021-05-01 00:00:00  \n",
       "max              2021-05-05 00:00:00  \n",
       "std                              NaN  "
      ]
     },
     "execution_count": 8,
     "metadata": {},
     "output_type": "execute_result"
    }
   ],
   "source": [
    "df_uc.describe(exclude=['string[python]']) # integers, floats and datetime"
   ]
  },
  {
   "cell_type": "code",
   "execution_count": 9,
   "metadata": {},
   "outputs": [
    {
     "data": {
      "text/html": [
       "<div>\n",
       "<style scoped>\n",
       "    .dataframe tbody tr th:only-of-type {\n",
       "        vertical-align: middle;\n",
       "    }\n",
       "\n",
       "    .dataframe tbody tr th {\n",
       "        vertical-align: top;\n",
       "    }\n",
       "\n",
       "    .dataframe thead th {\n",
       "        text-align: right;\n",
       "    }\n",
       "</style>\n",
       "<table border=\"1\" class=\"dataframe\">\n",
       "  <thead>\n",
       "    <tr style=\"text-align: right;\">\n",
       "      <th></th>\n",
       "      <th>region</th>\n",
       "      <th>manufacturer</th>\n",
       "      <th>model</th>\n",
       "      <th>condition</th>\n",
       "      <th>cylinders</th>\n",
       "      <th>fuel</th>\n",
       "      <th>transmission</th>\n",
       "      <th>VIN</th>\n",
       "      <th>drive</th>\n",
       "      <th>type</th>\n",
       "      <th>paint_color</th>\n",
       "      <th>state</th>\n",
       "    </tr>\n",
       "  </thead>\n",
       "  <tbody>\n",
       "    <tr>\n",
       "      <th>count</th>\n",
       "      <td>426812</td>\n",
       "      <td>409234</td>\n",
       "      <td>421603</td>\n",
       "      <td>252776</td>\n",
       "      <td>249202</td>\n",
       "      <td>423867</td>\n",
       "      <td>424324</td>\n",
       "      <td>265838</td>\n",
       "      <td>296313</td>\n",
       "      <td>334022</td>\n",
       "      <td>296677</td>\n",
       "      <td>426812</td>\n",
       "    </tr>\n",
       "    <tr>\n",
       "      <th>unique</th>\n",
       "      <td>404</td>\n",
       "      <td>42</td>\n",
       "      <td>29667</td>\n",
       "      <td>6</td>\n",
       "      <td>8</td>\n",
       "      <td>5</td>\n",
       "      <td>3</td>\n",
       "      <td>118264</td>\n",
       "      <td>3</td>\n",
       "      <td>13</td>\n",
       "      <td>12</td>\n",
       "      <td>51</td>\n",
       "    </tr>\n",
       "    <tr>\n",
       "      <th>top</th>\n",
       "      <td>columbus</td>\n",
       "      <td>ford</td>\n",
       "      <td>f-150</td>\n",
       "      <td>good</td>\n",
       "      <td>6 cylinders</td>\n",
       "      <td>gas</td>\n",
       "      <td>automatic</td>\n",
       "      <td>1FMJU1JT1HEA52352</td>\n",
       "      <td>4wd</td>\n",
       "      <td>sedan</td>\n",
       "      <td>white</td>\n",
       "      <td>ca</td>\n",
       "    </tr>\n",
       "    <tr>\n",
       "      <th>freq</th>\n",
       "      <td>3608</td>\n",
       "      <td>70985</td>\n",
       "      <td>8009</td>\n",
       "      <td>121456</td>\n",
       "      <td>94169</td>\n",
       "      <td>356209</td>\n",
       "      <td>336524</td>\n",
       "      <td>261</td>\n",
       "      <td>131904</td>\n",
       "      <td>87056</td>\n",
       "      <td>79285</td>\n",
       "      <td>50610</td>\n",
       "    </tr>\n",
       "  </tbody>\n",
       "</table>\n",
       "</div>"
      ],
      "text/plain": [
       "          region manufacturer   model condition    cylinders    fuel  \\\n",
       "count     426812       409234  421603    252776       249202  423867   \n",
       "unique       404           42   29667         6            8       5   \n",
       "top     columbus         ford   f-150      good  6 cylinders     gas   \n",
       "freq        3608        70985    8009    121456        94169  356209   \n",
       "\n",
       "       transmission                VIN   drive    type paint_color   state  \n",
       "count        424324             265838  296313  334022      296677  426812  \n",
       "unique            3             118264       3      13          12      51  \n",
       "top       automatic  1FMJU1JT1HEA52352     4wd   sedan       white      ca  \n",
       "freq         336524                261  131904   87056       79285   50610  "
      ]
     },
     "execution_count": 9,
     "metadata": {},
     "output_type": "execute_result"
    }
   ],
   "source": [
    "df_uc.describe(include=['string[python]']) # strings only"
   ]
  },
  {
   "cell_type": "markdown",
   "metadata": {},
   "source": [
    "Alternatively, we can also visualize the univariate distribution of each of the variables. For this purpose, I provide a convenience function `plot_univariate()` which you can find in the [util.py](util.py) module."
   ]
  },
  {
   "cell_type": "code",
   "execution_count": 10,
   "metadata": {},
   "outputs": [],
   "source": [
    "from util import plot_univariate"
   ]
  },
  {
   "cell_type": "code",
   "execution_count": 11,
   "metadata": {},
   "outputs": [
    {
     "data": {
      "image/png": "[encoded data removed]",
      "text/plain": [
       "<Figure size 2000x2400 with 12 Axes>"
      ]
     },
     "metadata": {},
     "output_type": "display_data"
    }
   ],
   "source": [
    "plot_univariate(\n",
    "    df_uc, \n",
    "    columns=['manufacturer', 'state', 'price', 'year', 'odometer', 'condition', 'fuel', 'type', 'drive', 'transmission', 'cylinders', 'paint_color'], \n",
    "    log_dict={'price': True, 'odometer': True})"
   ]
  },
  {
   "cell_type": "markdown",
   "metadata": {},
   "source": [
    "From the plot above we can see that the data contains used car prices from various manufacturers. The used cars have been offered in different states in the US and span across different model years with the majority of the vehicles having been manufactured in the 2000s."
   ]
  },
  {
   "cell_type": "markdown",
   "metadata": {},
   "source": [
    "In the context of residual value risk management we aim at answering the following questions:\n",
    "- Can we train a model that reliably predicts the residual value, i.e. the used-car price, given information about the vehicle (that is available at *inception* of the lease contract)?\n",
    "- To what extent do residual values depend on macroeconomic conditions?"
   ]
  },
  {
   "cell_type": "markdown",
   "metadata": {},
   "source": [
    "Translating these questions into a ML problem can be stated as follows:\n",
    "- We want to predict the vehicles used car price which is the **target variable** $y$ ...\n",
    "- ... based on information about the vehicle and the macroeconomic features at time of remarketing which we call **features** $\\bold{X}$ ...\n",
    "- ... whereas the resulting model needs to fulfill a certain minimum level of prediction quality as measured by a scoring function on the prediction error $s\\left(\\epsilon\n",
    "\\right)$.\n",
    "- Does a proxy for the macroeconomic condition such as GDP growth have a high feature importance, i.e. does it help in predicting the used car value?"
   ]
  },
  {
   "cell_type": "code",
   "execution_count": 12,
   "metadata": {},
   "outputs": [],
   "source": [
    "# Target variable\n",
    "y = df_uc['price']"
   ]
  },
  {
   "cell_type": "code",
   "execution_count": 13,
   "metadata": {},
   "outputs": [],
   "source": [
    "# Features\n",
    "X = df_uc.drop(columns=['price'])"
   ]
  },
  {
   "cell_type": "markdown",
   "metadata": {},
   "source": [
    "#### Train-Test Split"
   ]
  },
  {
   "cell_type": "markdown",
   "metadata": {},
   "source": [
    "In machine learning projects, splitting the dataset into **training** and **test** sets is a fundamental practice that serves several critical purposes.\n",
    "\n",
    "**Reasons for Data Splitting**\n",
    "\n",
    "1. **Model Evaluation**: The primary reason for splitting the data is to evaluate the performance of the machine learning model. The training set is used to train the model, while the test set is reserved for assessing how well the model generalizes to unseen data. This helps ensure that the model is not just memorizing the training data but can also make accurate predictions on new, unseen instances.\n",
    "\n",
    "2. **Preventing Overfitting**: By keeping a separate test set, you can monitor and mitigate the risk of overfitting. Overfitting occurs when a model learns the noise and details of the training data to the extent that it negatively impacts its performance on new data. A model that performs well on the training set but poorly on the test set is likely overfitting. In section XXX, we will learn how we can use a technique called cross validation to prevent overfitting when training the model.\n",
    "\n",
    "\n",
    "**Timing of the Split in the Data Pipeline**\n",
    "\n",
    "Splitting the data into training and test sets is typically done at the very beginning of the data pipeline for several reasons:\n",
    "\n",
    "- **Data Integrity**: Performing the split early ensures that the test set remains completely independent of the training process. This independence is crucial for obtaining an unbiased estimate of the model's performance.\n",
    "\n",
    "- **Avoiding Data Leakage**: If the data is not split early, there is a risk of data leakage, where information from the test set inadvertently influences the training process. This can lead to overly optimistic performance metrics that do not reflect the model's true capabilities."
   ]
  },
  {
   "cell_type": "markdown",
   "metadata": {},
   "source": [
    "We split the data at random into training and tests sets using the `train_test_split()` method from the popular scikit-learn library that provides a wide range of ML algorithms and other convenience functions that are typically used in ML pipelines. We will keep 20% of the data aside in the test set. For reproducibility we set a seed via the `random_state` argument."
   ]
  },
  {
   "cell_type": "code",
   "execution_count": 14,
   "metadata": {},
   "outputs": [],
   "source": [
    "from sklearn.model_selection import train_test_split"
   ]
  },
  {
   "cell_type": "code",
   "execution_count": 15,
   "metadata": {},
   "outputs": [],
   "source": [
    "X_train, X_test, y_train, y_test = train_test_split(X, y, test_size=0.2, random_state=333)"
   ]
  },
  {
   "cell_type": "markdown",
   "metadata": {},
   "source": [
    "#### Handling Missing Values"
   ]
  },
  {
   "cell_type": "markdown",
   "metadata": {},
   "source": [
    "Most ML models cannot deal with missing values. Therefore, we try to replace missing values with reasonable substitutes. This process is called data imputation. Often this is the preferred approach as compared to simply dropping samples with missing values as this would reduce the model's capability of learning patterns from the training data: Less observations, less patterns to learn."
   ]
  },
  {
   "cell_type": "code",
   "execution_count": 16,
   "metadata": {},
   "outputs": [
    {
     "data": {
      "text/plain": [
       "id                   0\n",
       "region               0\n",
       "price                0\n",
       "year              1137\n",
       "manufacturer     17578\n",
       "model             5209\n",
       "condition       174036\n",
       "cylinders       177610\n",
       "fuel              2945\n",
       "odometer          4332\n",
       "transmission      2488\n",
       "VIN             160974\n",
       "drive           130499\n",
       "type             92790\n",
       "paint_color     130135\n",
       "state                0\n",
       "posting_date         0\n",
       "dtype: int64"
      ]
     },
     "execution_count": 16,
     "metadata": {},
     "output_type": "execute_result"
    }
   ],
   "source": [
    "df_uc.isnull().sum()"
   ]
  },
  {
   "cell_type": "markdown",
   "metadata": {},
   "source": [
    "Most of the features have missing values. There are different imputation strategies and depending on the variable one or the other makes more sense."
   ]
  },
  {
   "cell_type": "markdown",
   "metadata": {},
   "source": [
    "##### year"
   ]
  },
  {
   "cell_type": "markdown",
   "metadata": {},
   "source": [
    "For the model year domain knowledge helps us to define a great imputation approach. In fact, the vehicle identification\n",
    "number (VIN) gives precise information on the vehicles model year."
   ]
  },
  {
   "cell_type": "markdown",
   "metadata": {},
   "source": [
    "<img src=\"img/vin.jpg\" alt=\"VIN\" width=\"750\" height=\"500\"/>\n",
    "<p>Image source: <a href=\"https://www.autocheck.com/vehiclehistory/vin-basics\">AutoCheck</a></p>"
   ]
  },
  {
   "cell_type": "markdown",
   "metadata": {},
   "source": [
    "We import a dictionary that maps the 10th digit of the VIN to the model year. I have prepared this mapping dictionary in the [util.py](util.py) module."
   ]
  },
  {
   "cell_type": "code",
   "execution_count": 17,
   "metadata": {},
   "outputs": [],
   "source": [
    "from util import dict_vin2year"
   ]
  },
  {
   "cell_type": "code",
   "execution_count": 22,
   "metadata": {},
   "outputs": [],
   "source": [
    "df_uc.loc[df_uc.year.isnull(), 'year'] = df_uc.loc[df_uc.year.isnull()].VIN.apply(lambda x: x[9]).map(dict_vin2year)"
   ]
  },
  {
   "cell_type": "markdown",
   "metadata": {},
   "source": [
    "##### manufacturer"
   ]
  },
  {
   "cell_type": "code",
   "execution_count": 25,
   "metadata": {},
   "outputs": [
    {
     "data": {
      "text/html": [
       "<div>\n",
       "<style scoped>\n",
       "    .dataframe tbody tr th:only-of-type {\n",
       "        vertical-align: middle;\n",
       "    }\n",
       "\n",
       "    .dataframe tbody tr th {\n",
       "        vertical-align: top;\n",
       "    }\n",
       "\n",
       "    .dataframe thead th {\n",
       "        text-align: right;\n",
       "    }\n",
       "</style>\n",
       "<table border=\"1\" class=\"dataframe\">\n",
       "  <thead>\n",
       "    <tr style=\"text-align: right;\">\n",
       "      <th></th>\n",
       "      <th>id</th>\n",
       "      <th>region</th>\n",
       "      <th>price</th>\n",
       "      <th>year</th>\n",
       "      <th>manufacturer</th>\n",
       "      <th>model</th>\n",
       "      <th>condition</th>\n",
       "      <th>cylinders</th>\n",
       "      <th>fuel</th>\n",
       "      <th>odometer</th>\n",
       "      <th>transmission</th>\n",
       "      <th>VIN</th>\n",
       "      <th>drive</th>\n",
       "      <th>type</th>\n",
       "      <th>paint_color</th>\n",
       "      <th>state</th>\n",
       "      <th>posting_date</th>\n",
       "    </tr>\n",
       "  </thead>\n",
       "  <tbody>\n",
       "    <tr>\n",
       "      <th>70</th>\n",
       "      <td>7309271279</td>\n",
       "      <td>auburn</td>\n",
       "      <td>15990</td>\n",
       "      <td>2016</td>\n",
       "      <td>&lt;NA&gt;</td>\n",
       "      <td>Scion iM Hatchback 4D</td>\n",
       "      <td>good</td>\n",
       "      <td>&lt;NA&gt;</td>\n",
       "      <td>gas</td>\n",
       "      <td>29652</td>\n",
       "      <td>other</td>\n",
       "      <td>JTNKARJEXGJ517925</td>\n",
       "      <td>fwd</td>\n",
       "      <td>hatchback</td>\n",
       "      <td>blue</td>\n",
       "      <td>al</td>\n",
       "      <td>2021-04-19</td>\n",
       "    </tr>\n",
       "    <tr>\n",
       "      <th>95</th>\n",
       "      <td>7306198330</td>\n",
       "      <td>auburn</td>\n",
       "      <td>6800</td>\n",
       "      <td>2005</td>\n",
       "      <td>&lt;NA&gt;</td>\n",
       "      <td>blue bird bus</td>\n",
       "      <td>excellent</td>\n",
       "      <td>6 cylinders</td>\n",
       "      <td>diesel</td>\n",
       "      <td>180000</td>\n",
       "      <td>automatic</td>\n",
       "      <td>&lt;NA&gt;</td>\n",
       "      <td>rwd</td>\n",
       "      <td>bus</td>\n",
       "      <td>yellow</td>\n",
       "      <td>al</td>\n",
       "      <td>2021-04-13</td>\n",
       "    </tr>\n",
       "    <tr>\n",
       "      <th>108</th>\n",
       "      <td>7305150004</td>\n",
       "      <td>auburn</td>\n",
       "      <td>14990</td>\n",
       "      <td>2016</td>\n",
       "      <td>&lt;NA&gt;</td>\n",
       "      <td>Scion iM Hatchback 4D</td>\n",
       "      <td>good</td>\n",
       "      <td>&lt;NA&gt;</td>\n",
       "      <td>gas</td>\n",
       "      <td>65203</td>\n",
       "      <td>other</td>\n",
       "      <td>JTNKARJE4GJ508198</td>\n",
       "      <td>fwd</td>\n",
       "      <td>hatchback</td>\n",
       "      <td>red</td>\n",
       "      <td>al</td>\n",
       "      <td>2021-04-11</td>\n",
       "    </tr>\n",
       "    <tr>\n",
       "      <th>110</th>\n",
       "      <td>7305082143</td>\n",
       "      <td>auburn</td>\n",
       "      <td>2500</td>\n",
       "      <td>1966</td>\n",
       "      <td>&lt;NA&gt;</td>\n",
       "      <td>1966 C-30 1 ton</td>\n",
       "      <td>good</td>\n",
       "      <td>6 cylinders</td>\n",
       "      <td>gas</td>\n",
       "      <td>47000</td>\n",
       "      <td>manual</td>\n",
       "      <td>&lt;NA&gt;</td>\n",
       "      <td>rwd</td>\n",
       "      <td>pickup</td>\n",
       "      <td>brown</td>\n",
       "      <td>al</td>\n",
       "      <td>2021-04-11</td>\n",
       "    </tr>\n",
       "    <tr>\n",
       "      <th>128</th>\n",
       "      <td>7302642422</td>\n",
       "      <td>auburn</td>\n",
       "      <td>8990</td>\n",
       "      <td>2013</td>\n",
       "      <td>&lt;NA&gt;</td>\n",
       "      <td>smart fortwo Passion Hatchback</td>\n",
       "      <td>good</td>\n",
       "      <td>&lt;NA&gt;</td>\n",
       "      <td>gas</td>\n",
       "      <td>59072</td>\n",
       "      <td>automatic</td>\n",
       "      <td>WMEEJ3BA2DK636540</td>\n",
       "      <td>rwd</td>\n",
       "      <td>coupe</td>\n",
       "      <td>silver</td>\n",
       "      <td>al</td>\n",
       "      <td>2021-04-06</td>\n",
       "    </tr>\n",
       "    <tr>\n",
       "      <th>...</th>\n",
       "      <td>...</td>\n",
       "      <td>...</td>\n",
       "      <td>...</td>\n",
       "      <td>...</td>\n",
       "      <td>...</td>\n",
       "      <td>...</td>\n",
       "      <td>...</td>\n",
       "      <td>...</td>\n",
       "      <td>...</td>\n",
       "      <td>...</td>\n",
       "      <td>...</td>\n",
       "      <td>...</td>\n",
       "      <td>...</td>\n",
       "      <td>...</td>\n",
       "      <td>...</td>\n",
       "      <td>...</td>\n",
       "      <td>...</td>\n",
       "    </tr>\n",
       "    <tr>\n",
       "      <th>426775</th>\n",
       "      <td>7302129327</td>\n",
       "      <td>wyoming</td>\n",
       "      <td>21999</td>\n",
       "      <td>2017</td>\n",
       "      <td>&lt;NA&gt;</td>\n",
       "      <td>2017</td>\n",
       "      <td>&lt;NA&gt;</td>\n",
       "      <td>&lt;NA&gt;</td>\n",
       "      <td>gas</td>\n",
       "      <td>51000</td>\n",
       "      <td>automatic</td>\n",
       "      <td>&lt;NA&gt;</td>\n",
       "      <td>&lt;NA&gt;</td>\n",
       "      <td>&lt;NA&gt;</td>\n",
       "      <td>&lt;NA&gt;</td>\n",
       "      <td>wy</td>\n",
       "      <td>2021-04-05</td>\n",
       "    </tr>\n",
       "    <tr>\n",
       "      <th>426778</th>\n",
       "      <td>7302118268</td>\n",
       "      <td>wyoming</td>\n",
       "      <td>41999</td>\n",
       "      <td>2015</td>\n",
       "      <td>&lt;NA&gt;</td>\n",
       "      <td>2015</td>\n",
       "      <td>&lt;NA&gt;</td>\n",
       "      <td>&lt;NA&gt;</td>\n",
       "      <td>gas</td>\n",
       "      <td>126000</td>\n",
       "      <td>automatic</td>\n",
       "      <td>&lt;NA&gt;</td>\n",
       "      <td>&lt;NA&gt;</td>\n",
       "      <td>&lt;NA&gt;</td>\n",
       "      <td>&lt;NA&gt;</td>\n",
       "      <td>wy</td>\n",
       "      <td>2021-04-05</td>\n",
       "    </tr>\n",
       "    <tr>\n",
       "      <th>426794</th>\n",
       "      <td>7301950980</td>\n",
       "      <td>wyoming</td>\n",
       "      <td>27590</td>\n",
       "      <td>2018</td>\n",
       "      <td>&lt;NA&gt;</td>\n",
       "      <td>Genesis G80 3.8 Sedan 4D</td>\n",
       "      <td>good</td>\n",
       "      <td>6 cylinders</td>\n",
       "      <td>gas</td>\n",
       "      <td>36138</td>\n",
       "      <td>other</td>\n",
       "      <td>KMHGN4JE4JU248193</td>\n",
       "      <td>&lt;NA&gt;</td>\n",
       "      <td>sedan</td>\n",
       "      <td>black</td>\n",
       "      <td>wy</td>\n",
       "      <td>2021-04-05</td>\n",
       "    </tr>\n",
       "    <tr>\n",
       "      <th>426795</th>\n",
       "      <td>7301949724</td>\n",
       "      <td>wyoming</td>\n",
       "      <td>25590</td>\n",
       "      <td>2017</td>\n",
       "      <td>&lt;NA&gt;</td>\n",
       "      <td>Genesis G80 3.8 Sedan 4D</td>\n",
       "      <td>good</td>\n",
       "      <td>6 cylinders</td>\n",
       "      <td>gas</td>\n",
       "      <td>37608</td>\n",
       "      <td>automatic</td>\n",
       "      <td>KMHGN4JE2HU183838</td>\n",
       "      <td>rwd</td>\n",
       "      <td>sedan</td>\n",
       "      <td>white</td>\n",
       "      <td>wy</td>\n",
       "      <td>2021-04-05</td>\n",
       "    </tr>\n",
       "    <tr>\n",
       "      <th>426801</th>\n",
       "      <td>7301592693</td>\n",
       "      <td>wyoming</td>\n",
       "      <td>13990</td>\n",
       "      <td>2016</td>\n",
       "      <td>&lt;NA&gt;</td>\n",
       "      <td>Scion iM Hatchback 4D</td>\n",
       "      <td>good</td>\n",
       "      <td>&lt;NA&gt;</td>\n",
       "      <td>other</td>\n",
       "      <td>75626</td>\n",
       "      <td>other</td>\n",
       "      <td>JTNKARJE8GJ511296</td>\n",
       "      <td>fwd</td>\n",
       "      <td>hatchback</td>\n",
       "      <td>white</td>\n",
       "      <td>wy</td>\n",
       "      <td>2021-04-04</td>\n",
       "    </tr>\n",
       "  </tbody>\n",
       "</table>\n",
       "<p>17578 rows × 17 columns</p>\n",
       "</div>"
      ],
      "text/plain": [
       "                id   region  price  year manufacturer  \\\n",
       "70      7309271279   auburn  15990  2016         <NA>   \n",
       "95      7306198330   auburn   6800  2005         <NA>   \n",
       "108     7305150004   auburn  14990  2016         <NA>   \n",
       "110     7305082143   auburn   2500  1966         <NA>   \n",
       "128     7302642422   auburn   8990  2013         <NA>   \n",
       "...            ...      ...    ...   ...          ...   \n",
       "426775  7302129327  wyoming  21999  2017         <NA>   \n",
       "426778  7302118268  wyoming  41999  2015         <NA>   \n",
       "426794  7301950980  wyoming  27590  2018         <NA>   \n",
       "426795  7301949724  wyoming  25590  2017         <NA>   \n",
       "426801  7301592693  wyoming  13990  2016         <NA>   \n",
       "\n",
       "                                 model  condition    cylinders    fuel  \\\n",
       "70               Scion iM Hatchback 4D       good         <NA>     gas   \n",
       "95                       blue bird bus  excellent  6 cylinders  diesel   \n",
       "108              Scion iM Hatchback 4D       good         <NA>     gas   \n",
       "110                    1966 C-30 1 ton       good  6 cylinders     gas   \n",
       "128     smart fortwo Passion Hatchback       good         <NA>     gas   \n",
       "...                                ...        ...          ...     ...   \n",
       "426775                            2017       <NA>         <NA>     gas   \n",
       "426778                            2015       <NA>         <NA>     gas   \n",
       "426794        Genesis G80 3.8 Sedan 4D       good  6 cylinders     gas   \n",
       "426795        Genesis G80 3.8 Sedan 4D       good  6 cylinders     gas   \n",
       "426801           Scion iM Hatchback 4D       good         <NA>   other   \n",
       "\n",
       "        odometer transmission                VIN drive       type paint_color  \\\n",
       "70         29652        other  JTNKARJEXGJ517925   fwd  hatchback        blue   \n",
       "95        180000    automatic               <NA>   rwd        bus      yellow   \n",
       "108        65203        other  JTNKARJE4GJ508198   fwd  hatchback         red   \n",
       "110        47000       manual               <NA>   rwd     pickup       brown   \n",
       "128        59072    automatic  WMEEJ3BA2DK636540   rwd      coupe      silver   \n",
       "...          ...          ...                ...   ...        ...         ...   \n",
       "426775     51000    automatic               <NA>  <NA>       <NA>        <NA>   \n",
       "426778    126000    automatic               <NA>  <NA>       <NA>        <NA>   \n",
       "426794     36138        other  KMHGN4JE4JU248193  <NA>      sedan       black   \n",
       "426795     37608    automatic  KMHGN4JE2HU183838   rwd      sedan       white   \n",
       "426801     75626        other  JTNKARJE8GJ511296   fwd  hatchback       white   \n",
       "\n",
       "       state posting_date  \n",
       "70        al   2021-04-19  \n",
       "95        al   2021-04-13  \n",
       "108       al   2021-04-11  \n",
       "110       al   2021-04-11  \n",
       "128       al   2021-04-06  \n",
       "...      ...          ...  \n",
       "426775    wy   2021-04-05  \n",
       "426778    wy   2021-04-05  \n",
       "426794    wy   2021-04-05  \n",
       "426795    wy   2021-04-05  \n",
       "426801    wy   2021-04-04  \n",
       "\n",
       "[17578 rows x 17 columns]"
      ]
     },
     "execution_count": 25,
     "metadata": {},
     "output_type": "execute_result"
    }
   ],
   "source": [
    "df_uc.loc[df_uc['manufacturer'].isnull()]"
   ]
  },
  {
   "cell_type": "markdown",
   "metadata": {},
   "source": [
    "### Feature Engineering"
   ]
  },
  {
   "cell_type": "markdown",
   "metadata": {},
   "source": [
    "### Model Training"
   ]
  },
  {
   "cell_type": "markdown",
   "metadata": {},
   "source": [
    "### Model Evaluation"
   ]
  },
  {
   "cell_type": "markdown",
   "metadata": {},
   "source": [
    "### Model Fine Tuning"
   ]
  },
  {
   "cell_type": "markdown",
   "metadata": {},
   "source": [
    "### Model Deployment"
   ]
  }
 ],
 "metadata": {
  "kernelspec": {
   "display_name": ".venv",
   "language": "python",
   "name": "python3"
  },
  "language_info": {
   "codemirror_mode": {
    "name": "ipython",
    "version": 3
   },
   "file_extension": ".py",
   "mimetype": "text/x-python",
   "name": "python",
   "nbconvert_exporter": "python",
   "pygments_lexer": "ipython3",
   "version": "3.12.0"
  }
 },
 "nbformat": 4,
 "nbformat_minor": 2
}
