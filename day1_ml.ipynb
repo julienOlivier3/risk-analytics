{
 "cells": [
  {
   "cell_type": "markdown",
   "metadata": {},
   "source": [
    "# Machine Learning and Risk Modelling"
   ]
  },
  {
   "cell_type": "markdown",
   "metadata": {},
   "source": [
    "## What is Machine Learning?"
   ]
  },
  {
   "cell_type": "markdown",
   "metadata": {},
   "source": [
    "To grasp the definition of Machine Learning (ML), it's helpful to narrow the focus by exploring its relationship with Artificial Intelligence (AI) and Deep Learning (DL).\n"
   ]
  },
  {
   "cell_type": "markdown",
   "metadata": {},
   "source": [
    "<img src=\"img/ai_ml_dl3.png\" alt=\"AI, ML & DL\" width=\"700\" height=\"500\"/>\n",
    "<p>Image source: <a href=\"https://developer.nvidia.com/deep-learning\">Nvidia</a></p>"
   ]
  },
  {
   "cell_type": "markdown",
   "metadata": {},
   "source": [
    "<span style=\"color: #b0d45c;\">**Artificial Intelligence (AI)**</span>:\n",
    "-  While there is **no strict definition** of Artificial Intelligence, it is commonly referred to as the capability of machines to perform tasks that were previously solvable only by humans or those that are particularly challenging and typically require some form of **\"intelligence\"**.\n",
    "- AI traces its origins back to the **1940s**, coinciding with the invention of the computer. Pioneering scientists such as **Alan Turing** and **John von Neumann** posed a fundamental question: If we can formalize computation, can we leverage this computation to formalize the concept of **\"thinking\"**?\n",
    "- AI encompasses a wide range of fields, including **machine learning**, **natural language processing**, **computer vision**, **robotics**, **search algorithms**, **game playing**, **intelligent agents**, and much more.\n",
    "\n",
    "<span style=\"color: #88bc04;\">**Machine Learning (ML)**</span>:\n",
    "- ML is **mathematically well-defined** and is capable of solving reasonably **narrow** tasks.\n",
    "- ML algorithms usually construct **predictive/decision models** from typically **labelled data**, instead of explicitly programming them.\n",
    "- ML roughly divides into **supervised**, **unsupervised** and **reinforcement** learning with a variety of different ML methods that exist to solve the underlying prediction/decision task.\n",
    "    - supervised learning: training a model on a labelled dataset, where the input data is paired with the correct output. The model learns to make predictions/classifications based on this labeled information.\n",
    "    - unsupervised learning: the model works with unlabeled data, aiming to identify patterns and relationships within the data without any specific guidance.\n",
    "    - reinforcement learning: training a model through interactions with an environment, where it learns to make decisions based on the rewards or penalties it receives from its actions.\n",
    "\n",
    "    In this course we focus on supervised learning applying tree-based regression methods.\n",
    "\n",
    "<span style=\"color: #68ac04;\">**Deep Learning (DL)**</span>:\n",
    "- DL is a subfield of ML that focuses on the study of **neural networks**.\n",
    "- Artificial Neural Networks (ANNs) have been researched for **decades**. DL utilizes **more layers**, incorporates **specialized neurons** designed for **images and tensors**, and benefits from numerous **computational improvements** that facilitate training on **large datasets**.\n",
    "- DL can be used on rectangular data, but typical applications are images, texts or signals."
   ]
  },
  {
   "cell_type": "markdown",
   "metadata": {},
   "source": [
    "**Machine Learning**\n",
    "> Machine Learning is a subfield of Artificial Intelligence consisting of mathematical models that learn from historical data to solve narrow prediction/classification/decision tasks."
   ]
  },
  {
   "cell_type": "markdown",
   "metadata": {},
   "source": [
    "## Application of Machine Learning in Risk Management"
   ]
  },
  {
   "cell_type": "markdown",
   "metadata": {},
   "source": [
    "Machine Learning (ML) has become an essential tool in **risk management** due to its ability to analyze vast amounts of data and uncover patterns that traditional methods may overlook. In today's complex financial landscape, organizations face numerous risks, and ML provides a robust framework for modeling and steering these risks effectively.\n",
    "\n",
    "\n"
   ]
  },
  {
   "cell_type": "markdown",
   "metadata": {},
   "source": [
    "### Why Use Machine Learning?"
   ]
  },
  {
   "cell_type": "markdown",
   "metadata": {},
   "source": [
    "1. **Enhanced Predictive Accuracy**: ML algorithms can improve the accuracy of risk predictions by learning from historical data and adapting to new information. This is particularly important in areas like credit risk modeling, where understanding borrower behavior is crucial.\n",
    "1. **Real-Time Analysis**: With the ability to process data in real-time, ML enables organizations to respond swiftly to emerging risks. This agility is vital in dynamic markets where conditions can change rapidly.\n",
    "1. **Complex Data Handling**: The financial sector generates vast amounts of data, including unstructured data. ML techniques excel at processing and analyzing this complex data, allowing for more comprehensive risk assessments (more on unstructured data in the [second part of the course](day2_nlp.ipynb)).\n",
    "1. **Model Risk Management**: As organizations increasingly rely on data-driven models, managing the risks associated with these models becomes critical. ML can help identify and mitigate model risk by providing insights into model performance and reliability.\n",
    "1. **Automation and Efficiency**: By automating routine risk assessment tasks, ML frees up valuable resources, allowing risk managers to focus on strategic decision-making. This efficiency is particularly beneficial in credit risk management, where timely decisions can significantly impact profitability.\n",
    "\n",
    "In summary, the integration of Machine Learning into risk management not only enhances predictive capabilities but also streamlines processes, making it an invaluable asset for organizations aiming to navigate the complexities of modern financial risks."
   ]
  },
  {
   "cell_type": "markdown",
   "metadata": {},
   "source": [
    "### A real-world use case: Residual Value Risk Modelling"
   ]
  },
  {
   "cell_type": "markdown",
   "metadata": {},
   "source": [
    "In the following, we will work on a real-world use case that car leasing entities typically face. It is the risk associated with the uncertainty of what a leased out car can be resold at when the car returns to the leasing entity. This asset risk is commonly known as residual value risk."
   ]
  },
  {
   "cell_type": "markdown",
   "metadata": {},
   "source": [
    "**Residual Value**\n",
    "> Residual value is the estimated value of a vehicle at the end of its lease term."
   ]
  },
  {
   "cell_type": "markdown",
   "metadata": {},
   "source": [
    "<img src=\"img/rv.png\" alt=\"Car depreciation\" width=\"1000\" height=\"500\"/>\n",
    "<p>Image source: <a href=\"https://diminishedvalueofgeorgia.com/the-top-10-slowest-depreciating-used-cars-in-the-u-s/\">Diminished Value of Georgia</a></p>"
   ]
  },
  {
   "cell_type": "markdown",
   "metadata": {},
   "source": [
    "**Why do leasing companies care about residual values?**\n",
    "\n",
    "Residual values are crucial for determining the expected worth of an asset at the end of its lease term. Accurate estimates help leasing companies set appropriate lease payments and manage their financial risk. If the actual residual value is lower than anticipated, it can lead to financial losses for the leasing company.\n",
    "\n",
    "Thus a key objective in residual value risk management is to achieve the greatest possible accuracy in predicting residual value (RV) – what the vehicles are worth at the end of the lease period – to enable optimal pricing of leases and prevent future losses when remarketing the used vehicles."
   ]
  },
  {
   "cell_type": "markdown",
   "metadata": {},
   "source": [
    "**What determines the residual value of a vehicle?**\n",
    "\n",
    "Besides the actual condition of the car, proxied by factors such as age, mileage or damage information, changing customer preferences, economic swings, greater transparency in the used-car market, new technologies such as electric cars, or the regulatory uncertainties do all affect the residual value of a car. This makes the prediction of used cars a complicated task."
   ]
  },
  {
   "cell_type": "markdown",
   "metadata": {},
   "source": [
    "For the remaining part of the script we will work with a dataset of used cars that were sold in the US market. Besides the actual used car value the dataset contains variables that affects the selling price of the used cars. Such data is commonly used to train models for the prediction of residual values. this use case forms the basis to go through fundamental concepts in supervised ML:\n",
    "- What kind of \"data\" do we learn from?\n",
    "- How can we formalize the goal of learning?\n",
    "- What is a \"prediction model\"?\n",
    "- How can we quantify \"predictive performance\"?\n",
    "- What is a \"learning algorithm\"\n",
    "- How can we operationalize learning?"
   ]
  },
  {
   "cell_type": "markdown",
   "metadata": {},
   "source": [
    "## Developing a Machine Learning Model"
   ]
  },
  {
   "cell_type": "markdown",
   "metadata": {},
   "source": [
    "When building a ML model from scratch, there are some fundamental steps one typically follows to come up with a production ready model:\n",
    "\n",
    "1. **Understanding the Problem**: Clearly define the problem you are trying to solve. This includes identifying whether it is a classification, regression, or clustering task, as this will guide your choice of algorithms and evaluation metrics. \n",
    "\n",
    "1. **Data Collection and Preprocessing**: Gather relevant data that is representative of the problem domain. This step involves cleaning the data, handling missing values, and transforming features to ensure they are suitable for modelling.\n",
    "\n",
    "1. **Feature Selection and Engineering**: Identify the most relevant features that contribute to the model's performance. Feature engineering may involve creating new features from existing data to improve the model's predictive power.\n",
    "\n",
    "1. **Choosing the Right Algorithm**: Select an appropriate ML algorithm based on the nature of the data and the problem. Different algorithms have different strengths and weaknesses, so understanding these can help in making an informed choice.\n",
    "\n",
    "1. **Model Training and Validation**: Train the model using a portion of the data while keeping another portion for validation. This helps in assessing how well the model generalizes to unseen data.\n",
    "\n",
    "1. **Model Evaluation**: Use appropriate metrics to evaluate the model's performance. This could include accuracy, precision, recall, F1 score, or area under the ROC curve, depending on the specific task.\n",
    "\n",
    "1. **Calibration and Tuning**: Fine-tune the model parameters to optimize performance. This may involve techniques like cross-validation and hyperparameter tuning to ensure the model is well-calibrated.\n",
    "\n",
    "1. **Deployment and Monitoring**: Once the model is trained and validated, deploy it in a real-world environment. Continuous monitoring is essential to ensure the model maintains its performance over time and adapts to any changes in the data."
   ]
  },
  {
   "cell_type": "markdown",
   "metadata": {},
   "source": [
    "### Undestanding the Problem"
   ]
  },
  {
   "cell_type": "markdown",
   "metadata": {},
   "source": [
    "Based on the information above we know that the development of a residual value risk model is a regression task. Moreover, I have provided, albeit limited, domain knowledge as to what residual value risk is and why lease companies try to steer it. According to my experience, domain knowledge is at least as important as the mathematical and technical skills required to come up with a decent ML model. Thus, try to get input from domain experts if you are tasked to solve an analytical problem in a domain where you only have limited knowledge. It will make your solution better!"
   ]
  },
  {
   "cell_type": "markdown",
   "metadata": {},
   "source": [
    "### Data Preprocessing"
   ]
  },
  {
   "cell_type": "markdown",
   "metadata": {},
   "source": [
    "First, we import pandas a popular Python library that is designed to manipulate rectangular data conveniently."
   ]
  },
  {
   "cell_type": "code",
   "execution_count": 1,
   "metadata": {},
   "outputs": [],
   "source": [
    "import pandas as pd"
   ]
  },
  {
   "cell_type": "markdown",
   "metadata": {},
   "source": [
    "Then we read the used car data."
   ]
  },
  {
   "cell_type": "code",
   "execution_count": 2,
   "metadata": {},
   "outputs": [],
   "source": [
    "df_uc = pd.read_csv('data/used_car.csv', parse_dates=['posting_date'])"
   ]
  },
  {
   "cell_type": "markdown",
   "metadata": {},
   "source": [
    "What is the dimension of the data?"
   ]
  },
  {
   "cell_type": "code",
   "execution_count": 3,
   "metadata": {},
   "outputs": [
    {
     "data": {
      "text/plain": [
       "(426812, 17)"
      ]
     },
     "execution_count": 3,
     "metadata": {},
     "output_type": "execute_result"
    }
   ],
   "source": [
    "df_uc.shape"
   ]
  },
  {
   "cell_type": "markdown",
   "metadata": {},
   "source": [
    "Overall, there 17 columns with 426,812 samples."
   ]
  },
  {
   "cell_type": "markdown",
   "metadata": {},
   "source": [
    "Next, we have a first glimpse at the data and check the data types."
   ]
  },
  {
   "cell_type": "code",
   "execution_count": 4,
   "metadata": {},
   "outputs": [
    {
     "data": {
      "text/html": [
       "<div>\n",
       "<style scoped>\n",
       "    .dataframe tbody tr th:only-of-type {\n",
       "        vertical-align: middle;\n",
       "    }\n",
       "\n",
       "    .dataframe tbody tr th {\n",
       "        vertical-align: top;\n",
       "    }\n",
       "\n",
       "    .dataframe thead th {\n",
       "        text-align: right;\n",
       "    }\n",
       "</style>\n",
       "<table border=\"1\" class=\"dataframe\">\n",
       "  <thead>\n",
       "    <tr style=\"text-align: right;\">\n",
       "      <th></th>\n",
       "      <th>id</th>\n",
       "      <th>region</th>\n",
       "      <th>price</th>\n",
       "      <th>year</th>\n",
       "      <th>manufacturer</th>\n",
       "      <th>model</th>\n",
       "      <th>condition</th>\n",
       "      <th>cylinders</th>\n",
       "      <th>fuel</th>\n",
       "      <th>odometer</th>\n",
       "      <th>transmission</th>\n",
       "      <th>VIN</th>\n",
       "      <th>drive</th>\n",
       "      <th>type</th>\n",
       "      <th>paint_color</th>\n",
       "      <th>state</th>\n",
       "      <th>posting_date</th>\n",
       "    </tr>\n",
       "  </thead>\n",
       "  <tbody>\n",
       "    <tr>\n",
       "      <th>158644</th>\n",
       "      <td>7305577120</td>\n",
       "      <td>des moines</td>\n",
       "      <td>18888</td>\n",
       "      <td>2014.0</td>\n",
       "      <td>lexus</td>\n",
       "      <td>rx 350</td>\n",
       "      <td>NaN</td>\n",
       "      <td>NaN</td>\n",
       "      <td>gas</td>\n",
       "      <td>111771.0</td>\n",
       "      <td>automatic</td>\n",
       "      <td>JTJBK1BAXE2038858</td>\n",
       "      <td>NaN</td>\n",
       "      <td>NaN</td>\n",
       "      <td>NaN</td>\n",
       "      <td>ia</td>\n",
       "      <td>2021-04-12</td>\n",
       "    </tr>\n",
       "    <tr>\n",
       "      <th>13015</th>\n",
       "      <td>7312176962</td>\n",
       "      <td>prescott</td>\n",
       "      <td>12500</td>\n",
       "      <td>2007.0</td>\n",
       "      <td>rover</td>\n",
       "      <td>lr3</td>\n",
       "      <td>excellent</td>\n",
       "      <td>8 cylinders</td>\n",
       "      <td>gas</td>\n",
       "      <td>105000.0</td>\n",
       "      <td>manual</td>\n",
       "      <td>NaN</td>\n",
       "      <td>4wd</td>\n",
       "      <td>offroad</td>\n",
       "      <td>grey</td>\n",
       "      <td>az</td>\n",
       "      <td>2021-04-25</td>\n",
       "    </tr>\n",
       "    <tr>\n",
       "      <th>5974</th>\n",
       "      <td>7312162906</td>\n",
       "      <td>anchorage / mat-su</td>\n",
       "      <td>36194</td>\n",
       "      <td>2017.0</td>\n",
       "      <td>lexus</td>\n",
       "      <td>nx turbo</td>\n",
       "      <td>NaN</td>\n",
       "      <td>4 cylinders</td>\n",
       "      <td>gas</td>\n",
       "      <td>9000.0</td>\n",
       "      <td>automatic</td>\n",
       "      <td>JTJBARBZ0H2107682</td>\n",
       "      <td>4wd</td>\n",
       "      <td>SUV</td>\n",
       "      <td>NaN</td>\n",
       "      <td>ak</td>\n",
       "      <td>2021-04-25</td>\n",
       "    </tr>\n",
       "  </tbody>\n",
       "</table>\n",
       "</div>"
      ],
      "text/plain": [
       "                id              region  price    year manufacturer     model  \\\n",
       "158644  7305577120          des moines  18888  2014.0        lexus    rx 350   \n",
       "13015   7312176962            prescott  12500  2007.0        rover       lr3   \n",
       "5974    7312162906  anchorage / mat-su  36194  2017.0        lexus  nx turbo   \n",
       "\n",
       "        condition    cylinders fuel  odometer transmission                VIN  \\\n",
       "158644        NaN          NaN  gas  111771.0    automatic  JTJBK1BAXE2038858   \n",
       "13015   excellent  8 cylinders  gas  105000.0       manual                NaN   \n",
       "5974          NaN  4 cylinders  gas    9000.0    automatic  JTJBARBZ0H2107682   \n",
       "\n",
       "       drive     type paint_color state posting_date  \n",
       "158644   NaN      NaN         NaN    ia   2021-04-12  \n",
       "13015    4wd  offroad        grey    az   2021-04-25  \n",
       "5974     4wd      SUV         NaN    ak   2021-04-25  "
      ]
     },
     "execution_count": 4,
     "metadata": {},
     "output_type": "execute_result"
    }
   ],
   "source": [
    "df_uc.sample(3)"
   ]
  },
  {
   "cell_type": "markdown",
   "metadata": {},
   "source": [
    "A short description of each variable can be found [here](data/used_car_dictionary.md)."
   ]
  },
  {
   "cell_type": "code",
   "execution_count": 5,
   "metadata": {},
   "outputs": [
    {
     "data": {
      "text/plain": [
       "id                       int64\n",
       "region                  object\n",
       "price                    int64\n",
       "year                   float64\n",
       "manufacturer            object\n",
       "model                   object\n",
       "condition               object\n",
       "cylinders               object\n",
       "fuel                    object\n",
       "odometer               float64\n",
       "transmission            object\n",
       "VIN                     object\n",
       "drive                   object\n",
       "type                    object\n",
       "paint_color             object\n",
       "state                   object\n",
       "posting_date    datetime64[ns]\n",
       "dtype: object"
      ]
     },
     "execution_count": 5,
     "metadata": {},
     "output_type": "execute_result"
    }
   ],
   "source": [
    "df_uc.dtypes"
   ]
  },
  {
   "cell_type": "markdown",
   "metadata": {},
   "source": [
    "Note the following definition of data types:\n",
    "- `int64`: 64-bit signed integer type.\n",
    "- `float64`: 64-bit floating point type.\n",
    "- `object`: generic container for any Python object (here used for string variables)\n",
    "\n",
    "Data types seem to be correct."
   ]
  },
  {
   "cell_type": "markdown",
   "metadata": {},
   "source": [
    "We want to ensure that there are no duplicate entries in our data. A ML model may give undue weight to duplicate entries, effectively treating them as more important than unique samples. This can skew the learning process, especially if the duplicates belong to a specific class, leading to a biased model that does not accurately reflect the underlying distribution of the data."
   ]
  },
  {
   "cell_type": "code",
   "execution_count": 6,
   "metadata": {},
   "outputs": [
    {
     "data": {
      "text/plain": [
       "np.int64(4222)"
      ]
     },
     "execution_count": 6,
     "metadata": {},
     "output_type": "execute_result"
    }
   ],
   "source": [
    "df_uc.drop(columns=['id']).duplicated().sum()"
   ]
  },
  {
   "cell_type": "markdown",
   "metadata": {},
   "source": [
    "There are 4222 duplicates in our raw data. We keep only the first entry."
   ]
  },
  {
   "cell_type": "code",
   "execution_count": 7,
   "metadata": {},
   "outputs": [],
   "source": [
    "df_uc = df_uc.drop(columns=['id']).drop_duplicates(keep='first')"
   ]
  },
  {
   "cell_type": "markdown",
   "metadata": {},
   "source": [
    "A common way to get a first feeling for the variables is to look at their descriptive statistics. This can be done with the pandas method `describe()`."
   ]
  },
  {
   "cell_type": "code",
   "execution_count": 8,
   "metadata": {},
   "outputs": [
    {
     "data": {
      "text/html": [
       "<div>\n",
       "<style scoped>\n",
       "    .dataframe tbody tr th:only-of-type {\n",
       "        vertical-align: middle;\n",
       "    }\n",
       "\n",
       "    .dataframe tbody tr th {\n",
       "        vertical-align: top;\n",
       "    }\n",
       "\n",
       "    .dataframe thead th {\n",
       "        text-align: right;\n",
       "    }\n",
       "</style>\n",
       "<table border=\"1\" class=\"dataframe\">\n",
       "  <thead>\n",
       "    <tr style=\"text-align: right;\">\n",
       "      <th></th>\n",
       "      <th>price</th>\n",
       "      <th>year</th>\n",
       "      <th>odometer</th>\n",
       "      <th>posting_date</th>\n",
       "    </tr>\n",
       "  </thead>\n",
       "  <tbody>\n",
       "    <tr>\n",
       "      <th>count</th>\n",
       "      <td>4.225900e+05</td>\n",
       "      <td>421475.000000</td>\n",
       "      <td>4.183240e+05</td>\n",
       "      <td>422590</td>\n",
       "    </tr>\n",
       "    <tr>\n",
       "      <th>mean</th>\n",
       "      <td>7.577414e+04</td>\n",
       "      <td>2011.229432</td>\n",
       "      <td>9.799336e+04</td>\n",
       "      <td>2021-04-23 08:18:04.557609216</td>\n",
       "    </tr>\n",
       "    <tr>\n",
       "      <th>min</th>\n",
       "      <td>0.000000e+00</td>\n",
       "      <td>1900.000000</td>\n",
       "      <td>0.000000e+00</td>\n",
       "      <td>2021-04-04 00:00:00</td>\n",
       "    </tr>\n",
       "    <tr>\n",
       "      <th>25%</th>\n",
       "      <td>5.950000e+03</td>\n",
       "      <td>2008.000000</td>\n",
       "      <td>3.753100e+04</td>\n",
       "      <td>2021-04-17 00:00:00</td>\n",
       "    </tr>\n",
       "    <tr>\n",
       "      <th>50%</th>\n",
       "      <td>1.398800e+04</td>\n",
       "      <td>2013.000000</td>\n",
       "      <td>8.537700e+04</td>\n",
       "      <td>2021-04-25 00:00:00</td>\n",
       "    </tr>\n",
       "    <tr>\n",
       "      <th>75%</th>\n",
       "      <td>2.650000e+04</td>\n",
       "      <td>2017.000000</td>\n",
       "      <td>1.336000e+05</td>\n",
       "      <td>2021-05-01 00:00:00</td>\n",
       "    </tr>\n",
       "    <tr>\n",
       "      <th>max</th>\n",
       "      <td>3.736929e+09</td>\n",
       "      <td>2022.000000</td>\n",
       "      <td>1.000000e+07</td>\n",
       "      <td>2021-05-05 00:00:00</td>\n",
       "    </tr>\n",
       "    <tr>\n",
       "      <th>std</th>\n",
       "      <td>1.224393e+07</td>\n",
       "      <td>9.469876</td>\n",
       "      <td>2.137046e+05</td>\n",
       "      <td>NaN</td>\n",
       "    </tr>\n",
       "  </tbody>\n",
       "</table>\n",
       "</div>"
      ],
      "text/plain": [
       "              price           year      odometer  \\\n",
       "count  4.225900e+05  421475.000000  4.183240e+05   \n",
       "mean   7.577414e+04    2011.229432  9.799336e+04   \n",
       "min    0.000000e+00    1900.000000  0.000000e+00   \n",
       "25%    5.950000e+03    2008.000000  3.753100e+04   \n",
       "50%    1.398800e+04    2013.000000  8.537700e+04   \n",
       "75%    2.650000e+04    2017.000000  1.336000e+05   \n",
       "max    3.736929e+09    2022.000000  1.000000e+07   \n",
       "std    1.224393e+07       9.469876  2.137046e+05   \n",
       "\n",
       "                        posting_date  \n",
       "count                         422590  \n",
       "mean   2021-04-23 08:18:04.557609216  \n",
       "min              2021-04-04 00:00:00  \n",
       "25%              2021-04-17 00:00:00  \n",
       "50%              2021-04-25 00:00:00  \n",
       "75%              2021-05-01 00:00:00  \n",
       "max              2021-05-05 00:00:00  \n",
       "std                              NaN  "
      ]
     },
     "execution_count": 8,
     "metadata": {},
     "output_type": "execute_result"
    }
   ],
   "source": [
    "df_uc.describe(exclude=['object']) # integers, floats and datetime"
   ]
  },
  {
   "cell_type": "code",
   "execution_count": 9,
   "metadata": {},
   "outputs": [
    {
     "data": {
      "text/html": [
       "<div>\n",
       "<style scoped>\n",
       "    .dataframe tbody tr th:only-of-type {\n",
       "        vertical-align: middle;\n",
       "    }\n",
       "\n",
       "    .dataframe tbody tr th {\n",
       "        vertical-align: top;\n",
       "    }\n",
       "\n",
       "    .dataframe thead th {\n",
       "        text-align: right;\n",
       "    }\n",
       "</style>\n",
       "<table border=\"1\" class=\"dataframe\">\n",
       "  <thead>\n",
       "    <tr style=\"text-align: right;\">\n",
       "      <th></th>\n",
       "      <th>region</th>\n",
       "      <th>manufacturer</th>\n",
       "      <th>model</th>\n",
       "      <th>condition</th>\n",
       "      <th>cylinders</th>\n",
       "      <th>fuel</th>\n",
       "      <th>transmission</th>\n",
       "      <th>VIN</th>\n",
       "      <th>drive</th>\n",
       "      <th>type</th>\n",
       "      <th>paint_color</th>\n",
       "      <th>state</th>\n",
       "    </tr>\n",
       "  </thead>\n",
       "  <tbody>\n",
       "    <tr>\n",
       "      <th>count</th>\n",
       "      <td>422590</td>\n",
       "      <td>405438</td>\n",
       "      <td>417447</td>\n",
       "      <td>251055</td>\n",
       "      <td>247385</td>\n",
       "      <td>419679</td>\n",
       "      <td>420157</td>\n",
       "      <td>263326</td>\n",
       "      <td>294108</td>\n",
       "      <td>331123</td>\n",
       "      <td>294112</td>\n",
       "      <td>422590</td>\n",
       "    </tr>\n",
       "    <tr>\n",
       "      <th>unique</th>\n",
       "      <td>404</td>\n",
       "      <td>42</td>\n",
       "      <td>29667</td>\n",
       "      <td>6</td>\n",
       "      <td>8</td>\n",
       "      <td>5</td>\n",
       "      <td>3</td>\n",
       "      <td>118264</td>\n",
       "      <td>3</td>\n",
       "      <td>13</td>\n",
       "      <td>12</td>\n",
       "      <td>51</td>\n",
       "    </tr>\n",
       "    <tr>\n",
       "      <th>top</th>\n",
       "      <td>columbus</td>\n",
       "      <td>ford</td>\n",
       "      <td>f-150</td>\n",
       "      <td>good</td>\n",
       "      <td>6 cylinders</td>\n",
       "      <td>gas</td>\n",
       "      <td>automatic</td>\n",
       "      <td>1FMJU1JT1HEA52352</td>\n",
       "      <td>4wd</td>\n",
       "      <td>sedan</td>\n",
       "      <td>white</td>\n",
       "      <td>ca</td>\n",
       "    </tr>\n",
       "    <tr>\n",
       "      <th>freq</th>\n",
       "      <td>3576</td>\n",
       "      <td>70328</td>\n",
       "      <td>7913</td>\n",
       "      <td>121069</td>\n",
       "      <td>93556</td>\n",
       "      <td>352584</td>\n",
       "      <td>332695</td>\n",
       "      <td>261</td>\n",
       "      <td>130838</td>\n",
       "      <td>86210</td>\n",
       "      <td>78536</td>\n",
       "      <td>49790</td>\n",
       "    </tr>\n",
       "  </tbody>\n",
       "</table>\n",
       "</div>"
      ],
      "text/plain": [
       "          region manufacturer   model condition    cylinders    fuel  \\\n",
       "count     422590       405438  417447    251055       247385  419679   \n",
       "unique       404           42   29667         6            8       5   \n",
       "top     columbus         ford   f-150      good  6 cylinders     gas   \n",
       "freq        3576        70328    7913    121069        93556  352584   \n",
       "\n",
       "       transmission                VIN   drive    type paint_color   state  \n",
       "count        420157             263326  294108  331123      294112  422590  \n",
       "unique            3             118264       3      13          12      51  \n",
       "top       automatic  1FMJU1JT1HEA52352     4wd   sedan       white      ca  \n",
       "freq         332695                261  130838   86210       78536   49790  "
      ]
     },
     "execution_count": 9,
     "metadata": {},
     "output_type": "execute_result"
    }
   ],
   "source": [
    "df_uc.describe(include=['object']) # strings only"
   ]
  },
  {
   "cell_type": "markdown",
   "metadata": {},
   "source": [
    "Alternatively, we can also visualize the univariate distribution of each of the variables. For this purpose, I provide a convenience function `plot_univariate()` which you can find in the [util.py](util.py) module."
   ]
  },
  {
   "cell_type": "code",
   "execution_count": 10,
   "metadata": {},
   "outputs": [],
   "source": [
    "from util import plot_univariate"
   ]
  },
  {
   "cell_type": "code",
   "execution_count": 11,
   "metadata": {},
   "outputs": [
    {
     "data": {
      "image/png": "[encoded data removed]",
      "text/plain": [
       "<Figure size 2000x2400 with 12 Axes>"
      ]
     },
     "metadata": {},
     "output_type": "display_data"
    }
   ],
   "source": [
    "plot_univariate(\n",
    "    df_uc, \n",
    "    columns=['manufacturer', 'state', 'price', 'year', 'odometer', 'condition', 'fuel', 'type', 'drive', 'transmission', 'cylinders', 'paint_color'], \n",
    "    log_dict={'price': True, 'odometer': True})"
   ]
  },
  {
   "cell_type": "markdown",
   "metadata": {},
   "source": [
    "From the plot above we can see that the data contains used car prices from various manufacturers. The used cars have been offered in different states in the US and span across different model years with the majority of the vehicles having been manufactured after 2000. There is great variance across odometer which is one of the most important variables to reflect the residual value of a used car. In terms of price, there is a relatively high concentration of cars that have been offered at a price close to 0. Moving forward we drop samples with a price below 1,000 $ as these samples are not of interest in a residual value context."
   ]
  },
  {
   "cell_type": "code",
   "execution_count": 12,
   "metadata": {},
   "outputs": [],
   "source": [
    "df_uc = df_uc.loc[df_uc['price'] > 1000]"
   ]
  },
  {
   "cell_type": "markdown",
   "metadata": {},
   "source": [
    "In the context of residual value risk management we aim at answering the following questions:\n",
    "- Can we train a model that reliably predicts the residual value, i.e. the used-car price, given information about the vehicle (that is available at *inception* of the lease contract)?\n",
    "- To what extent do residual values depend on macroeconomic conditions?"
   ]
  },
  {
   "cell_type": "markdown",
   "metadata": {},
   "source": [
    "Translating these questions into a ML problem can be stated as follows:\n",
    "- We want to predict vehicles' used car prices which is the **target variable** $y$ ...\n",
    "- ... based on information about the vehicle and the macroeconomic features at time of remarketing which we call **features** $\\bold{X}$ ...\n",
    "- ... whereas the resulting model needs to fulfill a certain minimum level of prediction quality as measured by a scoring function on the prediction error $s\\left(\\epsilon\n",
    "\\right)$.\n",
    "- Does a proxy for the macroeconomic condition such as GDP growth have a high feature importance, i.e. does it help in predicting the used car value?"
   ]
  },
  {
   "cell_type": "code",
   "execution_count": 13,
   "metadata": {},
   "outputs": [],
   "source": [
    "df_uc.reset_index(drop=True, inplace=True)"
   ]
  },
  {
   "cell_type": "code",
   "execution_count": 14,
   "metadata": {},
   "outputs": [],
   "source": [
    "# Target variable\n",
    "y = df_uc['price']"
   ]
  },
  {
   "cell_type": "code",
   "execution_count": 15,
   "metadata": {},
   "outputs": [],
   "source": [
    "# Features\n",
    "X = df_uc.drop(columns=['price'])"
   ]
  },
  {
   "cell_type": "markdown",
   "metadata": {},
   "source": [
    "#### Train-Test Split"
   ]
  },
  {
   "cell_type": "markdown",
   "metadata": {},
   "source": [
    "In machine learning projects, splitting the dataset into **training** and **test** sets is a fundamental practice that serves several critical purposes.\n",
    "\n",
    "**Reasons for Data Splitting**\n",
    "\n",
    "1. **Model Evaluation**: The primary reason for splitting the data is to evaluate the performance of the machine learning model. The training set is used to train the model, while the test set is reserved for assessing how well the model generalizes to unseen data. This helps ensure that the model is not just memorizing the training data but can also make accurate predictions on new, unseen instances.\n",
    "\n",
    "2. **Preventing Overfitting**: By keeping a separate test set, you can monitor and mitigate the risk of overfitting. Overfitting occurs when a model learns the noise and details of the training data to the extent that it negatively impacts its performance on new data. A model that performs well on the training set but poorly on the test set is likely overfitting. In section XXX, we will learn how we can use a technique called cross validation to prevent overfitting when training the model.\n",
    "\n",
    "\n",
    "**Timing of the Split in the Data Pipeline**\n",
    "\n",
    "Splitting the data into training and test sets is typically done at the very beginning of the data pipeline for several reasons:\n",
    "\n",
    "- **Data Integrity**: Performing the split early ensures that the test set remains completely independent of the training process. This independence is crucial for obtaining an unbiased estimate of the model's performance.\n",
    "\n",
    "- **Avoiding Data Leakage**: If the data is not split early, there is a risk of data leakage, where information from the test set inadvertently influences the training process. This can lead to overly optimistic performance metrics that do not reflect the model's true capabilities."
   ]
  },
  {
   "cell_type": "markdown",
   "metadata": {},
   "source": [
    "We split the data at random into training and tests sets using the `train_test_split()` method from the popular scikit-learn library that provides a wide range of ML algorithms and other convenience functions that are typically used in ML pipelines. We will keep 20% of the data aside in the test set. For reproducibility we set a seed via the `random_state` argument."
   ]
  },
  {
   "cell_type": "code",
   "execution_count": 16,
   "metadata": {},
   "outputs": [],
   "source": [
    "from sklearn.model_selection import train_test_split"
   ]
  },
  {
   "cell_type": "code",
   "execution_count": 17,
   "metadata": {},
   "outputs": [],
   "source": [
    "X_train, X_test, y_train, y_test = train_test_split(X, y, test_size=0.2, random_state=333)"
   ]
  },
  {
   "cell_type": "markdown",
   "metadata": {},
   "source": [
    "#### Handling Missing Values"
   ]
  },
  {
   "cell_type": "markdown",
   "metadata": {},
   "source": [
    "Most ML models cannot deal with missing values. Therefore, we try to replace missing values with reasonable substitutes. This process is called data imputation. Often this is the preferred approach as compared to simply dropping samples with missing values as this would reduce the model's capability of learning patterns from the training data: Less observations, less patterns to learn."
   ]
  },
  {
   "cell_type": "code",
   "execution_count": 18,
   "metadata": {},
   "outputs": [
    {
     "data": {
      "text/plain": [
       "region               0\n",
       "year               896\n",
       "manufacturer     11905\n",
       "model             3370\n",
       "condition       113090\n",
       "cylinders       122590\n",
       "fuel              2024\n",
       "odometer          1579\n",
       "transmission      1338\n",
       "VIN             115379\n",
       "drive            90779\n",
       "type             64071\n",
       "paint_color      85843\n",
       "state                0\n",
       "posting_date         0\n",
       "dtype: int64"
      ]
     },
     "execution_count": 18,
     "metadata": {},
     "output_type": "execute_result"
    }
   ],
   "source": [
    "X_train.isnull().sum()"
   ]
  },
  {
   "cell_type": "markdown",
   "metadata": {},
   "source": [
    "Most of the features have missing values. There are different imputation strategies and depending on the variable one or the other makes more sense."
   ]
  },
  {
   "cell_type": "markdown",
   "metadata": {},
   "source": [
    "##### year"
   ]
  },
  {
   "cell_type": "markdown",
   "metadata": {},
   "source": [
    "For the model year domain knowledge helps us to define a great imputation approach. In fact, the 10th character of the vehicle identification\n",
    "number (VIN) gives precise information on the vehicles model year."
   ]
  },
  {
   "cell_type": "markdown",
   "metadata": {},
   "source": [
    "<img src=\"img/vin.jpg\" alt=\"VIN\" width=\"750\" height=\"500\"/>\n",
    "<p>Image source: <a href=\"https://www.autocheck.com/vehiclehistory/vin-basics\">AutoCheck</a></p>"
   ]
  },
  {
   "cell_type": "markdown",
   "metadata": {},
   "source": [
    "We import a dictionary that maps the 10th digit of the VIN to the model year. I have prepared this mapping dictionary in the [util.py](util.py) module."
   ]
  },
  {
   "cell_type": "code",
   "execution_count": 19,
   "metadata": {},
   "outputs": [],
   "source": [
    "from util import dict_vin2year"
   ]
  },
  {
   "cell_type": "code",
   "execution_count": 20,
   "metadata": {},
   "outputs": [],
   "source": [
    "X_train.loc[X_train.year.isnull(), 'year'] = X_train.loc[X_train.year.isnull()].VIN.apply(lambda x: x[9]).map(dict_vin2year)"
   ]
  },
  {
   "cell_type": "markdown",
   "metadata": {},
   "source": [
    "##### manufacturer"
   ]
  },
  {
   "cell_type": "markdown",
   "metadata": {},
   "source": [
    "The same applies to the manufacturer. 2nd and 3rd character of the VIN give information about car manufacturer. Again, we use this information to impute the manufacturer column."
   ]
  },
  {
   "cell_type": "code",
   "execution_count": 21,
   "metadata": {},
   "outputs": [],
   "source": [
    "from util import dict_vin2manufacturer"
   ]
  },
  {
   "cell_type": "code",
   "execution_count": 22,
   "metadata": {},
   "outputs": [],
   "source": [
    "X_train.loc[X_train.manufacturer.isnull() & X_train.VIN.notnull(), 'manufacturer'] = X_train.loc[X_train.manufacturer.isnull() & X_train.VIN.notnull()].VIN.apply(lambda x: x[0:3]).map(dict_vin2manufacturer)"
   ]
  },
  {
   "cell_type": "markdown",
   "metadata": {},
   "source": [
    "##### model"
   ]
  },
  {
   "cell_type": "markdown",
   "metadata": {},
   "source": [
    "A valid imputation strategy for categorical variables is to introduce a new category \"unknown\" as imputation of missing values. We follow this strategy for the model column using the `SimpleImputer` class of scikit-learn."
   ]
  },
  {
   "cell_type": "code",
   "execution_count": 23,
   "metadata": {},
   "outputs": [],
   "source": [
    "from sklearn.impute import SimpleImputer"
   ]
  },
  {
   "cell_type": "code",
   "execution_count": 24,
   "metadata": {},
   "outputs": [],
   "source": [
    "X_train[['model']] = SimpleImputer(strategy='constant', fill_value='unknown').fit_transform(X_train[['model']])"
   ]
  },
  {
   "cell_type": "markdown",
   "metadata": {},
   "source": [
    "##### paint_color"
   ]
  },
  {
   "cell_type": "markdown",
   "metadata": {},
   "source": [
    "We can use the `SimpleImputer` also to impute missing values with the most frequent value. We do so for the paint_color variable."
   ]
  },
  {
   "cell_type": "code",
   "execution_count": 25,
   "metadata": {},
   "outputs": [],
   "source": [
    "X_train[['paint_color']] = SimpleImputer(strategy='most_frequent').fit_transform(X_train[['paint_color']])"
   ]
  },
  {
   "cell_type": "markdown",
   "metadata": {},
   "source": [
    "##### cylinders, fuel, transmission, drive, type"
   ]
  },
  {
   "cell_type": "code",
   "execution_count": 26,
   "metadata": {},
   "outputs": [],
   "source": [
    "from util import ConditionalImputer\n",
    "from tqdm import tqdm"
   ]
  },
  {
   "cell_type": "code",
   "execution_count": 27,
   "metadata": {},
   "outputs": [],
   "source": [
    "columns_to_impute = ['cylinders', 'fuel', 'transmission', 'drive']"
   ]
  },
  {
   "cell_type": "code",
   "execution_count": 28,
   "metadata": {},
   "outputs": [
    {
     "name": "stderr",
     "output_type": "stream",
     "text": [
      "100%|██████████| 4/4 [01:45<00:00, 26.28s/it]\n"
     ]
    }
   ],
   "source": [
    "for column in tqdm(columns_to_impute):\n",
    "    # Create a list of condition columns excluding the current target column\n",
    "    relevant_cols = ['manufacturer', 'type'] + [column]\n",
    "    \n",
    "    # Impute the target column using the adjusted condition columns\n",
    "    X_train[column] = ConditionalImputer(target_col=column, condition_cols=['manufacturer', 'type'], strategy='most_frequent').fit_transform(X_train[relevant_cols])"
   ]
  },
  {
   "cell_type": "code",
   "execution_count": 29,
   "metadata": {},
   "outputs": [],
   "source": [
    "columns_to_impute = ['cylinders', 'fuel', 'transmission', 'drive', 'type']"
   ]
  },
  {
   "cell_type": "code",
   "execution_count": 30,
   "metadata": {},
   "outputs": [
    {
     "name": "stderr",
     "output_type": "stream",
     "text": [
      "100%|██████████| 5/5 [00:08<00:00,  1.78s/it]\n"
     ]
    }
   ],
   "source": [
    "for column in tqdm(columns_to_impute):\n",
    "    # Create a list of condition columns excluding the current target column\n",
    "    relevant_cols = ['manufacturer'] + [column]\n",
    "    \n",
    "    # Impute the target column using the adjusted condition columns\n",
    "    X_train[column] = ConditionalImputer(target_col=column, condition_cols=['manufacturer'], strategy='most_frequent').fit_transform(X_train[relevant_cols])"
   ]
  },
  {
   "cell_type": "markdown",
   "metadata": {},
   "source": [
    "##### odometer"
   ]
  },
  {
   "cell_type": "markdown",
   "metadata": {},
   "source": [
    "One intuitive imputation strategy for the odometer (miles driven with used car) is to assume that the older the car, the more miles have been driven on average. For this purpose we first calculate the age of the vehicle which is the time between model year and posting date."
   ]
  },
  {
   "cell_type": "code",
   "execution_count": 31,
   "metadata": {},
   "outputs": [],
   "source": [
    "X_train['age'] = X_train['posting_date'].dt.year - X_train['year']"
   ]
  },
  {
   "cell_type": "markdown",
   "metadata": {},
   "source": [
    "We now impute the missing odometer with the most similar used cars in terms of vehicle age. For this purpose, we use scikit-learn's `KNNImputer` class."
   ]
  },
  {
   "cell_type": "code",
   "execution_count": 32,
   "metadata": {},
   "outputs": [],
   "source": [
    "from sklearn.impute import KNNImputer"
   ]
  },
  {
   "cell_type": "code",
   "execution_count": 33,
   "metadata": {},
   "outputs": [],
   "source": [
    "X_train[['age', 'odometer']] = KNNImputer(n_neighbors=10).fit_transform(X_train[['age', 'odometer']])"
   ]
  },
  {
   "cell_type": "markdown",
   "metadata": {},
   "source": [
    "The remaining observations with missing values are going to be dropped."
   ]
  },
  {
   "cell_type": "code",
   "execution_count": 34,
   "metadata": {},
   "outputs": [],
   "source": [
    "X_train = X_train.loc[X_train.drop(columns=['VIN', 'condition']).notnull().all(axis=1)]\n",
    "y_train = y_train.loc[X_train.index]"
   ]
  },
  {
   "cell_type": "code",
   "execution_count": 35,
   "metadata": {},
   "outputs": [
    {
     "data": {
      "text/plain": [
       "region               0\n",
       "year                 0\n",
       "manufacturer         0\n",
       "model                0\n",
       "condition       109457\n",
       "cylinders            0\n",
       "fuel                 0\n",
       "odometer             0\n",
       "transmission         0\n",
       "VIN             109164\n",
       "drive                0\n",
       "type                 0\n",
       "paint_color          0\n",
       "state                0\n",
       "posting_date         0\n",
       "age                  0\n",
       "dtype: int64"
      ]
     },
     "execution_count": 35,
     "metadata": {},
     "output_type": "execute_result"
    }
   ],
   "source": [
    "X_train.isnull().sum()"
   ]
  },
  {
   "cell_type": "code",
   "execution_count": 36,
   "metadata": {},
   "outputs": [
    {
     "data": {
      "text/plain": [
       "(291384, 16)"
      ]
     },
     "execution_count": 36,
     "metadata": {},
     "output_type": "execute_result"
    }
   ],
   "source": [
    "X_train.shape"
   ]
  },
  {
   "cell_type": "markdown",
   "metadata": {},
   "source": [
    "We now have a clean training data set with 291,384 complete samples."
   ]
  },
  {
   "cell_type": "markdown",
   "metadata": {},
   "source": [
    "### Feature Engineering"
   ]
  },
  {
   "cell_type": "markdown",
   "metadata": {},
   "source": [
    "When selecting relevant features for training a machine learning model, it is crucial to consider whether the information about the feature will be available at the time of inference.\n",
    "\n",
    "In a risk management context, we want to apply the machine learning model at the *beginning* of a lease contract to determine the lease rate based on the residual value prediction. This means that any information that becomes available only at the end of the leasing period cannot be used to train our model.\n",
    "\n",
    "Considering the features we have, the following observations can be made:\n",
    "- Typically, a lease company does not know exactly in which state or region its leased-out car will be sold at the end of the lease contract. However, if the lease company does not give the lessee the option to buy out the vehicle and plans its off-lease strategy in advance (i.e., how many off-lease units to sell in which geographical region), one could argue that information about the state or region is still known at the beginning of the lease contract.\n",
    "- Age and odometer readings are not known exactly by the lease company at the beginning of the lease contract, but they can make reasonable assumptions about these features as the lease contracts determine the leasing period (age) and the maximum annual mileage (odometer).\n",
    "- At the beginning of the lease contract, the leasing company does not know the final condition of the vehicle at the end of the leasing period.\n",
    "\n",
    "With these considerations in mind, we drop 'condition' and 'region' from our feature set. Additionally, we drop the VIN as it is of little value for predicting the residual value of a car."
   ]
  },
  {
   "cell_type": "code",
   "execution_count": 37,
   "metadata": {},
   "outputs": [],
   "source": [
    "X_train = X_train.drop(columns=['condition', 'region', 'VIN'])"
   ]
  },
  {
   "cell_type": "markdown",
   "metadata": {},
   "source": [
    "Further feature engineering typically involves creating new features from the data that can improve the model's predictive power. For example, above we have already created a new feature `age` from information of the manufacturing year and the date when the used car was posted on the sales platform."
   ]
  },
  {
   "cell_type": "code",
   "execution_count": 38,
   "metadata": {},
   "outputs": [],
   "source": [
    "X_train = X_train.drop(columns=['year', 'posting_date'])"
   ]
  },
  {
   "cell_type": "markdown",
   "metadata": {},
   "source": [
    "Often special special equipment such as sport packages depreciate faster than the bare vehicles. We can use the model variable to retrieve information whether the vehicle is a \"sports version\""
   ]
  },
  {
   "cell_type": "code",
   "execution_count": 39,
   "metadata": {},
   "outputs": [],
   "source": [
    "X_train['sport'] = X_train['model'].apply(lambda x: 'sport' in x.lower()).astype(int)"
   ]
  },
  {
   "cell_type": "code",
   "execution_count": 40,
   "metadata": {},
   "outputs": [],
   "source": [
    "X_train = X_train.drop(columns=['model'])"
   ]
  },
  {
   "cell_type": "markdown",
   "metadata": {},
   "source": [
    "One could think of further feature engineering steps. For example, from the count of the VIN one could retrieve a good proxy for the number of owners the car already had. However, this is beyond the scope of the course."
   ]
  },
  {
   "cell_type": "markdown",
   "metadata": {},
   "source": [
    "##### Encoding Categorical Variables"
   ]
  },
  {
   "cell_type": "markdown",
   "metadata": {},
   "source": [
    "Encoding categorical variables is important before training a machine learning model because most ML algorithms require numerical input and cannot directly handle categorical data. Encoding can be done using techniques such as one-hot encoding, where each category is converted into a binary vector. We do so by using the `OneHotEncoder` class from scikit-learn. "
   ]
  },
  {
   "cell_type": "code",
   "execution_count": 41,
   "metadata": {},
   "outputs": [],
   "source": [
    "from sklearn.preprocessing import OneHotEncoder"
   ]
  },
  {
   "cell_type": "code",
   "execution_count": 42,
   "metadata": {},
   "outputs": [],
   "source": [
    "# Step 1: Fit and transform the data\n",
    "encoder = OneHotEncoder(\n",
    "    sparse_output=False, \n",
    "    min_frequency=5, \n",
    "    handle_unknown='infrequent_if_exist').fit(X_train[['manufacturer', 'state', 'fuel', 'cylinders', 'paint_color', 'type', 'drive', 'transmission']])\n",
    "\n",
    "# Transform the data\n",
    "encoded_data = encoder.transform(X_train[['manufacturer', 'state', 'fuel', 'cylinders', 'paint_color', 'type', 'drive', 'transmission']])\n",
    "\n",
    "# Step 2: Create a DataFrame from the encoded data\n",
    "encoded_df = pd.DataFrame(encoded_data, columns=encoder.get_feature_names_out())\n",
    "\n",
    "# Step 3: Concatenate the original DataFrame with the encoded DataFrame\n",
    "X_train = pd.concat([X_train.reset_index(drop=True), encoded_df.reset_index(drop=True)], axis=1)\n",
    "\n",
    "# Step 4: Drop the original categorical columns if no longer needed\n",
    "X_train.drop(columns=['manufacturer', 'state', 'fuel', 'cylinders', 'paint_color', 'type', 'drive', 'transmission'], inplace=True)"
   ]
  },
  {
   "cell_type": "code",
   "execution_count": 43,
   "metadata": {},
   "outputs": [
    {
     "data": {
      "text/html": [
       "<div>\n",
       "<style scoped>\n",
       "    .dataframe tbody tr th:only-of-type {\n",
       "        vertical-align: middle;\n",
       "    }\n",
       "\n",
       "    .dataframe tbody tr th {\n",
       "        vertical-align: top;\n",
       "    }\n",
       "\n",
       "    .dataframe thead th {\n",
       "        text-align: right;\n",
       "    }\n",
       "</style>\n",
       "<table border=\"1\" class=\"dataframe\">\n",
       "  <thead>\n",
       "    <tr style=\"text-align: right;\">\n",
       "      <th></th>\n",
       "      <th>odometer</th>\n",
       "      <th>age</th>\n",
       "      <th>sport</th>\n",
       "      <th>manufacturer_acura</th>\n",
       "      <th>manufacturer_alfa-romeo</th>\n",
       "      <th>manufacturer_aston-martin</th>\n",
       "      <th>manufacturer_audi</th>\n",
       "      <th>manufacturer_bmw</th>\n",
       "      <th>manufacturer_buick</th>\n",
       "      <th>manufacturer_cadillac</th>\n",
       "      <th>...</th>\n",
       "      <th>type_sedan</th>\n",
       "      <th>type_truck</th>\n",
       "      <th>type_van</th>\n",
       "      <th>type_wagon</th>\n",
       "      <th>drive_4wd</th>\n",
       "      <th>drive_fwd</th>\n",
       "      <th>drive_rwd</th>\n",
       "      <th>transmission_automatic</th>\n",
       "      <th>transmission_manual</th>\n",
       "      <th>transmission_other</th>\n",
       "    </tr>\n",
       "  </thead>\n",
       "  <tbody>\n",
       "    <tr>\n",
       "      <th>0</th>\n",
       "      <td>161000.0</td>\n",
       "      <td>13.0</td>\n",
       "      <td>0</td>\n",
       "      <td>0.0</td>\n",
       "      <td>0.0</td>\n",
       "      <td>0.0</td>\n",
       "      <td>0.0</td>\n",
       "      <td>0.0</td>\n",
       "      <td>0.0</td>\n",
       "      <td>0.0</td>\n",
       "      <td>...</td>\n",
       "      <td>1.0</td>\n",
       "      <td>0.0</td>\n",
       "      <td>0.0</td>\n",
       "      <td>0.0</td>\n",
       "      <td>0.0</td>\n",
       "      <td>1.0</td>\n",
       "      <td>0.0</td>\n",
       "      <td>1.0</td>\n",
       "      <td>0.0</td>\n",
       "      <td>0.0</td>\n",
       "    </tr>\n",
       "    <tr>\n",
       "      <th>1</th>\n",
       "      <td>100209.0</td>\n",
       "      <td>7.0</td>\n",
       "      <td>0</td>\n",
       "      <td>0.0</td>\n",
       "      <td>0.0</td>\n",
       "      <td>0.0</td>\n",
       "      <td>0.0</td>\n",
       "      <td>0.0</td>\n",
       "      <td>0.0</td>\n",
       "      <td>0.0</td>\n",
       "      <td>...</td>\n",
       "      <td>0.0</td>\n",
       "      <td>0.0</td>\n",
       "      <td>0.0</td>\n",
       "      <td>0.0</td>\n",
       "      <td>1.0</td>\n",
       "      <td>0.0</td>\n",
       "      <td>0.0</td>\n",
       "      <td>1.0</td>\n",
       "      <td>0.0</td>\n",
       "      <td>0.0</td>\n",
       "    </tr>\n",
       "    <tr>\n",
       "      <th>2</th>\n",
       "      <td>175000.0</td>\n",
       "      <td>18.0</td>\n",
       "      <td>0</td>\n",
       "      <td>0.0</td>\n",
       "      <td>0.0</td>\n",
       "      <td>0.0</td>\n",
       "      <td>0.0</td>\n",
       "      <td>0.0</td>\n",
       "      <td>0.0</td>\n",
       "      <td>0.0</td>\n",
       "      <td>...</td>\n",
       "      <td>1.0</td>\n",
       "      <td>0.0</td>\n",
       "      <td>0.0</td>\n",
       "      <td>0.0</td>\n",
       "      <td>0.0</td>\n",
       "      <td>0.0</td>\n",
       "      <td>1.0</td>\n",
       "      <td>1.0</td>\n",
       "      <td>0.0</td>\n",
       "      <td>0.0</td>\n",
       "    </tr>\n",
       "  </tbody>\n",
       "</table>\n",
       "<p>3 rows × 144 columns</p>\n",
       "</div>"
      ],
      "text/plain": [
       "   odometer   age  sport  manufacturer_acura  manufacturer_alfa-romeo  \\\n",
       "0  161000.0  13.0      0                 0.0                      0.0   \n",
       "1  100209.0   7.0      0                 0.0                      0.0   \n",
       "2  175000.0  18.0      0                 0.0                      0.0   \n",
       "\n",
       "   manufacturer_aston-martin  manufacturer_audi  manufacturer_bmw  \\\n",
       "0                        0.0                0.0               0.0   \n",
       "1                        0.0                0.0               0.0   \n",
       "2                        0.0                0.0               0.0   \n",
       "\n",
       "   manufacturer_buick  manufacturer_cadillac  ...  type_sedan  type_truck  \\\n",
       "0                 0.0                    0.0  ...         1.0         0.0   \n",
       "1                 0.0                    0.0  ...         0.0         0.0   \n",
       "2                 0.0                    0.0  ...         1.0         0.0   \n",
       "\n",
       "   type_van  type_wagon  drive_4wd  drive_fwd  drive_rwd  \\\n",
       "0       0.0         0.0        0.0        1.0        0.0   \n",
       "1       0.0         0.0        1.0        0.0        0.0   \n",
       "2       0.0         0.0        0.0        0.0        1.0   \n",
       "\n",
       "   transmission_automatic  transmission_manual  transmission_other  \n",
       "0                     1.0                  0.0                 0.0  \n",
       "1                     1.0                  0.0                 0.0  \n",
       "2                     1.0                  0.0                 0.0  \n",
       "\n",
       "[3 rows x 144 columns]"
      ]
     },
     "execution_count": 43,
     "metadata": {},
     "output_type": "execute_result"
    }
   ],
   "source": [
    "X_train.head(3)"
   ]
  },
  {
   "cell_type": "markdown",
   "metadata": {},
   "source": [
    "### Model Training"
   ]
  },
  {
   "cell_type": "markdown",
   "metadata": {},
   "source": [
    "A crucial step in the development of a ML model is that different algorithms have varying strengths and weaknesses, and selecting the most suitable one can significantly impact the model's performance and accuracy.\n",
    "\n",
    "The number of algorithms for supervised learning tasks for regression is relatively wide spread. A good overview can be found [here](https://scikit-learn.org/stable/supervised_learning.html)."
   ]
  },
  {
   "cell_type": "markdown",
   "metadata": {},
   "source": [
    "In this course we focus on tree-based models. The basic building block, also known as base learner, in a tree-based model is a Decision Tree."
   ]
  },
  {
   "cell_type": "markdown",
   "metadata": {},
   "source": [
    "**Decision Tree**:\n",
    "> Decision Trees split the data into subsets based on the value of input features, creating a tree where each node represents a feature and each branch represents a decision rule."
   ]
  },
  {
   "cell_type": "markdown",
   "metadata": {},
   "source": [
    "The decision logic of a decision tree involves the following steps:\n",
    "\n",
    "- Splitting: The data is split into subsets based on the value of a feature. The goal is to find the feature and split point that best separate the data according to the target variable.\n",
    "- Decision Rules: Each node in the tree represents a decision rule based on a feature. For example, \"Is feature X greater than value Y?\".\n",
    "- Leaf Nodes: The terminal nodes (leaves) of the tree represent the output of the model. In classification, this could be the majority class of the samples in that leaf. In regression, it could be the mean value of the target variable."
   ]
  },
  {
   "cell_type": "code",
   "execution_count": 51,
   "metadata": {},
   "outputs": [],
   "source": [
    "from sklearn import tree"
   ]
  },
  {
   "cell_type": "code",
   "execution_count": 67,
   "metadata": {},
   "outputs": [],
   "source": [
    "base_learner = tree.DecisionTreeRegressor(max_depth=3, min_samples_leaf=1000).fit(X_train, y_train)"
   ]
  },
  {
   "cell_type": "code",
   "execution_count": 73,
   "metadata": {},
   "outputs": [
    {
     "data": {
      "image/svg+xml": [
       "<?xml version=\"1.0\" encoding=\"UTF-8\" standalone=\"no\"?>\n",
       "<!DOCTYPE svg PUBLIC \"-//W3C//DTD SVG 1.1//EN\"\n",
       " \"http://www.w3.org/Graphics/SVG/1.1/DTD/svg11.dtd\">\n",
       "<!-- Generated by graphviz version 8.0.5 (20230430.1635)\n",
       " -->\n",
       "<!-- Title: Tree Pages: 1 -->\n",
       "<svg width=\"1166pt\" height=\"338pt\"\n",
       " viewBox=\"0.00 0.00 1165.88 337.75\" xmlns=\"http://www.w3.org/2000/svg\" xmlns:xlink=\"http://www.w3.org/1999/xlink\">\n",
       "<g id=\"graph0\" class=\"graph\" transform=\"scale(1 1) rotate(0) translate(4 333.75)\">\n",
       "<title>Tree</title>\n",
       "<polygon fill=\"white\" stroke=\"none\" points=\"-4,4 -4,-333.75 1161.88,-333.75 1161.88,4 -4,4\"/>\n",
       "<!-- 0 -->\n",
       "<g id=\"node1\" class=\"node\">\n",
       "<title>0</title>\n",
       "<path fill=\"#fffdfd\" stroke=\"black\" d=\"M616.25,-329.75C616.25,-329.75 505,-329.75 505,-329.75 499,-329.75 493,-323.75 493,-317.75 493,-317.75 493,-284.25 493,-284.25 493,-278.25 499,-272.25 505,-272.25 505,-272.25 616.25,-272.25 616.25,-272.25 622.25,-272.25 628.25,-278.25 628.25,-284.25 628.25,-284.25 628.25,-317.75 628.25,-317.75 628.25,-323.75 622.25,-329.75 616.25,-329.75\"/>\n",
       "<text text-anchor=\"start\" x=\"526.88\" y=\"-312.45\" font-family=\"Helvetica,sans-Serif\" font-size=\"14.00\">age ≤ 20.0</text>\n",
       "<text text-anchor=\"start\" x=\"501\" y=\"-295.95\" font-family=\"Helvetica,sans-Serif\" font-size=\"14.00\">samples = 291384</text>\n",
       "<text text-anchor=\"start\" x=\"509.62\" y=\"-279.45\" font-family=\"Helvetica,sans-Serif\" font-size=\"14.00\">value = 79576.0</text>\n",
       "</g>\n",
       "<!-- 1 -->\n",
       "<g id=\"node2\" class=\"node\">\n",
       "<title>1</title>\n",
       "<path fill=\"#fffefe\" stroke=\"black\" d=\"M528.25,-236.25C528.25,-236.25 417,-236.25 417,-236.25 411,-236.25 405,-230.25 405,-224.25 405,-224.25 405,-190.75 405,-190.75 405,-184.75 411,-178.75 417,-178.75 417,-178.75 528.25,-178.75 528.25,-178.75 534.25,-178.75 540.25,-184.75 540.25,-190.75 540.25,-190.75 540.25,-224.25 540.25,-224.25 540.25,-230.25 534.25,-236.25 528.25,-236.25\"/>\n",
       "<text text-anchor=\"start\" x=\"429.12\" y=\"-218.95\" font-family=\"Helvetica,sans-Serif\" font-size=\"14.00\">state_or ≤ 0.0</text>\n",
       "<text text-anchor=\"start\" x=\"413\" y=\"-202.45\" font-family=\"Helvetica,sans-Serif\" font-size=\"14.00\">samples = 272877</text>\n",
       "<text text-anchor=\"start\" x=\"421.62\" y=\"-185.95\" font-family=\"Helvetica,sans-Serif\" font-size=\"14.00\">value = 43595.0</text>\n",
       "</g>\n",
       "<!-- 0&#45;&gt;1 -->\n",
       "<g id=\"edge1\" class=\"edge\">\n",
       "<title>0&#45;&gt;1</title>\n",
       "<path fill=\"none\" stroke=\"black\" d=\"M533.74,-272.05C525.38,-263.35 516.03,-253.64 507.22,-244.47\"/>\n",
       "<polygon fill=\"black\" stroke=\"black\" points=\"510.1,-242.38 500.64,-237.59 505.05,-247.23 510.1,-242.38\"/>\n",
       "<text text-anchor=\"middle\" x=\"499.16\" y=\"-256.54\" font-family=\"Helvetica,sans-Serif\" font-size=\"14.00\">True</text>\n",
       "</g>\n",
       "<!-- 8 -->\n",
       "<g id=\"node9\" class=\"node\">\n",
       "<title>8</title>\n",
       "<path fill=\"#fcf2eb\" stroke=\"black\" d=\"M736.12,-236.25C736.12,-236.25 633.12,-236.25 633.12,-236.25 627.12,-236.25 621.12,-230.25 621.12,-224.25 621.12,-224.25 621.12,-190.75 621.12,-190.75 621.12,-184.75 627.12,-178.75 633.12,-178.75 633.12,-178.75 736.12,-178.75 736.12,-178.75 742.12,-178.75 748.12,-184.75 748.12,-190.75 748.12,-190.75 748.12,-224.25 748.12,-224.25 748.12,-230.25 742.12,-236.25 736.12,-236.25\"/>\n",
       "<text text-anchor=\"start\" x=\"650.88\" y=\"-218.95\" font-family=\"Helvetica,sans-Serif\" font-size=\"14.00\">age ≤ 22.0</text>\n",
       "<text text-anchor=\"start\" x=\"629.12\" y=\"-202.45\" font-family=\"Helvetica,sans-Serif\" font-size=\"14.00\">samples = 18507</text>\n",
       "<text text-anchor=\"start\" x=\"629.5\" y=\"-185.95\" font-family=\"Helvetica,sans-Serif\" font-size=\"14.00\">value = 610101.0</text>\n",
       "</g>\n",
       "<!-- 0&#45;&gt;8 -->\n",
       "<g id=\"edge8\" class=\"edge\">\n",
       "<title>0&#45;&gt;8</title>\n",
       "<path fill=\"none\" stroke=\"black\" d=\"M598.84,-271.8C611.21,-262.67 625.08,-252.44 637.99,-242.91\"/>\n",
       "<polygon fill=\"black\" stroke=\"black\" points=\"639.78,-245.2 645.75,-236.45 635.62,-239.57 639.78,-245.2\"/>\n",
       "<text text-anchor=\"middle\" x=\"643.02\" y=\"-256.12\" font-family=\"Helvetica,sans-Serif\" font-size=\"14.00\">False</text>\n",
       "</g>\n",
       "<!-- 2 -->\n",
       "<g id=\"node3\" class=\"node\">\n",
       "<title>2</title>\n",
       "<path fill=\"#fffefe\" stroke=\"black\" d=\"M296.62,-142.75C296.62,-142.75 136.62,-142.75 136.62,-142.75 130.62,-142.75 124.62,-136.75 124.62,-130.75 124.62,-130.75 124.62,-97.25 124.62,-97.25 124.62,-91.25 130.62,-85.25 136.62,-85.25 136.62,-85.25 296.62,-85.25 296.62,-85.25 302.62,-85.25 308.62,-91.25 308.62,-97.25 308.62,-97.25 308.62,-130.75 308.62,-130.75 308.62,-136.75 302.62,-142.75 296.62,-142.75\"/>\n",
       "<text text-anchor=\"start\" x=\"132.62\" y=\"-125.45\" font-family=\"Helvetica,sans-Serif\" font-size=\"14.00\">cylinders_5 cylinders ≤ 0.0</text>\n",
       "<text text-anchor=\"start\" x=\"157\" y=\"-108.95\" font-family=\"Helvetica,sans-Serif\" font-size=\"14.00\">samples = 264081</text>\n",
       "<text text-anchor=\"start\" x=\"165.62\" y=\"-92.45\" font-family=\"Helvetica,sans-Serif\" font-size=\"14.00\">value = 30147.0</text>\n",
       "</g>\n",
       "<!-- 1&#45;&gt;2 -->\n",
       "<g id=\"edge2\" class=\"edge\">\n",
       "<title>1&#45;&gt;2</title>\n",
       "<path fill=\"none\" stroke=\"black\" d=\"M404.69,-182.22C374.22,-171.33 337.87,-158.34 305.29,-146.69\"/>\n",
       "<polygon fill=\"black\" stroke=\"black\" points=\"306.91,-143.19 296.31,-143.13 304.55,-149.79 306.91,-143.19\"/>\n",
       "</g>\n",
       "<!-- 5 -->\n",
       "<g id=\"node6\" class=\"node\">\n",
       "<title>5</title>\n",
       "<path fill=\"#fdf6f0\" stroke=\"black\" d=\"M541.75,-142.75C541.75,-142.75 403.5,-142.75 403.5,-142.75 397.5,-142.75 391.5,-136.75 391.5,-130.75 391.5,-130.75 391.5,-97.25 391.5,-97.25 391.5,-91.25 397.5,-85.25 403.5,-85.25 403.5,-85.25 541.75,-85.25 541.75,-85.25 547.75,-85.25 553.75,-91.25 553.75,-97.25 553.75,-97.25 553.75,-130.75 553.75,-130.75 553.75,-136.75 547.75,-142.75 541.75,-142.75\"/>\n",
       "<text text-anchor=\"start\" x=\"399.5\" y=\"-125.45\" font-family=\"Helvetica,sans-Serif\" font-size=\"14.00\">paint_color_silver ≤ 0.0</text>\n",
       "<text text-anchor=\"start\" x=\"421.25\" y=\"-108.95\" font-family=\"Helvetica,sans-Serif\" font-size=\"14.00\">samples = 8796</text>\n",
       "<text text-anchor=\"start\" x=\"417.5\" y=\"-92.45\" font-family=\"Helvetica,sans-Serif\" font-size=\"14.00\">value = 447359.0</text>\n",
       "</g>\n",
       "<!-- 1&#45;&gt;5 -->\n",
       "<g id=\"edge5\" class=\"edge\">\n",
       "<title>1&#45;&gt;5</title>\n",
       "<path fill=\"none\" stroke=\"black\" d=\"M472.62,-178.55C472.62,-170.82 472.62,-162.28 472.62,-154.04\"/>\n",
       "<polygon fill=\"black\" stroke=\"black\" points=\"476.13,-154.09 472.62,-144.09 469.13,-154.09 476.13,-154.09\"/>\n",
       "</g>\n",
       "<!-- 3 -->\n",
       "<g id=\"node4\" class=\"node\">\n",
       "<title>3</title>\n",
       "<path fill=\"#fffffe\" stroke=\"black\" d=\"M123.25,-41C123.25,-41 12,-41 12,-41 6,-41 0,-35 0,-29 0,-29 0,-12 0,-12 0,-6 6,0 12,0 12,0 123.25,0 123.25,0 129.25,0 135.25,-6 135.25,-12 135.25,-12 135.25,-29 135.25,-29 135.25,-35 129.25,-41 123.25,-41\"/>\n",
       "<text text-anchor=\"start\" x=\"8\" y=\"-23.7\" font-family=\"Helvetica,sans-Serif\" font-size=\"14.00\">samples = 262070</text>\n",
       "<text text-anchor=\"start\" x=\"16.62\" y=\"-7.2\" font-family=\"Helvetica,sans-Serif\" font-size=\"14.00\">value = 25550.0</text>\n",
       "</g>\n",
       "<!-- 2&#45;&gt;3 -->\n",
       "<g id=\"edge3\" class=\"edge\">\n",
       "<title>2&#45;&gt;3</title>\n",
       "<path fill=\"none\" stroke=\"black\" d=\"M170.7,-84.8C151.1,-72.76 128.38,-58.81 109.27,-47.08\"/>\n",
       "<polygon fill=\"black\" stroke=\"black\" points=\"111.28,-43.59 100.93,-41.34 107.62,-49.55 111.28,-43.59\"/>\n",
       "</g>\n",
       "<!-- 4 -->\n",
       "<g id=\"node5\" class=\"node\">\n",
       "<title>4</title>\n",
       "<path fill=\"#fcf2eb\" stroke=\"black\" d=\"M267.75,-41C267.75,-41 165.5,-41 165.5,-41 159.5,-41 153.5,-35 153.5,-29 153.5,-29 153.5,-12 153.5,-12 153.5,-6 159.5,0 165.5,0 165.5,0 267.75,0 267.75,0 273.75,0 279.75,-6 279.75,-12 279.75,-12 279.75,-29 279.75,-29 279.75,-35 273.75,-41 267.75,-41\"/>\n",
       "<text text-anchor=\"start\" x=\"165.25\" y=\"-23.7\" font-family=\"Helvetica,sans-Serif\" font-size=\"14.00\">samples = 2011</text>\n",
       "<text text-anchor=\"start\" x=\"161.5\" y=\"-7.2\" font-family=\"Helvetica,sans-Serif\" font-size=\"14.00\">value = 629160.0</text>\n",
       "</g>\n",
       "<!-- 2&#45;&gt;4 -->\n",
       "<g id=\"edge4\" class=\"edge\">\n",
       "<title>2&#45;&gt;4</title>\n",
       "<path fill=\"none\" stroke=\"black\" d=\"M216.62,-85.05C216.62,-74.71 216.62,-62.92 216.62,-52.34\"/>\n",
       "<polygon fill=\"black\" stroke=\"black\" points=\"220.13,-52.45 216.62,-42.45 213.13,-52.45 220.13,-52.45\"/>\n",
       "</g>\n",
       "<!-- 6 -->\n",
       "<g id=\"node7\" class=\"node\">\n",
       "<title>6</title>\n",
       "<path fill=\"#fffffe\" stroke=\"black\" d=\"M405,-41C405,-41 310.25,-41 310.25,-41 304.25,-41 298.25,-35 298.25,-29 298.25,-29 298.25,-12 298.25,-12 298.25,-6 304.25,0 310.25,0 310.25,0 405,0 405,0 411,0 417,-6 417,-12 417,-12 417,-29 417,-29 417,-35 411,-41 405,-41\"/>\n",
       "<text text-anchor=\"start\" x=\"306.25\" y=\"-23.7\" font-family=\"Helvetica,sans-Serif\" font-size=\"14.00\">samples = 7743</text>\n",
       "<text text-anchor=\"start\" x=\"306.62\" y=\"-7.2\" font-family=\"Helvetica,sans-Serif\" font-size=\"14.00\">value = 23024.0</text>\n",
       "</g>\n",
       "<!-- 5&#45;&gt;6 -->\n",
       "<g id=\"edge6\" class=\"edge\">\n",
       "<title>5&#45;&gt;6</title>\n",
       "<path fill=\"none\" stroke=\"black\" d=\"M437.18,-84.8C422.4,-73.04 405.32,-59.45 390.79,-47.88\"/>\n",
       "<polygon fill=\"black\" stroke=\"black\" points=\"393.56,-44.83 383.56,-41.34 389.2,-50.3 393.56,-44.83\"/>\n",
       "</g>\n",
       "<!-- 7 -->\n",
       "<g id=\"node8\" class=\"node\">\n",
       "<title>7</title>\n",
       "<path fill=\"#f0b58a\" stroke=\"black\" d=\"M557.88,-41C557.88,-41 447.38,-41 447.38,-41 441.38,-41 435.38,-35 435.38,-29 435.38,-29 435.38,-12 435.38,-12 435.38,-6 441.38,0 447.38,0 447.38,0 557.88,0 557.88,0 563.88,0 569.88,-6 569.88,-12 569.88,-12 569.88,-29 569.88,-29 569.88,-35 563.88,-41 557.88,-41\"/>\n",
       "<text text-anchor=\"start\" x=\"451.25\" y=\"-23.7\" font-family=\"Helvetica,sans-Serif\" font-size=\"14.00\">samples = 1053</text>\n",
       "<text text-anchor=\"start\" x=\"443.38\" y=\"-7.2\" font-family=\"Helvetica,sans-Serif\" font-size=\"14.00\">value = 3567610.0</text>\n",
       "</g>\n",
       "<!-- 5&#45;&gt;7 -->\n",
       "<g id=\"edge7\" class=\"edge\">\n",
       "<title>5&#45;&gt;7</title>\n",
       "<path fill=\"none\" stroke=\"black\" d=\"M481.79,-85.05C485.25,-74.49 489.21,-62.42 492.73,-51.66\"/>\n",
       "<polygon fill=\"black\" stroke=\"black\" points=\"496.3,-53.04 496.09,-42.45 489.64,-50.86 496.3,-53.04\"/>\n",
       "</g>\n",
       "<!-- 9 -->\n",
       "<g id=\"node10\" class=\"node\">\n",
       "<title>9</title>\n",
       "<path fill=\"#f4cbad\" stroke=\"black\" d=\"M749.62,-142.75C749.62,-142.75 619.62,-142.75 619.62,-142.75 613.62,-142.75 607.62,-136.75 607.62,-130.75 607.62,-130.75 607.62,-97.25 607.62,-97.25 607.62,-91.25 613.62,-85.25 619.62,-85.25 619.62,-85.25 749.62,-85.25 749.62,-85.25 755.62,-85.25 761.62,-91.25 761.62,-97.25 761.62,-97.25 761.62,-130.75 761.62,-130.75 761.62,-136.75 755.62,-142.75 749.62,-142.75\"/>\n",
       "<text text-anchor=\"start\" x=\"615.62\" y=\"-125.45\" font-family=\"Helvetica,sans-Serif\" font-size=\"14.00\">odometer ≤ 150050.0</text>\n",
       "<text text-anchor=\"start\" x=\"633.25\" y=\"-108.95\" font-family=\"Helvetica,sans-Serif\" font-size=\"14.00\">samples = 2423</text>\n",
       "<text text-anchor=\"start\" x=\"625.38\" y=\"-92.45\" font-family=\"Helvetica,sans-Serif\" font-size=\"14.00\">value = 2503945.0</text>\n",
       "</g>\n",
       "<!-- 8&#45;&gt;9 -->\n",
       "<g id=\"edge9\" class=\"edge\">\n",
       "<title>8&#45;&gt;9</title>\n",
       "<path fill=\"none\" stroke=\"black\" d=\"M684.62,-178.55C684.62,-170.82 684.62,-162.28 684.62,-154.04\"/>\n",
       "<polygon fill=\"black\" stroke=\"black\" points=\"688.13,-154.09 684.62,-144.09 681.13,-154.09 688.13,-154.09\"/>\n",
       "</g>\n",
       "<!-- 12 -->\n",
       "<g id=\"node13\" class=\"node\">\n",
       "<title>12</title>\n",
       "<path fill=\"#fef8f5\" stroke=\"black\" d=\"M993.12,-142.75C993.12,-142.75 890.12,-142.75 890.12,-142.75 884.12,-142.75 878.12,-136.75 878.12,-130.75 878.12,-130.75 878.12,-97.25 878.12,-97.25 878.12,-91.25 884.12,-85.25 890.12,-85.25 890.12,-85.25 993.12,-85.25 993.12,-85.25 999.12,-85.25 1005.12,-91.25 1005.12,-97.25 1005.12,-97.25 1005.12,-130.75 1005.12,-130.75 1005.12,-136.75 999.12,-142.75 993.12,-142.75\"/>\n",
       "<text text-anchor=\"start\" x=\"889.12\" y=\"-125.45\" font-family=\"Helvetica,sans-Serif\" font-size=\"14.00\">fuel_diesel ≤ 0.0</text>\n",
       "<text text-anchor=\"start\" x=\"886.12\" y=\"-108.95\" font-family=\"Helvetica,sans-Serif\" font-size=\"14.00\">samples = 16084</text>\n",
       "<text text-anchor=\"start\" x=\"886.5\" y=\"-92.45\" font-family=\"Helvetica,sans-Serif\" font-size=\"14.00\">value = 324799.0</text>\n",
       "</g>\n",
       "<!-- 8&#45;&gt;12 -->\n",
       "<g id=\"edge12\" class=\"edge\">\n",
       "<title>8&#45;&gt;12</title>\n",
       "<path fill=\"none\" stroke=\"black\" d=\"M748.48,-183.76C784.65,-170.89 830.05,-154.73 867.74,-141.31\"/>\n",
       "<polygon fill=\"black\" stroke=\"black\" points=\"868.4,-144.43 876.65,-137.78 866.06,-137.83 868.4,-144.43\"/>\n",
       "</g>\n",
       "<!-- 10 -->\n",
       "<g id=\"node11\" class=\"node\">\n",
       "<title>10</title>\n",
       "<path fill=\"#e58139\" stroke=\"black\" d=\"M710.88,-41C710.88,-41 600.38,-41 600.38,-41 594.38,-41 588.38,-35 588.38,-29 588.38,-29 588.38,-12 588.38,-12 588.38,-6 594.38,0 600.38,0 600.38,0 710.88,0 710.88,0 716.88,0 722.88,-6 722.88,-12 722.88,-12 722.88,-29 722.88,-29 722.88,-35 716.88,-41 710.88,-41\"/>\n",
       "<text text-anchor=\"start\" x=\"604.25\" y=\"-23.7\" font-family=\"Helvetica,sans-Serif\" font-size=\"14.00\">samples = 1004</text>\n",
       "<text text-anchor=\"start\" x=\"596.38\" y=\"-7.2\" font-family=\"Helvetica,sans-Serif\" font-size=\"14.00\">value = 6035071.0</text>\n",
       "</g>\n",
       "<!-- 9&#45;&gt;10 -->\n",
       "<g id=\"edge10\" class=\"edge\">\n",
       "<title>9&#45;&gt;10</title>\n",
       "<path fill=\"none\" stroke=\"black\" d=\"M675.77,-85.05C672.42,-74.49 668.59,-62.42 665.19,-51.66\"/>\n",
       "<polygon fill=\"black\" stroke=\"black\" points=\"668.3,-50.92 661.95,-42.45 661.63,-53.04 668.3,-50.92\"/>\n",
       "</g>\n",
       "<!-- 11 -->\n",
       "<g id=\"node12\" class=\"node\">\n",
       "<title>11</title>\n",
       "<path fill=\"#ffffff\" stroke=\"black\" d=\"M848,-41C848,-41 753.25,-41 753.25,-41 747.25,-41 741.25,-35 741.25,-29 741.25,-29 741.25,-12 741.25,-12 741.25,-6 747.25,0 753.25,0 753.25,0 848,0 848,0 854,0 860,-6 860,-12 860,-12 860,-29 860,-29 860,-35 854,-41 848,-41\"/>\n",
       "<text text-anchor=\"start\" x=\"749.25\" y=\"-23.7\" font-family=\"Helvetica,sans-Serif\" font-size=\"14.00\">samples = 1419</text>\n",
       "<text text-anchor=\"start\" x=\"753.75\" y=\"-7.2\" font-family=\"Helvetica,sans-Serif\" font-size=\"14.00\">value = 5531.0</text>\n",
       "</g>\n",
       "<!-- 9&#45;&gt;11 -->\n",
       "<g id=\"edge11\" class=\"edge\">\n",
       "<title>9&#45;&gt;11</title>\n",
       "<path fill=\"none\" stroke=\"black\" d=\"M720.38,-84.8C735.29,-73.04 752.52,-59.45 767.18,-47.88\"/>\n",
       "<polygon fill=\"black\" stroke=\"black\" points=\"768.79,-50.28 774.47,-41.34 764.46,-44.78 768.79,-50.28\"/>\n",
       "</g>\n",
       "<!-- 13 -->\n",
       "<g id=\"node14\" class=\"node\">\n",
       "<title>13</title>\n",
       "<path fill=\"#fefbf9\" stroke=\"black\" d=\"M993.12,-41C993.12,-41 890.12,-41 890.12,-41 884.12,-41 878.12,-35 878.12,-29 878.12,-29 878.12,-12 878.12,-12 878.12,-6 884.12,0 890.12,0 890.12,0 993.12,0 993.12,0 999.12,0 1005.12,-6 1005.12,-12 1005.12,-12 1005.12,-29 1005.12,-29 1005.12,-35 999.12,-41 993.12,-41\"/>\n",
       "<text text-anchor=\"start\" x=\"886.12\" y=\"-23.7\" font-family=\"Helvetica,sans-Serif\" font-size=\"14.00\">samples = 14841</text>\n",
       "<text text-anchor=\"start\" x=\"886.5\" y=\"-7.2\" font-family=\"Helvetica,sans-Serif\" font-size=\"14.00\">value = 180889.0</text>\n",
       "</g>\n",
       "<!-- 12&#45;&gt;13 -->\n",
       "<g id=\"edge13\" class=\"edge\">\n",
       "<title>12&#45;&gt;13</title>\n",
       "<path fill=\"none\" stroke=\"black\" d=\"M941.62,-85.05C941.62,-74.71 941.62,-62.92 941.62,-52.34\"/>\n",
       "<polygon fill=\"black\" stroke=\"black\" points=\"945.13,-52.45 941.62,-42.45 938.13,-52.45 945.13,-52.45\"/>\n",
       "</g>\n",
       "<!-- 14 -->\n",
       "<g id=\"node15\" class=\"node\">\n",
       "<title>14</title>\n",
       "<path fill=\"#f6d4bc\" stroke=\"black\" d=\"M1145.88,-41C1145.88,-41 1035.38,-41 1035.38,-41 1029.38,-41 1023.38,-35 1023.38,-29 1023.38,-29 1023.38,-12 1023.38,-12 1023.38,-6 1029.38,0 1035.38,0 1035.38,0 1145.88,0 1145.88,0 1151.88,0 1157.88,-6 1157.88,-12 1157.88,-12 1157.88,-29 1157.88,-29 1157.88,-35 1151.88,-41 1145.88,-41\"/>\n",
       "<text text-anchor=\"start\" x=\"1039.25\" y=\"-23.7\" font-family=\"Helvetica,sans-Serif\" font-size=\"14.00\">samples = 1243</text>\n",
       "<text text-anchor=\"start\" x=\"1031.38\" y=\"-7.2\" font-family=\"Helvetica,sans-Serif\" font-size=\"14.00\">value = 2043041.0</text>\n",
       "</g>\n",
       "<!-- 12&#45;&gt;14 -->\n",
       "<g id=\"edge14\" class=\"edge\">\n",
       "<title>12&#45;&gt;14</title>\n",
       "<path fill=\"none\" stroke=\"black\" d=\"M987.55,-84.8C1007.15,-72.76 1029.87,-58.81 1048.98,-47.08\"/>\n",
       "<polygon fill=\"black\" stroke=\"black\" points=\"1050.63,-49.55 1057.32,-41.34 1046.97,-43.59 1050.63,-49.55\"/>\n",
       "</g>\n",
       "</g>\n",
       "</svg>\n"
      ],
      "text/plain": [
       "<graphviz.sources.Source at 0x22954e28b30>"
      ]
     },
     "execution_count": 73,
     "metadata": {},
     "output_type": "execute_result"
    }
   ],
   "source": [
    "import graphviz\n",
    "# Export the tree structure without squared error information\n",
    "dot_data = tree.export_graphviz(\n",
    "    base_learner, \n",
    "    out_file=None, \n",
    "    feature_names=X_train.columns,    \n",
    "    filled=True, \n",
    "    rounded=True,  \n",
    "    special_characters=True,\n",
    "    node_ids=False,  # Disable node IDs\n",
    "    proportion=False,  # Disable proportions\n",
    "    impurity=False,  # Disable impurity (which includes squared error)\n",
    "    leaves_parallel=True,\n",
    "    precision=0\n",
    ")\n",
    "\n",
    "# Create a graph from the dot data\n",
    "graph = graphviz.Source(dot_data)  \n",
    "graph\n",
    "\n",
    " "
   ]
  },
  {
   "cell_type": "markdown",
   "metadata": {},
   "source": [
    "### Model Evaluation"
   ]
  },
  {
   "cell_type": "markdown",
   "metadata": {},
   "source": [
    "### Model Fine Tuning"
   ]
  },
  {
   "cell_type": "markdown",
   "metadata": {},
   "source": [
    "### Model Deployment"
   ]
  }
 ],
 "metadata": {
  "kernelspec": {
   "display_name": ".venv",
   "language": "python",
   "name": "python3"
  },
  "language_info": {
   "codemirror_mode": {
    "name": "ipython",
    "version": 3
   },
   "file_extension": ".py",
   "mimetype": "text/x-python",
   "name": "python",
   "nbconvert_exporter": "python",
   "pygments_lexer": "ipython3",
   "version": "3.12.0"
  }
 },
 "nbformat": 4,
 "nbformat_minor": 2
}
