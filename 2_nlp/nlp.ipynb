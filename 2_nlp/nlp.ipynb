{
 "cells": [
  {
   "cell_type": "markdown",
   "metadata": {},
   "source": [
    "# Natural Language Processing and Risk Assessment"
   ]
  },
  {
   "cell_type": "markdown",
   "metadata": {},
   "source": [
    "<img src=\"img/ai_ml_dl_nlp.png\" alt=\"AI, ML & DL\" style=\"width: 55vw; min-width: 330px;\">\n",
    "<p>Image source: Illustration by the author</a></p>"
   ]
  }
 ],
 "metadata": {
  "language_info": {
   "name": "python"
  }
 },
 "nbformat": 4,
 "nbformat_minor": 2
}
