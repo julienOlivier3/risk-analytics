{
 "cells": [
  {
   "cell_type": "markdown",
   "metadata": {},
   "source": [
    "# Data extraction and cleaning"
   ]
  },
  {
   "cell_type": "code",
   "execution_count": 2,
   "metadata": {},
   "outputs": [],
   "source": [
    "import pandas as pd"
   ]
  },
  {
   "cell_type": "markdown",
   "metadata": {},
   "source": [
    "## Insurance Claims data"
   ]
  },
  {
   "cell_type": "markdown",
   "metadata": {},
   "source": [
    "Data source:\n",
    "\n",
    "- Claims descriptions: [GitHub](https://github.com/Mahesh3394/Claim-Description-Classification)"
   ]
  },
  {
   "cell_type": "code",
   "execution_count": 3,
   "metadata": {},
   "outputs": [],
   "source": [
    "df_claims = pd.read_excel('raw/Dataset_Public.xlsx')"
   ]
  },
  {
   "cell_type": "code",
   "execution_count": 4,
   "metadata": {},
   "outputs": [
    {
     "data": {
      "text/html": [
       "<div>\n",
       "<style scoped>\n",
       "    .dataframe tbody tr th:only-of-type {\n",
       "        vertical-align: middle;\n",
       "    }\n",
       "\n",
       "    .dataframe tbody tr th {\n",
       "        vertical-align: top;\n",
       "    }\n",
       "\n",
       "    .dataframe thead th {\n",
       "        text-align: right;\n",
       "    }\n",
       "</style>\n",
       "<table border=\"1\" class=\"dataframe\">\n",
       "  <thead>\n",
       "    <tr style=\"text-align: right;\">\n",
       "      <th></th>\n",
       "      <th>Claim Description</th>\n",
       "      <th>Coverage Code</th>\n",
       "      <th>Accident Source</th>\n",
       "    </tr>\n",
       "  </thead>\n",
       "  <tbody>\n",
       "    <tr>\n",
       "      <th>0</th>\n",
       "      <td>THE IV WAS MAKING A LEFT TURN ON A GREEN ARROW...</td>\n",
       "      <td>AN</td>\n",
       "      <td>Struck pedestrian, bicycle</td>\n",
       "    </tr>\n",
       "    <tr>\n",
       "      <th>1</th>\n",
       "      <td>CLAIMANT ALLEGES SHE SUFFERED INJURIES IN AN E...</td>\n",
       "      <td>GB</td>\n",
       "      <td>Elevator/Escalator</td>\n",
       "    </tr>\n",
       "    <tr>\n",
       "      <th>2</th>\n",
       "      <td>IV PASSENGER SUSTAINED INJURIES, OV AND IV COL...</td>\n",
       "      <td>AB</td>\n",
       "      <td>Sideswipe or lane change</td>\n",
       "    </tr>\n",
       "  </tbody>\n",
       "</table>\n",
       "</div>"
      ],
      "text/plain": [
       "                                   Claim Description Coverage Code  \\\n",
       "0  THE IV WAS MAKING A LEFT TURN ON A GREEN ARROW...            AN   \n",
       "1  CLAIMANT ALLEGES SHE SUFFERED INJURIES IN AN E...            GB   \n",
       "2  IV PASSENGER SUSTAINED INJURIES, OV AND IV COL...            AB   \n",
       "\n",
       "              Accident Source  \n",
       "0  Struck pedestrian, bicycle  \n",
       "1          Elevator/Escalator  \n",
       "2    Sideswipe or lane change  "
      ]
     },
     "execution_count": 4,
     "metadata": {},
     "output_type": "execute_result"
    }
   ],
   "source": [
    "df_claims.head(3)"
   ]
  },
  {
   "cell_type": "code",
   "execution_count": 5,
   "metadata": {},
   "outputs": [],
   "source": [
    "df_claims = df_claims.drop(columns=['Coverage Code', 'Accident Source']).rename(columns={'Claim Description': 'claim_description'})"
   ]
  },
  {
   "cell_type": "code",
   "execution_count": 6,
   "metadata": {},
   "outputs": [],
   "source": [
    "df_claims_inference = df_claims.sample(100, random_state=333)"
   ]
  },
  {
   "cell_type": "code",
   "execution_count": 11,
   "metadata": {},
   "outputs": [],
   "source": [
    "df_claims_inference.to_csv('claims_inference.csv', index=False)"
   ]
  },
  {
   "cell_type": "code",
   "execution_count": 8,
   "metadata": {},
   "outputs": [],
   "source": [
    "df_claims = df_claims.iloc[~df_claims.index.isin(df_claims_inference.index), :]"
   ]
  },
  {
   "cell_type": "code",
   "execution_count": 9,
   "metadata": {},
   "outputs": [],
   "source": [
    "df_claims.to_csv('claims.csv', index=False)"
   ]
  }
 ],
 "metadata": {
  "kernelspec": {
   "display_name": ".venv",
   "language": "python",
   "name": "python3"
  },
  "language_info": {
   "codemirror_mode": {
    "name": "ipython",
    "version": 3
   },
   "file_extension": ".py",
   "mimetype": "text/x-python",
   "name": "python",
   "nbconvert_exporter": "python",
   "pygments_lexer": "ipython3",
   "version": "3.12.0"
  }
 },
 "nbformat": 4,
 "nbformat_minor": 2
}
