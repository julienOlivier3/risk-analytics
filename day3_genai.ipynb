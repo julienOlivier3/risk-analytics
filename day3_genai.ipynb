{
 "cells": [
  {
   "cell_type": "markdown",
   "metadata": {},
   "source": [
    "# Generative AI and Risk Information"
   ]
  },
  {
   "cell_type": "markdown",
   "metadata": {},
   "source": [
    "## What is Generative AI?"
   ]
  },
  {
   "cell_type": "markdown",
   "metadata": {},
   "source": [
    "> Generative AI (GenAI) is a special type of Artificial Intelligence that can learn from and mimic large amounts of data to create content such as text, images, music, videos, code, and more."
   ]
  },
  {
   "cell_type": "markdown",
   "metadata": {},
   "source": [
    "## Application of Generative AI in Risk Management"
   ]
  },
  {
   "cell_type": "markdown",
   "metadata": {},
   "source": [
    "- Information analysis\n",
    "- Information provision\n",
    "- Information automation"
   ]
  },
  {
   "cell_type": "markdown",
   "metadata": {},
   "source": [
    "https://www.pwc.com/us/en/industries/financial-services/library/gen-ai-and-risk-management.html"
   ]
  },
  {
   "cell_type": "markdown",
   "metadata": {},
   "source": [
    "### A Proof-of-Concept (PoC): Risk Agent"
   ]
  },
  {
   "cell_type": "markdown",
   "metadata": {},
   "source": [
    "In this part of the course, we will create a chatbot that helps users find information about the risks and challenges faced by publicly listed companies, using their annual reports. Specifically, we will use a Large Language Model (LLM) to answer user questions by looking up relevant information in these reports. When a user asks a question, the chatbot will gather details from the appropriate reports to provide accurate answers.\n",
    "This process enhances the LLM's responses by adding specific knowledge that it wouldn't have just from its initial training. This method is known as Retrieval Augmented Generation (RAG), and it is a popular way to build conversational AI applications."
   ]
  },
  {
   "cell_type": "markdown",
   "metadata": {},
   "source": [
    "> LLMs, are very large deep learning models that are pre-trained on vast amounts of data. They are highly flexible as a single model can perform completely different generative tasks such as answering questions, summarizing documents, translating languages and completing sentences."
   ]
  },
  {
   "cell_type": "markdown",
   "metadata": {},
   "source": [
    "> Retrieval Augmented Generation (RAG) RAG is a technique for improving the quality of LLM-generated responses by grounding the model on external sources of knowledge. Relevant external knowledge is retrieved from a knowledge base and used to augment the model's generation process. This approach can help mitigate the model's tendency to hallucinate or produce incorrect information, as it provides a more reliable source of context for the generation task."
   ]
  },
  {
   "cell_type": "markdown",
   "metadata": {},
   "source": [
    "While risk-related information from company reports is publicly available, it is quite tedious and resource-intensive to collect and structure it and to make it seamless available to decision makers that act upon such information. For example,\n",
    "- Financial Analysts and Investment Professionals such as portfolio managers, equity analysts, and hedge fund managers, need to assess the risks and challenges of companies to make informed investment decisions. A risk agent could help them quickly analyze risk disclosures in annual reports, saving time and improving accuracy.\n",
    "- Corporate Risk Managers need to benchmark their own risk disclosures against competitors or industry standards. A risk agent could help them identify trends in risk reporting and ensure compliance with regulatory requirements.\n",
    "- ESG analysts focus on evaluating companies' sustainability and governance practices. Risk disclosures in annual reports often include information about environmental and social risks, which are critical for ESG assessments. A risk agent could help them extracting and analyzing ESG-related risks from annual reports to evaluate a company's sustainability profile."
   ]
  },
  {
   "cell_type": "markdown",
   "metadata": {},
   "source": [
    "Developing LLM-based applications requires you to choose one of the many proprietary or open-source LLM models. We use the proprietary LLM `command-r-plus` from [Cohere](https://cohere.com/command). Cohere offers trial API keys that can be used to send calls to their LLMs and return responses free of charge. Cohere's trial keys are rate-limited, and cannot be used for commercial purposes.\n",
    "\n",
    "In order to get a trial API key, [create an account](https://dashboard.cohere.com/welcome/register) on Cohere and generate a trial API key.\n"
   ]
  },
  {
   "cell_type": "markdown",
   "metadata": {},
   "source": [
    "<img src=\"img/cohere.png\" alt=\"Cohere trial key\" width=\"1000\">"
   ]
  },
  {
   "cell_type": "markdown",
   "metadata": {},
   "source": [
    "In the root directory of this project simply create a new file named `.env` where you paste in your trial API key."
   ]
  },
  {
   "cell_type": "code",
   "execution_count": 3,
   "metadata": {},
   "outputs": [],
   "source": [
    "import os, getpass\n",
    "\n",
    "def _set_env(var: str):\n",
    "    if not os.environ.get(var):\n",
    "        os.environ[var] = getpass.getpass(f\"{var}: \")\n",
    "\n",
    "_set_env(\"OPENAI_API_KEY\")\n",
    "_set_env(\"HUGGINGFACE_API_KEY\")"
   ]
  },
  {
   "cell_type": "markdown",
   "metadata": {},
   "source": [
    "In the first step, we load the API keys into your project's environment, so the keys are available to us."
   ]
  },
  {
   "cell_type": "code",
   "execution_count": 168,
   "metadata": {},
   "outputs": [],
   "source": [
    "from dotenv import load_dotenv\n",
    "\n",
    "# Load environment variables from .env file\n",
    "load_dotenv()\n",
    "\n",
    "# Access the API keys\n",
    "cohere_api_key = os.getenv(\"COHERE_API_KEY\")\n",
    "huggingface_api_key = os.getenv(\"HUGGINGFACE_API_KEY\")"
   ]
  },
  {
   "cell_type": "markdown",
   "metadata": {},
   "source": [
    "Moving on, we will primarily work with [LangChain](https://www.langchain.com/) and [LlamaIndex](https://docs.llamaindex.ai/en/stable/) which are both leading Python frameworks for building LLM-powered agents."
   ]
  },
  {
   "cell_type": "markdown",
   "metadata": {},
   "source": [
    "> In general terms, agents refer to artificial intelligence systems that can act with a higher degree of autonomy than traditional solutions. \n",
    "Designed to function independently, these systems can perform tasks and make decisions without continuous human intervention or needing predefined, hard-coded guidance - unlike traditional generative AI, which usually relies on predefined instructions and human oversight."
   ]
  },
  {
   "cell_type": "markdown",
   "metadata": {},
   "source": [
    "In our use case, we develop a agentic RAG system capable of extracting risk-related information from annual company reports. The agent orchestrates which report to retrieve information from based on the user's query and if no specific company is mentioned in the query searches the web to generate an answer.. The illustration below provides an idea of how this agentic RAG system looks like."
   ]
  },
  {
   "cell_type": "markdown",
   "metadata": {},
   "source": [
    "<img src=\"img/rag_agent.png\" alt=\"Agentic RAG\" width=\"700\">"
   ]
  },
  {
   "cell_type": "markdown",
   "metadata": {},
   "source": [
    "## Developing a Mulit-Document Risk Agent"
   ]
  },
  {
   "cell_type": "markdown",
   "metadata": {},
   "source": [
    "### Parse documents"
   ]
  },
  {
   "cell_type": "markdown",
   "metadata": {},
   "source": [
    "For demonstrative purposes, the original annual reports for a sample of DAX 40 companies can be found in `data/raw/reports/`."
   ]
  },
  {
   "cell_type": "code",
   "execution_count": 4,
   "metadata": {},
   "outputs": [
    {
     "data": {
      "text/plain": [
       "['adidas_2023.pdf',\n",
       " 'allianz_2023.pdf',\n",
       " 'basf_2023.pdf',\n",
       " 'bayer_2023.pdf',\n",
       " 'beiersdorf_2023.pdf',\n",
       " 'bmw_2023.pdf']"
      ]
     },
     "execution_count": 4,
     "metadata": {},
     "output_type": "execute_result"
    }
   ],
   "source": [
    "reports = os.listdir('data/raw/reports/')\n",
    "reports"
   ]
  },
  {
   "cell_type": "markdown",
   "metadata": {},
   "source": [
    "To read the annual reports, we use `SimpleDirectoryReader`, which offers an easy and efficient way to load data from local files and automatically parse the text, selecting the best file reader based on the file format. In our case, all the annual reports are in .pdf format.\n",
    "For demonstration purposes, we will start with the 2023 annual report of Adidas. Later, we will apply the same process to the annual reports of all other DAX 40 companies. It's important to note that all the preprocessing steps outlined below are generic and can be applied without modification to the annual reports of other companies."
   ]
  },
  {
   "cell_type": "code",
   "execution_count": 172,
   "metadata": {},
   "outputs": [
    {
     "name": "stderr",
     "output_type": "stream",
     "text": [
      "Loading files:   0%|          | 0/1 [00:00<?, ?file/s]"
     ]
    },
    {
     "name": "stderr",
     "output_type": "stream",
     "text": [
      "Loading files: 100%|██████████| 1/1 [01:13<00:00, 73.37s/file]"
     ]
    },
    {
     "name": "stdout",
     "output_type": "stream",
     "text": [
      "In total 321 Document objects have been loaded.\n"
     ]
    },
    {
     "name": "stderr",
     "output_type": "stream",
     "text": [
      "\n"
     ]
    }
   ],
   "source": [
    "from llama_index.core import SimpleDirectoryReader\n",
    "\n",
    "documents = SimpleDirectoryReader(input_files=['data/raw/reports/adidas_2023.pdf']).load_data(show_progress=True)\n",
    "print(f\"In total {len(documents)} Document objects have been loaded.\")"
   ]
  },
  {
   "cell_type": "markdown",
   "metadata": {},
   "source": [
    "As you can see `SimpleDirectoryReader` returns a list of `Document` objects where each element represents a single page from the annual report loaded before."
   ]
  },
  {
   "cell_type": "code",
   "execution_count": 173,
   "metadata": {},
   "outputs": [
    {
     "data": {
      "text/plain": [
       "[Document(id_='45729c47-d90d-4313-8ec2-bfbddb626af9', embedding=None, metadata={'page_label': '1', 'file_name': 'adidas_2023.pdf', 'file_path': 'data\\\\raw\\\\reports\\\\adidas_2023.pdf', 'file_type': 'application/pdf', 'file_size': 20968677, 'creation_date': '2025-02-02', 'last_modified_date': '2025-02-02'}, excluded_embed_metadata_keys=['file_name', 'file_type', 'file_size', 'creation_date', 'last_modified_date', 'last_accessed_date'], excluded_llm_metadata_keys=['file_name', 'file_type', 'file_size', 'creation_date', 'last_modified_date', 'last_accessed_date'], relationships={}, metadata_template='{key}: {value}', metadata_separator='\\n', text_resource=MediaResource(embeddings=None, data=None, text='2023\\nANNUAL REPORT', path=None, url=None, mimetype=None), image_resource=None, audio_resource=None, video_resource=None, text_template='{metadata_str}\\n\\n{content}'),\n",
       " Document(id_='27ca959f-b388-45b8-afab-cc667c09ce4c', embedding=None, metadata={'page_label': '2', 'file_name': 'adidas_2023.pdf', 'file_path': 'data\\\\raw\\\\reports\\\\adidas_2023.pdf', 'file_type': 'application/pdf', 'file_size': 20968677, 'creation_date': '2025-02-02', 'last_modified_date': '2025-02-02'}, excluded_embed_metadata_keys=['file_name', 'file_type', 'file_size', 'creation_date', 'last_modified_date', 'last_accessed_date'], excluded_llm_metadata_keys=['file_name', 'file_type', 'file_size', 'creation_date', 'last_modified_date', 'last_accessed_date'], relationships={}, metadata_template='{key}: {value}', metadata_separator='\\n', text_resource=MediaResource(embeddings=None, data=None, text='YOU\\nGOT\\nTHIS\\nANNUAL REPORT 2023', path=None, url=None, mimetype=None), image_resource=None, audio_resource=None, video_resource=None, text_template='{metadata_str}\\n\\n{content}'),\n",
       " Document(id_='25ecc34c-dfaa-4f3c-bc3b-30f75ac8210a', embedding=None, metadata={'page_label': '3', 'file_name': 'adidas_2023.pdf', 'file_path': 'data\\\\raw\\\\reports\\\\adidas_2023.pdf', 'file_type': 'application/pdf', 'file_size': 20968677, 'creation_date': '2025-02-02', 'last_modified_date': '2025-02-02'}, excluded_embed_metadata_keys=['file_name', 'file_type', 'file_size', 'creation_date', 'last_modified_date', 'last_accessed_date'], excluded_llm_metadata_keys=['file_name', 'file_type', 'file_size', 'creation_date', 'last_modified_date', 'last_accessed_date'], relationships={}, metadata_template='{key}: {value}', metadata_separator='\\n', text_resource=MediaResource(embeddings=None, data=None, text='OUR PURPOSE\\nOUR MISSION \\nTO BE THE BEST SPORTS BRAND IN THE WORLD\\nTOTHE\\nTHROUGH\\nSP ORT,\\nPOWER\\nCHANGE LIVES\\nWE HAVE\\nANNUAL REPORT 2023', path=None, url=None, mimetype=None), image_resource=None, audio_resource=None, video_resource=None, text_template='{metadata_str}\\n\\n{content}')]"
      ]
     },
     "execution_count": 173,
     "metadata": {},
     "output_type": "execute_result"
    }
   ],
   "source": [
    "documents[0:3]"
   ]
  },
  {
   "cell_type": "markdown",
   "metadata": {},
   "source": [
    "A `Document` object comes with a unique ID, some metadate, and the data found in the document differentiated by the following data types:\n",
    "- text_resource\n",
    "- image_resource\n",
    "- audio_resource\n",
    "- video_resource"
   ]
  },
  {
   "cell_type": "code",
   "execution_count": 175,
   "metadata": {},
   "outputs": [
    {
     "data": {
      "text/plain": [
       "{'id_': '3ef23429-10c0-4e74-af05-1e315b6584fc',\n",
       " 'embedding': None,\n",
       " 'metadata': {'page_label': '166',\n",
       "  'file_name': 'adidas_2023.pdf',\n",
       "  'file_path': 'data\\\\raw\\\\reports\\\\adidas_2023.pdf',\n",
       "  'file_type': 'application/pdf',\n",
       "  'file_size': 20968677,\n",
       "  'creation_date': '2025-02-02',\n",
       "  'last_modified_date': '2025-02-02'},\n",
       " 'excluded_embed_metadata_keys': ['file_name',\n",
       "  'file_type',\n",
       "  'file_size',\n",
       "  'creation_date',\n",
       "  'last_modified_date',\n",
       "  'last_accessed_date'],\n",
       " 'excluded_llm_metadata_keys': ['file_name',\n",
       "  'file_type',\n",
       "  'file_size',\n",
       "  'creation_date',\n",
       "  'last_modified_date',\n",
       "  'last_accessed_date'],\n",
       " 'relationships': {},\n",
       " 'metadata_template': '{key}: {value}',\n",
       " 'metadata_separator': '\\n',\n",
       " 'text_resource': MediaResource(embeddings=None, data=None, text=\"1 2 3 4 5 \\nT O  O U R SHA REHO L D ERS  GRO U P  MAN A GEMEN T  REP O RT – \\nO U R CO MPA N Y \\nGRO U P  MAN A GEMEN T  REP O RT – \\nF I N A N CI AL  REVI EW  \\nCO N SO L I DA T ED  FI N AN CI A L \\nST A T EMEN T S \\nA D D I T I ON A L I N FO RMA T I ON \\n \\n166 \\n    \\n    \\n A N N U A L  R E P O R T  2 0 2 3 \\nRisk and Opportunity Report \\nIn order to remain competitive and ensure sustainable success, adidas consciously takes risks and \\ncontinuously explores and develops opportunities. Our risk and opportunity management principles and \\nsystem provide the framework for our company to conduct business in a well-controlled environment. \\nRisk and opportunity management principles \\nThe key objective of the risk and opportunity management is to support business success and protect the \\ncompany as a going concern through an opportunity-focused but risk-aware decision-making framework. \\nOur Enterprise Risk Management Policy outlines the principles, processes, tools, risk areas, key \\nresponsibilities, reporting requirements, and communication timelines within our company. Risk and \\nopportunity management is a company-wide activity that utilizes key insights from the members of the \\nExecutive Board as well as from global and local business units and functions. We define risk as the \\npotential occurrence of an external or internal event (or series of events) that may negatively impact our \\nability to achieve the company’s business objectives or financial goals. Opportunity is defined as the \\npotential occurrence of an external or internal event (or series of events) that can positively impact the \\ncompany’s ability to achieve its business objectives or financial goals. \\nRisk and opportunity management system \\nThe Executive Board has overall responsibility for establishing a risk and opportunity management system \\nthat ensures comprehensive and consistent management of all relevant risks and opportunities. The \\nEnterprise Risk Management department governs, operates, and develops the company’s risk and \\nopportunity management system and is the owner of the centrally managed risk and opportunity \\nmanagement process on behalf of the Executive Board. The Supervisory Board is responsible for \\nmonitoring the effectiveness of the risk management system. These duties are undertaken by the \\nSupervisory Board’s Audit Committee. Working independently of all other functions of the organization, the \\nInternal Audit department provides objective assurance to the Executive Board and the Audit Committee \\nregarding the adequacy and effectiveness of the company’s risk and opportunity management system on a \\nregular basis. In addition, the Internal Audit department includes an assessment of the effectiveness of \\nrisk management processes and compliance with the company’s Enterprise Risk Management Policy as \\npart of its regular auditing activities with selected adidas subsidiaries or functions each year. \\nOur risk and opportunity management system is based on frameworks for enterprise risk management \\nand internal controls developed and published by the Committee of Sponsoring Organizations of the \\nTreadway Commission (COSO). Additionally, we have adapted our risk and opportunity management \\nsystem to more appropriately reflect the structure as well as the culture of the company. This system \\nfocuses on the identification, evaluation, handling, systematic reporting, and monitoring of risks and \\nopportunities. Furthermore, we use a quantitative concept for risk capacity and risk appetite. Risk capacity \\nis a liquidity-based measure and represents the maximum level of risk adidas AG can take before being \\nthreatened with insolvency. Risk appetite refers to the maximum level of risk the company is willing to \\ntake and is linked to the company's liquidity targets.  \", path=None, url=None, mimetype=None),\n",
       " 'image_resource': None,\n",
       " 'audio_resource': None,\n",
       " 'video_resource': None,\n",
       " 'text_template': '{metadata_str}\\n\\n{content}'}"
      ]
     },
     "execution_count": 175,
     "metadata": {},
     "output_type": "execute_result"
    }
   ],
   "source": [
    "vars(documents[165])"
   ]
  },
  {
   "cell_type": "markdown",
   "metadata": {},
   "source": [
    "Next, we use the custom function `display_document_with_image_side_by_side()` to display and compare the text parsed by `SimpleDirectoryReader` with the original."
   ]
  },
  {
   "cell_type": "code",
   "execution_count": 176,
   "metadata": {},
   "outputs": [
    {
     "data": {
      "text/html": [
       "\n",
       "    <div style=\"display: flex; align-items: flex-start;\">\n",
       "        <div style=\"flex: 1; padding: 10px;\">\n",
       "            <pre>1 2 3 4 5 \n",
       "T O  O U R SHA REHO L D ERS  GRO U P  MAN A GEMEN T  REP O RT – \n",
       "O U R CO MPA N Y \n",
       "GRO U P  MAN A GEMEN T  REP O RT – \n",
       "F I N A N CI AL  REVI EW  \n",
       "CO N SO L I DA T ED  FI N AN CI A L \n",
       "ST A T EMEN T S \n",
       "A D D I T I ON A L I N FO RMA T I ON \n",
       " \n",
       "166 \n",
       "    \n",
       "    \n",
       " A N N U A L  R E P O R T  2 0 2 3 \n",
       "Risk and Opportunity Report \n",
       "In order to remain competitive and ensure sustainable success, adidas consciously takes risks and \n",
       "continuously explores and develops opportunities. Our risk and opportunity management principles and \n",
       "system provide the framework for our company to conduct business in a well-controlled environment. \n",
       "Risk and opportunity management principles \n",
       "The key objective of the risk and opportunity management is to support business success and protect the \n",
       "company as a going concern through an opportunity-focused but risk-aware decision-making framework. \n",
       "Our Enterprise Risk Management Policy outlines the principles, processes, tools, risk areas, key \n",
       "responsibilities, reporting requirements, and communication timelines within our company. Risk and \n",
       "opportunity management is a company-wide activity that utilizes key insights from the members of the \n",
       "Executive Board as well as from global and local business units and functions. We define risk as the \n",
       "potential occurrence of an external or internal event (or series of events) that may negatively impact our \n",
       "ability to achieve the company’s business objectives or financial goals. Opportunity is defined as the \n",
       "potential occurrence of an external or internal event (or series of events) that can positively impact the \n",
       "company’s ability to achieve its business objectives or financial goals. \n",
       "Risk and opportunity management system \n",
       "The Executive Board has overall responsibility for establishing a risk and opportunity management system \n",
       "that ensures comprehensive and consistent management of all relevant risks and opportunities. The \n",
       "Enterprise Risk Management department governs, operates, and develops the company’s risk and \n",
       "opportunity management system and is the owner of the centrally managed risk and opportunity \n",
       "management process on behalf of the Executive Board. The Supervisory Board is responsible for \n",
       "monitoring the effectiveness of the risk management system. These duties are undertaken by the \n",
       "Supervisory Board’s Audit Committee. Working independently of all other functions of the organization, the \n",
       "Internal Audit department provides objective assurance to the Executive Board and the Audit Committee \n",
       "regarding the adequacy and effectiveness of the company’s risk and opportunity management system on a \n",
       "regular basis. In addition, the Internal Audit department includes an assessment of the effectiveness of \n",
       "risk management processes and compliance with the company’s Enterprise Risk Management Policy as \n",
       "part of its regular auditing activities with selected adidas subsidiaries or functions each year. \n",
       "Our risk and opportunity management system is based on frameworks for enterprise risk management \n",
       "and internal controls developed and published by the Committee of Sponsoring Organizations of the \n",
       "Treadway Commission (COSO). Additionally, we have adapted our risk and opportunity management \n",
       "system to more appropriately reflect the structure as well as the culture of the company. This system \n",
       "focuses on the identification, evaluation, handling, systematic reporting, and monitoring of risks and \n",
       "opportunities. Furthermore, we use a quantitative concept for risk capacity and risk appetite. Risk capacity \n",
       "is a liquidity-based measure and represents the maximum level of risk adidas AG can take before being \n",
       "threatened with insolvency. Risk appetite refers to the maximum level of risk the company is willing to \n",
       "take and is linked to the company's liquidity targets.</pre>\n",
       "        </div>\n",
       "        <div style=\"flex: 1; padding: 10px;\">\n",
       "            <img src=\"img/annual_report.png\" style=\"max-width: 100%; height: auto;\">\n",
       "        </div>\n",
       "    </div>\n",
       "    "
      ],
      "text/plain": [
       "<IPython.core.display.HTML object>"
      ]
     },
     "metadata": {},
     "output_type": "display_data"
    }
   ],
   "source": [
    "from util import display_document_with_image_side_by_side\n",
    "\n",
    "display_document_with_image_side_by_side(\n",
    "    document=documents[165],\n",
    "    image_path='img/annual_report.png'\n",
    ")"
   ]
  },
  {
   "cell_type": "markdown",
   "metadata": {},
   "source": [
    "When using the text_resource in the Risk Agent, we do not need the header information which repeats on each page. This is just convoluting the content and should be removed from the `Document` objects. Similar redundant text can be found in the annual reports of the other companies. Moreover, we do not want to use the entire annual reports but only the pages which contain information about the companies' 'Risk and Opportunity'. Ultimately, we want to merge all relevant pages of one annual report into a single `Document` object. Otherwise, paragraphs that split across two pages will be handled separately in downstream processing."
   ]
  },
  {
   "cell_type": "code",
   "execution_count": 177,
   "metadata": {},
   "outputs": [],
   "source": [
    "pre_process_dict = {\n",
    "    \"adidas\": {\n",
    "        \"pages\": range(165, 187, 1),\n",
    "        \"string_to_remove\": \"1 2 3 4 5 \\nT O  O U R SHA REHO L D ERS  GRO U P  MAN A GEMEN T  REP O RT – \\nO U R CO MPA N Y \\nGRO U P  MAN A GEMEN T  REP O RT – \\nF I N A N CI AL  REVI EW  \\nCO N SO L I DA T ED  FI N AN CI A L \\nST A T EMEN T S \\nA D D I T I ON A L I N FO RMA T I ON \\n \\n\\\\d{1,3} \\n    \\n    \\n A N N U A L  R E P O R T  2 0 2 3\",\n",
    "    }\n",
    "}"
   ]
  },
  {
   "cell_type": "code",
   "execution_count": 178,
   "metadata": {},
   "outputs": [],
   "source": [
    "import re\n",
    "from llama_index.core import Document\n",
    "\n",
    "pages = pre_process_dict[\"adidas\"].get(\"pages\")\n",
    "string_to_remove = pre_process_dict[\"adidas\"].get(\"string_to_remove\")\n",
    "overall_text = \"\"\n",
    "\n",
    "for page in pages:\n",
    "    document = documents[page]\n",
    "    text = document.text\n",
    "    text = re.sub(string_to_remove, \"\", text)\n",
    "    overall_text = \"\\n\".join([overall_text, text])\n",
    "\n",
    "report = Document(text=overall_text, metadata={'company': \"adidas\", 'year': 2023})"
   ]
  },
  {
   "cell_type": "code",
   "execution_count": 180,
   "metadata": {},
   "outputs": [
    {
     "data": {
      "text/plain": [
       "{'id_': 'd5d97044-fcbe-4ab2-9920-e1c0bdd46aa3',\n",
       " 'embedding': None,\n",
       " 'metadata': {'company': 'adidas', 'year': 2023},\n",
       " 'excluded_embed_metadata_keys': [],\n",
       " 'excluded_llm_metadata_keys': [],\n",
       " 'relationships': {},\n",
       " 'metadata_template': '{key}: {value}',\n",
       " 'metadata_separator': '\\n',\n",
       " 'text_resource': MediaResource(embeddings=None, data=None, text=\"\\n \\nRisk and Opportunity Report \\nIn order to remain competitive and ensure sustainable success, adidas consciously takes risks and \\ncontinuously explores and develops opportunities. Our risk and opportunity management principles and \\nsystem provide the framework for our company to conduct business in a well-controlled environment. \\nRisk and opportunity management principles \\nThe key objective of the risk and opportunity management is to support business success and protect the \\ncompany as a going concern through an opportunity-focused but risk-aware decision-making framework. \\nOur Enterprise Risk Management Policy outlines the principles, processes, tools, risk areas, key \\nresponsibilities, reporting requirements, and communication timelines within our company. Risk and \\nopportunity management is a company-wide activity that utilizes key insights from the members of the \\nExecutive Board as well as from global and local business units and functions. We define risk as the \\npotential occurrence of an external or internal event (or series of events) that may negatively impact our \\nability to achieve the company’s business objectives or financial goals. Opportunity is defined as the \\npotential occurrence of an external or internal event (or series of events) that can positively impact the \\ncompany’s ability to achieve its business objectives or financial goals. \\nRisk and opportunity management system \\nThe Executive Board has overall responsibility for establishing a risk and opportunity management system \\nthat ensures comprehensive and consistent management of all relevant risks and opportunities. The \\nEnterprise Risk Management department governs, operates, and develops the company’s risk and \\nopportunity management system and is the owner of the centrally managed risk and opportunity \\nmanagement process on behalf of the Executive Board. The Supervisory Board is responsible for \\nmonitoring the effectiveness of the risk management system. These duties are undertaken by the \\nSupervisory Board’s Audit Committee. Working independently of all other functions of the organization, the \\nInternal Audit department provides objective assurance to the Executive Board and the Audit Committee \\nregarding the adequacy and effectiveness of the company’s risk and opportunity management system on a \\nregular basis. In addition, the Internal Audit department includes an assessment of the effectiveness of \\nrisk management processes and compliance with the company’s Enterprise Risk Management Policy as \\npart of its regular auditing activities with selected adidas subsidiaries or functions each year. \\nOur risk and opportunity management system is based on frameworks for enterprise risk management \\nand internal controls developed and published by the Committee of Sponsoring Organizations of the \\nTreadway Commission (COSO). Additionally, we have adapted our risk and opportunity management \\nsystem to more appropriately reflect the structure as well as the culture of the company. This system \\nfocuses on the identification, evaluation, handling, systematic reporting, and monitoring of risks and \\nopportunities. Furthermore, we use a quantitative concept for risk capacity and risk appetite. Risk capacity \\nis a liquidity-based measure and represents the maximum level of risk adidas AG can take before being \\nthreatened with insolvency. Risk appetite refers to the maximum level of risk the company is willing to \\ntake and is linked to the company's liquidity targets.\\n \\nRisk and opportunity management system  \\n \\n \\nOur risk and opportunity management process comprises the following steps: \\n─ Risk and opportunity identification: adidas continuously monitors the macroeconomic environment \\nand developments in the sporting goods industry as well as internal processes to identify risks and \\nopportunities as early as possible. On a semi-annual basis, the Enterprise Risk Management \\ndepartment conducts a survey among senior management and selected middle management to ensure \\nan effective bottom-up identification of risks and opportunities. Enterprise Risk Management has also \\ndefined 25 categories to help identify risks and opportunities in a systematic way. In addition, adidas \\nuses various instruments in the risk and opportunity identification process, such as primary qualitative \\nand quantitative research including trend scouting and consumer surveys as well as feedback from our \\nbusiness partners. These efforts are supported by global market research and competitor analysis. \\nThrough this process, we seek to identify the markets, categories, consumer target groups, and \\nproduct styles that show the most potential for future growth at a local and global level. Equally, our \\nanalysis focuses on those areas that are at risk of saturation or exposed to increased competition or \\nchanging consumer tastes. Furthermore, we consider topics related to environmental, social, and \\ngovernance aspects in our overall identification process as well as in the following process steps. Our \\nrisk and opportunity identification process is however not only limited to external risk factors or \\nopportunities; it also includes an internal perspective that considers company culture, processes, \\nprojects, human resources, and compliance aspects. \\n─ Risk and opportunity evaluation: We assess identified risks and opportunities individually according to \\na systematic evaluation methodology, which allows adequate prioritization as well as allocation of \\nresources. Risk and opportunity evaluation is part of the responsibility of the Enterprise Risk \\nManagement department supported by subject matter experts as well as internal and external data. \\nThe Enterprise Risk Management department also conducts assessments with the Executive Board \\nmembers and senior leaders to validate the evaluation of most relevant risks and opportunities. \\nAccording to our methodology, risks and opportunities are evaluated by looking at two dimensions: the \\npotential impact and the likelihood that this impact materializes. Based on this evaluation, we classify \\nrisks and opportunities into three categories: minor, moderate, and major.\\n \\nThe potential impact is evaluated using five categories: marginal, low, medium, high, and significant. \\nThese categories represent financial or equivalent non-financial measurements. The financial \\nmeasurements are based on the potential effect on the company’s net income and cash flow. Non-\\nfinancial measurements used are the degree to which the company’s reputation, brand image, and \\nemployer value proposition are affected. Moreover, the degree of damage to people’s health and safety \\nand the degree of legal and judicial consequences at a corporate and personal level can be considered. \\nLikelihood represents the possibility that a given risk or opportunity may materialize with the specific \\nimpact. The likelihood of individual risks and opportunities is evaluated on a percentage scale divided \\ninto five categories.  \\nRisk evaluation categories  \\n \\n1 Based on net income and cash flow.\\n \\nWhen evaluating risks and opportunities, we also consider the speed of materialization (velocity). In \\nthis respect, we differentiate in which financial year risks and opportunities could occur. We consider \\nboth gross and net risk in our risk assessments. While the gross risk reflects the inherent risk before \\nany mitigating action, the net risk reflects the residual risk after all mitigating action. On the one hand, \\nthis approach allows for a good understanding of the impact of mitigating action taken; on the other \\nhand, it provides the basis for scenario analysis. Our assessment of risks presented in this report only \\nreflects the net risk perspective. We measure the actual financial impact of selected risks and \\nopportunities that materialized against the original assessment on a yearly basis (‘back-testing’). In \\nthis way, we ensure continuous monitoring of the accuracy of risk and opportunity evaluations across \\nthe company, which enables us to continuously improve evaluation methodology based on our findings.  \\nIn assessing the potential effect from opportunities, each opportunity is appraised with respect to \\nviability, commerciality, and potential risks. This approach is not only applied to longer-term strategic \\nprospects but also to shorter-term tactical and opportunistic initiatives at the corporate level as well \\nas at the market and brand level. In contrast to the risk evaluation, only the net perspective exists for \\nassessing opportunities. \\nWe aggregate risks and opportunities using a stochastic simulation (Monte Carlo simulation) to \\ndetermine the company’s risk and opportunity portfolio (i.e., the company’s aggregated risk position), \\nconsidering interdependencies of individual risks and opportunities. To identify a potential threat to the \\ncompany as a going concern, we compare the 2024 risk and opportunity portfolio to the company’s \\ndefined risk capacity and determine the likelihood that the aggregated risk exceeds the risk capacity; \\nto identify a potential threat to the company’s rating, we compare the 2024 risk and opportunity \\nportfolio to the defined risk appetite and determine the likelihood that the aggregated risk exceeds the \\nrisk appetite.  \\n─ Risk and opportunity handling: Risks and opportunities are treated in accordance with the company’s \\nrisk and opportunity management principles as described in the Enterprise Risk Management Policy. \\nRisk Owners are in charge of developing and implementing appropriate risk-mitigating action within \\ntheir area of responsibility. In addition, the Risk Owners need to determine a general risk-handling \\nstrategy for the identified risks, which is either risk avoidance, risk reduction with the objective to \\nlower impact or likelihood, risk transfer to a third party or risk acceptance. The decision on the \\nimplementation of the respective risk-handling strategy also takes into account the costs in relation to \\nthe benefit of any planned mitigating action if applicable. The Enterprise Risk Management department \\nworks closely with the Risk Owners to monitor the continuous progress of planned mitigating action \\nand assess the viability of already implemented mitigating action. Depending on the risk class \\ndetermined by the risk and opportunity evaluation, the authority to make decisions to accept risks \\nresides with the Executive Board, leaders reporting directly to an Executive Board member and the \\noperational management on the next hierarchical level. The decision to accept major risks without \\ntaking additional mitigating action can only be made by the entire Executive Board. In its decision-\\nmaking process, the Executive Board takes into account the risk profile, i.e., the relationship between \\nrisk and opportunity portfolio (i.e., the company’s aggregated risk position) and risk appetite, as well as \\nrisk capacity. To support the Executive Board, the Enterprise Risk Management department defined \\nclear thresholds for the likelihood that the company’s aggregated risk exceeds the defined risk \\nappetite and risk capacity. The company’s risk appetite must not be exceeded with a likelihood of at \\nleast 95%; the company’s risk capacity must not be exceeded with a likelihood of at least 99%. \\n─ Risk and opportunity monitoring and reporting: Our risk and opportunity management system aims to \\nincrease the transparency of risks and opportunities. As both risks and opportunities are subject to \\nconstant change, Risk Owners not only monitor developments but also the adequacy and effectiveness \\nof the current risk-handling strategy on an ongoing basis.\\n \\nRegular risk reporting takes place half-yearly and consists of a five-step reporting stream: \\n─ Enterprise Risk Management identifies risks and opportunities (with a potential effect on net income \\nand cash flow higher than € 1 million) by conducting a survey among senior management and selected \\nmiddle management as well as utilizing available information concerning the internal and external \\nenvironment of the company. Enterprise Risk Management evaluates, consolidates, and aggregates \\nthe identified risks and opportunities (‘bottom-up assessment’). \\n─ Enterprise Risk Management discusses the assessment of most relevant risks and opportunities with \\nthe members of the Executive Board and leaders directly reporting to them. The Executive Board \\nmembers and senior leaders validate the assessment of risks and opportunities in their respective \\narea of responsibility (‘top-down assessment’).  \\n─ Enterprise Risk Management provides a consolidated report to the Executive Board summarizing the \\nresults of both bottom-up and top-down assessment as well as the risk and opportunity profile to \\nhighlight a potential threat to the company’s rating and going concern. The Executive Board reviews \\nthe report, jointly agrees on a company assessment of risks and opportunities and decides if Risk \\nOwners are required to take further action. \\n─ Based on the Executive Board’s decision, Enterprise Risk Management creates the final risk and \\nopportunity report that is also shared with the Core Leadership Group’ (‘CLG’).  \\n─ The Executive Board presents in collaboration with Enterprise Risk Management the final risk and \\nopportunity assessment results to the Audit Committee of the Supervisory Board.  \\nMaterial changes in previously reported risks and opportunities or newly identified substantial risks and \\nopportunities are also reported outside the regular half-yearly reporting stream on an ad hoc basis to the \\nExecutive Board. To further improve the risk culture at adidas, we are also offering a risk management \\ntraining to all our employees through our company intranet. \\nCompliance management system (adidas Fair Play) \\n⌐ We consider compliance with the law as well as with external and internal regulations to be imperative. \\nThe Executive Board sets the tone from the top, and every employee is required to act ethically and in \\ncompliance with the law as well as with internal and other external regulations while executing the \\ncompany’s business. We believe adidas Fair Play will prevent a majority of potential compliance issues. \\nFor that reason, we have specific measures to detect and respond to any concerns. We realize, however, \\nthat no compliance system can eliminate all violations. \\nThe adidas Chief Compliance Officer oversees the company’s Compliance Management System (CMS). We \\nsee compliance as all-encompassing, spanning all business functions throughout the entire value chain. \\nOur central Compliance team works closely with Regional Compliance Managers and Local Compliance \\nOfficers to conduct a systematic assessment of key compliance risks on a yearly basis.\\n \\nThe company’s CMS is based on the OECD Principles of Corporate Governance. It refers to the OECD \\nGuidelines for Multinational Enterprises and is designed to: \\n─ support the achievement of qualitative and sustainable growth through good corporate governance, \\n─ reduce and mitigate the risk of financial losses or damage caused by non-compliant conduct, \\n─ protect and further enhance the value and reputation of the company and its brand through compliant \\nconduct, and \\n─ support ‘Diversity, Equity, and Inclusion’ (‘DEI’) initiatives by fighting harassment and discrimination. \\nThe adidas Fair Play Code of Conduct is accessible on our website, includes guidelines for employee \\nbehavior in everyday work, and is applicable globally for all business areas. ¬ \\n► ADIDAS-GROUP.COM/S/CODE -OF-CONDUCT  \\n⌐ The Fair Play Code of Conduct and our CMS are organized around three pillars: prevent, detect, and \\nrespond. \\n─ Prevention: The Compliance team regularly reviews and updates the CMS as necessary. In addition to \\nthe revised Fair Play Code of Conduct mentioned above, we also support all initiatives to prevent and \\nfight harassment and discrimination in the workplace. Management also shares compliance-related \\ncommunication, and the Compliance department provides mandatory training to all employees globally \\nduring onboarding and in regular, repeated cycles. The Compliance team and partners also provide \\ntargeted in-person compliance training as appropriate with senior management and newly promoted \\nor hired senior executives across the globe in order to further enhance the compliance ‘tone from the \\ntop,’ as well as the ‘tone from the middle.’ We closely monitor the completion rates for these training \\nmeasures. We also focused on further enhancing cooperation between the Compliance team and the \\nInternal Audit, the Group Policies and Internal Controls, and the Enterprise Risk Management \\ndepartment.  \\n─ Detection: adidas has whistleblowing procedures in place to ensure timely detection of potential \\ninfringements of statutory regulations or internal guidelines. Employees can report compliance \\nconcerns internally to their supervisor, the Chief Compliance Officer, Regional Compliance Managers \\nor Local Compliance Officers, the relevant HR Manager, or, where applicable, the Works Council. \\nEmployees can also report externally via the independent, confidential Fair Play hotline and website, \\nwhich also allow for anonymous complaints. The Fair Play hotline and website are available at all times \\nworldwide, including the services of interpreters, if required. They are promoted digitally and with \\nposters to reach all our locations around the world. The company’s work to identify potential \\ncompliance violations continued in 2023.  \\n─ Response: Appropriate and timely response to compliance violations is essential. The Chief \\nCompliance Officer leads all investigations in cooperation with an established team of Regional \\nCompliance Managers and a global network of Local Compliance Officers. We track, monitor, and \\nreport potential incidents of non-compliance worldwide. In 2023, we recorded 590 potential compliance \\nviolations (2022: 521). Most importantly, insights gained from the investigation of past violations are \\nused to continuously improve the CMS. Where necessary, we react promptly to confirmed compliance \\nviolations, through appropriate and effective sanctions ranging from warnings to termination of \\nemployment contracts. In 2023, the Compliance team further strengthened its relationship with the \\nEmployee Relations (ER) organization, a key partner in many compliance matters, especially those \\nrelated to harassment and discrimination. In November 2023, a new case management tool was\\n \\nimplemented allowing both Compliance and ER to effectively document and process cases as well as \\nreport on specific developments in more detail. \\nPotential compliance violations    \\n     \\n  2023  2022 \\nFinancial, including theft   51  48 \\nMalfeasance, including conflicts of interest and corruption   17  19 \\nCompetition  0  1 \\nBehavioral  387  326 \\nOther1  135  127 \\n     \\n1 Includes payroll issues, intellectual property, and leaks of confidential information, amongst others. \\nReporting of potential compliance violations in %    \\n     \\n  2023  2022 \\nAnonymous contact to hotline   53  55 \\nNamed contact to hotline  23  26 \\nCompliance Officer and other  24  18 \\n \\nThe company’s Chief Compliance Officer regularly reports to the Executive Board on the further \\ndevelopment of the compliance program and on major compliance cases. In addition, the Chief \\nCompliance Officer reports to the Audit Committee on a regular basis. In 2023, the Chief Compliance \\nOfficer attended four meetings of the Audit Committee of the Supervisory Board to report on the further \\ndevelopment of the compliance program, major compliance cases, and other relevant compliance topics. \\nThe Compliance department has revised its process for detecting compliance risks and included new \\nrisks, as well as captured some risk areas (e.g., e-commerce) more clearly. In addition, the description of \\nthe CMS has been sharpened. ¬ \\nDescription of the main features of the internal control and risk management system process pursuant \\nto § 315 section 4 German Commercial Code (Handelsgesetzbuch – HGB) \\nThe accounting-related internal control and risk management system of the company represents a \\nprocess embedded within the company-wide corporate governance system. It aims to provide reasonable \\nassurance regarding the reliability of the company’s external financial reporting by ensuring company-\\nwide compliance with statutory accounting regulations, in particular the International Financial Reporting \\nStandards (IFRS) and internal consolidated financial reporting policies (Finance Manual). We regard the \\ninternal control and risk management system as a process based on the principle of segregation of duties, \\nencompassing various sub-processes in the areas of Accounting, Controlling, Taxes, Treasury, Planning, \\nReporting, and Legal, focusing on the identification, assessment, mitigation, monitoring, and reporting of \\nfinancial reporting risks. Clearly defined responsibilities are assigned to each distinct sub-process. In a \\nfirst step, the internal control and risk management system serves to identify, assess, limit, and control \\nrisks identified in the consolidated financial reporting process that might result in the consolidated \\nfinancial statements not being compliant with internal and external regulations. \\nInternal Control over Financial Reporting (ICoFR) serves to provide reasonable assurance regarding the \\nreliability of financial reporting and compliance with applicable laws and regulations. To monitor the \\neffectiveness of ICoFR, the Corporate Internal Audit department, which includes both the Internal Audit \\nand Global Internal Controls functions, regularly reviews accounting-related processes. Additionally, as \\npart of the year-end audit, the external auditor assesses the effectiveness of selected internal controls,\\n \\nincluding IT controls. The Audit Committee of the Supervisory Board also monitors the effectiveness of \\nICoFR. \\nAll adidas companies are required to comply with the consolidated financial reporting policies (Finance \\nManual), which are available to all employees involved in the financial reporting process through the \\ncompany-wide intranet. We update the Finance Manual on a regular basis, dependent on regulatory \\nchanges and internal developments. Changes to the Finance Manual are promptly communicated to all \\nadidas companies. Clear policies serve to limit employees’ scope of discretion with regard to recognition \\nand valuation of assets and liabilities, thus reducing the risk of inconsistent accounting practices within \\nthe company. We aim to ensure compliance with the Finance Manual through continuous adherence to the \\nfour-eyes principle in accounting-related processes. In addition, the local manager responsible for the \\naccounting-related process within the respective company and the respective local Managing Director \\nconfirm adherence to the Finance Manual and to IFRS in a signed representation letter to the Accounting \\ndepartment semi-annually. \\nThe accounting for adidas companies is conducted either locally or by our Global Business Services. \\nVirtually all the IT Enterprise Resource Planning (ERP) systems used are based on a company-wide \\nstandardized SAP system. Following approval by the Finance Director of the respective adidas company, \\nthe local financial statements are transferred to a central consolidation system based on SAP Group \\nReporting. At the corporate level, the regularity and reliability of the financial statements prepared by \\nadidas companies are reviewed by the Accounting and Controlling departments. These reviews include \\nautomated validations in the system as well as the creation of reports and analyses to ensure data \\nintegrity and adherence to the reporting logic. In addition, differences between current-year and prior-\\nyear financial data as well as budget figures are analyzed on a market level. If necessary, adidas seeks the \\nopinion of independent experts to review business transactions that occur infrequently and on a non-\\nroutine basis. After ensuring data plausibility, the centrally coordinated and monitored consolidation \\nprocess begins, running automatically on SAP Group Reporting. Controls within the individual \\nconsolidation steps, such as those relating to the consolidation of debt or of income and expenses, are \\nconducted both manually and system-based, using automatically created consolidation logs. Any \\ninadequacies are remedied manually by systematically processing the individual errors as well as \\ndifferences and are reported back to the adidas companies. After finalization of all consolidation steps, all \\nitems in the consolidated income statement and in the consolidated statement of financial position are \\nanalyzed with respect to trends and variances. Unless already otherwise clarified, the adidas companies \\nare asked to explain any identified material deviations. \\nAll financial systems used are protected against malpractice by means of appropriate authorization \\nconcepts, approval concepts, and access restrictions. Access authorizations are reviewed on a regular \\nbasis and updated if required. The risk of data loss or outage of accounting-related IT systems is \\nminimized through central control and monitoring of virtually all IT systems, centralized management of \\nchange processes, and regular data backups. \\nFurthermore, the adidas internal control and risk management system includes non-accounting-related \\ncontrols which serve to provide reasonable assurance regarding the effectiveness and efficiency of \\noperations, reliability of non-financial reporting, and compliance with applicable laws and regulations. The \\ninternal control and risk management system regarding the non-accounting-related activities focuses also \\non the identification, assessment, mitigation, monitoring, and reporting of relevant risks. It is as well \\nembedded within the company-wide corporate governance system and encompasses various sub-\\nprocesses in the areas of Brands, Operations (including Procurement and IT), Sales, or Human Resources.\\n \\nAll adidas companies are also required to comply with the non-accounting-related policies (‘Policy \\nManual’), which are available to all employees involved in the various processes through the company-\\nwide intranet and are updated and communicated on a regular basis.  \\nThe effectiveness of the non-accounting-related controls is also regularly monitored by the Corporate \\nInternal Audit department and the Global and Market Internal Controls teams. The reporting of internal \\ncontrol testing results to the Audit Committee of the Supervisory Board includes the effectiveness of non-\\naccounting-related controls as well.  \\nNothing came to our attention that would cause us to doubt the adequacy and effectiveness of the entire \\ninternal control and risk management system. However, due to the limitations of any internal control and \\nrisk management system, absolute certainty about the appropriateness and effectiveness of these \\nsystems cannot be guaranteed.27  \\nIllustration of Risks \\nThis report includes an explanation of financial and non-financial risks that we deem to be most relevant \\nto the achievement of the company’s objectives in 2024 and beyond. According to our risk assessment \\nmethodology, macroeconomic, socio-political, regulatory, and currency risks; risks related to consumer \\ndemand and product offering; risks related to the competitive and retail environment; risks related to tax \\nand customs regulations; risks related to impairment of goodwill; personnel risks; and IT and \\ncybersecurity risks are classified as major. The corporate risks overview table illustrates the assessment \\nof all risks described below. \\nCorporate risks overview    \\n         \\nRisk categories  \\nPotential \\nimpact  \\nChange \\n(2022 rating)  Likelihood  \\nChange \\n(2022 rating) \\nMacroeconomic, sociopolitical, regulatory, and currency risks   Significant    30% – 50%   \\nRisks related to consumer demand and product offering   Significant    15% – 30%   \\nRisks related to the competitive and retail environment   Significant    15% – 30%  ↓ (30% – 50%) \\nRisks related to tax and customs regulations   Significant    15% – 30%  ↓ (30% – 50%) \\nRisks related to impairment of goodwill   High  not reported in \\n2022  30% – 50%  not reported in \\n2022 \\nPersonnel risks  High  ↓ (Significant)  15% – 30%   \\nIT and cybersecurity risks  High    15% – 30%   \\nRisks related to media and stakeholder activities   Medium    30% – 50%  ↓ (50% – 85%) \\nBusiness partner risks  Significant    < 15%   \\nCompliance risks  Significant    < 15%   \\nHazard risks  Significant    < 15%   \\nLitigation risks  Significant  ↑ (High)  < 15%   \\nProject risks  Significant  ↑ (High)  < 15%   \\n \\nMacroeconomic, sociopolitical, regulatory, and currency risks \\nGrowth in the sporting goods industry is highly dependent on consumer spending and consumer \\nconfidence. Economic downturns, inflation, financial market turbulence, currency exchange rate \\nfluctuations, and sociopolitical factors such as military conflicts (e.g., further expansion of the war in \\nUkraine or the conflict in the Middle East), changes of government, civil unrest, pandemics, \\nnationalization, expropriation, or nationalism, in particular in regions where adidas is strongly \\n \\n27 The statement in relation to German Corporate Governance Code A5 was not audited in terms of content as part of the audit of this Group Management \\nReport.\\n \\nrepresented, could therefore negatively impact the company’s business activities (up to a potential wind-\\ndown of subsidiaries) and top- and bottom-line performance. Currency risks are a direct result of multi-\\ncurrency cash flows within the company, in particular the mismatch of the currencies required for \\nsourcing our products versus the denominations of our sales. Furthermore, translation impacts from the \\nconversion of non-euro-denominated results into the company’s functional currency, the euro, might lead \\nto a material negative impact on our company’s financial performance. In addition, substantial changes in \\nthe regulatory environment such as trade restrictions (e.g., concerning the US and China, or the EU and \\nChina), economic and political sanctions, regulations concerning product compliance, social aspects, \\nhuman rights, environmental, and climate protection regulations could lead to potential sales shortfalls or \\ncost increases. ► SEE NOTE 28 \\nTo mitigate these macroeconomic, sociopolitical, and regulatory risks, adidas strives to balance sales \\nacross key regions and also between developed and emerging markets. We continuously monitor the \\nmacroeconomic, political, and regulatory landscape in all our key markets to anticipate potential problem \\nareas, so that we can quickly adjust our business activities accordingly upon any change in conditions. \\nPotential adjustments may be a reallocation of manufacturing of our products to alternative countries, a \\nreallocation of investments to alternative, more attractive markets, changes in product prices, closure of \\nour own retail stores, more conservative product purchasing, tight working capital management, and an \\nincreased focus on cost control. \\nTo mitigate the risk related to fluctuations in currency exchange rates, we utilize a centralized currency \\nrisk management system and hedge currency needs for projected sourcing requirements on a rolling \\nbasis up to 24 months in advance. In rare instances, hedges are contracted beyond the 24-months horizon. \\n► SEE TREASURY  \\nBy building on our leading position within the sporting goods industry and taking into account the interests \\nof our stakeholders, we actively engage in supporting policymakers and regulators in their efforts to \\nliberalize global trade and curtail trade barriers, and to proactively influence and adapt to significant \\nchanges in the regulatory environment. \\nRisks related to consumer demand and product offering \\nOur success largely depends on our ability to continuously create new, innovative, and sustainable \\nproducts. Consumer demand changes can be sudden and unexpected, particularly when it comes to the \\nmore fashion-related part of our business. Therefore, we face a risk of short-term revenue loss in cases \\nwhere we are unable to anticipate consumer demand or respond quickly to changes. In addition, creating \\nand offering products that do not resonate with consumers and our retail partners is a critical risk to the \\nsuccess of our brands, especially considering our focus on key product franchises. This risk could be \\nexacerbated if our marketing activities and brand campaigns fail to generate consumer excitement. Even \\nmore critical in the long term, however, are the risks of continuously overlooking new trends and failing to \\ncontinuously introduce and successfully commercialize new product innovation. \\nTo mitigate these risks, identifying and responding to shifts in consumer demand as early as possible is a \\nkey responsibility of our brand and sales organizations and, in particular, of the respective Risk Owners. \\nTherefore, we utilize extensive primary and secondary research tools as outlined in our risk and \\nopportunity identification process. By putting the consumer at the center of our decision-making, we \\nintend to create higher brand advocacy and attract new consumers. We continuously expand our consumer \\nanalytics efforts to read and quickly react to changes in demand or trend shifts. In addition, direct \\ntouchpoints with consumers via our own digital channels, such as the adidas app, and direct \\ncommunication with consumers on social media platforms strengthen our understanding of consumer \\npreferences and behavior and, as a result, help us to reduce our vulnerability to changes in demand. \\nThrough continuous monitoring of sell-through data and disciplined product life-cycle management, in\\n \\nparticular for our major product franchises, we are able to better detect demand patterns and prevent \\nexcess supply. By leveraging our promotion partnerships and by carefully orchestrating launch events \\nacross markets and channels, we intend to maintain brand desire and consumer demand at a constantly \\nhigh level. Utilizing external insights and capabilities in product creation helps us strengthen our product \\noffering and drive consumer demand, brand desire, market share, and profitability. \\nRisks related to the competitive and retail environment \\nChanges in the competitive landscape and the retail environment could impact the company’s success. \\nStrategic alliances among competitors or retailers, the increase in retailers’ own private-label businesses \\nand intense competition for consumers, production capacity, and promotion partnerships between well-\\nestablished industry peers and new market entrants pose a substantial risk to adidas. This could lead to \\nharmful competitive behavior, such as sustained periods of discounting in the marketplace or intense \\nbidding for promotion partnerships. Failure to recognize and respond to consolidation in the retail industry \\ncould lead to increased dependency on particular retail partners, reduced bargaining power, and, \\nconsequently, considerable margin erosion. Sustained pricing pressure in key markets, amplified by \\nelevated inventory levels (still relevant for the US marketplace), could threaten the company’s financial \\nperformance and the competitiveness of our brands. Aggressive competitive practices could also drive \\nincreases in marketing costs and market share losses, thus hurting the company’s profitability and \\nmarket position. The inability to adjust our distribution strategy in a timely manner to a changing retail \\nindustry, which is experiencing continuous substitution of physical retail stores by digital commerce \\nplatforms as well as increasing connectivity between physical and digital retail, could result in sales and \\nprofit shortfalls. A decline in the attractiveness of particular shopping locations such as shopping malls \\ncould lead to sales shortfalls in our customers’ and our own stores, higher inventory in the marketplace, \\nincreased clearance activity, and margin pressure.  \\nTo mitigate these risks, we continuously monitor and analyze information on our competitors and markets \\nin order to be able to anticipate unfavorable changes in the competitive environment rather than merely \\nreacting to such changes. This enables us to proactively adjust our marketing and sales activities (e.g., \\nproduct launches or selective pricing adjustments) when needed. We also continuously and closely \\nmonitor numerous indicators (e.g., order placement, sell-through rates at the point of sale, average \\nselling prices, discounts, store traffic) that help us identify changes in the retail environment and quickly \\ntake appropriate action such as closing or remodeling our own stores. We constantly adjust our \\nsegmentation strategies to ensure that the right product is sold at the right point of sale at an appropriate \\nprice. Continuous investment in research and development ensures that we remain innovative and distinct \\nfrom competitors. We also pursue a strategy of entering into long-term agreements with key promotion \\npartners. In addition, our product and communication initiatives are designed to increase brand desire, \\ndrive market share growth, and strengthen our brand’s market position. \\nRisks related to tax and customs regulations \\nNumerous laws and regulations regarding customs and taxes as well as changes in such laws and \\nregulations affect the company’s business practices worldwide. Non-compliance with regulations \\nconcerning product imports (including calculation of customs values), intercompany transactions, or \\nincome taxes could lead to substantial financial penalties and additional costs as well as negative media \\ncoverage and therefore reputational damage, for example in case of understatements or underpayments \\nof corporate income taxes or customs duties. Changes in regulations regarding customs and taxes may \\nalso have a substantial impact on the company’s sourcing costs or income taxes. Therefore, we also create \\nprovisions in accordance with the relevant accounting regulations to account for potential disputes with \\ncustoms or tax authorities. Due to the current geopolitical situation, we assume in individual cases \\nincreasingly aggressive positions taken by tax and customs authorities in audits, which could increase the \\npotential impact of such risks and the likelihood that they materialize. In 2021, the ‘OECD/G20 Inclusive \\nFramework on Base Erosion and Profit Shifting’ agreed on a two-pillar solution to address the tax\\n \\nchallenges arising from the digitalization of the economy. Pillar 2, which includes the introduction of global \\nminimum tax, could lead to higher-than-planned income tax expenses from 2024 onwards.  \\nWe seek to manage tax and customs risks in a balanced way that bears an appropriate relationship to the \\noperating structure, commercial and economic substance, and other business risks. To proactively \\nmanage such risks, we constantly seek expert advice from specialized independent law and tax advisory \\nfirms in areas such as process design, transaction advisory, compliance, and tax or customs audits. \\nProcesses are in place requiring that attention is regularly directed to potential areas of tax or customs \\nrisk (e.g., a quarterly tax risk questionnaire) and the corporate tax and customs teams are involved in \\ncritical business transactions. Compliance with global tax and customs policies and controls is monitored \\nby the Corporate Tax and Customs teams, internal controls experts and the Internal Audit department. We \\nclosely monitor changes in legislation to properly adopt regulatory requirements regarding customs and \\ntaxes; apply any available and applicable guidance from tax authorities and organizations such as the \\nOECD, the World Customs Organization, and the World Trade Organization; and seek guidance from \\nindividual authorities, as appropriate, which may include requesting tax rulings from a tax authority. In \\naddition, our internal legal, customs, and tax teams advise our operational management teams to ensure \\nappropriate and compliant business practices. Our specialized staff receive adequate training for their role \\nand non-tax, or non-customs staff are made aware of potential tax and customs matters relevant to their \\nroles. Furthermore, we work closely with customs authorities and governments worldwide to make sure \\nwe adhere to customs and trade regulations at import and export to ensure the availability and obtain the \\nrequired clearance of products to fulfill sales demand. ► SEE SUSTAINABILITY  \\nRisks related to impairment of goodwill \\nOur balance sheet carries book values in goodwill. Deterioration in the business performance, and \\nparticularly in future business prospects, as well as significant exchange rate fluctuations could require \\ncorrections of the book values by incurring impairment charges. In addition, increases in market interest \\nrates could trigger increases in discount rates used in our impairment test for goodwill and require \\nimpairment charges. An impairment charge would be a purely accounting, non-cash effect impacting the \\ncompany’s operating result. ► SEE NOTE 11 \\nPersonnel risks \\nAchieving the company’s strategic and financial objectives is highly dependent on our employees and their \\ntalents. In this respect, strong leadership and a performance-enhancing culture are critical to the \\ncompany’s success. Therefore, ineffective leadership as well as the failure to install and maintain a \\nperformance-oriented culture that fosters ‘Diversity, Equity, and Inclusion’ (‘DEI’) and strong employee \\nengagement amongst our workforce could substantially impede our ability to achieve our goals. An \\nineffective, unbalanced, or insufficient allocation of resources to business activities as well as improper \\nplanning and untimely execution of reorganization and transformation initiatives may reduce employee \\nengagement, cause business disruption and inefficiencies, and may negatively affect business \\nperformance. In addition, global competition for highly qualified personnel remains fierce. As a result, the \\nloss of key personnel in strategic positions and the inability to identify, recruit, and retain highly qualified \\nand skilled talent who best meet the specific needs of our company pose risks to our business \\nperformance.  \\nWe are taking various measures to ensure that we maintain a culture that fosters ‘DEI.’ Through several \\nspecialized programs, ‘DEI’ is embedded into our recruitment processes. Our ‘Global DEI Council’ drives \\nthe increase of representation, retention, and advancement of diverse talents within our global workforce. \\nFurthermore, our workforce takes part in ‘DEI’ learning programs. To ensure effective leadership across \\nthe company we offer a portfolio of leadership development experiences designed for every level of \\nmanagement across all markets and functions. To optimize staffing levels and resource allocation (i.e., \\nhaving the right people with the right skillsets in the right roles at the right time), we adjust resource\\n \\nallocation where required to reflect developments in business performance, the economic environment, \\nand our company’s strategic priorities. Organizational transformations and reorganizations are supported \\nby change activations with our leadership teams and organizational design consultancy. We continuously \\ninvest in improving employer branding activities, and our global recruiting organization constantly \\nenhances our internal and external recruiting services and capabilities. Our global succession \\nmanagement helps create internal talent pipelines for critical leadership positions and therefore reduces \\nsuccession risk. \\nIT and cybersecurity risks \\nTheft, leakage, corruption, or unavailability of critical information (e.g., consumer data, employee data, \\nproduct data) and systems could lead to reputational damage, regulatory penalties, or the inability to \\nperform key business processes. Key business processes, including product marketing, order \\nmanagement, warehouse management, invoice processing, customer support, and financial reporting, are \\nall dependent on IT systems. Significant outages, application failures, or cybersecurity threats to our \\ninfrastructure, or that of our business partners, could therefore result in reputational damage, regulatory \\npenalties, or cause considerable business disruption or impact to business-critical data. \\nTo mitigate these risks, our Information Security organization proactively drives system preventive \\nmaintenance, service continuity planning, adherence to Information Security policies (aligned with the \\nNIST 800-53 framework), and continuous execution of a comprehensive information security program \\naligned with a zero-trust strategy. Information security architecture design, application security, \\ngovernance, data security, employee awareness programs, and a 24x7 incident response help us to \\nadequately protect the company. We have also secured limited insurance coverage for damage resulting \\nfrom cybersecurity incidents. \\nRisks related to media and stakeholder activities \\nAdverse or inaccurate media coverage on our products or business practices (including topics related to \\nsocial, environmental, and governance) as well as negative social media discussion may significantly harm \\nadidas’ reputation and brand image, lead to public misperception of the company’s business performance \\nand eventually result in a sales slowdown. Similarly, certain activities on the part of key stakeholders (e.g., \\nnon-governmental organizations, governmental institutions) could cause reputational damage, distract top \\nmanagement, and disrupt business activities. Despite the termination of the adidas Yeezy partnership in \\n2022, due to its former size and relevance, related stakeholder reactions and negative media coverage \\ncould still be possible.  \\nTo mitigate these risks, we pursue proactive, open communication and engagement with key stakeholders \\n(e.g., consumers, media, the financial community, non-governmental organizations, governmental \\ninstitutions) on a continuous basis. In addition, we have established clear crisis communication processes \\nto ensure a quick and effective response to adverse developments. We have also strengthened social \\nmedia capabilities and created various digital newsrooms around the globe that enable continuous \\nmonitoring of social media content related to the company’s products and activities and allow early \\nmanagement of potentially damaging social media discussion. On a case-by-case basis, we seek external \\nadvice from experts in communication and stakeholder management. \\nBusiness partner risks \\nadidas interacts and enters into partnerships with various third parties, such as athletes, creative \\npartners, innovation partners, retail partners, or suppliers of goods or services. As a result, the company \\nis exposed to a multitude of business partner risks. \\nWe work with strategic partners in various areas of our business (e.g., product creation, manufacturing, \\nresearch, and development) or distributors in a few selected markets whose approach might differ from\\n \\nour own business practices and standards, which could also negatively impact the company’s business \\nperformance and reputation. Similarly, failure to maintain strong relationships with our partners could \\nnegatively impact the company’s sales and profitability. Risks may also arise from a dependency on \\nparticular partners. For example, the overdependency on a supplier or customer increases the company’s \\nvulnerability to delivery and sales shortfalls, respectively, and could lead to significant margin pressure. \\nBusiness partner default (including insolvency) or other disruptive events such as strikes may negatively \\naffect the company’s business activities and result in additional costs and liabilities as well as lower sales \\nfor the company. Unethical business practices or improper behavior on the part of business partners could \\nhave a negative spillover effect on the company’s reputation, lead to higher costs or liabilities or even \\ndisrupt business activities.  \\nTo mitigate business partner risks, adidas has implemented various measures. For example, we generally \\ninclude clauses in contractual agreements with partners that allow us to suspend or even terminate our \\npartnership in case of improper or unethical conduct. In addition, we work with a broad portfolio of \\npromotion partners to reduce the dependency on the success and popularity of a few individual partners. \\nWe utilize a broad distribution strategy, which includes further expansion of our direct-to-consumer \\nbusiness to reduce the risk of overreliance on key customers. Specifically, no single customer accounted \\nfor more than 5% of the company’s sales in 2023. To reduce risk in the supply chain, we work with \\nsuppliers who demonstrate reliability, quality, and innovation. Furthermore, in order to minimize any \\npotential negative consequences such as a violation of our Workplace Standards by our suppliers, we \\nenforce strict control and inspection procedures at our suppliers and also demand adherence to social and \\nenvironmental standards throughout our supply chain. In addition, we have selectively bought insurance \\ncoverage for the risk of business interruptions caused by physical damage to suppliers’ premises. To \\nreduce supplier dependency, the company follows a strategy of diversification. In this context, adidas \\nworks with a broad network of suppliers in different countries and, for the vast majority of its products, \\ndoes not have a single-sourcing model. \\nCompliance risks \\nAs a globally operating company, adidas is subject to various laws and regulations. Non-compliance with \\nsuch laws and regulations could lead to penalties and fines and cause reputational damage. For example, \\nnon-compliance with laws and regulations concerning data protection and privacy, such as the EU General \\nData Protection Regulation (GDPR), may result in substantial fines. In addition, publication of failure to \\ncomply with data protection and privacy regulations could cause reputational damage and result in a loss \\nof consumer trust in our brands. We also face the risk that members of top management as well as our \\nemployees breach rules and standards that guide appropriate and responsible business behavior. This \\nincludes the risks of fraud, financial misstatements or manipulation, anti-competitive business practices, \\nbribery, corruption, discrimination, and harassment in the workplace. \\nOur Compliance Management System (CMS) helps us to prevent, detect, and adequately respond to these \\nrisks. Our Global Policy Manual provides a framework for basic work procedures and processes, and our \\nFair Play Code of Conduct stipulates that every employee and our business partners shall act ethically in \\ncompliance with the laws and regulations of the legal systems where they conduct company business. In \\naddition, our Regional Compliance Managers and Local Compliance Officers guide and advise our \\noperating managers regarding fraud and corruption topics. Furthermore, we utilize controls such as \\nsegregation of duties in IT systems and data analytics technology to prevent or detect fraudulent activities. \\nWe are also working with external partners and law firms to ensure we are informed about legal \\nrequirements across the globe, and we take appropriate action to ensure compliance. To mitigate the risk \\nof non-compliance with laws and regulations concerning data protection and privacy, we developed a \\nglobal privacy management framework that introduces the company’s privacy principles and provides \\nguidance for the use and deletion of personal information. This framework applies to all adidas businesses \\nworldwide and also sets our expectations of third-party business partners for managing personal\\n \\ninformation for or on behalf of adidas. Our Global Privacy Officer and the Global Privacy department drive \\nthe operational establishment of the framework and monitoring capabilities to track and report its \\nimplementation. During the implementation, they are continuously providing further implementation \\nguidance and training. \\nHazard risks \\nAs climate change intensifies, the likelihood and intensity of natural disasters such as storms, floods, \\ndroughts, pandemics, or heat waves increases, and so does adidas’ potential risk. In addition, our business \\nactivities could be impacted by port congestions, strikes, riots, armed conflicts, or terrorist attacks. All of \\nthe above could damage our offices, stores, or distribution centers or disrupt our operational processes \\n(e.g., sourcing, logistics) leading to loss of sales, higher cost, and a decrease in profitability. \\nTo manage and mitigate these risks, we continuously monitor potential threats and have implemented \\nbusiness continuity plans including but not limited to fallback solutions for transportation, dynamic \\ncapacity management of containers and carriers, and reallocation of production. We also maintain high \\nsafety standards in all our locations and have secured insurance coverage for property damage and \\nbusiness interruptions.  \\nLitigation risks \\nadidas may be involved in legal disputes and proceedings in different jurisdictions. For example, despite a \\nrigid internal clearance process, legal steps may be taken against adidas due to the company’s use of \\ncertain technologies or trademarks that are protected by a third party’s intellectual property rights. These \\nactions may result in, among others, the company having to stop using certain technologies or designs, \\nimposed royalty payment obligations, the withdrawal of products from certain markets, legal costs, \\nor reputational damage. In particular, in commercial disputes involving the company, third parties may \\nalso claim financial damages, including lost profits, as a result of an alleged breach of contract by the \\ncompany. \\nOur Legal team actively defends adidas’ intellectual property rights and regularly communicates with all \\nrelevant internal business partners to ensure that our products, including our designs and other \\ninnovations, are cleared and adequately protected prior to use. We retain specialized external counsel (and \\nother advisors, if needed) in case legal action is taken against the company. \\nProject risks \\nTo effectively support further business growth and improve efficiency, adidas continuously invests in new \\nprojects such as the creation, implementation, expansion, harmonization, or modernization of IT systems, \\ndistribution centers, or office buildings. Ineffective project management could delay the execution of \\ncritical projects and lead to higher expenditures. Inadequate project planning and controlling as well as \\nexecutional mistakes or ineffective change management could cause inefficiencies, delays, or business \\ndisruption, resulting in higher costs and sales shortfalls. Inappropriate project governance, prioritization, \\nand oversight of the project portfolio may lead to suboptimal resource allocation and undesired project \\nresults.  \\nWe manage projects utilizing reviews by project teams as well as project steering committees to evaluate \\nthe progress, quality, and costs of those projects on a regular basis. This approach allows early detection \\nof project risks and quick implementation of corrective action or timely cancelation of projects with a low \\nchance of success. To ensure true end-to-end management of key projects we have established a network \\nof program and project management departments across all main functions (i.e., Sales, Marketing, \\nOperations, Finance, IT, and Human Resources). We also work with external partners for project \\nmanagement support in areas where we do not have the required expertise or experience in-house.\\n \\nIllustration of Opportunities \\nIn this report, we illustrate financial and non-financial opportunities considered most relevant in 2024 and \\nbeyond. According to our assessment methodology, opportunities related to existing Yeezy inventory; \\nopportunities related to consumer demand and product offering; macroeconomic, sociopolitical, \\nregulatory, and currency opportunities; opportunities related to order and supply management; \\nopportunities related to the distribution strategy; and personnel opportunities are considered major. The \\nassessment is illustrated in the corporate opportunities overview table.\\u202f \\nCorporate opportunities overview    \\n         \\nOpportunity categories  Potential impact  \\nChange \\n(2022 rating)  Likelihood  \\nChange \\n(2022 rating) \\nOpportunities related to existing Yeezy inventory   Significant    30% – 50%  ↑ (15% – 30%) \\nOpportunities related to consumer demand and product offering   Significant    30% – 50%  ↑ (15% – 30%) \\nMacroeconomic, sociopolitical, regulatory, and currency \\nopportunities  Significant  ↑(High)  30% – 50%  ↑ (15% – 30%) \\nOpportunities related to order and supply management  Significant    15% – 30%  ↓ (30% – 50%) \\nOpportunities related to the distribution strategy   Significant    15% – 30%  ↓ (30% – 50%) \\nPersonnel opportunities  High  ↑(Medium)  15% – 30%   \\nOpportunities related to product engineering and manufacturing \\nprocesses  Significant    < 15%  ↓ (30% – 50%) \\nLitigation opportunities  Medium  not reported in \\n2022  30% – 50%  not reported in \\n2022 \\nOpportunities related to tax and customs regulations   Medium  ↓ (Significant)  15% – 30%  ↓ (50% – 85%) \\n \\nOpportunities related to existing Yeezy inventory \\nThe full-year 2024 guidance as outlined in this Annual Report assumes that adidas will sell the remaining \\nYeezy inventory at cost. In the event of a better-than-anticipated sale of the existing product, the \\ncompany’s top- and bottom-line development could be positively impacted by higher-than-planned sales \\nand margins. \\nOpportunities related to consumer demand and product offering \\nWell-executed campaigns and marketing initiatives could increase brand desire and consumer appeal, \\nwhich may drive full-price sell-through and result in higher-than-expected sales and profit. In addition, \\noutstanding competitive performance of promotion partners such as individual athletes, club teams, or \\nnational teams may further increase their popularity among consumers. As a result, adidas may generate \\nhigher sales of signature footwear or licensed apparel and accessories. We believe that our continued \\nfocus on product innovation and the ability to fully commercialize such innovation through an attractive \\nproduct offering that resonates with consumers and considers global as well as local trends could provide \\nfurther upside potential both in terms of sales and profit. In that respect, we see untapped potential \\nparticularly for our Lifestyle key franchises as well as our basketball, running, and training business.   \\nMacroeconomic, sociopolitical, regulatory, and currency opportunities \\nPositive macroeconomic developments could strengthen consumer sentiment and purchasing power, for \\nexample, if inflation rates declined at a faster pace than anticipated. Favorable exchange rate \\ndevelopments can potentially have a positive impact on the company’s financial results. Translation effects \\nfrom the conversion of non-euro-denominated results into our company’s functional currency, the euro, \\nmight also positively impact our company’s financial performance. Legislative and regulatory changes \\nsuch as the elimination of trade barriers due to free trade agreements can create cost savings or \\npotentially open up new channels of distribution and, as a result, positively impact profitability in the mid- \\nto long term.\\n \\nOpportunities related to order and supply management \\nThe introduction of a more flexible order management, supported by our continued investment in our IT \\nsystems, could effectively reduce inventory risk and drive incremental net sales and higher margins. This \\ncould be achieved by reducing initial order sizes while ensuring continuous reproduction and \\nreplenishment of products. In this context, data and analytics play a crucial role in enabling fact-based \\ndecision-making. Therefore, we have a dedicated Data and Analytics team to support business decision-\\nmaking by leveraging the power of data. Expanded nearshoring capabilities could further reduce lead \\ntimes to ensure that product demand can be fulfilled at all times and to respond more quickly to the latest \\ntrends in our industry. \\nOpportunities related to the distribution strategy \\nOur wholesale channel, where we clearly focus on partners that provide consumers with the best shopping \\nexperience and customer service, could generate higher-than-expected sales and profit. In addition, \\norganic growth of our business in Latin America, Asia-Pacific, and Emerging Markets could provide further \\nupside potential in terms of sales and profit. \\nPersonnel opportunities  \\nCreating and managing a performance-oriented culture that fosters ‘Diversity, Equity, and Inclusion’ as \\nwell as leadership accountability and clear values in the workplace could lead to increased diversity of \\nthought, increased creativity and innovation, and higher employee satisfaction and engagement. This may \\npositively impact the company’s financial performance. A workforce that includes diverse talent and \\nreflects the diversity of our customers and consumers helps us better serve the communities we work in \\nand strengthens brand reputation among our consumers, which could potentially create a competitive \\nadvantage and positively impact top- and bottom-line performance.  \\nOpportunities related to product engineering and manufacturing processes \\nWe constantly monitor which of our product features are perceived as most relevant by our consumers. \\nAccording to this, a further optimization of our product design could result in higher net sales and margins \\nby consistently focusing on product features that add the most value to our consumers, while increasing \\nthe cost efficiency of less relevant components or reducing complexity in product design. By working \\nclosely with our suppliers, we also see respective potential for more efficient manufacturing processes. \\nLitigation opportunities \\nOur Legal department is constantly monitoring the market for potential infringements of our own rights by \\nthird parties, e.g., related to trademarks, patents, or other intellectual property rights. In the event that a \\nthird party breaches our contracts or infringes our rights, we try to enforce and protect our legal positions \\nand, to the extent required, retain specialized external counsel. This may result in, among others, the \\ncompany demanding contractual penalties or other financial damages payments from third parties.  \\nOpportunities related to tax and customs regulations \\nThe potential release of valuation allowances on deferred tax assets or the release of tax risk reserves \\n(e.g., relating to transactions or internal reorganizations in prior years) could positively impact income tax \\nexpense. In addition, changes in local tax regulations may offer the company the option to realize benefits \\nthat could result in a reduction of tax expenses and higher net income. Furthermore, we see potential in \\nreducing the total amount of customs duties in the long term by increasing our sourcing from \\nmanufacturing partners in countries with more favorable customs treaties.\\n \\nIllustration of climate-related risks and opportunities   \\nIn 2023, we evolved our climate risk and opportunity assessment by using climate scenario analysis as \\nwell as different time horizons which include short-, medium-, and long-term (up to 2050) timeframes. \\nClimate scenario analysis confirmed our previous findings that the overall global greenhouse gas emission \\nlevels will be an important factor influencing the magnitude of risks and opportunities. Moreover, these \\nrisks and opportunities will gain relevance for our business, especially in the medium to long term.   \\nWe have categorized climate-related risks and opportunities following the ‘Task Force on Climate-Related \\nFinancial Disclosures’ (‘TCFD’) framework. Given the different time horizons and complexity of climate-\\nrelated risks and opportunities, the overview is presented separately from the illustration of risks and \\nopportunities in this Risk and Opportunity Report.\\u202fWe do not expect this to result in any additional major \\nrisks and opportunities for the forecast for the 2024 fiscal year compared to the explanations given in the \\nRisk and Opportunity Report. \\nPhysical risks  \\n─ Physical damage and business disruption in our own or our business partners’ properties: Extreme \\nweather events and changes in the overall weather patterns could increasingly lead to damages to \\nowned or business partners’ properties (such as office buildings, distribution centers, and retail \\nstores) and inventories, as well as business disruptions. In turn, these could result in lower revenues \\nand higher insurance and operating costs. \\n─ Changing cost and availability of materials: Changes in weather patterns could negatively affect \\navailability of materials, leading to higher operating costs.    \\n \\n─ Harm to and lower productivity of our own and business partners’ workforce and decreased \\nparticipation in sports: An increase in average temperatures and heat waves could lead to harm and \\nreduced productivity of our own and our business partners’ workforce. Changes in weather patterns \\ncould negatively influence consumers’ participation in sports, which could lead to decreased consumer \\ndemand.      \\n \\nTransition risks (policy and legal, technology, market and reputation risks)  \\n─ Energy- and carbon-related prices: Higher prices for energy as well as direct and indirect taxation \\nlinked to greenhouse gas emissions could negatively impact our business partners and lead to higher \\noperating costs.  \\n─ Exposure to carbon-related regulation and litigation: An increase in regulation (especially product-\\nrelated), could lead to increased reporting requirements, as well as the inability to market certain \\nproducts in specific markets. An increase in regulation could also lead to a higher exposure to \\nlitigation for non-compliance.   \\n─ Cost of low-carbon technologies: High costs for low-carbon technologies could impact our business \\npartners’ ability to lower their emissions, resulting in higher operating costs and potential non-\\ncompliance with regulation limiting greenhouse gas emissions.   \\n─ Stakeholder scrutiny: A change in stakeholders’ expectations could lead to reduced capital availability \\nand market valuation due to concerns about our resilience to climate change impacts.\\n \\nClimate-related opportunities  \\n─ Development of low-emission products and services: The development of low-emission products and \\nservices could address specific consumer preferences and lead to a competitive advantage and \\nincreased consumer demand.\\u202f  \\n─ Resource efficiency and increased use of renewable energy sources: The development and use of \\nmore efficient production and distribution processes, as well as the increased share of renewable \\nenergy (mainly by our business partners), could lead to lower greenhouse gas emissions and improved \\nclimate change resilience.  \\n─ Improved stakeholder perception: A strong environmental performance, with lower greenhouse gas \\nemissions and improved climate change resilience, could lead to increased capital availability (green \\nfinancing) and market evaluation, as well as increased employer attractiveness.\\n \\nManagement Assessment of Performance, Risks and \\nOpportunities, and Outlook \\nAssessment of performance versus targets \\nWe communicate our financial targets on an annual basis. We also provide updates throughout the year as \\nappropriate. In the transition year 2023, adidas made operational and financial progress and performed \\nsignificantly better than initially expected. The overall business environment continued to be characterized \\nby geopolitical tensions, macroeconomic challenges, and high inventory levels. As a result of our decisive \\nactions, we were able to significantly reduce inventory levels during the year. Our successful initiatives \\nincluded limiting the sell-in to the wholesale channel, which negatively impacted our top-line \\ndevelopment. At the same time, the underlying business performed above our expectations. In addition, \\nthe company also benefited from the sale of parts of the remaining Yeezy inventory. Consequently, we \\nwere able to upgrade our guidance twice in the course of the year. Ultimately, our 2023 financial results \\nsignificantly exceeded our latest guidance from October on both the top and bottom line. \\n► SEE\\u202fECONOMIC \\u202fAND\\u202fSECTOR\\u202fDEVELOPMENT  \\nCompany targets versus actual key metrics    \\n             \\n  \\n2022 \\nResults  \\n2023 \\nInitial targets1  \\n2023 \\nUpdated targets2  \\n2023 \\nLatest targets3  \\n2023 \\nResults  \\n2024 \\nOutlook \\nCurrency-neutral \\nnet sales development  1%  \\nto decline at a \\nhigh-single-digit \\nrate \\n \\nto decline at a \\nmid-single-digit \\nrate \\n \\nto decline at a \\nlow-single-digit \\nrate \\n 0%  \\nto increase at a \\nmid-single-digit \\nrate \\nOperating margin/ \\noperating profit/loss  3.0%  operating loss of \\n€ 700 million  operating loss of \\n€ 450 million  operating loss of \\n€ 100 million  operating profit of \\n€ 268 million  \\noperating profit of \\naround \\n€ 500 million \\nAverage operating \\nworking capital \\nin % of net sales \\n 24.0%  \\nto reach a level of \\nbetween \\n25% and 26% \\n \\nto reach a level of \\nbetween \\n25% and 26% \\n \\nto reach a level of \\nbetween \\n25% and 26% \\n 25.7%  \\nto reach a level of \\nbetween \\n23% and 24% \\nCapital expenditure4  € 695 \\nmillion  \\nto reach a level of \\naround \\n€ 600 million \\n \\nto reach a level of \\naround \\n€ 600 million \\n \\nto reach a level of \\naround \\n€ 600 million \\n € 504 million  \\nto reach a level of \\naround \\n€ 600 million \\n             \\n1 As published on February 9, 2023. For average working capital and capital expenditure as of March 8, 2023. \\n2 As published on July 24, 2023. \\n3 As published on October 17, 2023. \\n4 Excluding acquisitions and leases. \\nIn 2023, revenues were flat on a currency-neutral basis. This was significantly better than our initial \\nexpectations (February 2023: high-single-digit decline) and also ahead of our latest guidance (October \\n2023: low-single-digit decline). The development reflects strong double-digit growth in Latin America. \\nRevenues in both Greater China and Asia-Pacific grew at high-single-digit rates. Currency-neutral sales in \\nEMEA were flat. North America recorded a double-digit decline as this market was particularly impacted \\nby the company’s conservative sell-in strategy to reduce high inventory levels. The discontinuation of the \\nYeezy business represented a drag of around € 500 million on the year-over-year comparison during 2023. \\nThe sale of parts of the remaining Yeezy product positively impacted net sales in the amount of around \\n€ 750 million. This compares to a total of more than € 1,200 million of Yeezy revenues in 2022. \\nOur operating profit reached € 268 million in 2023, ahead of our latest guidance, provided in October, of an \\noperating loss of € 100 million. Compared to our initial guidance provided at the beginning of 2023 \\n(operating loss of € 700 million), the reported operating profit of € 268 million is around € 1,000 million \\nhigher than initially expected. This outperformance was partly driven by a better operational business. In \\naddition, the company’s decision to only write off a small portion of its remaining Yeezy inventory and sell a \\nsignificant part of it in 2023 also drove the better-than-expected operating profit development last year. \\n► SEE\\u202fINCOME\\u202fSTATEMENT\\n \\nAverage operating working capital as a percentage of sales ended the year 2023 at 25.7%. This was in line \\nwith the guided level of between 25% and 26% and represents a year-over-year increase of 1.6 percentage \\npoints. This reflects the slight increase in average operating working capital against the backdrop of lower \\nnet sales in 2023 compared to 2022. Capital expenditure decreased 27% to € 504 million in 2023, below \\nour guidance of a level of around € 600 million. More than 75% of these investments were spent on \\ncontrolled space initiatives and IT activities. Controlled space initiatives comprise investments in new or \\nremodeled own retail or franchise stores as well as shop-in-shop presentations of our products in our \\ncustomers’ stores. ► SEE\\u202fSTATEMENT \\u202fOF\\u202fFINANCIAL \\u202fPOSITION \\u202fAND\\u202fSTATEMENT \\u202fOF\\u202fCASH\\u202fFLOWS  \\nBeyond our financial performance, we also actively monitor other KPIs. These other KPIs include, among \\nothers, ⌐ our sustainable article offering and the share of women in management positions. In 2023, with \\nalmost eight out of ten of our articles being sustainable, meaning that they are – to a significant degree – \\nmade with environmentally preferred materials, we exceeded the planned annual milestone for 2023. With \\n40% female representation in management positions in 2023, we decided to establish a new goal and \\ncommitted to achieving a level of 50% by 2033 (previously: to increase to more than 40% by 2025). ¬ \\n► SEE\\u202fINTERNAL \\u202fMANAGEMENT \\u202fSYSTEM  \\nAssessment of overall risks and opportunities \\nOur Risk Management team aggregates all risks and opportunities identified through the half-yearly risk \\nand opportunity assessment process to determine the company’s risk and opportunity portfolio (i.e., the \\ncompany’s aggregated risk position). Results from this process are analyzed and reported to the Executive \\nBoard accordingly. The Executive Board discusses and assesses risks and opportunities on a regular basis \\nand takes into account the relationship between the risk and opportunity portfolio (i.e., the company’s \\naggregated risk position) and risk appetite as well as risk capacity in its decision-making. Compared to the \\nprior year, our assessment of certain risks and opportunities has changed in terms of likelihood of \\noccurrence and/or potential financial impact. Our risk and opportunity aggregation using a Monte Carlo \\nsimulation determined that the company’s aggregated risk position does not exceed the company’s risk \\ncapacity threshold with a likelihood of at least 99%. Therefore, we do not foresee any material jeopardy to \\nthe viability of the company as a going concern. ► SEE RISK AND OPPORTUNITY REPORT  \\nAssessment of financial outlook \\nIn 2024, we expect macroeconomic challenges and geopolitical tensions to persist. This may negatively \\naffect consumer sentiment and discretionary spending power. In North America, we will continue our \\ninitiatives to reduce high inventory levels, which will weigh on our sales and profitability during the first \\nhalf of the year. In addition, unfavorable currency effects are projected to adversely impact both reported \\nrevenues and the gross margin development in 2024. The assumed sale of the remaining Yeezy inventory \\nat cost with no operating profit contribution is also expected to weigh on the company’s operational and \\nfinancial performance versus the prior year. At the same time, the global sporting goods industry is set to \\nbenefit from major sports events in 2024.  \\nAgainst this backdrop, we plan to return to top-line growth by scaling successful franchises, introducing \\nnew ones, and leveraging our significantly better, broader, and deeper product range. Improved retailer \\nrelationships, more impactful marketing initiatives, and our activities around the major sports events will \\nalso contribute to the sales increase. As a result, we expect currency-neutral sales to grow at a mid-\\nsingle-digit rate in 2024. Our operating profit is currently expected to reach a level of around € 500 million\\n \\nin 2024. While we will continue to increase our marketing and sales investments, the top-line growth and \\nan improving gross margin are projected to drive the bottom-line development in 2024. ► SEE\\u202fOUTLOOK  \\nWe believe our outlook for 2024 realistically describes the underlying development of the company. \\nHowever, the outlook for 2024 as outlined in this report is subject to change. Ongoing uncertainties \\nregarding macroeconomic challenges, the impact from geopolitical conflicts, and the development of \\nconsumer sentiment as well as potential supply-chain disruptions represent risks to the achievement of \\nour stated financial goals and aspirations. No other material event between the end of 2023 and the \\npublication of this report has altered our view. ► SEE\\u202fOUTLOOK\", path=None, url=None, mimetype=None),\n",
       " 'image_resource': None,\n",
       " 'audio_resource': None,\n",
       " 'video_resource': None,\n",
       " 'text_template': '{metadata_str}\\n\\n{content}'}"
      ]
     },
     "execution_count": 180,
     "metadata": {},
     "output_type": "execute_result"
    }
   ],
   "source": [
    "vars(report)"
   ]
  },
  {
   "cell_type": "markdown",
   "metadata": {},
   "source": [
    "### Chunk documents"
   ]
  },
  {
   "cell_type": "markdown",
   "metadata": {},
   "source": [
    "In RAG systems, chunking refers to the process of breaking a large document into smaller, manageable pieces or \"chunks\" before storing and processing them. These chunks are then indexed and used during the retrieval phase to provide relevant information to the LLM.\n",
    "\n",
    "Chunking is essential in RAG for several reasons:\n",
    "- **Efficient Retrieval**: By dividing large documents into smaller chunks, the system can quickly identify and retrieve only the most relevant pieces of information, rather than processing an entire document.\n",
    "- **Improved Accuracy**: Smaller chunks help preserve context and ensure that the retrieved information is more focused and relevant to the user's query. This reduces the risk of irrelevant or inaccurate responses.\n",
    "- **Token Limits**: LLMs have a maximum number of tokens that they can process at one time when generating responses. This is referred to as the model's context window size. Chunking documents into smaller parts allows to respect this context window size.\n",
    "\n",
    "We use the `SentenceSplitter` class which splits the document into chunks with a preference for complete sentences. "
   ]
  },
  {
   "cell_type": "code",
   "execution_count": 183,
   "metadata": {},
   "outputs": [],
   "source": [
    "from llama_index.core.node_parser import SentenceSplitter\n",
    "\n",
    "splitter = SentenceSplitter(\n",
    "    chunk_size=256, \n",
    "    chunk_overlap=20)\n",
    "\n",
    "chunks = splitter.get_nodes_from_documents([report])"
   ]
  },
  {
   "cell_type": "code",
   "execution_count": 184,
   "metadata": {},
   "outputs": [
    {
     "data": {
      "text/plain": [
       "67"
      ]
     },
     "execution_count": 184,
     "metadata": {},
     "output_type": "execute_result"
    }
   ],
   "source": [
    "len(chunks)"
   ]
  },
  {
   "cell_type": "markdown",
   "metadata": {},
   "source": [
    "The annual report has been split into 67 chunks whereas each chunk has at most 256 tokens."
   ]
  },
  {
   "cell_type": "code",
   "execution_count": 187,
   "metadata": {},
   "outputs": [
    {
     "name": "stdout",
     "output_type": "stream",
     "text": [
      "('Node 0: Risk and Opportunity Report \\n'\n",
      " 'In order to remain competitive and ensure sustainable success, adidas c ...')\n",
      "('Node 1: Risk and opportunity management system \\n'\n",
      " 'The Executive Board has overall responsibility for establish ...')\n",
      "('Node 2: Our risk and opportunity management system is based on frameworks '\n",
      " 'for enterprise risk management \\n'\n",
      " 'an ...')\n"
     ]
    }
   ],
   "source": [
    "import pprint\n",
    "\n",
    "for index, node in enumerate(chunks[:3]):\n",
    "    pprint.pp(f\"Node {index}: {node.text[:100]} ...\")"
   ]
  },
  {
   "cell_type": "markdown",
   "metadata": {},
   "source": [
    "### Vectorize chunks"
   ]
  },
  {
   "cell_type": "markdown",
   "metadata": {},
   "source": [
    "After the documents have been chunked into smaller subsets, the next step is to translate them into vector representations. For this purpose we use an embedding model which converts the chunks' context into numerical vectors (see [second part of the course](day2_nlp.ipynb) for more details on embeddings)."
   ]
  },
  {
   "cell_type": "markdown",
   "metadata": {},
   "source": [
    "We use `sentence-transformer` as embedding model for the vectorization of the annual report chunks. The model version we are using has a context window size of 256 tokens which is in line with the token size of the chunks that we have created in the step before. The model is hosted on [HuggingFace](https://huggingface.co/sentence-transformers/all-MiniLM-L6-v2) and we use the free inference API offered by HuggingFace."
   ]
  },
  {
   "cell_type": "code",
   "execution_count": null,
   "metadata": {},
   "outputs": [],
   "source": [
    "from langchain_huggingface import HuggingFaceEndpointEmbeddings\n",
    "\n",
    "embed_model = HuggingFaceEndpointEmbeddings(\n",
    "    model=\"sentence-transformers/all-MiniLM-L6-v2\",\n",
    "    huggingfacehub_api_token=huggingface_api_key,\n",
    ")"
   ]
  },
  {
   "cell_type": "code",
   "execution_count": 195,
   "metadata": {},
   "outputs": [],
   "source": [
    "embedding = embed_model.embed_documents(texts=[chunks[0].text])"
   ]
  },
  {
   "cell_type": "code",
   "execution_count": 200,
   "metadata": {},
   "outputs": [
    {
     "data": {
      "text/plain": [
       "384"
      ]
     },
     "execution_count": 200,
     "metadata": {},
     "output_type": "execute_result"
    }
   ],
   "source": [
    "len(embedding[0])"
   ]
  },
  {
   "cell_type": "markdown",
   "metadata": {},
   "source": [
    "The embedding model translates text (with at most 256 tokens) into a 1x384 vector."
   ]
  },
  {
   "cell_type": "markdown",
   "metadata": {},
   "source": [
    "Typically, one organizes a collection of embeddings within an index that is optimized for similarity search. We use [Faiss](https://faiss.ai/index.html), a library for efficient similarity search and clustering of dense vectors developed by Meta AI. Faiss is particularly well-suited for large datasets and high-dimensional vectors, making it a popular choice for embedding-based search tasks. During query time, the index uses Faiss to query for the top k embeddings, and returns the corresponding indices along with the corresponding chunks which serve as context information for the LLM to correctly answer a user query. \n",
    "\n",
    "We set up a `IndexFlatL2` which means the index stores the full vectors (no compression) and performs exhaustive search using Euclidean distance (L2). We save the generated Faiss index in memory using `InMemoryDocstore`."
   ]
  },
  {
   "cell_type": "code",
   "execution_count": 209,
   "metadata": {},
   "outputs": [],
   "source": [
    "import faiss\n",
    "from langchain_community.docstore.in_memory import InMemoryDocstore\n",
    "from langchain_community.vectorstores import FAISS\n",
    "from util import convert_llama_to_langchain\n",
    "\n",
    "index = faiss.IndexFlatL2(len(embed_model.embed_query(\"hello world\")))\n",
    "\n",
    "vector_store = FAISS(\n",
    "    embedding_function=embed_model,\n",
    "    index=index,\n",
    "    docstore=InMemoryDocstore(),\n",
    "    index_to_docstore_id={},\n",
    ")"
   ]
  },
  {
   "cell_type": "code",
   "execution_count": 210,
   "metadata": {},
   "outputs": [
    {
     "data": {
      "text/plain": [
       "['755d1e5c-ce8e-45dc-a0bb-6724e5ada69e',\n",
       " 'b212b6ad-d498-4fb2-b597-9319c88f9e12',\n",
       " 'edb5740e-a3db-4275-a405-4c9cd385753a',\n",
       " 'a71346b4-9dc4-4f41-8349-634951c25f0f',\n",
       " 'b0d5f278-9457-4476-b179-910974d65702',\n",
       " '051cb84a-047e-41c2-98ec-fcaefdfdbfa9',\n",
       " 'bd4ad724-b1bc-4371-a3f9-e598a2d68e03',\n",
       " '2aaf6f52-6fac-4992-82c3-d5af905c6143',\n",
       " '087c4f33-6af1-4daf-b69f-a736fe7036ef',\n",
       " 'a1e2826e-695e-4ee6-912b-21c51e9afe40',\n",
       " '3477c727-8de9-4f27-9289-dda4dd694b18',\n",
       " 'fdc7622b-9d9c-4588-ba83-dfb7aa44a461',\n",
       " '6bb37394-7b59-4de3-8232-0735ee795070',\n",
       " 'cfdeb384-004f-476a-8c81-95f468961dc3',\n",
       " 'a4c1aa44-bed4-4fce-9cac-6f7bb6e31c81',\n",
       " '2a6f7d85-5fe2-4991-b41c-ac48d514ff9d',\n",
       " '343e9b7e-3312-4ac5-9de2-b4b20268854e',\n",
       " '26441276-0b67-4b68-93e9-05765a570a7f',\n",
       " '53c1b069-7da2-42bb-b457-69a92ed0df11',\n",
       " '2514ba7c-2d54-45ca-b809-4cc5906e3d9f',\n",
       " '59a21e13-121d-4f9c-be98-0d86460ec3ba',\n",
       " '7b7f2fd9-f440-48dd-9c54-b74173e5d36e',\n",
       " '321cd75b-10de-4b99-9a9c-66cf423f171d',\n",
       " '85c354d1-b692-40dc-ba32-78dceab886e2',\n",
       " '8916e5d3-01db-4a1b-85dc-136cdba61bee',\n",
       " '1c982888-794f-48ac-a11d-064d091b6029',\n",
       " '3dcda3c4-1c51-4d65-898a-22e9c453fd53',\n",
       " '3d5c096e-aacf-4017-bc08-ccbaa70d4961',\n",
       " 'dd050caa-65ed-4bb5-8130-92a241e52bcc',\n",
       " 'a090c56d-5c22-4d0b-80f9-6648119fc984',\n",
       " 'a47bb742-3f8a-459e-94eb-679b5c199d32',\n",
       " '0603dbc6-4426-4cd4-b495-e8f926f16f8d',\n",
       " '4138b76f-4a84-4370-b0d6-316475dd3f6e',\n",
       " 'df453d53-a9c2-4946-b0b9-29959184ddfd',\n",
       " '04c701d7-b326-4efb-8af3-21ae29a6e46f',\n",
       " 'f143200b-0fbe-4b71-957b-7e3e25a9b324',\n",
       " '237e18ff-7751-4a14-bc0d-c957e62f7538',\n",
       " 'a9ca5336-d46c-4659-90c2-f1f1ab8732f0',\n",
       " 'a103f37e-1f1d-4f79-a50c-8746903ba872',\n",
       " '85eeb320-6b65-4ac3-b04c-d69d1d14de9e',\n",
       " 'dd96ed1a-70ca-4546-8ead-3d785e5df701',\n",
       " 'b4ef66c0-e15a-4cf8-9058-8da3bb04505c',\n",
       " 'b670918d-5d34-42f5-8552-e572bf8cceef',\n",
       " 'e0d1ee05-7e71-48e6-9d7e-10f71c85b6cb',\n",
       " 'b8a8b09e-3b14-457f-a11b-e0fa9a9c4574',\n",
       " '038c91da-6fac-4b60-8903-0d8697379a64',\n",
       " 'a7a062a9-1dc8-4658-80a8-c8e923b79004',\n",
       " '049eb0b2-6480-4f92-92b0-ff7b80a83d21',\n",
       " '3fcf90e4-5f72-4b86-acd0-6a159c21fb65',\n",
       " 'cc7f53d4-bb5f-4830-b742-b6a65755b908',\n",
       " '417ed068-16b7-408d-82fd-c5e382a96abb',\n",
       " 'a4107674-1152-4d75-9950-c53aec1c9d1f',\n",
       " '84af4694-a167-4d50-9b36-3abdbb6cde33',\n",
       " 'de508d4a-7326-49c7-bb78-e2f03f01ac29',\n",
       " 'ee9c33be-5f36-48b6-bb16-2627fba95353',\n",
       " '7ed815ff-1560-44c1-857d-5088c1bdb2a4',\n",
       " '32d21c97-85ab-4f1f-9ff3-5e3b5c66895e',\n",
       " '215445ae-f7f8-440f-92e3-7f7361da09bd',\n",
       " '5b39ec7f-b199-4026-9629-6e37ad874f22',\n",
       " '84010b16-17ad-4532-98f8-1c9e08eb1926',\n",
       " '37234fb8-a263-4f2c-b004-7a8c42d8720f',\n",
       " '7df8b88b-f6b6-4e3a-920d-20dbb2703a6a',\n",
       " '125721f4-dbab-4aac-9d42-528cd0661500',\n",
       " 'a410693b-fdf5-4eca-b2da-7b46f9515b12',\n",
       " '1434f51d-eaf3-4429-b3ae-8ee02d3fef67',\n",
       " '4d3c624d-1792-4273-9421-dd986ce98df0',\n",
       " 'a8308149-a9d8-48e4-b6be-6e7639704e6d']"
      ]
     },
     "execution_count": 210,
     "metadata": {},
     "output_type": "execute_result"
    }
   ],
   "source": [
    "vector_store.add_documents([convert_llama_to_langchain(chunk) for chunk in chunks])"
   ]
  },
  {
   "cell_type": "markdown",
   "metadata": {},
   "source": [
    "We can now send a query to the vector store which retrieves the top k most relevant chunks from the index."
   ]
  },
  {
   "cell_type": "code",
   "execution_count": null,
   "metadata": {},
   "outputs": [
    {
     "data": {
      "text/plain": [
       "[Document(id='b8a8b09e-3b14-457f-a11b-e0fa9a9c4574', metadata={'company': 'adidas', 'year': 2023}, page_content='This framework applies to all adidas businesses \\nworldwide and also sets our expectations of third-party business partners for managing personal\\n \\ninformation for or on behalf of adidas. Our Global Privacy Officer and the Global Privacy department drive \\nthe operational establishment of the framework and monitoring capabilities to track and report its \\nimplementation. During the implementation, they are continuously providing further implementation \\nguidance and training. \\nHazard risks \\nAs climate change intensifies, the likelihood and intensity of natural disasters such as storms, floods, \\ndroughts, pandemics, or heat waves increases, and so does adidas’ potential risk. In addition, our business \\nactivities could be impacted by port congestions, strikes, riots, armed conflicts, or terrorist attacks. All of \\nthe above could damage our offices, stores, or distribution centers or disrupt our operational processes \\n(e.g., sourcing, logistics) leading to loss of sales, higher cost, and a decrease in profitability. \\nTo manage and mitigate these risks, we continuously monitor potential threats and have implemented \\nbusiness continuity plans including but not limited to fallback solutions for transportation, dynamic \\ncapacity management of containers and carriers, and reallocation of production.'),\n",
       " Document(id='b670918d-5d34-42f5-8552-e572bf8cceef', metadata={'company': 'adidas', 'year': 2023}, page_content='To \\nreduce supplier dependency, the company follows a strategy of diversification. In this context, adidas \\nworks with a broad network of suppliers in different countries and, for the vast majority of its products, \\ndoes not have a single-sourcing model. \\nCompliance risks \\nAs a globally operating company, adidas is subject to various laws and regulations. Non-compliance with \\nsuch laws and regulations could lead to penalties and fines and cause reputational damage. For example, \\nnon-compliance with laws and regulations concerning data protection and privacy, such as the EU General \\nData Protection Regulation (GDPR), may result in substantial fines. In addition, publication of failure to \\ncomply with data protection and privacy regulations could cause reputational damage and result in a loss \\nof consumer trust in our brands. We also face the risk that members of top management as well as our \\nemployees breach rules and standards that guide appropriate and responsible business behavior. This \\nincludes the risks of fraud, financial misstatements or manipulation, anti-competitive business practices, \\nbribery, corruption, discrimination, and harassment in the workplace.'),\n",
       " Document(id='3dcda3c4-1c51-4d65-898a-22e9c453fd53', metadata={'company': 'adidas', 'year': 2023}, page_content='Currency risks are a direct result of multi-\\ncurrency cash flows within the company, in particular the mismatch of the currencies required for \\nsourcing our products versus the denominations of our sales. Furthermore, translation impacts from the \\nconversion of non-euro-denominated results into the company’s functional currency, the euro, might lead \\nto a material negative impact on our company’s financial performance. In addition, substantial changes in \\nthe regulatory environment such as trade restrictions (e.g., concerning the US and China, or the EU and \\nChina), economic and political sanctions, regulations concerning product compliance, social aspects, \\nhuman rights, environmental, and climate protection regulations could lead to potential sales shortfalls or \\ncost increases. ► SEE NOTE 28 \\nTo mitigate these macroeconomic, sociopolitical, and regulatory risks, adidas strives to balance sales \\nacross key regions and also between developed and emerging markets. We continuously monitor the \\nmacroeconomic, political, and regulatory landscape in all our key markets to anticipate potential problem \\nareas, so that we can quickly adjust our business activities accordingly upon any change in conditions.')]"
      ]
     },
     "execution_count": 218,
     "metadata": {},
     "output_type": "execute_result"
    }
   ],
   "source": [
    "vector_store.search(query=\"What is Adidas doing to mitigate climate change related risks?\", search_type=\"similarity\", k=3)"
   ]
  },
  {
   "cell_type": "code",
   "execution_count": 6,
   "metadata": {},
   "outputs": [
    {
     "name": "stderr",
     "output_type": "stream",
     "text": [
      "  0%|          | 0/6 [00:00<?, ?it/s]"
     ]
    },
    {
     "name": "stdout",
     "output_type": "stream",
     "text": [
      "Error updating vector store for adidas 2023: name 'vector_store' is not defined\n"
     ]
    },
    {
     "name": "stderr",
     "output_type": "stream",
     "text": [
      " 17%|█▋        | 1/6 [00:30<02:32, 30.48s/it]"
     ]
    },
    {
     "name": "stdout",
     "output_type": "stream",
     "text": [
      "Vector store created for adidas 2023.\n"
     ]
    },
    {
     "name": "stderr",
     "output_type": "stream",
     "text": [
      " 33%|███▎      | 2/6 [00:50<01:37, 24.37s/it]"
     ]
    },
    {
     "name": "stdout",
     "output_type": "stream",
     "text": [
      "Vector store updated for allianz 2023.\n"
     ]
    },
    {
     "name": "stderr",
     "output_type": "stream",
     "text": [
      " 50%|█████     | 3/6 [01:02<00:55, 18.58s/it]"
     ]
    },
    {
     "name": "stdout",
     "output_type": "stream",
     "text": [
      "Vector store updated for basf 2023.\n"
     ]
    },
    {
     "name": "stderr",
     "output_type": "stream",
     "text": [
      " 67%|██████▋   | 4/6 [01:10<00:28, 14.32s/it]"
     ]
    },
    {
     "name": "stdout",
     "output_type": "stream",
     "text": [
      "Vector store updated for bayer 2023.\n"
     ]
    },
    {
     "name": "stderr",
     "output_type": "stream",
     "text": [
      " 83%|████████▎ | 5/6 [01:23<00:13, 13.94s/it]"
     ]
    },
    {
     "name": "stdout",
     "output_type": "stream",
     "text": [
      "Vector store updated for beiersdorf 2023.\n"
     ]
    },
    {
     "name": "stderr",
     "output_type": "stream",
     "text": [
      "100%|██████████| 6/6 [01:51<00:00, 18.57s/it]"
     ]
    },
    {
     "name": "stdout",
     "output_type": "stream",
     "text": [
      "Vector store updated for bmw 2023.\n"
     ]
    },
    {
     "name": "stderr",
     "output_type": "stream",
     "text": [
      "\n"
     ]
    }
   ],
   "source": [
    "from util import parse_document, chunk_document, vectorize_chunks, pre_process_dict, convert_llama_to_langchain\n",
    "from tqdm import tqdm\n",
    "import asyncio\n",
    "import nest_asyncio\n",
    "nest_asyncio.apply()\n",
    "\n",
    "for report in tqdm(reports):\n",
    "    company = report.split('_')[0]\n",
    "    year = int(report.split('_')[1].split('.')[0])\n",
    "\n",
    "    document = parse_document(\n",
    "        f'data/raw/reports/{report}', \n",
    "        pre_process_dict.get(company), \n",
    "        company=company, \n",
    "        year=year)\n",
    "    chunks = chunk_document(\n",
    "        document, \n",
    "        chunk_size=256, \n",
    "        chunk_overlap=20)\n",
    "    \n",
    "    chunks = [convert_llama_to_langchain(chunk) for chunk in chunks]\n",
    "    \n",
    "    try:\n",
    "        await vector_store.aadd_documents(chunks)\n",
    "        print(f\"Vector store updated for {company} {year}.\")\n",
    "    except Exception as e:\n",
    "        # Handle errors and debug\n",
    "        print(f\"Error updating vector store for {company} {year}: {e}\")\n",
    "        \n",
    "        # If vector_index doesn't exist, create it\n",
    "        if 'vector_store' not in locals():\n",
    "            vector_store = asyncio.run(vectorize_chunks(chunks))\n",
    "            print(f\"Vector store created for {company} {year}.\")\n",
    "        else:\n",
    "            print(f\"Skipping {company} {year} due to error.\")"
   ]
  },
  {
   "cell_type": "code",
   "execution_count": 7,
   "metadata": {},
   "outputs": [
    {
     "data": {
      "text/plain": [
       "{('adidas', 2023),\n",
       " ('allianz', 2023),\n",
       " ('basf', 2023),\n",
       " ('bayer', 2023),\n",
       " ('beiersdorf', 2023),\n",
       " ('bmw', 2023)}"
      ]
     },
     "execution_count": 7,
     "metadata": {},
     "output_type": "execute_result"
    }
   ],
   "source": [
    "set([(doc.metadata['company'], doc.metadata['year']) for doc in vector_store.get_by_ids(vector_store.index_to_docstore_id.values())])"
   ]
  },
  {
   "cell_type": "code",
   "execution_count": 8,
   "metadata": {},
   "outputs": [],
   "source": [
    "vector_store.save_local(\"studio/faiss_vector_store_sbert\")"
   ]
  },
  {
   "cell_type": "code",
   "execution_count": 12,
   "metadata": {},
   "outputs": [
    {
     "data": {
      "text/plain": [
       "[Document(id='437c24b1-fdfc-404a-a4eb-cea342fd66f1', metadata={'company': 'bayer', 'year': 2023}, page_content='Moreover, a negative public perception of Bayer re presents a risk. For example, modern agricultural \\nmethods, such as the application of certain classes of crop protection products and the use of \\nbiotechnology, are often the subject of intense public debate, which may adversely affect our reputation. \\nThe risk of an increasingly negative public debate that  is not primarily based on science may, for example, \\nlead to legislative and regulatory decisions that are unfavorable to our company,  significantly limiting the \\nuse of our products or even resulting in voluntary or mandated product withdrawals. We are engaged in \\nconstant dialogue with interest groups and regula tors to promote scientifically founded, rational and \\nresponsible discussions and d ecision-making processes.  \\nFurthermore, negative developments of a macroecono mic nature, such as crises in important sales \\nmarkets for our company, could we igh on our business and reduce ou r earnings. Our seed and crop \\nprotection business in particular is  cyclical and shaped by economic developments and factors, including \\nfluctuating weather conditions and pest pressure that may adversely impact our Crop Science business. \\nForecasts concerning climate change indicate that these risks may possib ly increase in the long term.')]"
      ]
     },
     "execution_count": 12,
     "metadata": {},
     "output_type": "execute_result"
    }
   ],
   "source": [
    "vector_store.search(\"Climate change related risks\", filter={\"company\": \"bayer\", \"year\": 2023}, search_type=\"similarity\", k=3)"
   ]
  },
  {
   "cell_type": "code",
   "execution_count": null,
   "metadata": {},
   "outputs": [],
   "source": [
    "faiss_vector_store = FAISS.load_local(\n",
    "    \"./studio/faiss_vector_store\",\n",
    "    embeddings= HuggingFaceEndpointEmbeddings(\n",
    "        model_name=\"Snowflake/snowflake-arctic-embed-l-v2.0\"\n",
    "    ),\n",
    "    allow_dangerous_deserialization=True\n",
    ")"
   ]
  },
  {
   "cell_type": "code",
   "execution_count": 137,
   "metadata": {},
   "outputs": [
    {
     "data": {
      "text/plain": [
       "{('adidas', 2023),\n",
       " ('allianz', 2023),\n",
       " ('basf', 2023),\n",
       " ('bayer', 2023),\n",
       " ('beiersdorf', 2023),\n",
       " ('bmw', 2023)}"
      ]
     },
     "execution_count": 137,
     "metadata": {},
     "output_type": "execute_result"
    }
   ],
   "source": [
    "set([(doc.metadata['company'], doc.metadata['year']) for doc in faiss_vector_store.get_by_ids(faiss_vector_store.index_to_docstore_id.values())])"
   ]
  },
  {
   "cell_type": "markdown",
   "metadata": {},
   "source": [
    "Resources:\n",
    "- [Let's talk about LlamaIndex and LangChain](https://superwise.ai/blog/lets-talk-about-llamaindex-and-langchain/)\n",
    "- [LlamaIndex](https://docs.llamaindex.ai/en/stable/)\n",
    "- [Advanced RAG techniques - An illustrated overview](https://pub.towardsai.net/advanced-rag-techniques-an-illustrated-overview-04d193d8fec6)"
   ]
  },
  {
   "cell_type": "markdown",
   "metadata": {},
   "source": [
    "Try it with LangChain & LangGraph"
   ]
  },
  {
   "cell_type": "code",
   "execution_count": 1,
   "metadata": {},
   "outputs": [],
   "source": [
    "import os, getpass\n",
    "\n",
    "def _set_env(var: str):\n",
    "    if not os.environ.get(var):\n",
    "        os.environ[var] = getpass.getpass(f\"{var}: \")\n",
    "\n",
    "_set_env(\"OPENAI_API_KEY\")\n",
    "_set_env(\"TAVILY_API_KEY\")"
   ]
  },
  {
   "cell_type": "code",
   "execution_count": 2,
   "metadata": {},
   "outputs": [],
   "source": [
    "# Vector Storage\n",
    "from llama_index.core import load_index_from_storage, StorageContext\n",
    "\n",
    "vector_index = load_index_from_storage(\n",
    "    StorageContext.from_defaults(\n",
    "        persist_dir=f\"./studio/vector_index\"\n",
    "    )\n",
    ")"
   ]
  },
  {
   "cell_type": "code",
   "execution_count": 8,
   "metadata": {},
   "outputs": [
    {
     "data": {
      "application/vnd.jupyter.widget-view+json": {
       "model_id": "bf1e95a695944a168458fb642acc26b9",
       "version_major": 2,
       "version_minor": 0
      },
      "text/plain": [
       "modules.json:   0%|          | 0.00/349 [00:00<?, ?B/s]"
      ]
     },
     "metadata": {},
     "output_type": "display_data"
    },
    {
     "name": "stderr",
     "output_type": "stream",
     "text": [
      "w:\\teaching\\risk_analytics\\.venv\\Lib\\site-packages\\huggingface_hub\\file_download.py:140: UserWarning: `huggingface_hub` cache-system uses symlinks by default to efficiently store duplicated files but your machine does not support them in C:\\Users\\julia\\.cache\\huggingface\\hub\\models--Snowflake--snowflake-arctic-embed-l-v2.0. Caching files will still work but in a degraded version that might require more space on your disk. This warning can be disabled by setting the `HF_HUB_DISABLE_SYMLINKS_WARNING` environment variable. For more details, see https://huggingface.co/docs/huggingface_hub/how-to-cache#limitations.\n",
      "To support symlinks on Windows, you either need to activate Developer Mode or to run Python as an administrator. In order to activate developer mode, see this article: https://docs.microsoft.com/en-us/windows/apps/get-started/enable-your-device-for-development\n",
      "  warnings.warn(message)\n"
     ]
    },
    {
     "data": {
      "application/vnd.jupyter.widget-view+json": {
       "model_id": "ce2ee0e2878a4fd086ac7d4c0f5c87c1",
       "version_major": 2,
       "version_minor": 0
      },
      "text/plain": [
       "config_sentence_transformers.json:   0%|          | 0.00/203 [00:00<?, ?B/s]"
      ]
     },
     "metadata": {},
     "output_type": "display_data"
    },
    {
     "data": {
      "application/vnd.jupyter.widget-view+json": {
       "model_id": "f8ab0fd5c58f44fe95fd314cfda69acc",
       "version_major": 2,
       "version_minor": 0
      },
      "text/plain": [
       "README.md:   0%|          | 0.00/251k [00:00<?, ?B/s]"
      ]
     },
     "metadata": {},
     "output_type": "display_data"
    },
    {
     "data": {
      "application/vnd.jupyter.widget-view+json": {
       "model_id": "9973554cd5834d62a9cdc162515dbab1",
       "version_major": 2,
       "version_minor": 0
      },
      "text/plain": [
       "config.json:   0%|          | 0.00/784 [00:00<?, ?B/s]"
      ]
     },
     "metadata": {},
     "output_type": "display_data"
    },
    {
     "data": {
      "application/vnd.jupyter.widget-view+json": {
       "model_id": "9e7f9d8cc6c5434f87dbbe928afd3129",
       "version_major": 2,
       "version_minor": 0
      },
      "text/plain": [
       "model.safetensors:   0%|          | 0.00/2.27G [00:00<?, ?B/s]"
      ]
     },
     "metadata": {},
     "output_type": "display_data"
    },
    {
     "data": {
      "application/vnd.jupyter.widget-view+json": {
       "model_id": "7b7b38b110f74606aba6a39cd468d656",
       "version_major": 2,
       "version_minor": 0
      },
      "text/plain": [
       "tokenizer_config.json:   0%|          | 0.00/1.34k [00:00<?, ?B/s]"
      ]
     },
     "metadata": {},
     "output_type": "display_data"
    },
    {
     "data": {
      "application/vnd.jupyter.widget-view+json": {
       "model_id": "eb58c4f5965240f4a1b920aee4cbd53b",
       "version_major": 2,
       "version_minor": 0
      },
      "text/plain": [
       "tokenizer.json:   0%|          | 0.00/17.1M [00:00<?, ?B/s]"
      ]
     },
     "metadata": {},
     "output_type": "display_data"
    },
    {
     "data": {
      "application/vnd.jupyter.widget-view+json": {
       "model_id": "88f5f282d41b43e8a1c3ab466a1729c4",
       "version_major": 2,
       "version_minor": 0
      },
      "text/plain": [
       "special_tokens_map.json:   0%|          | 0.00/964 [00:00<?, ?B/s]"
      ]
     },
     "metadata": {},
     "output_type": "display_data"
    },
    {
     "data": {
      "application/vnd.jupyter.widget-view+json": {
       "model_id": "884930b5e50c47e1b15c782550736f22",
       "version_major": 2,
       "version_minor": 0
      },
      "text/plain": [
       "config.json:   0%|          | 0.00/297 [00:00<?, ?B/s]"
      ]
     },
     "metadata": {},
     "output_type": "display_data"
    }
   ],
   "source": [
    "from langchain_community.vectorstores import FAISS\n",
    "from langchain_huggingface import HuggingFaceEmbeddings\n",
    "\n",
    "faiss_vector_store = FAISS.load_local(\n",
    "    \"./studio/faiss_vector_store\",\n",
    "    embeddings=HuggingFaceEmbeddings(\n",
    "        model_name=\"Snowflake/snowflake-arctic-embed-l-v2.0\",\n",
    "        model_kwargs={'device': 'cpu'},\n",
    "        encode_kwargs={'normalize_embeddings': False}\n",
    "    ),\n",
    "    allow_dangerous_deserialization=True\n",
    ")"
   ]
  },
  {
   "cell_type": "code",
   "execution_count": 10,
   "metadata": {},
   "outputs": [
    {
     "data": {
      "text/plain": [
       "[Document(id='fb4b23b1-92dd-4be5-a0ee-f296603bd59b', metadata={'company': 'allianz', 'year': 2023}, page_content='Credit risk arises from \\npotential losses from non -recoverability of reinsurance \\nreceivables, or due to default on benefits under in -force \\nreinsurance treaties. Our ret rocession partners are carefully \\nselected by a team of specialists. Besides focusing on companies \\nwith a strong credit rating, we may further require letters of credit, \\ncash deposits, funds withheld or assets held in trust, or other \\nfinancial measures to further mitigate our exposure to credit risk. \\nThe internal credit risk capital model takes into account the major \\ndeterminants of credit risk for each instrument, including exposure at \\ndefault, rating, seniority, collateral, and maturity. Additional \\nparameters assigned to obligors are migration probabilities and \\nobligor asset correlations reflecting dependencies within the portfolio. \\nRatings are assigned to single obligors using a clearly defined \\nassignment process.'),\n",
       " Document(id='52f19ee1-adc9-44d0-ad1d-bda91cf02df6', metadata={'company': 'bayer', 'year': 2023}, page_content='Credit risks \\nCredit risks arise from the possibilit y that the value of receivables or other financial assets of the Bayer \\nGroup may be impaired because counterparties ca nnot meet their payment or other performance \\nobligations. The maximum default risk  is reduced by existing collatera l, especially our global credit \\ninsurance programs. To manage credit risks from trad e receivables, the invoicing companies appoint credit \\nmanagers who regularly analyze custom ers’ creditworthiness. We generall y agree reservation of title with \\nour customers. Credit limits are set for all customers. In addition, all credit limits for debtors where total \\nexposure is €10 million or more are evaluated both locally and centrally. Cred it risks from financial \\ntransactions are managed centrally in the Group Fina nce enabling function.'),\n",
       " Document(id='50c39534-c12c-400f-a37f-f069c65b69be', metadata={'company': 'allianz', 'year': 2023}, page_content='All transactions that do not meet these \\nstandards or have a total investment volume (including costs) \\nexceeding a defined threshold must be reviewed individually by Group \\nRisk and other Group center functions. In addition, all applicable limits \\nmust be respected, in particular those resulting from strategic asset \\nallocation as well as  its leeways and risk limits, with regards to an \\ninvesting entity’s portfolio. \\nCredit risk is measured as the potential economic loss in the value of \\nour portfolio that would result from either changes in the credit quality \\nof our counterparties (“migration risk”) or the inability or unwillingness \\nof a counterparty to fulfill contractual obligations (“default risk”). \\nAllianz SE’s credit risk profile originates from three sources: our \\ninvestment portfolio, guarantees and retrocession.'),\n",
       " Document(id='adbbb6e6-69d9-475e-8764-0976d85de202', metadata={'company': 'bmw', 'year': 2023}, page_content='Climate -related risks are also \\ntaken into account and analysed at regular intervals, there by \\nconsidering a medium-term period in the future. ↗ Climate-Related \\nRisks and Opportunities\\nThe following table provides an overview of the material short -\\nterm risks and opportunities in the Financial Services segment: \\n    \\n \\n \\nCredit risks and opportunities \\nIn the Financial Services segment, the risk of default is factored \\ninto the interest rate when concluding an agreement. Further-\\nmore, the credit portfolio is evaluated on an ongoing basis with \\nthe aim of determining if any impairment allowances need to be \\nmade for financial receivables. This evaluation is based on sta-\\ntistical methods and takes into account the following aspects, \\namong others: the creditworthiness of the customer, the cus-\\ntomer’s payment history and the economic context in the cus-\\ntomer’s region.')]"
      ]
     },
     "execution_count": 10,
     "metadata": {},
     "output_type": "execute_result"
    }
   ],
   "source": [
    "faiss_vector_store.search(\"Credit risk\", search_type='similarity_score_threshold')"
   ]
  },
  {
   "cell_type": "code",
   "execution_count": 28,
   "metadata": {},
   "outputs": [],
   "source": [
    "# LLM\n",
    "from langchain_openai import ChatOpenAI\n",
    "\n",
    "llm = ChatOpenAI(model=\"gpt-4o\", temperature=0)"
   ]
  },
  {
   "cell_type": "code",
   "execution_count": 12,
   "metadata": {},
   "outputs": [],
   "source": [
    "# Web search tool\n",
    "from langchain_community.tools.tavily_search import TavilySearchResults\n",
    "\n",
    "tavily_search = TavilySearchResults(max_results=2)"
   ]
  },
  {
   "cell_type": "code",
   "execution_count": 13,
   "metadata": {},
   "outputs": [],
   "source": [
    "dax_40 = ['adidas', 'airbus', 'allianz', 'basf', 'bayer', 'beiersdorf', 'bmw', 'brenntag', 'commerzbank', 'continental', \n",
    "'daimler truck', 'deutsche bank', 'deutsche boerse', 'deutsche post', 'deutsche telekom', 'eon', 'fresenius', 'fresenius medical care', \n",
    "'hannover rück', 'heidelberg materials', 'henkel', 'infineon technologies', 'mercedes benz', 'merck', 'mtu', 'münchener rück', 'porsche',\n",
    "'porsche automobil holding', 'qiagen', 'rheinmetall', 'rwe', 'sap', 'sartorius', 'siemens', 'siemens energy', 'siemens healthineers',\n",
    "'symrise', 'volkswagen', 'vonovia', 'zalando']"
   ]
  },
  {
   "cell_type": "code",
   "execution_count": 141,
   "metadata": {},
   "outputs": [],
   "source": [
    "import operator\n",
    "from typing import Annotated, Optional, TypedDict, List\n",
    "from langgraph.graph import MessagesState\n",
    "from pydantic import BaseModel, Field\n",
    "\n",
    "class Company(BaseModel):\n",
    "    name: str = Field(description=\"Name of DAX 40 company.\")\n",
    "    #year: int = Field(2023, description=\"Year of the annual report.\")\n",
    "\n",
    "class Companies(BaseModel):\n",
    "    companies: Optional[List[Company]] = Field(description=\"List of DAX 40 companies with information about their annual reports.\")\n",
    "\n",
    "class Topic(BaseModel):\n",
    "    topic: str = Field(description=\"Topic of the question.\")\n",
    "\n",
    "class OverallState(MessagesState):\n",
    "    prompt: str\n",
    "    context: Annotated[List[str], operator.add]  # Accumulated context from all companies\n",
    "    companies: Companies\n",
    "    final_answer: str\n",
    "\n",
    "class DocumentState(TypedDict):\n",
    "    prompt: str  # The user prompt\n",
    "    company: Company  # The company related to the document (single value)\n",
    "    topic: str # The topic extracted for the company (single value)\n",
    "    context_detail: Annotated[List[str], operator.add]"
   ]
  },
  {
   "cell_type": "code",
   "execution_count": 142,
   "metadata": {},
   "outputs": [
    {
     "data": {
      "image/png": "[encoded data removed]",
      "text/plain": [
       "<IPython.core.display.Image object>"
      ]
     },
     "metadata": {},
     "output_type": "display_data"
    }
   ],
   "source": [
    "from IPython.display import Image, display\n",
    "from langgraph.types import Send\n",
    "from langgraph.graph import START, END, StateGraph\n",
    "from langchain_core.messages import HumanMessage, SystemMessage\n",
    "from llama_index.core.vector_stores import MetadataFilter, MetadataFilters, FilterOperator\n",
    "from llama_index.embeddings.huggingface import HuggingFaceEmbedding\n",
    "from llama_index.core.postprocessor import SimilarityPostprocessor\n",
    "\n",
    "supervisor_instruction = \"\"\"You are tasked with analyzing whether the following user prompt relates to one or several DAX 40 companies: {prompt}.\n",
    "\n",
    "If you find any DAX 40 companies mentioned in the user prompt, map them to the ones mentioned in the following list:\n",
    "{dax_40}.\n",
    "\n",
    "It may well be that the user prompt is a more generic question that is not related to any specific company.\n",
    "\"\"\"\n",
    "\n",
    "topic_extraction_instruction = \"\"\"You are part of an AI agent designed to answer questions about the risks DAX 40 companies\n",
    "are facing. \n",
    "\n",
    "Your task is to extract the topic of the user prompt. The topic should be a short phrase that summarizes the main subject of the question.\n",
    "\n",
    "Please make sure to retain specific keywords that are relevant to the topic.\n",
    "\n",
    "This is the user prompt from which you should extract the topic: {prompt}.\n",
    "\n",
    "Company names should not be included in the topic.\n",
    "\"\"\"\n",
    "\n",
    "single_answer_generation_instruction = \"\"\"Based on the following context for {company}, generate an answer to the topic '{topic}': \\n\\n {context}.\n",
    "\n",
    "If the context does not provide enough information, please answer that the annual report of {company} does not provide any information about the topic '{topic}'.\n",
    "\"\"\"\n",
    "\n",
    "final_answer_generation_instruction = \"\"\"You are tasked to provide a concise answer to the following prompt: {prompt}.\n",
    "\n",
    "To respond to the user, you are supposed to use the following contextual information: {context}.\n",
    "\n",
    "If you find that the context contains repetitive information, please summarize it accordingly.\n",
    "\n",
    "If the context mentions DAX 40 companies, please make sure to explicitly include them in your answer.\n",
    "\"\"\"\n",
    "\n",
    "\n",
    "def extract_companies(state: OverallState, dax_40: list = dax_40):\n",
    "\n",
    "    prompt = state.get('prompt')\n",
    "    dax_40 = ', '.join(dax_40)\n",
    "    \n",
    "    # Enforce structured output\n",
    "    structured_llm = llm.with_structured_output(Companies)\n",
    "\n",
    "    # System message\n",
    "    system_message = supervisor_instruction.format(prompt=prompt, dax_40=dax_40)\n",
    "\n",
    "    # Extract companies\n",
    "    companies = structured_llm.invoke([SystemMessage(content=system_message)]+[HumanMessage(content=\"Extract the set of DAX 40 companies if there any mentioned. Otherwise return nothing.\")])\n",
    "\n",
    "    return {'companies': companies.companies}\n",
    "\n",
    "def route_to_tool(state: OverallState):\n",
    "\n",
    "    companies = state.get('companies', None)\n",
    "\n",
    "    if companies is not None:\n",
    "        prompt = state.get('prompt')\n",
    "\n",
    "        structured_llm = llm.with_structured_output(Topic)\n",
    "        system_message = topic_extraction_instruction.format(prompt=prompt)\n",
    "        topic = structured_llm.invoke([SystemMessage(content=system_message)]+[HumanMessage(content=\"Extract the topic of the user prompt.\")])\n",
    "\n",
    "        return [Send(\"rag_agent\", {\"company\": c, \"topic\": topic}) for c in companies]\n",
    "    \n",
    "    else:\n",
    "        return 'web_agent'\n",
    "\n",
    "\n",
    "def web_agent(state: OverallState):\n",
    "    \n",
    "    search_docs = tavily_search.invoke(state['prompt'])\n",
    "\n",
    "     # Format\n",
    "    formatted_search_docs = \"\\n\\n---\\n\\n\".join(\n",
    "        [\n",
    "            f'<Document href=\"{doc[\"url\"]}\">\\n{doc[\"content\"]}\\n</Document>'\n",
    "            for doc in search_docs\n",
    "        ]\n",
    "    )\n",
    "\n",
    "    return {\"context\": [formatted_search_docs]}\n",
    "\n",
    "def rag_agent(state: DocumentState, vector_store: FAISS = faiss_vector_store):\n",
    "\n",
    "    company = state.get('company')\n",
    "    topic = state.get('topic')\n",
    "\n",
    "    #     # Verify vector store before retrieval\n",
    "    # assert vector_store is not None, \"Vector store not initialized\"\n",
    "    # assert hasattr(vector_store, 'as_retriever'), \"Invalid vector store object\"\n",
    "\n",
    "    # retriever = vector_store.as_retriever(\n",
    "    #     search_type=\"similarity_score_threshold\",\n",
    "    #     search_kwargs={\n",
    "    #         \"k\": 2,\n",
    "    #         \"score_threshold\": 0.0},\n",
    "    #     )\n",
    "\n",
    "    # context = retriever.invoke(\n",
    "    #     topic.topic,\n",
    "    #     filter={\n",
    "    #         \"company\": company,\n",
    "    #         \"year\": 2023\n",
    "    #         })\n",
    "\n",
    "    context = vector_store.similarity_search(\n",
    "        query=topic.topic, \n",
    "        k=2, \n",
    "        filter={\"company\": company.name, \"year\": 2023})    \n",
    "\n",
    "    if len(context) == 0:\n",
    "        answer = f\"The annual report of {company.name} does not provide any information about the topic '{topic.topic}'.\"\n",
    "    \n",
    "    else:\n",
    "        system_message = single_answer_generation_instruction.format(\n",
    "            company=company.name, \n",
    "            topic=topic.topic, \n",
    "            context=' \\n '.join([node.page_content for node in context]))\n",
    "        answer = llm.invoke(system_message).content\n",
    "    \n",
    "    return {\"context_detail\": context ,\"context\": [answer]}\n",
    "\n",
    "\n",
    "def create_answer(state: OverallState):\n",
    "    \n",
    "    prompt = state.get('prompt')\n",
    "    context = state.get('context', None)\n",
    "\n",
    "    system_message = final_answer_generation_instruction.format(prompt=prompt, context='\\n\\n'.join(context))\n",
    "    final_answer = llm.invoke(system_message).content\n",
    "\n",
    "    # Return the company-specific answer\n",
    "    return {\"final_answer\": final_answer}\n",
    "\n",
    "\n",
    "builder = StateGraph(OverallState)\n",
    "builder.add_node(\"extract_companies\", extract_companies)\n",
    "builder.add_node(\"rag_agent\", rag_agent)\n",
    "builder.add_node(\"web_agent\", web_agent)\n",
    "builder.add_node(\"create_answer\", create_answer)\n",
    "builder.add_edge(START, \"extract_companies\")\n",
    "builder.add_conditional_edges(\"extract_companies\", route_to_tool, [\"rag_agent\", \"web_agent\"])\n",
    "builder.add_edge(\"web_agent\", \"create_answer\")\n",
    "builder.add_edge(\"rag_agent\", \"create_answer\")\n",
    "builder.add_edge(\"create_answer\", END)\n",
    "graph = builder.compile()\n",
    "\n",
    "display(Image(graph.get_graph(xray=1).draw_mermaid_png()))"
   ]
  },
  {
   "cell_type": "code",
   "execution_count": 50,
   "metadata": {},
   "outputs": [
    {
     "data": {
      "text/plain": [
       "langchain_community.vectorstores.faiss.FAISS"
      ]
     },
     "execution_count": 50,
     "metadata": {},
     "output_type": "execute_result"
    }
   ],
   "source": [
    "type(faiss_vector_store)"
   ]
  },
  {
   "cell_type": "code",
   "execution_count": 49,
   "metadata": {},
   "outputs": [
    {
     "data": {
      "text/plain": [
       "['_FAISS__add',\n",
       " '_FAISS__from',\n",
       " '__abstractmethods__',\n",
       " '__annotations__',\n",
       " '__class__',\n",
       " '__delattr__',\n",
       " '__dict__',\n",
       " '__dir__',\n",
       " '__doc__',\n",
       " '__eq__',\n",
       " '__format__',\n",
       " '__ge__',\n",
       " '__getattribute__',\n",
       " '__getstate__',\n",
       " '__gt__',\n",
       " '__hash__',\n",
       " '__init__',\n",
       " '__init_subclass__',\n",
       " '__le__',\n",
       " '__lt__',\n",
       " '__module__',\n",
       " '__ne__',\n",
       " '__new__',\n",
       " '__reduce__',\n",
       " '__reduce_ex__',\n",
       " '__repr__',\n",
       " '__setattr__',\n",
       " '__sizeof__',\n",
       " '__slots__',\n",
       " '__str__',\n",
       " '__subclasshook__',\n",
       " '__weakref__',\n",
       " '_abc_impl',\n",
       " '_aembed_documents',\n",
       " '_aembed_query',\n",
       " '_asimilarity_search_with_relevance_scores',\n",
       " '_cosine_relevance_score_fn',\n",
       " '_create_filter_func',\n",
       " '_embed_documents',\n",
       " '_embed_query',\n",
       " '_euclidean_relevance_score_fn',\n",
       " '_get_retriever_tags',\n",
       " '_max_inner_product_relevance_score_fn',\n",
       " '_normalize_L2',\n",
       " '_select_relevance_score_fn',\n",
       " '_similarity_search_with_relevance_scores',\n",
       " 'aadd_documents',\n",
       " 'aadd_texts',\n",
       " 'add_documents',\n",
       " 'add_embeddings',\n",
       " 'add_texts',\n",
       " 'adelete',\n",
       " 'afrom_documents',\n",
       " 'afrom_embeddings',\n",
       " 'afrom_texts',\n",
       " 'aget_by_ids',\n",
       " 'amax_marginal_relevance_search',\n",
       " 'amax_marginal_relevance_search_by_vector',\n",
       " 'amax_marginal_relevance_search_with_score_by_vector',\n",
       " 'as_retriever',\n",
       " 'asearch',\n",
       " 'asimilarity_search',\n",
       " 'asimilarity_search_by_vector',\n",
       " 'asimilarity_search_with_relevance_scores',\n",
       " 'asimilarity_search_with_score',\n",
       " 'asimilarity_search_with_score_by_vector',\n",
       " 'delete',\n",
       " 'deserialize_from_bytes',\n",
       " 'distance_strategy',\n",
       " 'docstore',\n",
       " 'embedding_function',\n",
       " 'embeddings',\n",
       " 'from_documents',\n",
       " 'from_embeddings',\n",
       " 'from_texts',\n",
       " 'get_by_ids',\n",
       " 'index',\n",
       " 'index_to_docstore_id',\n",
       " 'load_local',\n",
       " 'max_marginal_relevance_search',\n",
       " 'max_marginal_relevance_search_by_vector',\n",
       " 'max_marginal_relevance_search_with_score_by_vector',\n",
       " 'merge_from',\n",
       " 'override_relevance_score_fn',\n",
       " 'save_local',\n",
       " 'search',\n",
       " 'serialize_to_bytes',\n",
       " 'similarity_search',\n",
       " 'similarity_search_by_vector',\n",
       " 'similarity_search_with_relevance_scores',\n",
       " 'similarity_search_with_score',\n",
       " 'similarity_search_with_score_by_vector']"
      ]
     },
     "execution_count": 49,
     "metadata": {},
     "output_type": "execute_result"
    }
   ],
   "source": [
    "dir(faiss_vector_store)"
   ]
  },
  {
   "cell_type": "code",
   "execution_count": 111,
   "metadata": {},
   "outputs": [
    {
     "ename": "ValidationError",
     "evalue": "1 validation error for VectorStoreRetriever\n  Value error, `score_threshold` is not specified with a float value(0~1) in `search_kwargs`. [type=value_error, input_value={'vectorstore': <langchai... 'score_threshold': 0.0}, input_type=dict]\n    For further information visit https://errors.pydantic.dev/2.10/v/value_error",
     "output_type": "error",
     "traceback": [
      "\u001b[1;31m---------------------------------------------------------------------------\u001b[0m",
      "\u001b[1;31mValidationError\u001b[0m                           Traceback (most recent call last)",
      "Cell \u001b[1;32mIn[111], line 2\u001b[0m\n\u001b[0;32m      1\u001b[0m company \u001b[38;5;241m=\u001b[39m\u001b[38;5;124m'\u001b[39m\u001b[38;5;124mbeiersdorf\u001b[39m\u001b[38;5;124m'\u001b[39m\n\u001b[1;32m----> 2\u001b[0m retriever \u001b[38;5;241m=\u001b[39m \u001b[43mfaiss_vector_store\u001b[49m\u001b[38;5;241;43m.\u001b[39;49m\u001b[43mas_retriever\u001b[49m\u001b[43m(\u001b[49m\n\u001b[0;32m      3\u001b[0m \u001b[43m    \u001b[49m\u001b[43msearch_type\u001b[49m\u001b[38;5;241;43m=\u001b[39;49m\u001b[38;5;124;43m\"\u001b[39;49m\u001b[38;5;124;43msimilarity_score_threshold\u001b[39;49m\u001b[38;5;124;43m\"\u001b[39;49m\u001b[43m,\u001b[49m\n\u001b[0;32m      4\u001b[0m \u001b[43m    \u001b[49m\u001b[43mk\u001b[49m\u001b[38;5;241;43m=\u001b[39;49m\u001b[43m \u001b[49m\u001b[38;5;241;43m2\u001b[39;49m\u001b[43m,\u001b[49m\n\u001b[0;32m      5\u001b[0m \u001b[43m    \u001b[49m\u001b[43mscore_threshold\u001b[49m\u001b[38;5;241;43m=\u001b[39;49m\u001b[43m \u001b[49m\u001b[38;5;241;43m0.0\u001b[39;49m\n\u001b[0;32m      6\u001b[0m \u001b[43m    \u001b[49m\u001b[43m)\u001b[49m\n\u001b[0;32m      8\u001b[0m context \u001b[38;5;241m=\u001b[39m retriever\u001b[38;5;241m.\u001b[39minvoke(\n\u001b[0;32m      9\u001b[0m     \u001b[38;5;124m'\u001b[39m\u001b[38;5;124mrisks related to the energy transition\u001b[39m\u001b[38;5;124m'\u001b[39m,\n\u001b[0;32m     10\u001b[0m     \u001b[38;5;28mfilter\u001b[39m\u001b[38;5;241m=\u001b[39m{\n\u001b[1;32m   (...)\u001b[0m\n\u001b[0;32m     13\u001b[0m         }\n\u001b[0;32m     14\u001b[0m     )\n",
      "File \u001b[1;32mw:\\teaching\\risk_analytics\\.venv\\Lib\\site-packages\\langchain_core\\vectorstores\\base.py:995\u001b[0m, in \u001b[0;36mVectorStore.as_retriever\u001b[1;34m(self, **kwargs)\u001b[0m\n\u001b[0;32m    938\u001b[0m \u001b[38;5;250m\u001b[39m\u001b[38;5;124;03m\"\"\"Return VectorStoreRetriever initialized from this VectorStore.\u001b[39;00m\n\u001b[0;32m    939\u001b[0m \n\u001b[0;32m    940\u001b[0m \u001b[38;5;124;03mArgs:\u001b[39;00m\n\u001b[1;32m   (...)\u001b[0m\n\u001b[0;32m    992\u001b[0m \u001b[38;5;124;03m    )\u001b[39;00m\n\u001b[0;32m    993\u001b[0m \u001b[38;5;124;03m\"\"\"\u001b[39;00m\n\u001b[0;32m    994\u001b[0m tags \u001b[38;5;241m=\u001b[39m kwargs\u001b[38;5;241m.\u001b[39mpop(\u001b[38;5;124m\"\u001b[39m\u001b[38;5;124mtags\u001b[39m\u001b[38;5;124m\"\u001b[39m, \u001b[38;5;28;01mNone\u001b[39;00m) \u001b[38;5;129;01mor\u001b[39;00m [] \u001b[38;5;241m+\u001b[39m \u001b[38;5;28mself\u001b[39m\u001b[38;5;241m.\u001b[39m_get_retriever_tags()\n\u001b[1;32m--> 995\u001b[0m \u001b[38;5;28;01mreturn\u001b[39;00m \u001b[43mVectorStoreRetriever\u001b[49m\u001b[43m(\u001b[49m\u001b[43mvectorstore\u001b[49m\u001b[38;5;241;43m=\u001b[39;49m\u001b[38;5;28;43mself\u001b[39;49m\u001b[43m,\u001b[49m\u001b[43m \u001b[49m\u001b[43mtags\u001b[49m\u001b[38;5;241;43m=\u001b[39;49m\u001b[43mtags\u001b[49m\u001b[43m,\u001b[49m\u001b[43m \u001b[49m\u001b[38;5;241;43m*\u001b[39;49m\u001b[38;5;241;43m*\u001b[39;49m\u001b[43mkwargs\u001b[49m\u001b[43m)\u001b[49m\n",
      "File \u001b[1;32mw:\\teaching\\risk_analytics\\.venv\\Lib\\site-packages\\langchain_core\\load\\serializable.py:125\u001b[0m, in \u001b[0;36mSerializable.__init__\u001b[1;34m(self, *args, **kwargs)\u001b[0m\n\u001b[0;32m    123\u001b[0m \u001b[38;5;28;01mdef\u001b[39;00m \u001b[38;5;21m__init__\u001b[39m(\u001b[38;5;28mself\u001b[39m, \u001b[38;5;241m*\u001b[39margs: Any, \u001b[38;5;241m*\u001b[39m\u001b[38;5;241m*\u001b[39mkwargs: Any) \u001b[38;5;241m-\u001b[39m\u001b[38;5;241m>\u001b[39m \u001b[38;5;28;01mNone\u001b[39;00m:\n\u001b[0;32m    124\u001b[0m \u001b[38;5;250m    \u001b[39m\u001b[38;5;124;03m\"\"\"\"\"\"\u001b[39;00m\n\u001b[1;32m--> 125\u001b[0m     \u001b[38;5;28;43msuper\u001b[39;49m\u001b[43m(\u001b[49m\u001b[43m)\u001b[49m\u001b[38;5;241;43m.\u001b[39;49m\u001b[38;5;21;43m__init__\u001b[39;49m\u001b[43m(\u001b[49m\u001b[38;5;241;43m*\u001b[39;49m\u001b[43margs\u001b[49m\u001b[43m,\u001b[49m\u001b[43m \u001b[49m\u001b[38;5;241;43m*\u001b[39;49m\u001b[38;5;241;43m*\u001b[39;49m\u001b[43mkwargs\u001b[49m\u001b[43m)\u001b[49m\n",
      "File \u001b[1;32mw:\\teaching\\risk_analytics\\.venv\\Lib\\site-packages\\pydantic\\main.py:214\u001b[0m, in \u001b[0;36mBaseModel.__init__\u001b[1;34m(self, **data)\u001b[0m\n\u001b[0;32m    212\u001b[0m \u001b[38;5;66;03m# `__tracebackhide__` tells pytest and some other tools to omit this function from tracebacks\u001b[39;00m\n\u001b[0;32m    213\u001b[0m __tracebackhide__ \u001b[38;5;241m=\u001b[39m \u001b[38;5;28;01mTrue\u001b[39;00m\n\u001b[1;32m--> 214\u001b[0m validated_self \u001b[38;5;241m=\u001b[39m \u001b[38;5;28;43mself\u001b[39;49m\u001b[38;5;241;43m.\u001b[39;49m\u001b[43m__pydantic_validator__\u001b[49m\u001b[38;5;241;43m.\u001b[39;49m\u001b[43mvalidate_python\u001b[49m\u001b[43m(\u001b[49m\u001b[43mdata\u001b[49m\u001b[43m,\u001b[49m\u001b[43m \u001b[49m\u001b[43mself_instance\u001b[49m\u001b[38;5;241;43m=\u001b[39;49m\u001b[38;5;28;43mself\u001b[39;49m\u001b[43m)\u001b[49m\n\u001b[0;32m    215\u001b[0m \u001b[38;5;28;01mif\u001b[39;00m \u001b[38;5;28mself\u001b[39m \u001b[38;5;129;01mis\u001b[39;00m \u001b[38;5;129;01mnot\u001b[39;00m validated_self:\n\u001b[0;32m    216\u001b[0m     warnings\u001b[38;5;241m.\u001b[39mwarn(\n\u001b[0;32m    217\u001b[0m         \u001b[38;5;124m'\u001b[39m\u001b[38;5;124mA custom validator is returning a value other than `self`.\u001b[39m\u001b[38;5;130;01m\\n\u001b[39;00m\u001b[38;5;124m'\u001b[39m\n\u001b[0;32m    218\u001b[0m         \u001b[38;5;124m\"\u001b[39m\u001b[38;5;124mReturning anything other than `self` from a top level model validator isn\u001b[39m\u001b[38;5;124m'\u001b[39m\u001b[38;5;124mt supported when validating via `__init__`.\u001b[39m\u001b[38;5;130;01m\\n\u001b[39;00m\u001b[38;5;124m\"\u001b[39m\n\u001b[0;32m    219\u001b[0m         \u001b[38;5;124m'\u001b[39m\u001b[38;5;124mSee the `model_validator` docs (https://docs.pydantic.dev/latest/concepts/validators/#model-validators) for more details.\u001b[39m\u001b[38;5;124m'\u001b[39m,\n\u001b[0;32m    220\u001b[0m         stacklevel\u001b[38;5;241m=\u001b[39m\u001b[38;5;241m2\u001b[39m,\n\u001b[0;32m    221\u001b[0m     )\n",
      "\u001b[1;31mValidationError\u001b[0m: 1 validation error for VectorStoreRetriever\n  Value error, `score_threshold` is not specified with a float value(0~1) in `search_kwargs`. [type=value_error, input_value={'vectorstore': <langchai... 'score_threshold': 0.0}, input_type=dict]\n    For further information visit https://errors.pydantic.dev/2.10/v/value_error"
     ]
    }
   ],
   "source": [
    "company ='beiersdorf'\n",
    "retriever = faiss_vector_store.as_retriever(\n",
    "    search_type=\"similarity_score_threshold\",\n",
    "    k= 2,\n",
    "    score_threshold= 0.0\n",
    "    )\n",
    "\n",
    "context = retriever.invoke(\n",
    "    'risks related to the energy transition',\n",
    "    filter={\n",
    "        \"company\": company,\n",
    "        \"year\": 2023\n",
    "        }\n",
    "    )"
   ]
  },
  {
   "cell_type": "code",
   "execution_count": 69,
   "metadata": {},
   "outputs": [
    {
     "data": {
      "text/plain": [
       "[Document(id='0bbd89f6-67e0-474f-bb32-8fe92a70fd14', metadata={'company': 'beiersdorf', 'year': 2023}, page_content='Where necessary, we adjusted the precise definitions of these \\nrisks and our assessment of their probability and/or impact. This analysis showed no material year-on-\\nyear change in the overall risk situation. Increased risk in some areas, such as climate-related effects \\nANNUAL REPORT 2023\\nTo the shareholders Combined Management Report Consolidated Financial Statements Additional Information\\n158\\nalong the entire value chain, were offset by lower risks in others, for example in relation to the energy \\nsupply situation. In addition, in line with our cautious approach, we have currently completely removed \\nopportunities beyond our medium-term planning from the quantitative net calculation of the risk \\nportfolio. This approach was also taken in the previous year.'),\n",
       " Document(id='e234b9a9-8b7f-48a7-b6e5-6841b538be21', metadata={'company': 'beiersdorf', 'year': 2023}, page_content='We \\ntherefore still categorize this risk as major and possible. \\n8. Climate change-related effects along the value chain\\nIn this new risk category, we include all the possible impacts of climate change on our entire value \\nchain – from procuring crucial raw materials and packaging to transporting products to end \\ncustomers. In 2023, we arranged for an extensive external study on risk trends at our own locations \\nbetween now and 2040. The resulting insights are now being translated into appropriate packages \\nof measures. We have also begun to set up continuous monitoring of these risks, including for \\ncritical ingredients. Particular attention is being paid to the water supply at our production sites. We \\nare also constantly updating our emergency plans for critical infrastructure and supplies so that we \\ncan swiftly and fully respond to such situations. At the current time, we categorize this risk as \\nmedium and possible.'),\n",
       " Document(id='7b1c797b-66c8-4e87-9d3a-bcaafff59146', metadata={'company': 'beiersdorf', 'year': 2023}, page_content='We have also increased the support from third-party \\nexperts on certain issues. Overall, we consider the risk to be major and possible.\\nShort-term operational risks and opportunities\\nAlongside the possible long-term impacts of the many geopolitical and economic uncertainties \\nhighlighted in the strategic risks, we also see ramifications of this volatility for operational risks. Price \\nnegotiations with our customers and the reaction of our consumers to changing prices will play an \\nimportant role. Over the past two years, we have gathered valuable experience that we have used in \\nour analytical tools for simulation purposes. With just a few exceptions, the key assumptions on prices \\nand volumes have therefore already been fully incorporated into the basic plan. We regard the risk of \\neffects exceeding this as improbable and low. \\nThe general risk of a pandemic has been included in our functional risks for the last years along with the \\ncorresponding measures.')]"
      ]
     },
     "execution_count": 69,
     "metadata": {},
     "output_type": "execute_result"
    }
   ],
   "source": [
    "context"
   ]
  },
  {
   "cell_type": "code",
   "execution_count": 93,
   "metadata": {},
   "outputs": [
    {
     "data": {
      "text/plain": [
       "0.3"
      ]
     },
     "execution_count": 93,
     "metadata": {},
     "output_type": "execute_result"
    }
   ],
   "source": [
    "temp = {\"score_threshold\": 0.3}\n",
    "temp\n",
    "temp.pop(\"score_threshold\")"
   ]
  },
  {
   "cell_type": "code",
   "execution_count": 97,
   "metadata": {},
   "outputs": [
    {
     "data": {
      "text/plain": [
       "langchain_community.vectorstores.faiss.FAISS"
      ]
     },
     "execution_count": 97,
     "metadata": {},
     "output_type": "execute_result"
    }
   ],
   "source": [
    "type(faiss_vector_store)"
   ]
  },
  {
   "cell_type": "code",
   "execution_count": null,
   "metadata": {},
   "outputs": [
    {
     "data": {
      "text/plain": [
       "<DistanceStrategy.COSINE: 'COSINE'>"
      ]
     },
     "execution_count": 116,
     "metadata": {},
     "output_type": "execute_result"
    }
   ],
   "source": [
    "from langchain_community.vectorstores.utils import DistanceStrategy\n",
    "faiss_vector_store.distance_strategy = DistanceStrategy.EUCLIDEAN_DISTANCE\n",
    "faiss_vector_store.distance_strategy"
   ]
  },
  {
   "cell_type": "code",
   "execution_count": 119,
   "metadata": {},
   "outputs": [
    {
     "data": {
      "text/plain": [
       "[Document(id='0bbd89f6-67e0-474f-bb32-8fe92a70fd14', metadata={'company': 'beiersdorf', 'year': 2023}, page_content='Where necessary, we adjusted the precise definitions of these \\nrisks and our assessment of their probability and/or impact. This analysis showed no material year-on-\\nyear change in the overall risk situation. Increased risk in some areas, such as climate-related effects \\nANNUAL REPORT 2023\\nTo the shareholders Combined Management Report Consolidated Financial Statements Additional Information\\n158\\nalong the entire value chain, were offset by lower risks in others, for example in relation to the energy \\nsupply situation. In addition, in line with our cautious approach, we have currently completely removed \\nopportunities beyond our medium-term planning from the quantitative net calculation of the risk \\nportfolio. This approach was also taken in the previous year.'),\n",
       " Document(id='e234b9a9-8b7f-48a7-b6e5-6841b538be21', metadata={'company': 'beiersdorf', 'year': 2023}, page_content='We \\ntherefore still categorize this risk as major and possible. \\n8. Climate change-related effects along the value chain\\nIn this new risk category, we include all the possible impacts of climate change on our entire value \\nchain – from procuring crucial raw materials and packaging to transporting products to end \\ncustomers. In 2023, we arranged for an extensive external study on risk trends at our own locations \\nbetween now and 2040. The resulting insights are now being translated into appropriate packages \\nof measures. We have also begun to set up continuous monitoring of these risks, including for \\ncritical ingredients. Particular attention is being paid to the water supply at our production sites. We \\nare also constantly updating our emergency plans for critical infrastructure and supplies so that we \\ncan swiftly and fully respond to such situations. At the current time, we categorize this risk as \\nmedium and possible.')]"
      ]
     },
     "execution_count": 119,
     "metadata": {},
     "output_type": "execute_result"
    }
   ],
   "source": [
    "faiss_vector_store.similarity_search(query=\"risks related to the energy transition\", k=2, filter={\"company\": company, \"year\": 2023}, score_threshold=2.05)\n"
   ]
  },
  {
   "cell_type": "code",
   "execution_count": 118,
   "metadata": {},
   "outputs": [
    {
     "name": "stderr",
     "output_type": "stream",
     "text": [
      "C:\\Users\\julia\\AppData\\Local\\Temp\\ipykernel_11568\\3062729982.py:1: UserWarning: Relevance scores must be between 0 and 1, got [(Document(id='0bbd89f6-67e0-474f-bb32-8fe92a70fd14', metadata={'company': 'beiersdorf', 'year': 2023}, page_content='Where necessary, we adjusted the precise definitions of these \\nrisks and our assessment of their probability and/or impact. This analysis showed no material year-on-\\nyear change in the overall risk situation. Increased risk in some areas, such as climate-related effects \\nANNUAL REPORT 2023\\nTo the shareholders Combined Management Report Consolidated Financial Statements Additional Information\\n158\\nalong the entire value chain, were offset by lower risks in others, for example in relation to the energy \\nsupply situation. In addition, in line with our cautious approach, we have currently completely removed \\nopportunities beyond our medium-term planning from the quantitative net calculation of the risk \\nportfolio. This approach was also taken in the previous year.'), np.float32(-0.047091603)), (Document(id='e234b9a9-8b7f-48a7-b6e5-6841b538be21', metadata={'company': 'beiersdorf', 'year': 2023}, page_content='We \\ntherefore still categorize this risk as major and possible. \\n8. Climate change-related effects along the value chain\\nIn this new risk category, we include all the possible impacts of climate change on our entire value \\nchain – from procuring crucial raw materials and packaging to transporting products to end \\ncustomers. In 2023, we arranged for an extensive external study on risk trends at our own locations \\nbetween now and 2040. The resulting insights are now being translated into appropriate packages \\nof measures. We have also begun to set up continuous monitoring of these risks, including for \\ncritical ingredients. Particular attention is being paid to the water supply at our production sites. We \\nare also constantly updating our emergency plans for critical infrastructure and supplies so that we \\ncan swiftly and fully respond to such situations. At the current time, we categorize this risk as \\nmedium and possible.'), np.float32(-0.055328727))]\n",
      "  faiss_vector_store.similarity_search_with_relevance_scores(query=\"risks related to the energy transition\", k=2, filter={\"company\": company, \"year\": 2023}, score_threshold=-10)\n"
     ]
    },
    {
     "data": {
      "text/plain": [
       "[(Document(id='0bbd89f6-67e0-474f-bb32-8fe92a70fd14', metadata={'company': 'beiersdorf', 'year': 2023}, page_content='Where necessary, we adjusted the precise definitions of these \\nrisks and our assessment of their probability and/or impact. This analysis showed no material year-on-\\nyear change in the overall risk situation. Increased risk in some areas, such as climate-related effects \\nANNUAL REPORT 2023\\nTo the shareholders Combined Management Report Consolidated Financial Statements Additional Information\\n158\\nalong the entire value chain, were offset by lower risks in others, for example in relation to the energy \\nsupply situation. In addition, in line with our cautious approach, we have currently completely removed \\nopportunities beyond our medium-term planning from the quantitative net calculation of the risk \\nportfolio. This approach was also taken in the previous year.'),\n",
       "  np.float32(-0.047091603)),\n",
       " (Document(id='e234b9a9-8b7f-48a7-b6e5-6841b538be21', metadata={'company': 'beiersdorf', 'year': 2023}, page_content='We \\ntherefore still categorize this risk as major and possible. \\n8. Climate change-related effects along the value chain\\nIn this new risk category, we include all the possible impacts of climate change on our entire value \\nchain – from procuring crucial raw materials and packaging to transporting products to end \\ncustomers. In 2023, we arranged for an extensive external study on risk trends at our own locations \\nbetween now and 2040. The resulting insights are now being translated into appropriate packages \\nof measures. We have also begun to set up continuous monitoring of these risks, including for \\ncritical ingredients. Particular attention is being paid to the water supply at our production sites. We \\nare also constantly updating our emergency plans for critical infrastructure and supplies so that we \\ncan swiftly and fully respond to such situations. At the current time, we categorize this risk as \\nmedium and possible.'),\n",
       "  np.float32(-0.055328727))]"
      ]
     },
     "execution_count": 118,
     "metadata": {},
     "output_type": "execute_result"
    }
   ],
   "source": [
    "faiss_vector_store.similarity_search_with_relevance_scores(query=\"risks related to the energy transition\", k=2, filter={\"company\": company, \"year\": 2023}, score_threshold=-10)"
   ]
  },
  {
   "cell_type": "code",
   "execution_count": 143,
   "metadata": {},
   "outputs": [
    {
     "name": "stdout",
     "output_type": "stream",
     "text": [
      "{'extract_companies': {'companies': [Company(name='beiersdorf')]}}\n",
      "{'rag_agent': {'context_detail': [Document(id='e234b9a9-8b7f-48a7-b6e5-6841b538be21', metadata={'company': 'beiersdorf', 'year': 2023}, page_content='We \\ntherefore still categorize this risk as major and possible. \\n8. Climate change-related effects along the value chain\\nIn this new risk category, we include all the possible impacts of climate change on our entire value \\nchain – from procuring crucial raw materials and packaging to transporting products to end \\ncustomers. In 2023, we arranged for an extensive external study on risk trends at our own locations \\nbetween now and 2040. The resulting insights are now being translated into appropriate packages \\nof measures. We have also begun to set up continuous monitoring of these risks, including for \\ncritical ingredients. Particular attention is being paid to the water supply at our production sites. We \\nare also constantly updating our emergency plans for critical infrastructure and supplies so that we \\ncan swiftly and fully respond to such situations. At the current time, we categorize this risk as \\nmedium and possible.'), Document(id='0bbd89f6-67e0-474f-bb32-8fe92a70fd14', metadata={'company': 'beiersdorf', 'year': 2023}, page_content='Where necessary, we adjusted the precise definitions of these \\nrisks and our assessment of their probability and/or impact. This analysis showed no material year-on-\\nyear change in the overall risk situation. Increased risk in some areas, such as climate-related effects \\nANNUAL REPORT 2023\\nTo the shareholders Combined Management Report Consolidated Financial Statements Additional Information\\n158\\nalong the entire value chain, were offset by lower risks in others, for example in relation to the energy \\nsupply situation. In addition, in line with our cautious approach, we have currently completely removed \\nopportunities beyond our medium-term planning from the quantitative net calculation of the risk \\nportfolio. This approach was also taken in the previous year.')], 'context': ['The annual report of Beiersdorf categorizes climate change risks as major and possible, particularly focusing on the effects along the entire value chain. This includes potential impacts on procuring raw materials and packaging, as well as transporting products to end customers. In 2023, Beiersdorf conducted an extensive external study to assess risk trends at their locations up to 2040. The insights from this study are being used to develop appropriate measures, and continuous monitoring of these risks has been initiated, especially concerning critical ingredients and water supply at production sites. Emergency plans for critical infrastructure and supplies are regularly updated to ensure swift responses to potential climate-related disruptions. Currently, the risk is categorized as medium and possible, with no significant year-on-year change in the overall risk situation. While some areas have seen increased risk, such as climate-related effects along the value chain, these have been balanced by lower risks in other areas, like the energy supply situation.']}}\n",
      "{'create_answer': {'final_answer': 'Yes, Beiersdorf is facing climate change risks, which are categorized as major and possible, particularly affecting their entire value chain. These risks include potential impacts on procuring raw materials, packaging, and transporting products. In 2023, Beiersdorf conducted an extensive study to assess these risks up to 2040, leading to the development of appropriate measures and continuous monitoring, especially concerning critical ingredients and water supply. Emergency plans are regularly updated to address potential disruptions. Currently, the risk is considered medium and possible, with no significant change from the previous year. While some areas have seen increased risk, such as climate-related effects along the value chain, these have been offset by lower risks in other areas, like energy supply.'}}\n"
     ]
    }
   ],
   "source": [
    "prompt = \"Is beiersdorf facing climate change risks?\"\n",
    "\n",
    "for event in graph.stream({\"prompt\": prompt}):\n",
    "    print(event)"
   ]
  }
 ],
 "metadata": {
  "kernelspec": {
   "display_name": ".venv",
   "language": "python",
   "name": "python3"
  },
  "language_info": {
   "codemirror_mode": {
    "name": "ipython",
    "version": 3
   },
   "file_extension": ".py",
   "mimetype": "text/x-python",
   "name": "python",
   "nbconvert_exporter": "python",
   "pygments_lexer": "ipython3",
   "version": "3.12.0"
  }
 },
 "nbformat": 4,
 "nbformat_minor": 2
}
